{
 "cells": [
  {
   "cell_type": "code",
   "execution_count": 1,
   "id": "a6548419-1603-40b8-8360-9ba1e398e4dc",
   "metadata": {},
   "outputs": [
    {
     "name": "stdin",
     "output_type": "stream",
     "text": [
      "n>> 7\n"
     ]
    },
    {
     "name": "stdout",
     "output_type": "stream",
     "text": [
      "prime number\n"
     ]
    }
   ],
   "source": [
    "n = int(input('n>>'))\n",
    "\n",
    "i = 2\n",
    "flag = True # Prime number\n",
    "while i < n:\n",
    "    if n % i == 0:\n",
    "        flag = False\n",
    "        print('Not prime number')\n",
    "        break\n",
    "    i += 1\n",
    "\n",
    "\n",
    "if flag:\n",
    "    print('prime number')"
   ]
  },
  {
   "cell_type": "code",
   "execution_count": 2,
   "id": "7a3a9572-3193-4d45-a273-319a30f77724",
   "metadata": {},
   "outputs": [
    {
     "name": "stdin",
     "output_type": "stream",
     "text": [
      "n>> 7\n"
     ]
    },
    {
     "name": "stdout",
     "output_type": "stream",
     "text": [
      "prime number\n"
     ]
    }
   ],
   "source": [
    "n = int(input('n>>'))\n",
    "\n",
    "i = 2\n",
    "\n",
    "while i < n:\n",
    "    if n % i == 0:\n",
    "        print('Not prime number')\n",
    "        break\n",
    "    i += 1\n",
    "else:\n",
    "    print('prime number')"
   ]
  },
  {
   "cell_type": "code",
   "execution_count": null,
   "id": "f48457e0-6f3e-4f8e-8f95-77df2e8c29be",
   "metadata": {},
   "outputs": [],
   "source": [
    "s, p = 0, 1\n",
    "i = 0\n",
    "while i <= 10:\n",
    "    i += 1\n",
    "    if i % 2 == 0:\n",
    "        s += i\n",
    "        continue\n",
    "\n",
    "    p *= i\n",
    "\n",
    "\n",
    "print(s)\n",
    "print(p)"
   ]
  },
  {
   "cell_type": "code",
   "execution_count": 3,
   "id": "b90e2d59-2f5f-4b60-9552-c9037f2bd412",
   "metadata": {},
   "outputs": [
    {
     "name": "stdout",
     "output_type": "stream",
     "text": [
      "Hello\n"
     ]
    }
   ],
   "source": [
    "x = \"\"\"Hello\"\"\"\n",
    "print(x)"
   ]
  },
  {
   "cell_type": "code",
   "execution_count": 5,
   "id": "7356f07e-f2ef-4ac0-b7d2-051f35327179",
   "metadata": {},
   "outputs": [
    {
     "name": "stdout",
     "output_type": "stream",
     "text": [
      "{'n', 'P', 't', 'h', 'y', 'o'}\n"
     ]
    }
   ],
   "source": [
    "x = set('Python')\n",
    "print(x)"
   ]
  },
  {
   "cell_type": "code",
   "execution_count": 7,
   "id": "ba24e5bf-adf3-45d6-bea1-2b8b3491f127",
   "metadata": {},
   "outputs": [
    {
     "name": "stdout",
     "output_type": "stream",
     "text": [
      "Helloworld\n",
      "HelloHelloHelloHelloHelloHelloHelloHelloHelloHello\n"
     ]
    }
   ],
   "source": [
    "s1 = 'Hello'\n",
    "s2 = 'world'\n",
    "\n",
    "res = s1 + s2\n",
    "print(res)\n",
    "\n",
    "res = s1 * 10\n",
    "print(res)"
   ]
  },
  {
   "cell_type": "code",
   "execution_count": 9,
   "id": "0d58fc13-1c86-4b18-965d-b49384d196d2",
   "metadata": {},
   "outputs": [
    {
     "name": "stdin",
     "output_type": "stream",
     "text": [
      "text>> Python\n"
     ]
    },
    {
     "name": "stdout",
     "output_type": "stream",
     "text": [
      "*P*\n",
      "*y*\n",
      "*t*\n",
      "*h*\n",
      "*o*\n",
      "*n*\n"
     ]
    }
   ],
   "source": [
    "x = input('text>>')\n",
    "i = 0\n",
    "while i < len(x):\n",
    "    print('*', x[i], '*', sep='')\n",
    "    i += 1"
   ]
  },
  {
   "cell_type": "code",
   "execution_count": null,
   "id": "64df523d-1de4-4eee-b912-7132b8db1c4c",
   "metadata": {},
   "outputs": [],
   "source": []
  }
 ],
 "metadata": {
  "kernelspec": {
   "display_name": "Python 3 (ipykernel)",
   "language": "python",
   "name": "python3"
  },
  "language_info": {
   "codemirror_mode": {
    "name": "ipython",
    "version": 3
   },
   "file_extension": ".py",
   "mimetype": "text/x-python",
   "name": "python",
   "nbconvert_exporter": "python",
   "pygments_lexer": "ipython3",
   "version": "3.12.4"
  }
 },
 "nbformat": 4,
 "nbformat_minor": 5
}
