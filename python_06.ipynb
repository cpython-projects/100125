{
 "cells": [
  {
   "cell_type": "code",
   "execution_count": 4,
   "id": "cc84266b-66c3-4202-adba-1c175cc18713",
   "metadata": {},
   "outputs": [
    {
     "name": "stdin",
     "output_type": "stream",
     "text": [
      "text>> \n"
     ]
    },
    {
     "name": "stdout",
     "output_type": "stream",
     "text": [
      "No Data\n"
     ]
    }
   ],
   "source": [
    "text = input('text>>')\n",
    "# if len(text) > 0:\n",
    "#     print(text.upper())\n",
    "# else:\n",
    "#     print('No Data')\n",
    "\n",
    "if text:\n",
    "    print(text.upper())\n",
    "else:\n",
    "    print('No Data')"
   ]
  },
  {
   "cell_type": "markdown",
   "id": "e811d3dd-3fbf-4b2b-9dd4-fa3f7f22bbdc",
   "metadata": {},
   "source": [
    "### Truth Testing"
   ]
  },
  {
   "cell_type": "code",
   "execution_count": 6,
   "id": "8edce9f3-2491-4295-9d75-a240634886b3",
   "metadata": {},
   "outputs": [
    {
     "name": "stdin",
     "output_type": "stream",
     "text": [
      "name>> \n"
     ]
    },
    {
     "name": "stdout",
     "output_type": "stream",
     "text": [
      "False\n"
     ]
    }
   ],
   "source": [
    "x = input('name>>')\n",
    "\n",
    "print(bool(x))"
   ]
  },
  {
   "cell_type": "code",
   "execution_count": 7,
   "id": "42cce5c8-4ed3-4668-b5c1-e384fb89bc09",
   "metadata": {},
   "outputs": [
    {
     "name": "stdout",
     "output_type": "stream",
     "text": [
      "False\n",
      "True\n"
     ]
    }
   ],
   "source": [
    "x = 0\n",
    "y = 1\n",
    "print(bool(x))\n",
    "print(bool(y))"
   ]
  },
  {
   "cell_type": "code",
   "execution_count": 8,
   "id": "cba46034-75f0-46f2-8f34-2d434b1b91e3",
   "metadata": {},
   "outputs": [
    {
     "name": "stdout",
     "output_type": "stream",
     "text": [
      "6\n"
     ]
    }
   ],
   "source": [
    "x = True\n",
    "y = 5 + x\n",
    "print(y)"
   ]
  },
  {
   "cell_type": "code",
   "execution_count": 9,
   "id": "b20ee44f-3b9e-4ae1-919a-9127f126492a",
   "metadata": {},
   "outputs": [
    {
     "name": "stdout",
     "output_type": "stream",
     "text": [
      "140713044468176\n"
     ]
    }
   ],
   "source": [
    "print(id(None))"
   ]
  },
  {
   "cell_type": "code",
   "execution_count": 10,
   "id": "584ff043-b1da-4e90-8115-6107c82e160f",
   "metadata": {},
   "outputs": [
    {
     "name": "stdout",
     "output_type": "stream",
     "text": [
      "<class 'NoneType'>\n"
     ]
    }
   ],
   "source": [
    "print(type(None))"
   ]
  },
  {
   "cell_type": "code",
   "execution_count": 12,
   "id": "fca63cb3-63cb-4e41-b408-f5e7c4573d6c",
   "metadata": {},
   "outputs": [
    {
     "name": "stdin",
     "output_type": "stream",
     "text": [
      "x>> 234\n",
      "y>> 34\n"
     ]
    },
    {
     "name": "stdout",
     "output_type": "stream",
     "text": [
      "False\n",
      "True\n"
     ]
    }
   ],
   "source": [
    "x = int(input('x>>'))\n",
    "y = int(input('y>>'))\n",
    "\n",
    "print(x == y)\n",
    "print(x != y)"
   ]
  },
  {
   "cell_type": "code",
   "execution_count": 17,
   "id": "0dce5a57-f284-46ef-9239-f579bfcc0e5f",
   "metadata": {},
   "outputs": [
    {
     "name": "stdin",
     "output_type": "stream",
     "text": [
      "x>> 24\n"
     ]
    },
    {
     "name": "stdout",
     "output_type": "stream",
     "text": [
      "True\n",
      "False\n"
     ]
    }
   ],
   "source": [
    "x = int(input('x>>'))\n",
    "\n",
    "print(x % 2 == 0)\n",
    "print(bool(x % 2))"
   ]
  },
  {
   "cell_type": "code",
   "execution_count": 22,
   "id": "f7f98a6c-5822-4dfb-82c8-a47410403eac",
   "metadata": {},
   "outputs": [
    {
     "name": "stdin",
     "output_type": "stream",
     "text": [
      "a>> 3\n",
      "b>> 4\n",
      "x>> 5\n"
     ]
    },
    {
     "name": "stdout",
     "output_type": "stream",
     "text": [
      "False\n",
      "True\n"
     ]
    }
   ],
   "source": [
    "a, b = int(input('a>>')), int(input('b>>'))\n",
    "x = int(input('x>>'))\n",
    "\n",
    "res = x >= a and x <= b\n",
    "\n",
    "res1 = a <= x <= b\n",
    "\n",
    "res2 = x <= a or x >= b\n",
    "res3 = not a <= x <= b\n",
    "print(res)\n",
    "print(res1)"
   ]
  },
  {
   "cell_type": "code",
   "execution_count": 24,
   "id": "6659d37e-d34f-4e30-9fca-4ae281745f3c",
   "metadata": {},
   "outputs": [
    {
     "name": "stdout",
     "output_type": "stream",
     "text": [
      "5\n"
     ]
    }
   ],
   "source": [
    "x = 5\n",
    "y = 7\n",
    "res = x or y\n",
    "print(res)"
   ]
  },
  {
   "cell_type": "code",
   "execution_count": 25,
   "id": "84f3e568-d6aa-4d6b-b46f-78512b40fe61",
   "metadata": {},
   "outputs": [
    {
     "name": "stdout",
     "output_type": "stream",
     "text": [
      "7\n"
     ]
    }
   ],
   "source": [
    "x, y = 0, 7\n",
    "res = x or y\n",
    "print(res)"
   ]
  },
  {
   "cell_type": "code",
   "execution_count": null,
   "id": "efae14fa-edf1-44f9-b870-6e9167a19fc6",
   "metadata": {},
   "outputs": [],
   "source": []
  }
 ],
 "metadata": {
  "kernelspec": {
   "display_name": "Python 3 (ipykernel)",
   "language": "python",
   "name": "python3"
  },
  "language_info": {
   "codemirror_mode": {
    "name": "ipython",
    "version": 3
   },
   "file_extension": ".py",
   "mimetype": "text/x-python",
   "name": "python",
   "nbconvert_exporter": "python",
   "pygments_lexer": "ipython3",
   "version": "3.12.4"
  }
 },
 "nbformat": 4,
 "nbformat_minor": 5
}
