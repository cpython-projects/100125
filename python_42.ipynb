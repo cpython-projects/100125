{
 "cells": [
  {
   "cell_type": "code",
   "execution_count": 2,
   "id": "83d506e6-2d05-4203-bfdf-effa063f451e",
   "metadata": {},
   "outputs": [],
   "source": [
    "from collections import OrderedDict, defaultdict, Counter"
   ]
  },
  {
   "cell_type": "code",
   "execution_count": 3,
   "id": "b0d1354e-bfb7-4b8a-9297-080f1a32691c",
   "metadata": {},
   "outputs": [],
   "source": [
    "queue = OrderedDict()"
   ]
  },
  {
   "cell_type": "code",
   "execution_count": 4,
   "id": "8ad6111d-5318-462c-b260-9fdf23b994bc",
   "metadata": {},
   "outputs": [
    {
     "name": "stdout",
     "output_type": "stream",
     "text": [
      "OrderedDict({1: 'one', 2: 'two', 3: 'three'})\n"
     ]
    }
   ],
   "source": [
    "queue[1] = 'one'\n",
    "queue[2] = 'two'\n",
    "queue[3] = 'three'\n",
    "\n",
    "print(queue)"
   ]
  },
  {
   "cell_type": "code",
   "execution_count": 7,
   "id": "d7d2925f-58f0-426d-93c7-c3da52ecc9c5",
   "metadata": {},
   "outputs": [
    {
     "name": "stdout",
     "output_type": "stream",
     "text": [
      "OrderedDict({2: 'two', 3: 'three', 1: 'one'})\n"
     ]
    }
   ],
   "source": [
    "queue.move_to_end(key=1)\n",
    "print(queue)"
   ]
  },
  {
   "cell_type": "code",
   "execution_count": 8,
   "id": "b458293a-ac5d-4364-a337-285dda09e619",
   "metadata": {},
   "outputs": [
    {
     "name": "stdout",
     "output_type": "stream",
     "text": [
      "OrderedDict({2: 'two', 3: 'three'})\n"
     ]
    }
   ],
   "source": [
    "queue.popitem()\n",
    "print(queue)"
   ]
  },
  {
   "cell_type": "code",
   "execution_count": 9,
   "id": "1a19ba99-e7eb-4027-b63b-3e02026334cd",
   "metadata": {},
   "outputs": [
    {
     "name": "stdout",
     "output_type": "stream",
     "text": [
      "OrderedDict({3: 'three'})\n"
     ]
    }
   ],
   "source": [
    "queue.popitem(last=False)\n",
    "print(queue)"
   ]
  },
  {
   "cell_type": "code",
   "execution_count": 11,
   "id": "20f7e298-ffe6-4213-ab2b-c6dea73a52a9",
   "metadata": {},
   "outputs": [
    {
     "name": "stdout",
     "output_type": "stream",
     "text": [
      "{'k': 7, 'j': 7, 'h': 7, 'f': 5, 'e': 3, 'r': 5}\n"
     ]
    }
   ],
   "source": [
    "text = 'kjhkjhfkjerhfkjerhfkjrhjfkhrejkfhr'\n",
    "\n",
    "res = {}\n",
    "for item in text:\n",
    "    if item in res:\n",
    "        res[item] += 1\n",
    "    else:\n",
    "        res[item] = 1\n",
    "\n",
    "print(res)"
   ]
  },
  {
   "cell_type": "code",
   "execution_count": 12,
   "id": "86b6b5d7-bbe4-45f3-a635-dbbda92f9bb3",
   "metadata": {},
   "outputs": [
    {
     "name": "stdout",
     "output_type": "stream",
     "text": [
      "defaultdict(<class 'int'>, {'k': 7, 'j': 7, 'h': 7, 'f': 5, 'e': 3, 'r': 5})\n"
     ]
    }
   ],
   "source": [
    "text = 'kjhkjhfkjerhfkjerhfkjrhjfkhrejkfhr'\n",
    "\n",
    "res = defaultdict(int)\n",
    "for item in text:\n",
    "    res[item] += 1\n",
    "\n",
    "print(res)"
   ]
  },
  {
   "cell_type": "code",
   "execution_count": 13,
   "id": "7970594b-1ccb-462b-bce2-4088115139ca",
   "metadata": {},
   "outputs": [
    {
     "name": "stdout",
     "output_type": "stream",
     "text": [
      "Counter({'k': 7, 'j': 7, 'h': 7, 'f': 5, 'r': 5, 'e': 3})\n"
     ]
    }
   ],
   "source": [
    "text = 'kjhkjhfkjerhfkjerhfkjrhjfkhrejkfhr'\n",
    "res = Counter(text)\n",
    "print(res)"
   ]
  },
  {
   "cell_type": "code",
   "execution_count": 14,
   "id": "67cdde29-2e7f-4949-b2fd-53ffddf60968",
   "metadata": {},
   "outputs": [
    {
     "name": "stdout",
     "output_type": "stream",
     "text": [
      "5\n"
     ]
    }
   ],
   "source": [
    "def add(a, b):\n",
    "    return a + b\n",
    "\n",
    "\n",
    "x = add(2, 3)\n",
    "print(x)"
   ]
  },
  {
   "cell_type": "code",
   "execution_count": 15,
   "id": "9a173417-723f-4118-abfc-66e0373de19b",
   "metadata": {},
   "outputs": [
    {
     "data": {
      "text/plain": [
       "function"
      ]
     },
     "execution_count": 15,
     "metadata": {},
     "output_type": "execute_result"
    }
   ],
   "source": [
    "type(add)"
   ]
  },
  {
   "cell_type": "code",
   "execution_count": 16,
   "id": "01f1ab65-36a0-419c-a851-4df9d8b76ab3",
   "metadata": {},
   "outputs": [
    {
     "data": {
      "text/plain": [
       "1939754685984"
      ]
     },
     "execution_count": 16,
     "metadata": {},
     "output_type": "execute_result"
    }
   ],
   "source": [
    "id(add)"
   ]
  },
  {
   "cell_type": "code",
   "execution_count": 17,
   "id": "b134cb41-6c02-42e1-8719-f475b71c361a",
   "metadata": {},
   "outputs": [
    {
     "name": "stdout",
     "output_type": "stream",
     "text": [
      "3\n"
     ]
    }
   ],
   "source": [
    "y = add\n",
    "\n",
    "print(y(1, 2))"
   ]
  },
  {
   "cell_type": "code",
   "execution_count": 21,
   "id": "a9ad9046-3850-4fd7-85f6-089676a8109d",
   "metadata": {},
   "outputs": [
    {
     "name": "stdout",
     "output_type": "stream",
     "text": [
      "[2, -4, -6, -8]\n",
      "[1, 2, 3, 5, 7, 9]\n"
     ]
    }
   ],
   "source": [
    "def is_even(item):\n",
    "    return item % 2 == 0\n",
    "\n",
    "def is_positive(item):\n",
    "    return item > 0\n",
    "    \n",
    "def filter(predicat, sequence):\n",
    "    res = []\n",
    "    for item in sequence:\n",
    "        if predicat(item):\n",
    "            res.append(item)\n",
    "\n",
    "    return res\n",
    "\n",
    "x = [1, 2, 3, -4, 5, -6, 7, -8, 9]\n",
    "res = filter(is_even, x)\n",
    "print(res)\n",
    "\n",
    "res = filter(is_positive, x)\n",
    "print(res)"
   ]
  },
  {
   "cell_type": "code",
   "execution_count": 22,
   "id": "8685530d-7e0c-430a-b254-66d6fbd1978b",
   "metadata": {},
   "outputs": [
    {
     "name": "stdout",
     "output_type": "stream",
     "text": [
      "programming\n",
      "aaaa\n"
     ]
    }
   ],
   "source": [
    "def count_a(word):\n",
    "    return word.count('a')\n",
    "\n",
    "x = ['Hello', 'world', 'python', 'programming', 'aaaa']\n",
    "\n",
    "max_word = max(x, key=len)\n",
    "print(max_word)\n",
    "\n",
    "max_word = max(x, key=count_a)\n",
    "print(max_word)\n"
   ]
  },
  {
   "cell_type": "code",
   "execution_count": 23,
   "id": "fb83ba4a-8f98-4516-ae55-a388d00ee7ff",
   "metadata": {},
   "outputs": [
    {
     "name": "stdout",
     "output_type": "stream",
     "text": [
      "3\n"
     ]
    }
   ],
   "source": [
    "def add(a, b):\n",
    "    res = a + b\n",
    "    return res\n",
    "\n",
    "\n",
    "y = add(1, 2)\n",
    "print(y)"
   ]
  },
  {
   "cell_type": "code",
   "execution_count": 29,
   "id": "1b899823-ca26-4a41-8dbc-d6b067bdeca3",
   "metadata": {},
   "outputs": [
    {
     "name": "stdin",
     "output_type": "stream",
     "text": [
      "a>> 2\n",
      "b>> 3\n",
      "operation>> -\n"
     ]
    },
    {
     "name": "stdout",
     "output_type": "stream",
     "text": [
      "-1\n"
     ]
    }
   ],
   "source": [
    "def add(a, b):\n",
    "    return a + b\n",
    "\n",
    "def sub(a, b):\n",
    "    return a - b\n",
    "\n",
    "def mul(a, b):\n",
    "    return a * b\n",
    "\n",
    "def calculator(char):\n",
    "    if char == '+':\n",
    "        return add\n",
    "    if char == '-':\n",
    "        return sub\n",
    "    if char == '*':\n",
    "        return mul\n",
    "\n",
    "a, b, operation = int(input('a>>')), int(input('b>>')), input('operation>>')\n",
    "\n",
    "res = calculator(operation)(a, b)\n",
    "print(res)"
   ]
  },
  {
   "cell_type": "markdown",
   "id": "7bbf6420-3fc5-488a-a0cf-1e7b875b0a90",
   "metadata": {},
   "source": [
    "**Имя функции присвоили переменной. Без вызова!!!**  \n",
    "**Имя функции передали в качестве аргумента в другую функцию. Без вызова!!!**  \n",
    "**Функцию БЕЗ ВЫЗОВА вернули из другой функции**"
   ]
  },
  {
   "cell_type": "code",
   "execution_count": 30,
   "id": "0d5fc11b-431b-49c1-b374-e2ec1db3927e",
   "metadata": {},
   "outputs": [
    {
     "name": "stdin",
     "output_type": "stream",
     "text": [
      "a>> 2\n",
      "b>> 3\n"
     ]
    },
    {
     "name": "stdout",
     "output_type": "stream",
     "text": [
      "2 + 3 = 5\n",
      "2 - 3 = -1\n",
      "2 * 3 = 6\n"
     ]
    }
   ],
   "source": [
    "def add(a, b):\n",
    "    return a + b\n",
    "\n",
    "def sub(a, b):\n",
    "    return a - b\n",
    "\n",
    "def mul(a, b):\n",
    "    return a * b\n",
    "\n",
    "\n",
    "functions = [add, sub, mul]\n",
    "operations = ['+', '-', '*']\n",
    "\n",
    "a, b = int(input('a>>')), int(input('b>>'))\n",
    "\n",
    "for op, func in zip(operations, functions):\n",
    "    print(f'{a} {op} {b} = {func(a, b)}')\n"
   ]
  },
  {
   "cell_type": "code",
   "execution_count": 32,
   "id": "9ebbbffb-2e92-4a7c-bc0e-7e481d44bdcb",
   "metadata": {},
   "outputs": [
    {
     "name": "stdout",
     "output_type": "stream",
     "text": [
      "[2, -4, -6, -8]\n",
      "[1, 2, 3, 5, 7, 9]\n",
      "[1, 3, 5, 7, 9]\n",
      "[-4, -6, -8]\n"
     ]
    }
   ],
   "source": [
    "def filter(predicat, sequence):\n",
    "    res = []\n",
    "    for item in sequence:\n",
    "        if predicat(item):\n",
    "            res.append(item)\n",
    "\n",
    "    return res\n",
    "\n",
    "x = [1, 2, 3, -4, 5, -6, 7, -8, 9]\n",
    "res = filter(lambda item: not item % 2, x)\n",
    "print(res)\n",
    "\n",
    "res = filter(lambda item: item > 0, x)\n",
    "print(res)\n",
    "\n",
    "res = filter(lambda item: item % 2, x)\n",
    "print(res)\n",
    "\n",
    "res = filter(lambda item: item < 0, x)\n",
    "print(res)"
   ]
  },
  {
   "cell_type": "code",
   "execution_count": 34,
   "id": "d434a151-b5c0-48b7-9776-949f57e136fd",
   "metadata": {},
   "outputs": [
    {
     "name": "stdout",
     "output_type": "stream",
     "text": [
      "<class 'function'>\n",
      "4\n"
     ]
    }
   ],
   "source": [
    "func = lambda item: item * 2\n",
    "\n",
    "print(type(func))\n",
    "\n",
    "y = func\n",
    "\n",
    "print(y(2))"
   ]
  },
  {
   "cell_type": "code",
   "execution_count": 35,
   "id": "997efbab-7a09-47f3-8600-314e9a829cbb",
   "metadata": {},
   "outputs": [
    {
     "name": "stdout",
     "output_type": "stream",
     "text": [
      "aaaaaa\n"
     ]
    }
   ],
   "source": [
    "x = ['Python', 'hello', 'aaaaaa']\n",
    "\n",
    "res = max(x, key=lambda word: word.count('a'))\n",
    "print(res)"
   ]
  },
  {
   "cell_type": "code",
   "execution_count": 36,
   "id": "3ea20ebd-fb15-4fd8-a97e-8b6befb159de",
   "metadata": {},
   "outputs": [
    {
     "name": "stdout",
     "output_type": "stream",
     "text": [
      "20\n"
     ]
    }
   ],
   "source": [
    "calc = {\n",
    "    '+': lambda a, b: a + b,\n",
    "    '-': lambda a, b: a - b,\n",
    "    '*': lambda a, b: a * b,\n",
    "    '/': lambda a, b: a / b\n",
    "}\n",
    "\n",
    "op, a, b = '*', 4, 5\n",
    "\n",
    "print(calc[op](a, b))"
   ]
  },
  {
   "cell_type": "code",
   "execution_count": 37,
   "id": "accbb5e8-5f06-4566-9efb-540efb7e2796",
   "metadata": {},
   "outputs": [
    {
     "name": "stdout",
     "output_type": "stream",
     "text": [
      "27\n"
     ]
    }
   ],
   "source": [
    "x = lambda a, b: a ** a if a > b else b ** b\n",
    "print(x(2, 3))"
   ]
  },
  {
   "cell_type": "code",
   "execution_count": 39,
   "id": "e9adcb23-4058-4958-af1f-db507f794881",
   "metadata": {},
   "outputs": [
    {
     "name": "stdout",
     "output_type": "stream",
     "text": [
      "[10, 8, 9, 7, 9, 5, 6, 7, 8, 7]\n",
      "[32, 85, 55, 63, 93, 83, 30, 35, 82, 77]\n",
      "[2, -2, -2, 3, -2, -1, 1, 2, -2, -1]\n"
     ]
    }
   ],
   "source": [
    "import random\n",
    "x = lambda a, b: [random.randint(a, b) for _ in range(10)]\n",
    "print(x(3, 10))\n",
    "print(x(30, 100))\n",
    "print(x(-2, 3))"
   ]
  },
  {
   "cell_type": "code",
   "execution_count": 43,
   "id": "d21c46d8-e2a2-4d3e-876e-04c6b7b948d5",
   "metadata": {},
   "outputs": [
    {
     "name": "stdout",
     "output_type": "stream",
     "text": [
      "7\n",
      "12\n",
      "-1\n"
     ]
    }
   ],
   "source": [
    "def add(x, y):\n",
    "    return x + y\n",
    "\n",
    "# y = lambda f, a, b: f(a, b)\n",
    "\n",
    "\n",
    "def y(f, a, b):\n",
    "    return f(a, b)\n",
    "\n",
    "\n",
    "\n",
    "res = y(add, 3, 4)\n",
    "print(res)\n",
    "\n",
    "res = y(lambda a, b: a * b, 3, 4)\n",
    "print(res)\n",
    "\n",
    "res = y(lambda a, b: a - b, 3, 4)\n",
    "print(res)"
   ]
  },
  {
   "cell_type": "code",
   "execution_count": null,
   "id": "1bdbfb93-71f5-47b0-8d91-c27432292aa1",
   "metadata": {},
   "outputs": [],
   "source": [
    "def add(x, y):\n",
    "    return x + y\n",
    "    \n",
    "print((lambda f, a, b: f(a, b))(add, 3, 4))"
   ]
  }
 ],
 "metadata": {
  "kernelspec": {
   "display_name": "Python 3 (ipykernel)",
   "language": "python",
   "name": "python3"
  },
  "language_info": {
   "codemirror_mode": {
    "name": "ipython",
    "version": 3
   },
   "file_extension": ".py",
   "mimetype": "text/x-python",
   "name": "python",
   "nbconvert_exporter": "python",
   "pygments_lexer": "ipython3",
   "version": "3.13.2"
  }
 },
 "nbformat": 4,
 "nbformat_minor": 5
}
