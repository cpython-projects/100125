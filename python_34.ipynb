{
 "cells": [
  {
   "cell_type": "code",
   "execution_count": 1,
   "id": "3150730a-3d35-4ab4-9a09-f163f07fd75d",
   "metadata": {},
   "outputs": [
    {
     "name": "stdout",
     "output_type": "stream",
     "text": [
      "{1, 2, 3, 4, 5}\n"
     ]
    }
   ],
   "source": [
    "x = {1, 2, 3, 4}\n",
    "x.add(5)\n",
    "\n",
    "print(x)"
   ]
  },
  {
   "cell_type": "code",
   "execution_count": 3,
   "id": "5a2d278d-9f64-426a-9ea1-2bd58ea327a9",
   "metadata": {},
   "outputs": [
    {
     "name": "stdout",
     "output_type": "stream",
     "text": [
      "frozenset({1, 2, 3, 4, 5, 6})\n"
     ]
    }
   ],
   "source": [
    "x = frozenset([1, 2, 3, 4, 6, 4, 4, 4, 5])\n",
    "print(x)"
   ]
  },
  {
   "cell_type": "code",
   "execution_count": 4,
   "id": "478920ab-fb21-4dc0-bb56-2dc7bbb92314",
   "metadata": {},
   "outputs": [
    {
     "ename": "TypeError",
     "evalue": "unhashable type: 'set'",
     "output_type": "error",
     "traceback": [
      "\u001b[1;31m---------------------------------------------------------------------------\u001b[0m",
      "\u001b[1;31mTypeError\u001b[0m                                 Traceback (most recent call last)",
      "Cell \u001b[1;32mIn[4], line 4\u001b[0m\n\u001b[0;32m      1\u001b[0m x \u001b[38;5;241m=\u001b[39m {\u001b[38;5;241m1\u001b[39m, \u001b[38;5;241m2\u001b[39m, \u001b[38;5;241m3\u001b[39m}\n\u001b[0;32m      2\u001b[0m y \u001b[38;5;241m=\u001b[39m {\u001b[38;5;241m5\u001b[39m, \u001b[38;5;241m6\u001b[39m, \u001b[38;5;241m7\u001b[39m}\n\u001b[1;32m----> 4\u001b[0m z \u001b[38;5;241m=\u001b[39m {x, y}\n",
      "\u001b[1;31mTypeError\u001b[0m: unhashable type: 'set'"
     ]
    }
   ],
   "source": [
    "x = {1, 2, 3}\n",
    "y = {5, 6, 7}\n",
    "\n",
    "z = {x, y}"
   ]
  },
  {
   "cell_type": "code",
   "execution_count": 5,
   "id": "d438a4b5-7167-49e4-b968-eb28b08ab0b5",
   "metadata": {},
   "outputs": [
    {
     "name": "stdout",
     "output_type": "stream",
     "text": [
      "{frozenset({1, 2, 3}), frozenset({5, 6, 7})}\n"
     ]
    }
   ],
   "source": [
    "x = frozenset({1, 2, 3})\n",
    "y = frozenset({5, 6, 7})\n",
    "\n",
    "z = {x, y}\n",
    "print(z)"
   ]
  },
  {
   "cell_type": "code",
   "execution_count": 6,
   "id": "2cdd1b16-b524-409c-b741-fbea4371d906",
   "metadata": {},
   "outputs": [
    {
     "name": "stdout",
     "output_type": "stream",
     "text": [
      "{1: 'one', 2: 'two', 3: 'three'}\n"
     ]
    }
   ],
   "source": [
    "x = {1: 'one', 2: 'two', 3: 'three'}\n",
    "print(x)"
   ]
  },
  {
   "cell_type": "code",
   "execution_count": 7,
   "id": "8cc7b71f-679e-4ae2-bac2-667063e83e95",
   "metadata": {},
   "outputs": [
    {
     "name": "stdout",
     "output_type": "stream",
     "text": [
      "{1: 'one', 2: 'two', 3: 'three', 4: 'four'}\n"
     ]
    }
   ],
   "source": [
    "x[4] = 'four'\n",
    "print(x)"
   ]
  },
  {
   "cell_type": "code",
   "execution_count": 8,
   "id": "7da7db84-20ec-4723-ad62-0285ef2c129d",
   "metadata": {},
   "outputs": [
    {
     "name": "stdout",
     "output_type": "stream",
     "text": [
      "{1: 'odyn', 2: 'two', 3: 'three', 4: 'four'}\n"
     ]
    }
   ],
   "source": [
    "x[1] = 'odyn'\n",
    "\n",
    "print(x)"
   ]
  },
  {
   "cell_type": "code",
   "execution_count": 9,
   "id": "63f330b8-26db-4747-a717-78d481c0e7f0",
   "metadata": {},
   "outputs": [
    {
     "name": "stdout",
     "output_type": "stream",
     "text": [
      "{2: 'two', 3: 'three', 4: 'four'}\n"
     ]
    }
   ],
   "source": [
    "del x[1]\n",
    "print(x)"
   ]
  },
  {
   "cell_type": "code",
   "execution_count": 10,
   "id": "ead91888-8cb5-4dc4-924c-f8ceb77a75e4",
   "metadata": {},
   "outputs": [
    {
     "name": "stdout",
     "output_type": "stream",
     "text": [
      "two\n"
     ]
    }
   ],
   "source": [
    "print(x[2])"
   ]
  },
  {
   "cell_type": "code",
   "execution_count": 17,
   "id": "4c34ec98-e413-4eac-9a97-b5c1eab716cd",
   "metadata": {},
   "outputs": [
    {
     "name": "stdout",
     "output_type": "stream",
     "text": [
      "{'Ivanov': [1, 2, 3, 4, 5, 1], 'Petrov': [1, 2, 3, 4, 5], 'Sydorov': [1, 2, 3, 4, 5]}\n",
      "{'Ivanov': [1, 2, 3, 4, 5, 1], 'Petrov': [1, 2, 3, 4, 5], 'Sydorov': [1, 2, 3, 4, 5], 'Nosenko': [1, 1, 1, 1]}\n"
     ]
    }
   ],
   "source": [
    "students_python_grades = {\n",
    "    'Ivanov': [1, 2, 3, 4, 5],\n",
    "    'Petrov': [1, 2, 3, 4, 5],\n",
    "    'Sydorov': [1, 2, 3, 4, 5],\n",
    "}\n",
    "\n",
    "x = students_python_grades['Ivanov']\n",
    "x.append(1)\n",
    "print(students_python_grades)\n",
    "\n",
    "students_python_grades['Nosenko'] = [1, 1, 1, 1]\n",
    "\n",
    "print(students_python_grades)"
   ]
  },
  {
   "cell_type": "code",
   "execution_count": 18,
   "id": "d354b89c-f945-456d-8357-0bc6d5a05e85",
   "metadata": {},
   "outputs": [
    {
     "ename": "KeyError",
     "evalue": "4",
     "output_type": "error",
     "traceback": [
      "\u001b[1;31m---------------------------------------------------------------------------\u001b[0m",
      "\u001b[1;31mKeyError\u001b[0m                                  Traceback (most recent call last)",
      "Cell \u001b[1;32mIn[18], line 2\u001b[0m\n\u001b[0;32m      1\u001b[0m x \u001b[38;5;241m=\u001b[39m {\u001b[38;5;241m1\u001b[39m: \u001b[38;5;124m'\u001b[39m\u001b[38;5;124mone\u001b[39m\u001b[38;5;124m'\u001b[39m, \u001b[38;5;241m2\u001b[39m: \u001b[38;5;124m'\u001b[39m\u001b[38;5;124mtwo\u001b[39m\u001b[38;5;124m'\u001b[39m, \u001b[38;5;241m3\u001b[39m: \u001b[38;5;124m'\u001b[39m\u001b[38;5;124mthree\u001b[39m\u001b[38;5;124m'\u001b[39m}\n\u001b[1;32m----> 2\u001b[0m \u001b[38;5;28mprint\u001b[39m(\u001b[43mx\u001b[49m\u001b[43m[\u001b[49m\u001b[38;5;241;43m4\u001b[39;49m\u001b[43m]\u001b[49m)\n",
      "\u001b[1;31mKeyError\u001b[0m: 4"
     ]
    }
   ],
   "source": [
    "x = {1: 'one', 2: 'two', 3: 'three'}\n",
    "print(x[4])"
   ]
  },
  {
   "cell_type": "code",
   "execution_count": 21,
   "id": "a8d48a0d-c105-4b6f-8f5c-389091e37274",
   "metadata": {},
   "outputs": [
    {
     "name": "stdout",
     "output_type": "stream",
     "text": [
      "one\n"
     ]
    }
   ],
   "source": [
    "x = {1: 'one', 2: 'two', 3: 'three'}\n",
    "if 1 in x:\n",
    "    print(x[1])"
   ]
  },
  {
   "cell_type": "code",
   "execution_count": 24,
   "id": "86bbf64b-b348-4b94-acb2-fbf18bca4e7b",
   "metadata": {},
   "outputs": [
    {
     "name": "stdout",
     "output_type": "stream",
     "text": [
      "one\n"
     ]
    }
   ],
   "source": [
    "res = x.get(1)\n",
    "if res:\n",
    "    print(res)\n",
    "else:\n",
    "    print('Такого ключа нет')"
   ]
  },
  {
   "cell_type": "code",
   "execution_count": 29,
   "id": "94b92b8a-d0c2-4df8-8830-eef2edc5e37e",
   "metadata": {},
   "outputs": [
    {
     "name": "stdout",
     "output_type": "stream",
     "text": [
      "one\n"
     ]
    }
   ],
   "source": [
    "x = {1: 'one', 2: 'two', 3: 'three'}\n",
    "res = x.get(1, 'Error')\n",
    "print(res)"
   ]
  },
  {
   "cell_type": "code",
   "execution_count": 32,
   "id": "4edd6a8d-7fca-44fa-b5b8-d52fdd782403",
   "metadata": {},
   "outputs": [
    {
     "name": "stdout",
     "output_type": "stream",
     "text": [
      "1 one\n",
      "2 two\n",
      "3 three\n"
     ]
    }
   ],
   "source": [
    "x = {1: 'one', 2: 'two', 3: 'three'}\n",
    "\n",
    "for key in x:\n",
    "    print(key, x[key])"
   ]
  },
  {
   "cell_type": "code",
   "execution_count": 33,
   "id": "fd4a812c-d46e-48a1-8b8a-7544a3219f50",
   "metadata": {},
   "outputs": [
    {
     "data": {
      "text/plain": [
       "dict_keys([1, 2, 3])"
      ]
     },
     "execution_count": 33,
     "metadata": {},
     "output_type": "execute_result"
    }
   ],
   "source": [
    "x.keys()"
   ]
  },
  {
   "cell_type": "code",
   "execution_count": 34,
   "id": "9624ef5a-d4f8-4fde-b718-175311c599b7",
   "metadata": {},
   "outputs": [
    {
     "data": {
      "text/plain": [
       "dict_values(['one', 'two', 'three'])"
      ]
     },
     "execution_count": 34,
     "metadata": {},
     "output_type": "execute_result"
    }
   ],
   "source": [
    "x.values()"
   ]
  },
  {
   "cell_type": "code",
   "execution_count": 35,
   "id": "4f47fc99-8e15-47c7-852d-463924d2ea5c",
   "metadata": {},
   "outputs": [
    {
     "data": {
      "text/plain": [
       "dict_items([(1, 'one'), (2, 'two'), (3, 'three')])"
      ]
     },
     "execution_count": 35,
     "metadata": {},
     "output_type": "execute_result"
    }
   ],
   "source": [
    "x.items()"
   ]
  },
  {
   "cell_type": "code",
   "execution_count": 36,
   "id": "7a87cebb-1d68-4284-9235-6e041b7616e8",
   "metadata": {},
   "outputs": [
    {
     "name": "stdout",
     "output_type": "stream",
     "text": [
      "1 one\n",
      "2 two\n",
      "3 three\n"
     ]
    }
   ],
   "source": [
    "for key, value in x.items():\n",
    "    print(key, value)"
   ]
  },
  {
   "cell_type": "code",
   "execution_count": 38,
   "id": "a4729d17-5f14-4b53-b29e-aae1ea73c906",
   "metadata": {},
   "outputs": [],
   "source": [
    "data = [\n",
    "    '1 Bob Simson 19.58$ decorations',\n",
    "    '2 Mary 66.7$ food',\n",
    "    '3 Mary 98.91$ toys',\n",
    "    '4 Aleksa 72.29$ drinks',\n",
    "    '5 Maria Simson 84.48$ food',\n",
    "    '6 Aleksa 100.41$ accessories',\n",
    "    '7 Mary 19.9$ accessories',\n",
    "    '8 Bob Simson 83.88$ drinks',\n",
    "    '9 Bob Simson 58.21$ instruments',\n",
    "    '10 Maria Simson 20.61$ accessories',\n",
    "]"
   ]
  },
  {
   "cell_type": "code",
   "execution_count": 42,
   "id": "b3535884-c4de-4871-b454-4cf98ea16178",
   "metadata": {},
   "outputs": [
    {
     "name": "stdout",
     "output_type": "stream",
     "text": [
      "decorations: $19.58\n",
      "food: $151.18\n",
      "toys: $98.91\n",
      "drinks: $156.17\n",
      "accessories: $140.92\n",
      "instruments: $58.21\n"
     ]
    }
   ],
   "source": [
    "expenses_category = {}\n",
    "\n",
    "for line in data:\n",
    "    *_, money, category = line.split()\n",
    "    money = float(money.replace('$', ''))\n",
    "    if category in expenses_category:\n",
    "        expenses_category[category] += money\n",
    "    else:\n",
    "        expenses_category[category] = money\n",
    "\n",
    "for key, value in expenses_category.items():\n",
    "    print(f'{key}: ${value:.2f}')\n",
    "    "
   ]
  },
  {
   "cell_type": "code",
   "execution_count": 43,
   "id": "259ffa57-442f-43e9-aa45-41f92f15b6a2",
   "metadata": {},
   "outputs": [
    {
     "name": "stdout",
     "output_type": "stream",
     "text": [
      "decorations: $19.58\n",
      "food: $151.18\n",
      "toys: $98.91\n",
      "drinks: $156.17\n",
      "accessories: $140.92\n",
      "instruments: $58.21\n"
     ]
    }
   ],
   "source": [
    "expenses_category = {}\n",
    "\n",
    "for line in data:\n",
    "    *_, money, category = line.split()\n",
    "    money = float(money.replace('$', ''))\n",
    "    expenses_category[category] = expenses_category.get(category, 0) + money\n",
    "\n",
    "for key, value in expenses_category.items():\n",
    "    print(f'{key}: ${value:.2f}')"
   ]
  },
  {
   "cell_type": "code",
   "execution_count": 45,
   "id": "ebf39f76-d9b3-4d97-b487-88dd7837f6ae",
   "metadata": {},
   "outputs": [
    {
     "name": "stdout",
     "output_type": "stream",
     "text": [
      "{'first_name': 'Oleh', 'last_name': 'Tymchuk', 'age': 38}\n",
      "{'first_name': 'Alice', 'last_name': 'Tymchuk', 'age': 35}\n",
      "{'first_name': 'Bob', 'last_name': 'Tymchuk', 'age': 33}\n"
     ]
    }
   ],
   "source": [
    "user = {\n",
    "    'first_name': 'Oleh',\n",
    "    'last_name': 'Tymchuk',\n",
    "    'age': 38\n",
    "}\n",
    "\n",
    "users = [\n",
    "    {\n",
    "        'first_name': 'Oleh',\n",
    "        'last_name': 'Tymchuk',\n",
    "        'age': 38\n",
    "    },\n",
    "    {\n",
    "        'first_name': 'Alice',\n",
    "        'last_name': 'Tymchuk',\n",
    "        'age': 35\n",
    "    },\n",
    "    {\n",
    "        'first_name': 'Bob',\n",
    "        'last_name': 'Tymchuk',\n",
    "        'age': 33\n",
    "    },\n",
    "]\n",
    "\n",
    "\n",
    "print(*users, sep='\\n')"
   ]
  },
  {
   "cell_type": "code",
   "execution_count": 46,
   "id": "fa747bd6-bb6b-4422-9588-e4601efa1c27",
   "metadata": {},
   "outputs": [
    {
     "data": {
      "text/plain": [
       "{'first_name': 'Oleh', 'last_name': 'Tymchuk', 'age': 38}"
      ]
     },
     "execution_count": 46,
     "metadata": {},
     "output_type": "execute_result"
    }
   ],
   "source": [
    "users[0]"
   ]
  },
  {
   "cell_type": "code",
   "execution_count": 47,
   "id": "98a230c9-dbe2-4d40-b9f4-bf79a4859464",
   "metadata": {},
   "outputs": [
    {
     "name": "stdout",
     "output_type": "stream",
     "text": [
      "Oleh\n",
      "Alice\n",
      "Bob\n"
     ]
    }
   ],
   "source": [
    "for user in users:\n",
    "    print(user['first_name'])"
   ]
  },
  {
   "cell_type": "code",
   "execution_count": 48,
   "id": "1d9d4e70-9654-4db7-b259-85fdba04fb7a",
   "metadata": {},
   "outputs": [
    {
     "name": "stdout",
     "output_type": "stream",
     "text": [
      "Berlin\n"
     ]
    }
   ],
   "source": [
    "x = {\n",
    "        'first_name': 'Bob',\n",
    "        'last_name': 'Tymchuk',\n",
    "        'age': 33,\n",
    "        'address': {\n",
    "            'country': 'Germany',\n",
    "            'city': 'Berlin'\n",
    "        }\n",
    "    }\n",
    "\n",
    "print(x['address']['city'])"
   ]
  },
  {
   "cell_type": "code",
   "execution_count": 50,
   "id": "877e2566-826d-4648-80d2-c35643da3146",
   "metadata": {},
   "outputs": [
    {
     "name": "stdout",
     "output_type": "stream",
     "text": [
      "{'one': 1, 'two': 2, 'three': 3}\n"
     ]
    }
   ],
   "source": [
    "x = dict(one=1, two=2, three=3)\n",
    "print(x)"
   ]
  },
  {
   "cell_type": "code",
   "execution_count": 51,
   "id": "6b962a55-0b5e-456e-834d-05c37ce290d4",
   "metadata": {},
   "outputs": [
    {
     "name": "stdout",
     "output_type": "stream",
     "text": [
      "{1: 2, 3: 4, 5: 6}\n"
     ]
    }
   ],
   "source": [
    "x = [(1, 2), (3, 4), (5, 6)]\n",
    "\n",
    "y = dict(x)\n",
    "print(y)"
   ]
  },
  {
   "cell_type": "code",
   "execution_count": 52,
   "id": "f7f6ad16-acf4-4bdc-9d58-1abbb6ee1ec3",
   "metadata": {},
   "outputs": [
    {
     "name": "stdout",
     "output_type": "stream",
     "text": [
      "{1: 'one', 2: 'two', 3: 'three'}\n"
     ]
    }
   ],
   "source": [
    "x = [1, 2, 3]\n",
    "y = ['one', 'two', 'three']\n",
    "\n",
    "z = dict(zip(x, y))\n",
    "\n",
    "print(z)"
   ]
  },
  {
   "cell_type": "code",
   "execution_count": 53,
   "id": "a49dadee-c143-465b-8a43-85a362b682fc",
   "metadata": {},
   "outputs": [
    {
     "name": "stdout",
     "output_type": "stream",
     "text": [
      "{0: 1, 1: 2, 2: 3, 3: 4}\n"
     ]
    }
   ],
   "source": [
    "x = [1, 2, 3, 4]\n",
    "\n",
    "y = dict(enumerate(x))\n",
    "\n",
    "print(y)"
   ]
  },
  {
   "cell_type": "code",
   "execution_count": 57,
   "id": "e0a15875-211d-4689-93e0-0107f998fe43",
   "metadata": {},
   "outputs": [
    {
     "name": "stdout",
     "output_type": "stream",
     "text": [
      "{'one': 1, 'two': 2, 'three': 3}\n"
     ]
    }
   ],
   "source": [
    "x = {'one': 1, 'two': 2, 'three':3}\n",
    "\n",
    "y = dict(**x)\n",
    "\n",
    "print(y)"
   ]
  },
  {
   "cell_type": "code",
   "execution_count": 62,
   "id": "da724a1f-bd88-4c85-9344-6fc716f20bd4",
   "metadata": {},
   "outputs": [
    {
     "name": "stdout",
     "output_type": "stream",
     "text": [
      "('three', 3)\n"
     ]
    }
   ],
   "source": [
    "x = {'one': 1, 'two': 2, 'three':3}\n",
    "\n",
    "y = x.popitem()\n",
    "\n",
    "print(y)"
   ]
  },
  {
   "cell_type": "code",
   "execution_count": 63,
   "id": "9ac6abbb-9c29-4410-bc9d-93c1d38e9030",
   "metadata": {},
   "outputs": [
    {
     "name": "stdout",
     "output_type": "stream",
     "text": [
      "{0: None, 1: None, 2: None, 3: None, 4: None, 5: None, 6: None, 7: None, 8: None, 9: None, 10: None, 11: None, 12: None, 13: None, 14: None, 15: None, 16: None, 17: None, 18: None, 19: None, 20: None, 21: None, 22: None, 23: None, 24: None, 25: None, 26: None, 27: None, 28: None, 29: None, 30: None, 31: None, 32: None, 33: None, 34: None, 35: None, 36: None, 37: None, 38: None, 39: None, 40: None, 41: None, 42: None, 43: None, 44: None, 45: None, 46: None, 47: None, 48: None, 49: None, 50: None, 51: None, 52: None, 53: None, 54: None, 55: None, 56: None, 57: None, 58: None, 59: None, 60: None, 61: None, 62: None, 63: None, 64: None, 65: None, 66: None, 67: None, 68: None, 69: None, 70: None, 71: None, 72: None, 73: None, 74: None, 75: None, 76: None, 77: None, 78: None, 79: None, 80: None, 81: None, 82: None, 83: None, 84: None, 85: None, 86: None, 87: None, 88: None, 89: None, 90: None, 91: None, 92: None, 93: None, 94: None, 95: None, 96: None, 97: None, 98: None, 99: None}\n"
     ]
    }
   ],
   "source": [
    "x = {\n",
    "    0: None,\n",
    "    1: None,\n",
    "    \n",
    "}\n",
    "\n",
    "x = {i: None for i in range(100)}\n",
    "\n",
    "print(x)"
   ]
  },
  {
   "cell_type": "code",
   "execution_count": null,
   "id": "c9494c4d-9438-4d71-9cf2-8690625c7f0a",
   "metadata": {},
   "outputs": [],
   "source": []
  }
 ],
 "metadata": {
  "kernelspec": {
   "display_name": "Python 3 (ipykernel)",
   "language": "python",
   "name": "python3"
  },
  "language_info": {
   "codemirror_mode": {
    "name": "ipython",
    "version": 3
   },
   "file_extension": ".py",
   "mimetype": "text/x-python",
   "name": "python",
   "nbconvert_exporter": "python",
   "pygments_lexer": "ipython3",
   "version": "3.12.4"
  }
 },
 "nbformat": 4,
 "nbformat_minor": 5
}
