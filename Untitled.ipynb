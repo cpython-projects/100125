{
 "cells": [
  {
   "cell_type": "code",
   "execution_count": 2,
   "id": "c0128411-2d86-4d63-a5ab-a446442ef82e",
   "metadata": {},
   "outputs": [
    {
     "ename": "NameError",
     "evalue": "name 'years' is not defined",
     "output_type": "error",
     "traceback": [
      "\u001b[1;31m---------------------------------------------------------------------------\u001b[0m",
      "\u001b[1;31mNameError\u001b[0m                                 Traceback (most recent call last)",
      "Cell \u001b[1;32mIn[2], line 7\u001b[0m\n\u001b[0;32m      4\u001b[0m b \u001b[38;5;241m=\u001b[39m \u001b[38;5;241m20\u001b[39m\n\u001b[0;32m      5\u001b[0m c \u001b[38;5;241m=\u001b[39m \u001b[38;5;241m30\u001b[39m\n\u001b[1;32m----> 7\u001b[0m \u001b[38;5;28;01mfor\u001b[39;00m a \u001b[38;5;129;01min\u001b[39;00m \u001b[43myears\u001b[49m:\n\u001b[0;32m      8\u001b[0m  a \u001b[38;5;241m=\u001b[39m p \u001b[38;5;241m*\u001b[39m (\u001b[38;5;241m1\u001b[39m \u001b[38;5;241m+\u001b[39m r)\u001b[38;5;241m*\u001b[39m\u001b[38;5;241m*\u001b[39m\u001b[38;5;241m10\u001b[39m\n\u001b[0;32m     10\u001b[0m \u001b[38;5;28;01mfor\u001b[39;00m b \u001b[38;5;129;01min\u001b[39;00m years:\n",
      "\u001b[1;31mNameError\u001b[0m: name 'years' is not defined"
     ]
    }
   ],
   "source": [
    "p = 1000\n",
    "r = 0.10\n",
    "a = 10\n",
    "b = 20\n",
    "c = 30\n",
    "\n",
    "for a in years:\n",
    " a = p * (1 + r)**10\n",
    "\n",
    "for b in years:\n",
    " b = p * (1 + r)**20\n",
    "\n",
    "for c in years:\n",
    " c = p * (1 + r)**30\n",
    "\n",
    "print(f\"Через 10 лет, у вас будет: {a:.0f}$\")\n",
    "print(f\"Через 20 лет, у вас будет: {b:.0f}$\")\n",
    "print(f\"Через 30 лет, у вас будет: {c:.0f}$\")"
   ]
  },
  {
   "cell_type": "code",
   "execution_count": null,
   "id": "ff42e8fd-0d9b-4e6d-8bd7-3a6b8011cebc",
   "metadata": {},
   "outputs": [],
   "source": []
  }
 ],
 "metadata": {
  "kernelspec": {
   "display_name": "Python 3 (ipykernel)",
   "language": "python",
   "name": "python3"
  },
  "language_info": {
   "codemirror_mode": {
    "name": "ipython",
    "version": 3
   },
   "file_extension": ".py",
   "mimetype": "text/x-python",
   "name": "python",
   "nbconvert_exporter": "python",
   "pygments_lexer": "ipython3",
   "version": "3.12.4"
  }
 },
 "nbformat": 4,
 "nbformat_minor": 5
}
