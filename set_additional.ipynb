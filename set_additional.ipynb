{
 "cells": [
  {
   "cell_type": "markdown",
   "id": "d933966d-5563-4339-9841-9e4dfb9e3fd5",
   "metadata": {},
   "source": [
    "Датасет содержит записи о покупках клиентов интернет-магазина. Каждая запись представляет собой покупку конкретного товара, совершённую определённым клиентом в определённую дату.  \n",
    "```python\n",
    "customer_purchases = [\n",
    "    {\"Customer_ID\": 1001, \"Product\": \"Laptop\", \"Category\": \"Electronics\", \"Purchase_Date\": \"2024-02-01\"},\n",
    "    {\"Customer_ID\": 1002, \"Product\": \"Smartphone\", \"Category\": \"Electronics\", \"Purchase_Date\": \"2024-02-02\"},\n",
    "    {\"Customer_ID\": 1003, \"Product\": \"Sofa\", \"Category\": \"Furniture\", \"Purchase_Date\": \"2024-02-03\"},\n",
    "    {\"Customer_ID\": 1001, \"Product\": \"Tablet\", \"Category\": \"Electronics\", \"Purchase_Date\": \"2024-02-10\"},\n",
    "    {\"Customer_ID\": 1002, \"Product\": \"Chair\", \"Category\": \"Furniture\", \"Purchase_Date\": \"2024-02-15\"},\n",
    "    {\"Customer_ID\": 1003, \"Product\": \"Laptop\", \"Category\": \"Electronics\", \"Purchase_Date\": \"2024-02-18\"},\n",
    "    {\"Customer_ID\": 1004, \"Product\": \"Desk\", \"Category\": \"Furniture\", \"Purchase_Date\": \"2024-02-20\"},\n",
    "]\n",
    "```\n",
    "\n",
    "1. Определите множество всех уникальных товаров, которые были куплены.\n",
    "2. Выведите список уникальных Customer_ID, которые купили хотя бы один товар из категории \"Electronics\".\n",
    "3. Определите клиентов, которые совершали покупки как в категории \"Electronics\", так и в категории \"Furniture\".\n",
    "4. Найдите клиентов, которые покупали товары только из одной категории.\n",
    "5. Определите, какая категория товаров встречается чаще всего.\n",
    "6. Определите дни, когда были куплены товары из двух разных категорий.\n",
    "7. Выберите двух клиентов и найдите пересечение их покупок (какие товары они купили одинаковые).\n",
    "8. Для каждого клиента определите товары, которые он купил, но никто другой из покупателей не покупал.\n"
   ]
  },
  {
   "cell_type": "code",
   "execution_count": null,
   "id": "9ae28f5e-5372-4c3e-bf34-9f8c664f6620",
   "metadata": {},
   "outputs": [],
   "source": []
  }
 ],
 "metadata": {
  "kernelspec": {
   "display_name": "Python 3 (ipykernel)",
   "language": "python",
   "name": "python3"
  },
  "language_info": {
   "codemirror_mode": {
    "name": "ipython",
    "version": 3
   },
   "file_extension": ".py",
   "mimetype": "text/x-python",
   "name": "python",
   "nbconvert_exporter": "python",
   "pygments_lexer": "ipython3",
   "version": "3.12.4"
  }
 },
 "nbformat": 4,
 "nbformat_minor": 5
}
