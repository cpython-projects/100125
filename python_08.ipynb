{
 "cells": [
  {
   "cell_type": "markdown",
   "id": "6b609053-ae73-4ac5-9fde-8b045842c802",
   "metadata": {},
   "source": [
    "### if. 1 branch"
   ]
  },
  {
   "cell_type": "code",
   "execution_count": null,
   "id": "5c1ca04d-5cbd-421a-8aca-f9a32894ccad",
   "metadata": {},
   "outputs": [],
   "source": [
    "t = int(input('T>>'))\n",
    "if t < 0:\n",
    "    print('Холодно. Надень куртку')\n",
    "\n",
    "print('Хорошего дня!')"
   ]
  },
  {
   "cell_type": "code",
   "execution_count": null,
   "id": "6a083b88-f4dc-4dab-aac7-d53e1230cb8e",
   "metadata": {},
   "outputs": [],
   "source": [
    "s = input('text>>')\n",
    "\n",
    "\n",
    "if not s:\n",
    "    print('Ты ничего не ввел')"
   ]
  },
  {
   "cell_type": "markdown",
   "id": "65bf5e86-9de7-4ae2-af0e-f812cdd1b9d7",
   "metadata": {},
   "source": [
    "### if. 2 branch"
   ]
  },
  {
   "cell_type": "code",
   "execution_count": null,
   "id": "f594a034-89d2-43aa-89fa-d5ac5422e3fb",
   "metadata": {},
   "outputs": [],
   "source": [
    "s = input('text>>')\n",
    "\n",
    "if s:\n",
    "    print('You input smth.')\n",
    "else:\n",
    "    print('Empty text')"
   ]
  },
  {
   "cell_type": "code",
   "execution_count": null,
   "id": "a2db823f-6614-4a0d-9557-c200f45beed5",
   "metadata": {},
   "outputs": [],
   "source": [
    "number = int(input(\"Enter a number: \"))\n",
    "\n",
    "# if number % 2 == 0:\n",
    "#     print('Even')\n",
    "# else:\n",
    "#     print('Odd')\n",
    "\n",
    "\n",
    "if number % 2:\n",
    "    print('Odd')\n",
    "else:\n",
    "    print('Even')"
   ]
  },
  {
   "cell_type": "markdown",
   "id": "847c4599-2bff-44b7-afd0-5a823722ee25",
   "metadata": {},
   "source": [
    "### if. more than 2 branches"
   ]
  },
  {
   "cell_type": "code",
   "execution_count": null,
   "id": "38a647a9-7774-445c-a39f-ed08f79158bf",
   "metadata": {},
   "outputs": [],
   "source": [
    "t = int(input('T>>'))\n",
    "\n",
    "if t < -30:\n",
    "    print('Very cold')\n",
    "elif t < -10:\n",
    "    print('Cold')\n",
    "elif t < 0:\n",
    "    print('Normal')\n",
    "elif t < 20:\n",
    "    print('Warm')\n",
    "else:\n",
    "    print('Hot')"
   ]
  },
  {
   "cell_type": "code",
   "execution_count": null,
   "id": "2ebb78a2-022a-46ce-bae6-8db82233a901",
   "metadata": {},
   "outputs": [],
   "source": [
    "x = 10\n",
    "\n",
    "\n",
    "if x >= 10:\n",
    "    print(x)\n",
    "    x = 0\n",
    "elif x == 0:\n",
    "    print(x)\n",
    "    x = 100\n",
    "elif x == 100:\n",
    "    print(x)\n",
    "    x = 1000\n",
    "else:\n",
    "    print(x)\n",
    "\n",
    "print(x)"
   ]
  },
  {
   "cell_type": "code",
   "execution_count": null,
   "id": "241019e6-c9e0-4487-9bdc-da40e4f2e0df",
   "metadata": {},
   "outputs": [],
   "source": [
    "x = 10\n",
    "\n",
    "\n",
    "if x >= 10:\n",
    "    print(x)\n",
    "    x = 0\n",
    "\n",
    "if x == 0:\n",
    "    print(x)\n",
    "    x = 100\n",
    "\n",
    "if x == 100:\n",
    "    print(x)\n",
    "    x = 1000\n",
    "else:\n",
    "    print(x)\n",
    "\n",
    "print(x)"
   ]
  },
  {
   "cell_type": "code",
   "execution_count": null,
   "id": "d5472444-1587-4f19-9eed-8c682a5c4458",
   "metadata": {},
   "outputs": [],
   "source": [
    "points = int(input('Points>>'))\n",
    "\n",
    "if points < 0 or points > 100:\n",
    "    print('Invalid input')\n",
    "elif points < 60:\n",
    "    print('F')\n",
    "elif points < 67:\n",
    "    print('E')\n",
    "elif points < 74:\n",
    "    print('D')\n",
    "elif points < 79:\n",
    "    print('C')\n",
    "elif points < 90:\n",
    "    print('B')\n",
    "else:\n",
    "    print('A')"
   ]
  },
  {
   "cell_type": "code",
   "execution_count": null,
   "id": "f749b4c2-73e7-49f8-b58f-39bf1f464891",
   "metadata": {},
   "outputs": [],
   "source": [
    "number = int(input(\"Enter a number: \"))\n",
    "\n",
    "if number % 2:\n",
    "    res = 'Odd'\n",
    "else:\n",
    "    res = 'Even'\n",
    "\n",
    "print(res)\n",
    "\n",
    "res = 'Odd' if number % 2 else 'Even'\n",
    "print(res)"
   ]
  }
 ],
 "metadata": {
  "kernelspec": {
   "display_name": "Python 3 (ipykernel)",
   "language": "python",
   "name": "python3"
  },
  "language_info": {
   "codemirror_mode": {
    "name": "ipython",
    "version": 3
   },
   "file_extension": ".py",
   "mimetype": "text/x-python",
   "name": "python",
   "nbconvert_exporter": "python",
   "pygments_lexer": "ipython3",
   "version": "3.12.4"
  }
 },
 "nbformat": 4,
 "nbformat_minor": 5
}
