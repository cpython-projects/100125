{
 "cells": [
  {
   "cell_type": "code",
   "execution_count": 1,
   "id": "c5b11146-50d1-405a-b849-00f0d3a6b55c",
   "metadata": {},
   "outputs": [
    {
     "name": "stdout",
     "output_type": "stream",
     "text": [
      "123\n"
     ]
    }
   ],
   "source": [
    "x = 123\n",
    "\n",
    "print(hash(x))"
   ]
  },
  {
   "cell_type": "code",
   "execution_count": 2,
   "id": "cdfd2372-78c0-4bbd-a33b-d22c09d80e20",
   "metadata": {},
   "outputs": [
    {
     "name": "stdout",
     "output_type": "stream",
     "text": [
      "-6205777396646186131\n"
     ]
    }
   ],
   "source": [
    "x = 'Hello'\n",
    "print(hash(x))"
   ]
  },
  {
   "cell_type": "code",
   "execution_count": 3,
   "id": "1a92d976-1a20-4e5f-be35-e4f0d6d3d986",
   "metadata": {},
   "outputs": [
    {
     "name": "stdout",
     "output_type": "stream",
     "text": [
      "-6205777396646186131\n"
     ]
    }
   ],
   "source": [
    "x = 'Hello'\n",
    "print(hash(x))"
   ]
  },
  {
   "cell_type": "code",
   "execution_count": 4,
   "id": "6cef2352-95d1-41e2-8d6f-6e1f29a23396",
   "metadata": {},
   "outputs": [
    {
     "name": "stdout",
     "output_type": "stream",
     "text": [
      "1\n",
      "-2088700708822463201\n"
     ]
    }
   ],
   "source": [
    "print(hash(1))\n",
    "print(hash('1'))"
   ]
  },
  {
   "cell_type": "code",
   "execution_count": 5,
   "id": "d1b11f17-2bc5-421c-8bd1-1d7187b2734c",
   "metadata": {},
   "outputs": [
    {
     "ename": "TypeError",
     "evalue": "unhashable type: 'list'",
     "output_type": "error",
     "traceback": [
      "\u001b[1;31m---------------------------------------------------------------------------\u001b[0m",
      "\u001b[1;31mTypeError\u001b[0m                                 Traceback (most recent call last)",
      "Cell \u001b[1;32mIn[5], line 1\u001b[0m\n\u001b[1;32m----> 1\u001b[0m \u001b[38;5;28;43mhash\u001b[39;49m\u001b[43m(\u001b[49m\u001b[43m[\u001b[49m\u001b[38;5;241;43m1\u001b[39;49m\u001b[43m,\u001b[49m\u001b[43m \u001b[49m\u001b[38;5;241;43m2\u001b[39;49m\u001b[43m,\u001b[49m\u001b[43m \u001b[49m\u001b[38;5;241;43m3\u001b[39;49m\u001b[43m,\u001b[49m\u001b[43m \u001b[49m\u001b[38;5;241;43m4\u001b[39;49m\u001b[43m,\u001b[49m\u001b[43m \u001b[49m\u001b[38;5;241;43m5\u001b[39;49m\u001b[43m]\u001b[49m\u001b[43m)\u001b[49m\n",
      "\u001b[1;31mTypeError\u001b[0m: unhashable type: 'list'"
     ]
    }
   ],
   "source": [
    "hash([1, 2, 3, 4, 5])"
   ]
  },
  {
   "cell_type": "code",
   "execution_count": 6,
   "id": "d4786ea1-2f83-405a-ba79-9df70fc8b6f7",
   "metadata": {},
   "outputs": [
    {
     "data": {
      "text/plain": [
       "590899387183067792"
      ]
     },
     "execution_count": 6,
     "metadata": {},
     "output_type": "execute_result"
    }
   ],
   "source": [
    "hash((1, 2, 3, 4))"
   ]
  },
  {
   "cell_type": "code",
   "execution_count": 7,
   "id": "5175af38-84e4-49a7-8f60-942556dc4051",
   "metadata": {},
   "outputs": [
    {
     "ename": "TypeError",
     "evalue": "unhashable type: 'list'",
     "output_type": "error",
     "traceback": [
      "\u001b[1;31m---------------------------------------------------------------------------\u001b[0m",
      "\u001b[1;31mTypeError\u001b[0m                                 Traceback (most recent call last)",
      "Cell \u001b[1;32mIn[7], line 4\u001b[0m\n\u001b[0;32m      1\u001b[0m x \u001b[38;5;241m=\u001b[39m [\u001b[38;5;241m1\u001b[39m, \u001b[38;5;241m2\u001b[39m, \u001b[38;5;241m3\u001b[39m]\n\u001b[0;32m      2\u001b[0m y \u001b[38;5;241m=\u001b[39m (x, \u001b[38;5;241m23\u001b[39m, \u001b[38;5;241m45\u001b[39m)\n\u001b[1;32m----> 4\u001b[0m \u001b[38;5;28mprint\u001b[39m(\u001b[38;5;28;43mhash\u001b[39;49m\u001b[43m(\u001b[49m\u001b[43my\u001b[49m\u001b[43m)\u001b[49m)\n",
      "\u001b[1;31mTypeError\u001b[0m: unhashable type: 'list'"
     ]
    }
   ],
   "source": [
    "x = [1, 2, 3]\n",
    "y = (x, 23, 45)\n",
    "\n",
    "print(hash(y))"
   ]
  },
  {
   "cell_type": "code",
   "execution_count": 8,
   "id": "791e026f-4314-4e23-ac21-1041801b8a40",
   "metadata": {},
   "outputs": [
    {
     "name": "stdout",
     "output_type": "stream",
     "text": [
      "529344067295497451\n",
      "-925386691174542831\n"
     ]
    }
   ],
   "source": [
    "x = (1, 2, 3)\n",
    "y = (3, 2, 1)\n",
    "\n",
    "print(hash(x))\n",
    "print(hash(y))"
   ]
  },
  {
   "cell_type": "code",
   "execution_count": 9,
   "id": "f507443c-a92c-429e-8574-3af128827b64",
   "metadata": {},
   "outputs": [
    {
     "name": "stdout",
     "output_type": "stream",
     "text": [
      "{1, 2, 3, 4, 5, 6}\n"
     ]
    }
   ],
   "source": [
    "x = {1, 2, 3, 4, 5, 6, 6, 6, 6, 6, 6, 6, 6}\n",
    "\n",
    "print(x)"
   ]
  },
  {
   "cell_type": "code",
   "execution_count": 10,
   "id": "2fcae3a3-acfc-4ac7-8f2e-239c138f4605",
   "metadata": {},
   "outputs": [
    {
     "name": "stdout",
     "output_type": "stream",
     "text": [
      "set()\n"
     ]
    }
   ],
   "source": [
    "x = {} # Это будет пустой словарь\n",
    "\n",
    "x = set()\n",
    "print(x)"
   ]
  },
  {
   "cell_type": "code",
   "execution_count": 12,
   "id": "11b2a1f8-6445-4b16-990d-40d71c4f6ac0",
   "metadata": {},
   "outputs": [
    {
     "name": "stdout",
     "output_type": "stream",
     "text": [
      "Help on class set in module builtins:\n",
      "\n",
      "class set(object)\n",
      " |  set() -> new empty set object\n",
      " |  set(iterable) -> new set object\n",
      " |\n",
      " |  Build an unordered collection of unique elements.\n",
      " |\n",
      " |  Methods defined here:\n",
      " |\n",
      " |  __and__(self, value, /)\n",
      " |      Return self&value.\n",
      " |\n",
      " |  __contains__(...)\n",
      " |      x.__contains__(y) <==> y in x.\n",
      " |\n",
      " |  __eq__(self, value, /)\n",
      " |      Return self==value.\n",
      " |\n",
      " |  __ge__(self, value, /)\n",
      " |      Return self>=value.\n",
      " |\n",
      " |  __getattribute__(self, name, /)\n",
      " |      Return getattr(self, name).\n",
      " |\n",
      " |  __gt__(self, value, /)\n",
      " |      Return self>value.\n",
      " |\n",
      " |  __iand__(self, value, /)\n",
      " |      Return self&=value.\n",
      " |\n",
      " |  __init__(self, /, *args, **kwargs)\n",
      " |      Initialize self.  See help(type(self)) for accurate signature.\n",
      " |\n",
      " |  __ior__(self, value, /)\n",
      " |      Return self|=value.\n",
      " |\n",
      " |  __isub__(self, value, /)\n",
      " |      Return self-=value.\n",
      " |\n",
      " |  __iter__(self, /)\n",
      " |      Implement iter(self).\n",
      " |\n",
      " |  __ixor__(self, value, /)\n",
      " |      Return self^=value.\n",
      " |\n",
      " |  __le__(self, value, /)\n",
      " |      Return self<=value.\n",
      " |\n",
      " |  __len__(self, /)\n",
      " |      Return len(self).\n",
      " |\n",
      " |  __lt__(self, value, /)\n",
      " |      Return self<value.\n",
      " |\n",
      " |  __ne__(self, value, /)\n",
      " |      Return self!=value.\n",
      " |\n",
      " |  __or__(self, value, /)\n",
      " |      Return self|value.\n",
      " |\n",
      " |  __rand__(self, value, /)\n",
      " |      Return value&self.\n",
      " |\n",
      " |  __reduce__(...)\n",
      " |      Return state information for pickling.\n",
      " |\n",
      " |  __repr__(self, /)\n",
      " |      Return repr(self).\n",
      " |\n",
      " |  __ror__(self, value, /)\n",
      " |      Return value|self.\n",
      " |\n",
      " |  __rsub__(self, value, /)\n",
      " |      Return value-self.\n",
      " |\n",
      " |  __rxor__(self, value, /)\n",
      " |      Return value^self.\n",
      " |\n",
      " |  __sizeof__(...)\n",
      " |      S.__sizeof__() -> size of S in memory, in bytes\n",
      " |\n",
      " |  __sub__(self, value, /)\n",
      " |      Return self-value.\n",
      " |\n",
      " |  __xor__(self, value, /)\n",
      " |      Return self^value.\n",
      " |\n",
      " |  add(...)\n",
      " |      Add an element to a set.\n",
      " |\n",
      " |      This has no effect if the element is already present.\n",
      " |\n",
      " |  clear(...)\n",
      " |      Remove all elements from this set.\n",
      " |\n",
      " |  copy(...)\n",
      " |      Return a shallow copy of a set.\n",
      " |\n",
      " |  difference(...)\n",
      " |      Return the difference of two or more sets as a new set.\n",
      " |\n",
      " |      (i.e. all elements that are in this set but not the others.)\n",
      " |\n",
      " |  difference_update(...)\n",
      " |      Remove all elements of another set from this set.\n",
      " |\n",
      " |  discard(...)\n",
      " |      Remove an element from a set if it is a member.\n",
      " |\n",
      " |      Unlike set.remove(), the discard() method does not raise\n",
      " |      an exception when an element is missing from the set.\n",
      " |\n",
      " |  intersection(...)\n",
      " |      Return the intersection of two sets as a new set.\n",
      " |\n",
      " |      (i.e. all elements that are in both sets.)\n",
      " |\n",
      " |  intersection_update(...)\n",
      " |      Update a set with the intersection of itself and another.\n",
      " |\n",
      " |  isdisjoint(...)\n",
      " |      Return True if two sets have a null intersection.\n",
      " |\n",
      " |  issubset(self, other, /)\n",
      " |      Test whether every element in the set is in other.\n",
      " |\n",
      " |  issuperset(self, other, /)\n",
      " |      Test whether every element in other is in the set.\n",
      " |\n",
      " |  pop(...)\n",
      " |      Remove and return an arbitrary set element.\n",
      " |      Raises KeyError if the set is empty.\n",
      " |\n",
      " |  remove(...)\n",
      " |      Remove an element from a set; it must be a member.\n",
      " |\n",
      " |      If the element is not a member, raise a KeyError.\n",
      " |\n",
      " |  symmetric_difference(...)\n",
      " |      Return the symmetric difference of two sets as a new set.\n",
      " |\n",
      " |      (i.e. all elements that are in exactly one of the sets.)\n",
      " |\n",
      " |  symmetric_difference_update(...)\n",
      " |      Update a set with the symmetric difference of itself and another.\n",
      " |\n",
      " |  union(...)\n",
      " |      Return the union of sets as a new set.\n",
      " |\n",
      " |      (i.e. all elements that are in either set.)\n",
      " |\n",
      " |  update(...)\n",
      " |      Update a set with the union of itself and others.\n",
      " |\n",
      " |  ----------------------------------------------------------------------\n",
      " |  Class methods defined here:\n",
      " |\n",
      " |  __class_getitem__(...)\n",
      " |      See PEP 585\n",
      " |\n",
      " |  ----------------------------------------------------------------------\n",
      " |  Static methods defined here:\n",
      " |\n",
      " |  __new__(*args, **kwargs)\n",
      " |      Create and return a new object.  See help(type) for accurate signature.\n",
      " |\n",
      " |  ----------------------------------------------------------------------\n",
      " |  Data and other attributes defined here:\n",
      " |\n",
      " |  __hash__ = None\n",
      "\n"
     ]
    }
   ],
   "source": [
    "help(set)"
   ]
  },
  {
   "cell_type": "code",
   "execution_count": 13,
   "id": "0c304d2c-99ae-475b-a9ef-36a8b436ea62",
   "metadata": {},
   "outputs": [],
   "source": [
    "x = {1: '1'}\n",
    "z = {}\n",
    "\n",
    "y = {1, 2, 3, 4}\n",
    "d = set()"
   ]
  },
  {
   "cell_type": "code",
   "execution_count": 14,
   "id": "c9fe8d94-9251-4824-9bf8-fe511bf06143",
   "metadata": {},
   "outputs": [
    {
     "name": "stdout",
     "output_type": "stream",
     "text": [
      "{1, 2, 3, 4, 5, 6}\n"
     ]
    }
   ],
   "source": [
    "x = {1, 2, 3, 4, 5, 6}\n",
    "print(x)"
   ]
  },
  {
   "cell_type": "code",
   "execution_count": 17,
   "id": "ceec0889-140f-480d-9706-609b2478d8aa",
   "metadata": {},
   "outputs": [
    {
     "name": "stdout",
     "output_type": "stream",
     "text": [
      "{'n', 't', 'y', 'o', 'h', 'P'}\n"
     ]
    }
   ],
   "source": [
    "x = 'Python'\n",
    "y = set(x)\n",
    "print(y)"
   ]
  },
  {
   "cell_type": "code",
   "execution_count": 19,
   "id": "19e7587c-59d8-4107-a3f7-8d8a9500ea77",
   "metadata": {},
   "outputs": [
    {
     "name": "stdout",
     "output_type": "stream",
     "text": [
      "{1, 2, 3, 4, 'Hello', (1, 2, 3, 4, 5)}\n"
     ]
    }
   ],
   "source": [
    "x = {1, 2, 3}\n",
    "\n",
    "x.add(3)\n",
    "x.add(4)\n",
    "x.add('Hello')\n",
    "x.add((1, 2, 3, 4, 5))\n",
    "\n",
    "print(x)"
   ]
  },
  {
   "cell_type": "code",
   "execution_count": 20,
   "id": "d4491a65-6aaa-48e6-8da7-7127bc400ba5",
   "metadata": {},
   "outputs": [
    {
     "name": "stdout",
     "output_type": "stream",
     "text": [
      "{1, 3, 4, 'Hello', (1, 2, 3, 4, 5)}\n"
     ]
    }
   ],
   "source": [
    "x.remove(2)\n",
    "print(x)"
   ]
  },
  {
   "cell_type": "code",
   "execution_count": 21,
   "id": "60bea240-baef-4c20-af1b-234666fa4835",
   "metadata": {},
   "outputs": [
    {
     "ename": "KeyError",
     "evalue": "20",
     "output_type": "error",
     "traceback": [
      "\u001b[1;31m---------------------------------------------------------------------------\u001b[0m",
      "\u001b[1;31mKeyError\u001b[0m                                  Traceback (most recent call last)",
      "Cell \u001b[1;32mIn[21], line 1\u001b[0m\n\u001b[1;32m----> 1\u001b[0m \u001b[43mx\u001b[49m\u001b[38;5;241;43m.\u001b[39;49m\u001b[43mremove\u001b[49m\u001b[43m(\u001b[49m\u001b[38;5;241;43m20\u001b[39;49m\u001b[43m)\u001b[49m\n",
      "\u001b[1;31mKeyError\u001b[0m: 20"
     ]
    }
   ],
   "source": [
    "x.remove(20)"
   ]
  },
  {
   "cell_type": "code",
   "execution_count": 23,
   "id": "946c93b3-4a8b-4612-95de-2b9ada33399e",
   "metadata": {},
   "outputs": [],
   "source": [
    "if 20 in x:\n",
    "    x.remove(20)"
   ]
  },
  {
   "cell_type": "code",
   "execution_count": 24,
   "id": "88ea5bc2-a848-4956-a6ee-8ad2361cfde2",
   "metadata": {},
   "outputs": [],
   "source": [
    "x.discard(20)"
   ]
  },
  {
   "cell_type": "code",
   "execution_count": 25,
   "id": "e3f97d00-8054-4f8e-a182-6396f9e80861",
   "metadata": {},
   "outputs": [
    {
     "name": "stdout",
     "output_type": "stream",
     "text": [
      "{1, 3, 4, 'Hello', (1, 2, 3, 4, 5)}\n",
      "1\n",
      "{3, 4, 'Hello', (1, 2, 3, 4, 5)}\n"
     ]
    }
   ],
   "source": [
    "print(x)\n",
    "print(x.pop())\n",
    "print(x)"
   ]
  },
  {
   "cell_type": "code",
   "execution_count": 27,
   "id": "e443e007-536d-4ef8-b6b0-1a7032b55b8e",
   "metadata": {},
   "outputs": [],
   "source": [
    "x = set()\n",
    "if x:\n",
    "    x.pop()"
   ]
  },
  {
   "cell_type": "code",
   "execution_count": 28,
   "id": "b425359c-2912-4eb4-81ab-dc561e86e6f7",
   "metadata": {},
   "outputs": [
    {
     "name": "stdout",
     "output_type": "stream",
     "text": [
      "2745390950304\n",
      "set()\n",
      "2745390950304\n"
     ]
    }
   ],
   "source": [
    "x = {1, 2, 3, 4}\n",
    "print(id(x))\n",
    "\n",
    "x.clear()\n",
    "print(x)\n",
    "print(id(x))\n"
   ]
  },
  {
   "cell_type": "code",
   "execution_count": 29,
   "id": "4f22f83c-6ef3-4b95-93a1-8987e1205bd5",
   "metadata": {},
   "outputs": [
    {
     "name": "stdout",
     "output_type": "stream",
     "text": [
      "{1, 2, 3}\n",
      "{1, 2, 3}\n",
      "2745390950080\n",
      "2745390950304\n"
     ]
    }
   ],
   "source": [
    "x = {1, 2, 3}\n",
    "\n",
    "y = x.copy()\n",
    "\n",
    "print(x, y, id(x), id(y), sep='\\n')"
   ]
  },
  {
   "cell_type": "code",
   "execution_count": 30,
   "id": "a9b9de69-1f72-434a-94e3-641ed4e2d07c",
   "metadata": {},
   "outputs": [
    {
     "name": "stdout",
     "output_type": "stream",
     "text": [
      "3\n"
     ]
    }
   ],
   "source": [
    "x = {1, 2, 3}\n",
    "\n",
    "print(len(x))"
   ]
  },
  {
   "cell_type": "code",
   "execution_count": 31,
   "id": "83662923-e0e7-408a-9c84-571935325d89",
   "metadata": {},
   "outputs": [
    {
     "name": "stdout",
     "output_type": "stream",
     "text": [
      "1\n",
      "3\n"
     ]
    }
   ],
   "source": [
    "print(min(x))\n",
    "print(max(x))"
   ]
  },
  {
   "cell_type": "code",
   "execution_count": 32,
   "id": "10fb1f95-9a66-48f8-ae94-5f28a163830f",
   "metadata": {},
   "outputs": [
    {
     "name": "stdout",
     "output_type": "stream",
     "text": [
      "6\n"
     ]
    }
   ],
   "source": [
    "print(sum(x))"
   ]
  },
  {
   "cell_type": "code",
   "execution_count": 35,
   "id": "686ee8c0-71fb-4e3d-b559-ea7e2806b1e4",
   "metadata": {},
   "outputs": [
    {
     "name": "stdout",
     "output_type": "stream",
     "text": [
      "[2, 3, 4, 5, 6, 8, 9, 70]\n"
     ]
    }
   ],
   "source": [
    "x = {5, 4, 3, 2, 6, 5, 4, 8, 9, 70}\n",
    "y = sorted(x)\n",
    "print(y)"
   ]
  },
  {
   "cell_type": "code",
   "execution_count": 36,
   "id": "46471aa6-353c-4b2d-a798-d59c5eb7a591",
   "metadata": {},
   "outputs": [
    {
     "ename": "TypeError",
     "evalue": "'set' object is not reversible",
     "output_type": "error",
     "traceback": [
      "\u001b[1;31m---------------------------------------------------------------------------\u001b[0m",
      "\u001b[1;31mTypeError\u001b[0m                                 Traceback (most recent call last)",
      "Cell \u001b[1;32mIn[36], line 3\u001b[0m\n\u001b[0;32m      1\u001b[0m x \u001b[38;5;241m=\u001b[39m {\u001b[38;5;241m5\u001b[39m, \u001b[38;5;241m4\u001b[39m, \u001b[38;5;241m3\u001b[39m, \u001b[38;5;241m2\u001b[39m, \u001b[38;5;241m6\u001b[39m, \u001b[38;5;241m5\u001b[39m, \u001b[38;5;241m4\u001b[39m, \u001b[38;5;241m8\u001b[39m, \u001b[38;5;241m9\u001b[39m, \u001b[38;5;241m70\u001b[39m}\n\u001b[1;32m----> 3\u001b[0m y \u001b[38;5;241m=\u001b[39m \u001b[38;5;28;43mreversed\u001b[39;49m\u001b[43m(\u001b[49m\u001b[43mx\u001b[49m\u001b[43m)\u001b[49m\n\u001b[0;32m      5\u001b[0m \u001b[38;5;28mprint\u001b[39m(y)\n",
      "\u001b[1;31mTypeError\u001b[0m: 'set' object is not reversible"
     ]
    }
   ],
   "source": [
    "x = {5, 4, 3, 2, 6, 5, 4, 8, 9, 70}\n",
    "\n",
    "y = reversed(x)\n",
    "\n",
    "print(y)"
   ]
  },
  {
   "cell_type": "code",
   "execution_count": 41,
   "id": "ac719e58-c537-4c36-aa54-bd03afece3ad",
   "metadata": {},
   "outputs": [
    {
     "name": "stdout",
     "output_type": "stream",
     "text": [
      "(0, 2)\n",
      "(1, 3)\n",
      "(2, 4)\n",
      "(3, 5)\n",
      "(4, 6)\n",
      "(5, 70)\n",
      "(6, 8)\n",
      "(7, 9)\n"
     ]
    }
   ],
   "source": [
    "x = {5, 4, 3, 2, 6, 5, 4, 8, 9, 70}\n",
    "for item in enumerate(x):\n",
    "    print(item)"
   ]
  },
  {
   "cell_type": "code",
   "execution_count": 42,
   "id": "9a61e272-a7ac-4db3-8d16-2b3c21d7dae4",
   "metadata": {},
   "outputs": [
    {
     "name": "stdout",
     "output_type": "stream",
     "text": [
      "1 40\n",
      "2 10\n",
      "3 20\n",
      "4 30\n"
     ]
    }
   ],
   "source": [
    "x = [1, 2, 3, 4]\n",
    "y = {10, 20, 30, 40}\n",
    "\n",
    "for a, b in zip(x, y):\n",
    "    print(a, b)"
   ]
  },
  {
   "cell_type": "code",
   "execution_count": null,
   "id": "a4f98b10-baee-4c5b-977d-b961330d8070",
   "metadata": {},
   "outputs": [],
   "source": [
    "import string\n",
    "\n",
    "text1 = input('text>>').lower()\n",
    "text2 = input('text>>').lower()\n",
    "\n",
    "# Самое длинное слово, которое встречается в двух предложениях одновременно\n",
    "for item in string.punctuation:\n",
    "    text1 = text1.replace(item, ' ')\n",
    "    text2 = text2.replace(item, ' ')\n",
    "\n",
    "words1 = text1.split()\n",
    "words2 = text2.split()\n",
    "\n",
    "words1 = set(words1)\n",
    "words2 = set(words2)\n",
    "\n",
    "common = words1 & words2\n",
    "res = max(common, key=len)\n",
    "print(res)"
   ]
  },
  {
   "cell_type": "code",
   "execution_count": 44,
   "id": "d2148a01-11b3-454e-b210-9deacd059a5b",
   "metadata": {},
   "outputs": [
    {
     "name": "stdout",
     "output_type": "stream",
     "text": [
      "{'Frank', 'Alice', 'David', 'Bob'}\n"
     ]
    }
   ],
   "source": [
    "user_alice = {'Bob', 'Claire', 'Frank'}\n",
    "user_bob = {'Alice', 'Claire', 'David'}\n",
    "# user_claire = {'Alice', 'Bob', 'Eve'}\n",
    "\n",
    "print(user_alice ^ user_bob)"
   ]
  },
  {
   "cell_type": "code",
   "execution_count": 45,
   "id": "e376a98e-adf4-4cab-ad78-fb9a48a4eccd",
   "metadata": {},
   "outputs": [
    {
     "name": "stdout",
     "output_type": "stream",
     "text": [
      "q: 11\n",
      "j: 8\n",
      "d: 5\n",
      "l: 10\n",
      "f: 11\n",
      "k: 5\n"
     ]
    }
   ],
   "source": [
    "x = 'qqqqqqqqqqqjjjjjjjjdddddllllllllllfffffffffffkkkkk'\n",
    "\n",
    "letters = []\n",
    "\n",
    "for item in x:\n",
    "    if item not in letters:\n",
    "        print(f'{item}: {x.count(item)}')\n",
    "        letters.append(item)"
   ]
  },
  {
   "cell_type": "code",
   "execution_count": 48,
   "id": "63b232a1-bfcb-46f2-bb5b-c022c4f24865",
   "metadata": {},
   "outputs": [
    {
     "name": "stdout",
     "output_type": "stream",
     "text": [
      "{'d', 'q', 'f', 'j', 'l', 'k'}\n",
      "d: 5\n",
      "q: 11\n",
      "f: 11\n",
      "j: 8\n",
      "l: 10\n",
      "k: 5\n"
     ]
    }
   ],
   "source": [
    "x = 'qqqqqqqqqqqjjjjjjjjdddddllllllllllfffffffffffkkkkk'\n",
    "y = set(x)\n",
    "print(y)\n",
    "for item in y:\n",
    "    print(f'{item}: {x.count(item)}')"
   ]
  },
  {
   "cell_type": "code",
   "execution_count": 49,
   "id": "6193da3b-ae18-488a-942f-7c31b7400511",
   "metadata": {},
   "outputs": [
    {
     "name": "stdout",
     "output_type": "stream",
     "text": [
      "[5, 8, 9, 9, 4, 6, 4, 10, 9, 3]\n",
      "{64, 36, 100, 9, 16, 81, 25}\n"
     ]
    }
   ],
   "source": [
    "import random\n",
    "\n",
    "x = [random.randint(1, 10) for _ in range(10)]\n",
    "print(x)\n",
    "\n",
    "y = {item * item for item in x}\n",
    "print(y)"
   ]
  },
  {
   "cell_type": "code",
   "execution_count": 52,
   "id": "dc813f26-5d6c-4b96-874a-04a2b5398d56",
   "metadata": {},
   "outputs": [
    {
     "name": "stdout",
     "output_type": "stream",
     "text": [
      "{'w', 'd', 'r', 'e', 'h', 'o', 'l'}\n"
     ]
    }
   ],
   "source": [
    "text = \"hello world\"\n",
    "res = set(text) - {' '}\n",
    "print(res)"
   ]
  },
  {
   "cell_type": "code",
   "execution_count": null,
   "id": "c8535f99-8d4f-4ace-9997-5d725498cf5e",
   "metadata": {},
   "outputs": [],
   "source": [
    "list1 = [1, 2, 3, 4, 5]\n",
    "list2 = [3, 4, 5, 6, 7]\n",
    "\n"
   ]
  }
 ],
 "metadata": {
  "kernelspec": {
   "display_name": "Python 3 (ipykernel)",
   "language": "python",
   "name": "python3"
  },
  "language_info": {
   "codemirror_mode": {
    "name": "ipython",
    "version": 3
   },
   "file_extension": ".py",
   "mimetype": "text/x-python",
   "name": "python",
   "nbconvert_exporter": "python",
   "pygments_lexer": "ipython3",
   "version": "3.12.4"
  }
 },
 "nbformat": 4,
 "nbformat_minor": 5
}
