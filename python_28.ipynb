{
 "cells": [
  {
   "cell_type": "markdown",
   "id": "92f516c7-7084-461d-ad46-717738c898ac",
   "metadata": {},
   "source": [
    "### Анализ отзывов пользователей\n",
    "Вам дана база отзывов о товарах интернет-магазина в виде списка строк.\n",
    "\n",
    "```python \n",
    "reviews = [\n",
    "    \"Отличный товар! Покупаю уже второй раз.   \",\n",
    "    \"Ужасное качество. Сломался через неделю!\",\n",
    "    \"Нормальный товар, но доставка была долгой.\",\n",
    "    \"Очень   доволен покупкой, рекомендую!   \",\n",
    "    \"Не советую. Деньги на ветер.  \",\n",
    "    \"Прекрасное соотношение цена-качество!  \",\n",
    "    \"Товар хороший, но упаковка была повреждена. \",\n",
    "    \"Покупал на подарок. Получатель остался доволен.   \",\n",
    "]\n",
    "```\n",
    "\n",
    "1. Очистка отзывов от лишних пробелов\n",
    "2. Подсчет количества отзывов, содержащих ключевые слова\n",
    "3. Найдите, сколько отзывов содержат слова \"хороший\", \"отличный\", \"прекрасное\", \"доволен\".\n",
    "4. Сортировка отзывов по длине\n",
    "5. Объединение всех отзывов в один текст\n",
    "6. Создайте новый список, исключив отзывы, содержащие слова \"ужасное\", \"не советую\", \"деньги на ветер\"."
   ]
  },
  {
   "cell_type": "code",
   "execution_count": 2,
   "id": "3e5d7730-5b77-4d34-ad5f-245bff1acf6d",
   "metadata": {},
   "outputs": [
    {
     "name": "stdout",
     "output_type": "stream",
     "text": [
      "Количества отзывов, содержащих ключевые слова: 7\n"
     ]
    }
   ],
   "source": [
    "reviews = [\n",
    "    \"Отличный товар! Покупаю уже второй раз.   \",\n",
    "    \"Ужасное качество. Сломался через неделю!\",\n",
    "    \"Нормальный товар, но доставка была долгой.\",\n",
    "    \"Очень   доволен покупкой, рекомендую!   \",\n",
    "    \"Не советую. Деньги на ветер.  \",\n",
    "    \"Прекрасное соотношение цена-качество!  \",\n",
    "    \"Товар Хороший, но упаковка была повреждена. \",\n",
    "    \"Покупал на подарок. Получатель остался доволен.   \",\n",
    "]\n",
    "\n",
    "\n",
    "for index, item in enumerate(reviews):\n",
    "    if '  ' in item or item.startswith(' ') or item.endswith(' '):\n",
    "        reviews[index] = ' '.join(item.split())\n",
    "\n",
    "key_words = (\"хороший\",\n",
    "             \"отличный\", \n",
    "             \"прекрасное\", \n",
    "             \"доволен\",\n",
    "             \"ужасное\", \n",
    "             \"не советую\", \n",
    "             \"деньги на ветер\")\n",
    "count = 0\n",
    "for line in reviews:\n",
    "    for item in key_words:\n",
    "        if item in line.lower():\n",
    "            count += 1\n",
    "            break\n",
    "            \n",
    "print(f'Количества отзывов, содержащих ключевые слова: {count}')"
   ]
  },
  {
   "cell_type": "code",
   "execution_count": 5,
   "id": "27b2c8c8-c6bd-44df-a3c7-b1e2ad15d8dd",
   "metadata": {},
   "outputs": [
    {
     "name": "stdout",
     "output_type": "stream",
     "text": [
      "Хорошие отзывы \n",
      "Очень доволен покупкой, рекомендую!\n",
      "Прекрасное соотношение цена-качество!\n",
      "Отличный товар! Покупаю уже второй раз.\n",
      "Товар Хороший, но упаковка была повреждена.\n",
      "Покупал на подарок. Получатель остался доволен.\n",
      "5\n"
     ]
    }
   ],
   "source": [
    "good_words = (\"хороший\", \"отличный\", \"прекрасное\", \"доволен\")\n",
    "good_reviews = []\n",
    "\n",
    "for item in reviews:\n",
    "    for word in good_words:\n",
    "        if word.lower() in item.lower():\n",
    "            good_reviews.append(item)\n",
    "            break\n",
    "            \n",
    "            \n",
    "good_reviews.sort(key=len)\n",
    "print(f\"Хорошие отзывы \",*good_reviews, sep=\"\\n\")\n",
    "print(len(good_reviews))"
   ]
  },
  {
   "cell_type": "code",
   "execution_count": 9,
   "id": "87191cc6-d42a-4a1d-9445-b3da05b70a4a",
   "metadata": {},
   "outputs": [
    {
     "name": "stdout",
     "output_type": "stream",
     "text": [
      "Отличный товар! Покупаю уже второй раз.Ужасное качество. Сломался через неделю!Нормальный товар, но доставка была долгой.Очень доволен покупкой, рекомендую!Не советую. Деньги на ветер.Прекрасное соотношение цена-качество!Товар Хороший, но упаковка была повреждена.Покупал на подарок. Получатель остался доволен.\n"
     ]
    },
    {
     "ename": "ValueError",
     "evalue": "list.remove(x): x not in list",
     "output_type": "error",
     "traceback": [
      "\u001b[1;31m---------------------------------------------------------------------------\u001b[0m",
      "\u001b[1;31mValueError\u001b[0m                                Traceback (most recent call last)",
      "Cell \u001b[1;32mIn[9], line 9\u001b[0m\n\u001b[0;32m      7\u001b[0m \u001b[38;5;28;01mfor\u001b[39;00m item \u001b[38;5;129;01min\u001b[39;00m ex:\n\u001b[0;32m      8\u001b[0m     \u001b[38;5;28;01mif\u001b[39;00m item \u001b[38;5;129;01min\u001b[39;00m line\u001b[38;5;241m.\u001b[39mlower():\n\u001b[1;32m----> 9\u001b[0m         \u001b[43mreviews\u001b[49m\u001b[38;5;241;43m.\u001b[39;49m\u001b[43mremove\u001b[49m\u001b[43m(\u001b[49m\u001b[43mline\u001b[49m\u001b[43m)\u001b[49m\n\u001b[0;32m     10\u001b[0m     \u001b[38;5;28;01melse\u001b[39;00m:\n\u001b[0;32m     11\u001b[0m         res\u001b[38;5;241m.\u001b[39mappend(line)\n",
      "\u001b[1;31mValueError\u001b[0m: list.remove(x): x not in list"
     ]
    }
   ],
   "source": [
    "in_one_line = \" \".join(reviews)\n",
    "print(in_one_line)\n",
    "\n",
    "# res = []\n",
    "# ex = (\"ужасное\", \"не советую\", \"деньги на ветер\")\n",
    "# for line in reviews:\n",
    "#     for item in ex:\n",
    "#         if item in line.lower():\n",
    "#             reviews.remove(line)\n",
    "#         else:\n",
    "#             res.append(line)\n",
    "# print(res)"
   ]
  },
  {
   "cell_type": "markdown",
   "id": "dcf319f2-2dce-4c5f-9d77-217a9ab580fd",
   "metadata": {},
   "source": [
    "Анализ заказов интернет-магазина\n",
    "Компания занимается продажей товаров в интернете и ведет учет заказов в виде списка кортежей. Каждый кортеж содержит:\n",
    "\n",
    "order_id – уникальный идентификатор заказа (строка)\n",
    "customer_id – идентификатор клиента (строка)\n",
    "order_date – дата заказа в формате YYYY-MM-DD (строка)\n",
    "items – список товаров в заказе (список строк)\n",
    "total_amount – сумма заказа (float)"
   ]
  },
  {
   "cell_type": "code",
   "execution_count": null,
   "id": "35f4ddf1-0433-4f34-a0d4-4a5ba282f395",
   "metadata": {},
   "outputs": [],
   "source": []
  }
 ],
 "metadata": {
  "kernelspec": {
   "display_name": "Python 3 (ipykernel)",
   "language": "python",
   "name": "python3"
  },
  "language_info": {
   "codemirror_mode": {
    "name": "ipython",
    "version": 3
   },
   "file_extension": ".py",
   "mimetype": "text/x-python",
   "name": "python",
   "nbconvert_exporter": "python",
   "pygments_lexer": "ipython3",
   "version": "3.12.4"
  }
 },
 "nbformat": 4,
 "nbformat_minor": 5
}
