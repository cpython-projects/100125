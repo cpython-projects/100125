{
 "cells": [
  {
   "cell_type": "code",
   "execution_count": 1,
   "id": "18ec003d-0e2c-4f64-a900-c1b23c0c5146",
   "metadata": {},
   "outputs": [],
   "source": [
    "x = {1: 'one', 2: 'two', 3: 'three'}"
   ]
  },
  {
   "cell_type": "code",
   "execution_count": 2,
   "id": "d5151a8a-747b-451f-b879-f794cd32ee00",
   "metadata": {},
   "outputs": [
    {
     "name": "stdout",
     "output_type": "stream",
     "text": [
      "{1: 'bir', 2: 'two', 4: 'four'}\n"
     ]
    }
   ],
   "source": [
    "# add, del, update\n",
    "\n",
    "x[4] = 'four' # add\n",
    "del x[3]      # del\n",
    "x[1] = 'bir'\n",
    "\n",
    "print(x)"
   ]
  },
  {
   "cell_type": "markdown",
   "id": "093d51fc-0421-445c-958e-cf954a74750d",
   "metadata": {},
   "source": [
    "### Методы для перебора"
   ]
  },
  {
   "cell_type": "code",
   "execution_count": 3,
   "id": "76f2570d-5174-4b5d-ae47-dec963130b79",
   "metadata": {},
   "outputs": [
    {
     "name": "stdout",
     "output_type": "stream",
     "text": [
      "1 bir\n",
      "2 two\n",
      "4 four\n"
     ]
    }
   ],
   "source": [
    "# без методов\n",
    "for key in x: # перебор ключей\n",
    "    print(key, x[key])"
   ]
  },
  {
   "cell_type": "code",
   "execution_count": 4,
   "id": "c1a719e6-7b1c-4c04-80ab-7515fc1024a0",
   "metadata": {},
   "outputs": [
    {
     "name": "stdout",
     "output_type": "stream",
     "text": [
      "1\n",
      "2\n",
      "4\n"
     ]
    }
   ],
   "source": [
    "for key in x.keys(): # Перебор ключей\n",
    "    print(key)"
   ]
  },
  {
   "cell_type": "code",
   "execution_count": 5,
   "id": "dd2273e6-2e17-4ddf-bd96-dae3c46d8626",
   "metadata": {},
   "outputs": [
    {
     "name": "stdout",
     "output_type": "stream",
     "text": [
      "bir\n",
      "two\n",
      "four\n"
     ]
    }
   ],
   "source": [
    "for value in x.values(): # Перебор значений, доступа к ключу нет\n",
    "    print(value)"
   ]
  },
  {
   "cell_type": "code",
   "execution_count": 6,
   "id": "bb6e448f-fc9d-4d93-9580-d45ff8bc0883",
   "metadata": {},
   "outputs": [
    {
     "name": "stdout",
     "output_type": "stream",
     "text": [
      "1 bir\n",
      "2 two\n",
      "4 four\n"
     ]
    }
   ],
   "source": [
    "for key, value in x.items():  # Перебор ключ:значение\n",
    "    print(key, value) "
   ]
  },
  {
   "cell_type": "markdown",
   "id": "10b7c642-84cd-4c33-bfd7-35e681405242",
   "metadata": {},
   "source": [
    "### Доступ к элементу словаря"
   ]
  },
  {
   "cell_type": "code",
   "execution_count": 7,
   "id": "5406d854-b697-4b15-a4fc-02018f542a65",
   "metadata": {},
   "outputs": [
    {
     "data": {
      "text/plain": [
       "'bir'"
      ]
     },
     "execution_count": 7,
     "metadata": {},
     "output_type": "execute_result"
    }
   ],
   "source": [
    "x[1]"
   ]
  },
  {
   "cell_type": "code",
   "execution_count": 8,
   "id": "2f9ca93d-29c9-4080-951e-0b0c5fb513f7",
   "metadata": {},
   "outputs": [
    {
     "ename": "KeyError",
     "evalue": "5",
     "output_type": "error",
     "traceback": [
      "\u001b[31m---------------------------------------------------------------------------\u001b[39m",
      "\u001b[31mKeyError\u001b[39m                                  Traceback (most recent call last)",
      "\u001b[36mCell\u001b[39m\u001b[36m \u001b[39m\u001b[32mIn[8]\u001b[39m\u001b[32m, line 1\u001b[39m\n\u001b[32m----> \u001b[39m\u001b[32m1\u001b[39m \u001b[43mx\u001b[49m\u001b[43m[\u001b[49m\u001b[32;43m5\u001b[39;49m\u001b[43m]\u001b[49m\n",
      "\u001b[31mKeyError\u001b[39m: 5"
     ]
    }
   ],
   "source": [
    "x[5]"
   ]
  },
  {
   "cell_type": "code",
   "execution_count": 9,
   "id": "50fa2fa1-f3ae-4bda-a320-d1c9f79e3b4f",
   "metadata": {},
   "outputs": [],
   "source": [
    "if 5 in x:\n",
    "    print(x[5])"
   ]
  },
  {
   "cell_type": "code",
   "execution_count": 10,
   "id": "36327caf-2209-4ec4-ba14-360e7ae1f101",
   "metadata": {},
   "outputs": [
    {
     "data": {
      "text/plain": [
       "'bir'"
      ]
     },
     "execution_count": 10,
     "metadata": {},
     "output_type": "execute_result"
    }
   ],
   "source": [
    "x.get(1)"
   ]
  },
  {
   "cell_type": "code",
   "execution_count": 11,
   "id": "2a878576-d4cd-4d39-b146-6c2eec834926",
   "metadata": {},
   "outputs": [
    {
     "name": "stdout",
     "output_type": "stream",
     "text": [
      "None\n"
     ]
    }
   ],
   "source": [
    "print(x.get(5))"
   ]
  },
  {
   "cell_type": "code",
   "execution_count": 12,
   "id": "b481f3a6-eedd-4d36-a798-cb71689d7a32",
   "metadata": {},
   "outputs": [
    {
     "data": {
      "text/plain": [
       "'Not Value'"
      ]
     },
     "execution_count": 12,
     "metadata": {},
     "output_type": "execute_result"
    }
   ],
   "source": [
    "x.get(5, 'Not Value')"
   ]
  },
  {
   "cell_type": "code",
   "execution_count": 13,
   "id": "84d3e248-1212-4023-9f25-ef353d83aaf2",
   "metadata": {},
   "outputs": [
    {
     "name": "stdout",
     "output_type": "stream",
     "text": [
      "Help on built-in function setdefault:\n",
      "\n",
      "setdefault(key, default=None, /) method of builtins.dict instance\n",
      "    Insert key with a value of default if key is not in the dictionary.\n",
      "\n",
      "    Return the value for key if key is in the dictionary, else default.\n",
      "\n"
     ]
    }
   ],
   "source": [
    "help(x.setdefault)"
   ]
  },
  {
   "cell_type": "code",
   "execution_count": 14,
   "id": "f8ae219b-5bf4-4b70-901b-f3b555e0d9b4",
   "metadata": {},
   "outputs": [
    {
     "data": {
      "text/plain": [
       "'bir'"
      ]
     },
     "execution_count": 14,
     "metadata": {},
     "output_type": "execute_result"
    }
   ],
   "source": [
    "x.setdefault(1)"
   ]
  },
  {
   "cell_type": "code",
   "execution_count": 15,
   "id": "ea69caed-c327-4936-83b6-aa73216a3d8f",
   "metadata": {},
   "outputs": [],
   "source": [
    "x.setdefault(5)"
   ]
  },
  {
   "cell_type": "code",
   "execution_count": null,
   "id": "68772933-c6bf-42cf-838e-10d0940163de",
   "metadata": {},
   "outputs": [],
   "source": [
    "x"
   ]
  },
  {
   "cell_type": "code",
   "execution_count": 16,
   "id": "6735a7e5-a7eb-4189-a066-630b4920f4f0",
   "metadata": {},
   "outputs": [
    {
     "data": {
      "text/plain": [
       "'New Value'"
      ]
     },
     "execution_count": 16,
     "metadata": {},
     "output_type": "execute_result"
    }
   ],
   "source": [
    "x.setdefault(6, 'New Value')"
   ]
  },
  {
   "cell_type": "code",
   "execution_count": null,
   "id": "646adfab-f81c-43b8-82c5-73de1ad706a5",
   "metadata": {},
   "outputs": [],
   "source": [
    "x"
   ]
  },
  {
   "cell_type": "code",
   "execution_count": null,
   "id": "a3e31b9e-4471-41d2-821e-24bf07f4dd5d",
   "metadata": {},
   "outputs": [],
   "source": [
    "x.setdefault(5, 'New Value')\n",
    "x"
   ]
  },
  {
   "cell_type": "code",
   "execution_count": 17,
   "id": "57754f49-31d3-4c29-834e-1a4b4295f76a",
   "metadata": {},
   "outputs": [
    {
     "name": "stdout",
     "output_type": "stream",
     "text": [
      "New value\n",
      "{1: 'bir', 2: 'two', 4: 'four', 5: None, 6: 'New Value', 7: 'New value'}\n"
     ]
    }
   ],
   "source": [
    "if 7 in x:\n",
    "    res = x[7]\n",
    "else:\n",
    "    x[7] = 'New value'\n",
    "    res = x[7]\n",
    "print(res)\n",
    "print(x)\n"
   ]
  },
  {
   "cell_type": "code",
   "execution_count": 18,
   "id": "423b9e9e-7d16-4a24-98b0-34fa07275144",
   "metadata": {},
   "outputs": [
    {
     "name": "stdout",
     "output_type": "stream",
     "text": [
      "New value\n",
      "{1: 'bir', 2: 'two', 4: 'four', 5: None, 6: 'New Value', 7: 'New value'}\n"
     ]
    }
   ],
   "source": [
    "if 7 not in x:\n",
    "    x[7] = 'New value'\n",
    "\n",
    "res = x[7]\n",
    "print(res)\n",
    "print(x)"
   ]
  },
  {
   "cell_type": "code",
   "execution_count": 19,
   "id": "bfbc5cdf-7d9f-4187-aaa8-6b0c9b943001",
   "metadata": {},
   "outputs": [
    {
     "name": "stdout",
     "output_type": "stream",
     "text": [
      "New value\n",
      "{1: 'bir', 2: 'two', 4: 'four', 5: None, 6: 'New Value', 7: 'New value', 8: 'New value'}\n"
     ]
    }
   ],
   "source": [
    "res = x.setdefault(8, 'New value')\n",
    "print(res)\n",
    "print(x)"
   ]
  },
  {
   "cell_type": "code",
   "execution_count": null,
   "id": "cc1a382f-5f28-469e-9935-218d4e96c1ef",
   "metadata": {},
   "outputs": [],
   "source": [
    "x"
   ]
  },
  {
   "cell_type": "code",
   "execution_count": 21,
   "id": "235be466-305b-4470-87fd-abadb36f003c",
   "metadata": {},
   "outputs": [
    {
     "name": "stdin",
     "output_type": "stream",
     "text": [
      "text>> New value\n"
     ]
    },
    {
     "name": "stdout",
     "output_type": "stream",
     "text": [
      "7\n",
      "8\n"
     ]
    }
   ],
   "source": [
    "text = input('text>>')\n",
    "for key, item in x.items():\n",
    "    if item == text:\n",
    "        print(key)"
   ]
  },
  {
   "cell_type": "code",
   "execution_count": 22,
   "id": "1c7d2c05-c9fa-483b-ad3f-b4b0e5c6ba94",
   "metadata": {},
   "outputs": [
    {
     "name": "stdout",
     "output_type": "stream",
     "text": [
      "('bir', 'two', 'four', None, 'New Value', 'New value', 'New value')\n"
     ]
    }
   ],
   "source": [
    "res = tuple(x.values())\n",
    "print(res)"
   ]
  },
  {
   "cell_type": "code",
   "execution_count": 23,
   "id": "6ab6d205-a346-4334-83aa-2522cd32b31e",
   "metadata": {},
   "outputs": [
    {
     "data": {
      "text/plain": [
       "2"
      ]
     },
     "execution_count": 23,
     "metadata": {},
     "output_type": "execute_result"
    }
   ],
   "source": [
    "res.count(text)"
   ]
  },
  {
   "cell_type": "code",
   "execution_count": 24,
   "id": "3fd5f7c3-ba4b-4543-89fb-5954bcd88f59",
   "metadata": {},
   "outputs": [
    {
     "name": "stdout",
     "output_type": "stream",
     "text": [
      "Yes\n"
     ]
    }
   ],
   "source": [
    "print('Yes' if text in x.values() else 'No')"
   ]
  },
  {
   "cell_type": "code",
   "execution_count": 31,
   "id": "f5cef1a4-d644-4b9e-8c25-531d7988bba1",
   "metadata": {},
   "outputs": [
    {
     "name": "stdout",
     "output_type": "stream",
     "text": [
      "['P', 'y', 't', 'h', 'o', 'n']\n",
      "('P', 'y', 't', 'h', 'o', 'n')\n",
      "{'P', 'y', 'h', 'n', 't', 'o'}\n",
      "{0: 'P', 1: 'y', 2: 't', 3: 'h', 4: 'o', 5: 'n'}\n",
      "{0: 'P', 1: 'y', 2: 't', 3: 'h', 4: 'o', 5: 'n'}\n",
      "{1: 'P', 2: 'y', 3: 't', 4: 'h', 5: 'o', 6: 'n'}\n"
     ]
    }
   ],
   "source": [
    "x = 'Python'\n",
    "\n",
    "x1 = list(x)\n",
    "print(x1)\n",
    "x2 = tuple(x)\n",
    "print(x2)\n",
    "x3 = set(x)\n",
    "print(x3)\n",
    "\n",
    "x4 = dict(zip(range(len(x)), x))\n",
    "print(x4)\n",
    "\n",
    "x5 = dict(enumerate(x))\n",
    "print(x5)\n",
    "\n",
    "x6 = dict(enumerate(x, 1))\n",
    "print(x6)"
   ]
  },
  {
   "cell_type": "code",
   "execution_count": 35,
   "id": "bcd60919-d599-49aa-835d-0cdfd4b21c0b",
   "metadata": {},
   "outputs": [
    {
     "name": "stdout",
     "output_type": "stream",
     "text": [
      "['*P*', '*y*', '*t*', '*h*', '*o*', '*n*']\n",
      "{'*h*', '*P*', '*y*', '*o*', '*t*', '*n*'}\n",
      "{'P': '*P*', 'y': '*y*', 't': '*t*', 'h': '*h*', 'o': '*o*', 'n': '*n*'}\n"
     ]
    }
   ],
   "source": [
    "x = 'Python'\n",
    "\n",
    "y1 = [f'*{item}*' for item in x]\n",
    "print(y1)\n",
    "\n",
    "y2 = {f'*{item}*' for item in x}\n",
    "print(y2)\n",
    "\n",
    "y3 = {item: f'*{item}*' for item in x}\n",
    "print(y3)"
   ]
  },
  {
   "cell_type": "code",
   "execution_count": 38,
   "id": "115ce726-c2b0-475f-928b-907ed0c3b7a3",
   "metadata": {},
   "outputs": [
    {
     "name": "stdout",
     "output_type": "stream",
     "text": [
      "11\n"
     ]
    },
    {
     "ename": "NameError",
     "evalue": "name 'a1' is not defined",
     "output_type": "error",
     "traceback": [
      "\u001b[31m---------------------------------------------------------------------------\u001b[39m",
      "\u001b[31mNameError\u001b[39m                                 Traceback (most recent call last)",
      "\u001b[36mCell\u001b[39m\u001b[36m \u001b[39m\u001b[32mIn[38]\u001b[39m\u001b[32m, line 12\u001b[39m\n\u001b[32m     10\u001b[39m res = add(x, y)\n\u001b[32m     11\u001b[39m \u001b[38;5;28mprint\u001b[39m(res)\n\u001b[32m---> \u001b[39m\u001b[32m12\u001b[39m \u001b[38;5;28mprint\u001b[39m(\u001b[43ma1\u001b[49m)\n\u001b[32m     13\u001b[39m \u001b[38;5;28mprint\u001b[39m(b1)\n",
      "\u001b[31mNameError\u001b[39m: name 'a1' is not defined"
     ]
    }
   ],
   "source": [
    "def add(a, b):\n",
    "    res = a + b\n",
    "    a1 = 500\n",
    "    b1 = 600\n",
    "    return res\n",
    "\n",
    "\n",
    "x = 5\n",
    "y = 6\n",
    "res = add(x, y)\n",
    "print(res)\n",
    "print(a1)\n",
    "print(b1)"
   ]
  },
  {
   "cell_type": "code",
   "execution_count": 41,
   "id": "29949623-cc2b-4714-9335-c138db39ed9a",
   "metadata": {},
   "outputs": [
    {
     "ename": "NameError",
     "evalue": "name 'trulala' is not defined",
     "output_type": "error",
     "traceback": [
      "\u001b[31m---------------------------------------------------------------------------\u001b[39m",
      "\u001b[31mNameError\u001b[39m                                 Traceback (most recent call last)",
      "\u001b[36mCell\u001b[39m\u001b[36m \u001b[39m\u001b[32mIn[41]\u001b[39m\u001b[32m, line 7\u001b[39m\n\u001b[32m      3\u001b[39m \u001b[38;5;28;01mdef\u001b[39;00m\u001b[38;5;250m \u001b[39m\u001b[34madd\u001b[39m(b):\n\u001b[32m      4\u001b[39m     \u001b[38;5;28;01mreturn\u001b[39;00m a + b + \u001b[38;5;28;01mTrue\u001b[39;00m + trulala\n\u001b[32m----> \u001b[39m\u001b[32m7\u001b[39m \u001b[38;5;28mprint\u001b[39m(\u001b[43madd\u001b[49m\u001b[43m(\u001b[49m\u001b[32;43m4\u001b[39;49m\u001b[43m)\u001b[49m)\n",
      "\u001b[36mCell\u001b[39m\u001b[36m \u001b[39m\u001b[32mIn[41]\u001b[39m\u001b[32m, line 4\u001b[39m, in \u001b[36madd\u001b[39m\u001b[34m(b)\u001b[39m\n\u001b[32m      3\u001b[39m \u001b[38;5;28;01mdef\u001b[39;00m\u001b[38;5;250m \u001b[39m\u001b[34madd\u001b[39m(b):\n\u001b[32m----> \u001b[39m\u001b[32m4\u001b[39m     \u001b[38;5;28;01mreturn\u001b[39;00m a + b + \u001b[38;5;28;01mTrue\u001b[39;00m + \u001b[43mtrulala\u001b[49m\n",
      "\u001b[31mNameError\u001b[39m: name 'trulala' is not defined"
     ]
    }
   ],
   "source": [
    "a = 10\n",
    "\n",
    "def add(b):\n",
    "    return a + b + True\n",
    "\n",
    "\n",
    "print(add(4))"
   ]
  },
  {
   "cell_type": "code",
   "execution_count": 42,
   "id": "5c84001b-8006-42e6-8a86-5e90a12d8958",
   "metadata": {},
   "outputs": [
    {
     "name": "stdout",
     "output_type": "stream",
     "text": [
      "10\n"
     ]
    }
   ],
   "source": [
    "a = 10\n",
    "\n",
    "def add(b):\n",
    "    a = 5\n",
    "    return a + b\n",
    "\n",
    "\n",
    "print(add(5))"
   ]
  },
  {
   "cell_type": "markdown",
   "id": "1576edb6-0d3e-4e6e-8da8-32e007cd84b0",
   "metadata": {},
   "source": [
    "ГЛОБАЛЬНЫЕ ПЕРЕМЕННЫЕ В ФУНКЦИЯХ НЕ ИСПОЛЬЗУЕМ!!!!!!!!!!!!!!!!!"
   ]
  },
  {
   "cell_type": "code",
   "execution_count": 43,
   "id": "c23ce827-18dc-4ef6-8a75-70f818252938",
   "metadata": {},
   "outputs": [
    {
     "name": "stdout",
     "output_type": "stream",
     "text": [
      "7\n",
      "11\n",
      "13\n"
     ]
    }
   ],
   "source": [
    "def out(x):\n",
    "    def inner(y):\n",
    "        return x + y\n",
    "\n",
    "    return inner\n",
    "\n",
    "\n",
    "res = out(5)\n",
    "print(res(2))\n",
    "print(res(6))\n",
    "print(res(8))"
   ]
  },
  {
   "cell_type": "code",
   "execution_count": 45,
   "id": "45038b3f-3caa-4725-be4c-1565ef7fb66b",
   "metadata": {},
   "outputs": [
    {
     "name": "stdout",
     "output_type": "stream",
     "text": [
      "14\n"
     ]
    }
   ],
   "source": [
    "def out(a):\n",
    "    def func1(b):\n",
    "        return a + b\n",
    "\n",
    "    def func2(c):\n",
    "        return a * c\n",
    "\n",
    "    return func1(a * a) + func2(a * a)\n",
    "\n",
    "print(out(2))"
   ]
  },
  {
   "cell_type": "code",
   "execution_count": 47,
   "id": "a7cbe4d1-45b2-41ae-abe9-109a097064ce",
   "metadata": {},
   "outputs": [
    {
     "name": "stdout",
     "output_type": "stream",
     "text": [
      "14\n"
     ]
    }
   ],
   "source": [
    "def func1(a, b):\n",
    "    return a + b\n",
    "\n",
    "def func2(a, c):\n",
    "    return a * c\n",
    "    \n",
    "def out(a):\n",
    "    return func1(a * a, a) + func2(a * a, a)\n",
    "\n",
    "print(out(2))"
   ]
  },
  {
   "cell_type": "code",
   "execution_count": 51,
   "id": "b2260525-cd7c-4ab6-8811-79db1b116ce6",
   "metadata": {},
   "outputs": [
    {
     "name": "stdout",
     "output_type": "stream",
     "text": [
      "20\n",
      "5\n"
     ]
    }
   ],
   "source": [
    "a = 10\n",
    "\n",
    "def add(b):\n",
    "    global a\n",
    "    res = a + b\n",
    "    a = 5\n",
    "    return res\n",
    "\n",
    "print(add(a))\n",
    "print(a)"
   ]
  },
  {
   "cell_type": "code",
   "execution_count": 53,
   "id": "5cc9e018-78da-4746-800f-1dbbd2e7c57d",
   "metadata": {},
   "outputs": [
    {
     "name": "stdout",
     "output_type": "stream",
     "text": [
      "[1, 2, 3, 4, 5]\n",
      "[1, 4, 9, 16, 25]\n"
     ]
    }
   ],
   "source": [
    "def items_to_square(seq):\n",
    "    for i, item in enumerate(seq):\n",
    "        seq[i] = item ** 2\n",
    "    return seq\n",
    "\n",
    "\n",
    "x = [1, 2, 3, 4, 5]\n",
    "y = items_to_square(x[:])\n",
    "print(x)\n",
    "print(y)"
   ]
  },
  {
   "cell_type": "code",
   "execution_count": null,
   "id": "2dafeb49-6fe8-4804-8304-f284615fd9a7",
   "metadata": {},
   "outputs": [],
   "source": []
  }
 ],
 "metadata": {
  "kernelspec": {
   "display_name": "Python 3 (ipykernel)",
   "language": "python",
   "name": "python3"
  },
  "language_info": {
   "codemirror_mode": {
    "name": "ipython",
    "version": 3
   },
   "file_extension": ".py",
   "mimetype": "text/x-python",
   "name": "python",
   "nbconvert_exporter": "python",
   "pygments_lexer": "ipython3",
   "version": "3.13.2"
  }
 },
 "nbformat": 4,
 "nbformat_minor": 5
}
