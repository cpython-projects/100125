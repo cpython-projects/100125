{
 "cells": [
  {
   "cell_type": "code",
   "execution_count": 2,
   "id": "b58ca437-2a60-46dc-82ec-a393df5e4672",
   "metadata": {},
   "outputs": [],
   "source": [
    "x = [\n",
    "    [1, 2, 3],\n",
    "    [4, 5, 6],\n",
    "    [7, 8, 9]\n",
    "]"
   ]
  },
  {
   "cell_type": "markdown",
   "id": "649b67c0-6dbc-4b0a-941d-9036477db843",
   "metadata": {},
   "source": [
    "### Ref copy"
   ]
  },
  {
   "cell_type": "code",
   "execution_count": 3,
   "id": "327d7bb3-6ec0-4fa4-841c-0e5d622c17b2",
   "metadata": {},
   "outputs": [
    {
     "name": "stdout",
     "output_type": "stream",
     "text": [
      "[[100, 2, 3], [4, 5, 6], [7, 8, 9]]\n"
     ]
    }
   ],
   "source": [
    "y = x\n",
    "y[0][0] = 100\n",
    "\n",
    "print(x)"
   ]
  },
  {
   "cell_type": "markdown",
   "id": "4778106f-76cd-4f8a-9082-b54b7769a603",
   "metadata": {},
   "source": [
    "### View copy"
   ]
  },
  {
   "cell_type": "code",
   "execution_count": 4,
   "id": "130158b0-04a7-4e68-9313-9414e1c40b99",
   "metadata": {},
   "outputs": [
    {
     "name": "stdout",
     "output_type": "stream",
     "text": [
      "[[1, 2, 3], [4, 5, 6], [7, 8, 9]]\n",
      "[100, [4, 5, 6], [7, 8, 9]]\n"
     ]
    }
   ],
   "source": [
    "x = [\n",
    "    [1, 2, 3],\n",
    "    [4, 5, 6],\n",
    "    [7, 8, 9]\n",
    "]\n",
    "\n",
    "y = x[:]\n",
    "y[0] = 100\n",
    "print(x)\n",
    "print(y)\n"
   ]
  },
  {
   "cell_type": "code",
   "execution_count": 5,
   "id": "7e0ff2f3-dcd4-4d16-98e8-651d6831cf04",
   "metadata": {},
   "outputs": [
    {
     "name": "stdout",
     "output_type": "stream",
     "text": [
      "[[1, 2, 3], [200, 5, 6], [7, 8, 9]]\n",
      "[100, [200, 5, 6], [7, 8, 9]]\n"
     ]
    }
   ],
   "source": [
    "y[1][0] = 200\n",
    "print(x)\n",
    "print(y)"
   ]
  },
  {
   "cell_type": "code",
   "execution_count": 6,
   "id": "6c32e1d4-a19f-46c8-ae87-b4fcb51c6d9d",
   "metadata": {},
   "outputs": [
    {
     "name": "stdout",
     "output_type": "stream",
     "text": [
      "[1, 2, 3, 4, 5]\n",
      "[10, 2, 3, 4, 5]\n"
     ]
    }
   ],
   "source": [
    "x = [1, 2, 3, 4, 5]\n",
    "\n",
    "y = x[:]\n",
    "\n",
    "y[0] = 10\n",
    "\n",
    "print(x)\n",
    "print(y)"
   ]
  },
  {
   "cell_type": "code",
   "execution_count": 7,
   "id": "be6f921a-cbd3-4ac2-bd0f-c5f5e08ea6c3",
   "metadata": {},
   "outputs": [],
   "source": [
    "x = [1, 2, 3, 4]\n",
    "# Var 1\n",
    "y = x[:]\n",
    "\n",
    "# Var 2\n",
    "y = x.copy()"
   ]
  },
  {
   "cell_type": "markdown",
   "id": "ad44fff8-6966-4fef-b31e-01194b387183",
   "metadata": {},
   "source": [
    "### Deep copy"
   ]
  },
  {
   "cell_type": "code",
   "execution_count": 10,
   "id": "c3bdd46a-d9b3-4bd9-ad78-9df197fca060",
   "metadata": {},
   "outputs": [
    {
     "name": "stdout",
     "output_type": "stream",
     "text": [
      "[[100, 2, 3], [4, 5, 6], [7, 8, 9]]\n",
      "[[1000, 2, 3], [4, 5, 6], [7, 8, 9]]\n"
     ]
    }
   ],
   "source": [
    "import copy\n",
    "\n",
    "x = [\n",
    "    [1, 2, 3],\n",
    "    [4, 5, 6],\n",
    "    [7, 8, 9]\n",
    "]\n",
    "\n",
    "y = copy.deepcopy(x)\n",
    "\n",
    "y[0][0] = 100\n",
    "x[0][0] = 1000\n",
    "print(y)\n",
    "print(x)\n",
    "\n"
   ]
  },
  {
   "cell_type": "code",
   "execution_count": 11,
   "id": "2e5fbe06-abb0-4b65-a67d-9aafc1aa3309",
   "metadata": {},
   "outputs": [
    {
     "name": "stdout",
     "output_type": "stream",
     "text": [
      "[100, 200, 300, 300]\n",
      "[60.0, 120.0, 180.0, 180.0]\n"
     ]
    }
   ],
   "source": [
    "salaries = [100, 200, 300, 300]\n",
    "\n",
    "x = salaries[:]\n",
    "for i, item in enumerate(x):\n",
    "    x[i] = item * 0.6\n",
    "\n",
    "\n",
    "print(salaries)\n",
    "print(x)"
   ]
  },
  {
   "cell_type": "code",
   "execution_count": 14,
   "id": "ed1ca62d-6895-4b13-89a0-7c30edbec616",
   "metadata": {},
   "outputs": [
    {
     "name": "stdout",
     "output_type": "stream",
     "text": [
      "[['Name 1', 20, 180.0], ['Name 2', 30, 120.0], ['Name 3', 40, 60.0]]\n",
      "[['Name 1', 20, 300], ['Name 2', 30, 200], ['Name 3', 40, 100]]\n"
     ]
    }
   ],
   "source": [
    "users = [\n",
    "    ['Name 1', 20, 300],\n",
    "    ['Name 2', 30, 200],\n",
    "    ['Name 3', 40, 100],\n",
    "]\n",
    "\n",
    "# x = users[:]\n",
    "import copy\n",
    "x = copy.deepcopy(users)\n",
    "\n",
    "for i, item in enumerate(users):\n",
    "    _, _, salary = item\n",
    "    x[i][2] = salary * 0.6\n",
    "\n",
    "\n",
    "print(x)\n",
    "print(users)"
   ]
  },
  {
   "cell_type": "markdown",
   "id": "110ca7b5-c4aa-4e47-a633-6d64ef9fd5ee",
   "metadata": {},
   "source": [
    "### List compr"
   ]
  },
  {
   "cell_type": "code",
   "execution_count": 15,
   "id": "d372452e-39f5-4a14-82fc-79bb66b32cf3",
   "metadata": {},
   "outputs": [
    {
     "name": "stdout",
     "output_type": "stream",
     "text": [
      "[60.0, 120.0, 180.0, 180.0]\n"
     ]
    }
   ],
   "source": [
    "salaries = [100, 200, 300, 300]\n",
    "\n",
    "salaries_after_taxes = []\n",
    "for item in salaries:\n",
    "    salaries_after_taxes.append(item * 0.6)\n",
    "\n",
    "print(salaries_after_taxes)"
   ]
  },
  {
   "cell_type": "code",
   "execution_count": 18,
   "id": "dcbe02cb-6745-44f7-a843-74e182d2125d",
   "metadata": {},
   "outputs": [
    {
     "name": "stdout",
     "output_type": "stream",
     "text": [
      "[60.0, 120.0, 180.0, 180.0]\n"
     ]
    }
   ],
   "source": [
    "salaries_after_taxes = [item * 0.6 for item in salaries]\n",
    "print(salaries_after_taxes)"
   ]
  },
  {
   "cell_type": "code",
   "execution_count": 19,
   "id": "c145a277-a46f-4915-b8b5-dec1d105a3a1",
   "metadata": {},
   "outputs": [
    {
     "name": "stdout",
     "output_type": "stream",
     "text": [
      "[60.0, 120.0]\n"
     ]
    }
   ],
   "source": [
    "salaries_after_taxes = [salaries[i] * 0.6 for i in range(len(salaries) // 2)]\n",
    "print(salaries_after_taxes)"
   ]
  },
  {
   "cell_type": "code",
   "execution_count": 20,
   "id": "8ed65fe7-fb26-44c3-bd0f-818a0c075fdd",
   "metadata": {},
   "outputs": [
    {
     "name": "stdout",
     "output_type": "stream",
     "text": [
      "[1, 9, 25, 49]\n"
     ]
    }
   ],
   "source": [
    "x = [1, 2, 3, 4, 5, 6, 7, 8]\n",
    "\n",
    "y = []\n",
    "\n",
    "for item in x:\n",
    "    if item % 2:\n",
    "        y.append(item ** 2)\n",
    "\n",
    "print(y)"
   ]
  },
  {
   "cell_type": "code",
   "execution_count": 21,
   "id": "f41718ca-3543-4ea2-aa88-29440923be4f",
   "metadata": {},
   "outputs": [
    {
     "name": "stdout",
     "output_type": "stream",
     "text": [
      "[1, 9, 25, 49]\n"
     ]
    }
   ],
   "source": [
    "x = [1, 2, 3, 4, 5, 6, 7, 8]\n",
    "y = [item ** 2 for item in x if item % 2]\n",
    "\n",
    "print(y)"
   ]
  },
  {
   "cell_type": "code",
   "execution_count": 22,
   "id": "7c4e7a5d-bc15-4824-ad5f-2396869d8574",
   "metadata": {},
   "outputs": [
    {
     "name": "stdout",
     "output_type": "stream",
     "text": [
      "[35, 7, 11, 56, 41, 46, 92, 79, 95, 51, 68, 73, 31, 95, 49, 83, 86, 86, 79, 100]\n"
     ]
    }
   ],
   "source": [
    "import random\n",
    "\n",
    "x = []\n",
    "for _ in range(20):\n",
    "    x.append(random.randint(1, 100))\n",
    "\n",
    "print(x)"
   ]
  },
  {
   "cell_type": "code",
   "execution_count": 23,
   "id": "356d65ec-c2ff-4fdb-9ce7-34ee7f39dd9b",
   "metadata": {},
   "outputs": [
    {
     "name": "stdout",
     "output_type": "stream",
     "text": [
      "[14, 17, 57, 98, 93, 90, 43, 10, 13, 33, 51, 57, 77, 55, 3, 15, 27, 81, 59, 72]\n"
     ]
    }
   ],
   "source": [
    "import random\n",
    "x = [random.randint(1, 100) for _ in range(20)]\n",
    "print(x)"
   ]
  },
  {
   "cell_type": "code",
   "execution_count": 26,
   "id": "550f9262-6296-4148-b9f2-acd0f412da74",
   "metadata": {},
   "outputs": [
    {
     "name": "stdout",
     "output_type": "stream",
     "text": [
      "['HELLO', 'WORLD', 'PYTHON']\n"
     ]
    }
   ],
   "source": [
    "words = [\"hello\", \"world\", \"python\"]\n",
    "words = [item.upper() for item in words]\n",
    "print(words)"
   ]
  },
  {
   "cell_type": "code",
   "execution_count": 27,
   "id": "7190eb35-b076-45ae-a34a-a8247c56e8b0",
   "metadata": {},
   "outputs": [
    {
     "name": "stdout",
     "output_type": "stream",
     "text": [
      "['apple', 'banana', 'date']\n"
     ]
    }
   ],
   "source": [
    "words = [\"apple\", \"banana\", \"cherry\", \"date\"]\n",
    "words = [item for item in words if 'a' in item]\n",
    "print(words)"
   ]
  },
  {
   "cell_type": "code",
   "execution_count": 32,
   "id": "2d34c4a1-f0fd-4b3c-b370-b1e4345eceb9",
   "metadata": {},
   "outputs": [
    {
     "name": "stdout",
     "output_type": "stream",
     "text": [
      "[1, 4, 27, 16, 125, 36, 343]\n",
      "[1, 4, 27, 16, 125, 36, 343]\n"
     ]
    }
   ],
   "source": [
    "x = [1, 2, 3, 4, 5, 6, 7]\n",
    "\n",
    "# if n is even -> n ** 2\n",
    "# if n is odd -> n ** 3\n",
    "\n",
    "y = []\n",
    "for n in x:\n",
    "    y.append(n ** 3 if n % 2 else n ** 2)\n",
    "print(y)\n",
    "\n",
    "y = [n ** 3 if n % 2 else n ** 2 for n in x]\n",
    "print(y)"
   ]
  },
  {
   "cell_type": "code",
   "execution_count": 31,
   "id": "54d866e9-3628-4e0e-8587-835af18cc9cc",
   "metadata": {},
   "outputs": [
    {
     "name": "stdout",
     "output_type": "stream",
     "text": [
      "['*H*', '*e*', '*l*', '*l*', '*o*']\n"
     ]
    }
   ],
   "source": [
    "x = 'Hello'\n",
    "\n",
    "y = [f'*{item}*' for item in x]\n",
    "\n",
    "print(y)"
   ]
  },
  {
   "cell_type": "code",
   "execution_count": 34,
   "id": "fca552d5-e11a-4ec6-bc6f-846363f22071",
   "metadata": {},
   "outputs": [
    {
     "name": "stdout",
     "output_type": "stream",
     "text": [
      "[2, -1, -1, 4, -1, -1, -1, 8]\n"
     ]
    }
   ],
   "source": [
    "numbers = [2, 7, 5, 4, 1, 1, 7, 8]\n",
    "y = [n if n % 2 == 0 else -1 for n in numbers]\n",
    "print(y)"
   ]
  },
  {
   "cell_type": "code",
   "execution_count": 37,
   "id": "20926ba5-99f4-4bd8-841d-ad742e8ec3d8",
   "metadata": {},
   "outputs": [
    {
     "name": "stdout",
     "output_type": "stream",
     "text": [
      "['CAT', 'elephant', 'DOG', 'bird']\n"
     ]
    }
   ],
   "source": [
    "words = [\"cat\", \"elephant\", \"dog\", \"bird\"]\n",
    "words = [item.upper() if len(item) <= 3 else item for item in words]\n",
    "print(words)"
   ]
  },
  {
   "cell_type": "code",
   "execution_count": 38,
   "id": "1f03e15f-cbc4-4821-b57d-e30aaa64c9e3",
   "metadata": {},
   "outputs": [
    {
     "name": "stdout",
     "output_type": "stream",
     "text": [
      "['elephant', 'bird']\n"
     ]
    }
   ],
   "source": [
    "words = [\"cat\", \"elephant\", \"dog\", \"bird\"]\n",
    "words = [item for item in words if len(item) > 3]\n",
    "print(words)"
   ]
  },
  {
   "cell_type": "code",
   "execution_count": 39,
   "id": "ebd59342-6bc9-46de-acf8-ef756796868f",
   "metadata": {},
   "outputs": [
    {
     "name": "stdout",
     "output_type": "stream",
     "text": [
      "['short', 'medium', 'banana', 'medium', 'blueberry', 'short']\n"
     ]
    }
   ],
   "source": [
    "words = [\"hi\", \"apple\", \"banana\", \"cat\", \"blueberry\", \"on\"]\n",
    "modified_words = [word if len(word) > 5 else ('medium' if len(word) >= 3 else 'short') for word in words]\n",
    "print(modified_words)"
   ]
  },
  {
   "cell_type": "code",
   "execution_count": 40,
   "id": "5144eeb5-b6ce-4783-95ac-f76aa927867d",
   "metadata": {},
   "outputs": [
    {
     "name": "stdout",
     "output_type": "stream",
     "text": [
      "[(0, 0), (0, 1), (1, 0), (1, 1), (2, 0), (2, 1)]\n"
     ]
    }
   ],
   "source": [
    "pairs = [(x, y) for x in range(3) for y in range(2)]\n",
    "print(pairs)"
   ]
  },
  {
   "cell_type": "code",
   "execution_count": 43,
   "id": "7e4cd718-b180-4a0f-9671-eb2d95e09e99",
   "metadata": {},
   "outputs": [
    {
     "name": "stdout",
     "output_type": "stream",
     "text": [
      "[0, 0, 0, 0, 0, 0, 0, 0, 0]\n",
      "[0, 0, 0, 0, 0, 0, 0, 0, 0]\n",
      "[0, 0, 0, 0, 0, 0, 0, 0, 0]\n",
      "[0, 0, 0, 0, 0, 0, 0, 0, 0]\n",
      "[0, 0, 0, 0, 0, 0, 0, 0, 0]\n",
      "[0, 0, 0, 0, 0, 0, 0, 0, 0]\n",
      "[0, 0, 0, 0, 0, 0, 0, 0, 0]\n",
      "[0, 0, 0, 0, 0, 0, 0, 0, 0]\n",
      "[0, 0, 0, 0, 0, 0, 0, 0, 0]\n"
     ]
    }
   ],
   "source": [
    "x = [[0] * 9 for i in range(9)]\n",
    "print(*x, sep='\\n')"
   ]
  },
  {
   "cell_type": "code",
   "execution_count": 44,
   "id": "08c8d810-4f0a-4bb8-b9eb-f7bc7557a14d",
   "metadata": {},
   "outputs": [
    {
     "name": "stdout",
     "output_type": "stream",
     "text": [
      "[1, 2, 3, 4, 5, 6, 7, 8, 9]\n"
     ]
    }
   ],
   "source": [
    "matrix = [[1, 2, 3], [4, 5, 6], [7, 8, 9]]\n",
    "flattened = [num for row in matrix for num in row]\n",
    "print(flattened)"
   ]
  },
  {
   "cell_type": "code",
   "execution_count": 46,
   "id": "b6470073-ba03-419b-a7c1-929ecf9db879",
   "metadata": {},
   "outputs": [
    {
     "name": "stdout",
     "output_type": "stream",
     "text": [
      "apple: $10 x 1 = $10\n",
      "orange: $11 x 2 = $22\n",
      "banana: $12 x 3 = $36\n"
     ]
    }
   ],
   "source": [
    "products   = ['apple', 'orange', 'banana']\n",
    "prices     = [10, 11, 12]\n",
    "quantities = [1, 2, 3]\n",
    "\n",
    "for i in range(len(products)):\n",
    "    print(f'{products[i]}: ${prices[i]} x {quantities[i]} = ${prices[i] * quantities[i]}')"
   ]
  },
  {
   "cell_type": "code",
   "execution_count": 50,
   "id": "d5ceb1c2-41fe-4450-97d4-a232075b6cd5",
   "metadata": {},
   "outputs": [
    {
     "name": "stdout",
     "output_type": "stream",
     "text": [
      "apple: $10 x 1 = $10\n",
      "orange: $11 x 2 = $22\n",
      "banana: $12 x 3 = $36\n"
     ]
    }
   ],
   "source": [
    "products   = ['apple', 'orange', 'banana']\n",
    "prices     = [10, 11, 12]\n",
    "quantities = [1, 2, 3]\n",
    "\n",
    "for product, price, q in zip(products, prices, quantities):\n",
    "    print(f'{product}: ${price} x {q} = ${price * q}')"
   ]
  },
  {
   "cell_type": "code",
   "execution_count": 51,
   "id": "c8480d92-5499-4908-9720-9f6b46d9d7f0",
   "metadata": {},
   "outputs": [
    {
     "data": {
      "text/plain": [
       "[('apple', 10, 1), ('orange', 11, 2), ('banana', 12, 3)]"
      ]
     },
     "execution_count": 51,
     "metadata": {},
     "output_type": "execute_result"
    }
   ],
   "source": [
    "list(zip(products, prices, quantities))"
   ]
  },
  {
   "cell_type": "code",
   "execution_count": 52,
   "id": "495cdd71-1849-4d14-905c-8ff8b9db0a29",
   "metadata": {},
   "outputs": [
    {
     "name": "stdout",
     "output_type": "stream",
     "text": [
      "('apple', 10, 1)\n",
      "('orange', 11, 2)\n",
      "('banana', 12, 3)\n"
     ]
    }
   ],
   "source": [
    "print(*zip(products, prices, quantities), sep='\\n')"
   ]
  },
  {
   "cell_type": "code",
   "execution_count": 53,
   "id": "74e996e2-ddfd-4cc5-90d6-eebf998f20ac",
   "metadata": {},
   "outputs": [
    {
     "name": "stdout",
     "output_type": "stream",
     "text": [
      "(1, 'a') (2, 'b')\n"
     ]
    }
   ],
   "source": [
    "x = [1, 2, 3, 4]\n",
    "y = ['a', 'b']\n",
    "\n",
    "print(*zip(x, y))"
   ]
  },
  {
   "cell_type": "code",
   "execution_count": 55,
   "id": "dd308697-c532-419d-ab7d-19ada431c4a3",
   "metadata": {},
   "outputs": [
    {
     "name": "stdout",
     "output_type": "stream",
     "text": [
      "(3, 'a') (4, 'b')\n"
     ]
    }
   ],
   "source": [
    "print(*zip(x[2:], y))"
   ]
  },
  {
   "cell_type": "code",
   "execution_count": 56,
   "id": "aaa75115-bf24-4f03-b50f-9acd35905eac",
   "metadata": {},
   "outputs": [
    {
     "name": "stdout",
     "output_type": "stream",
     "text": [
      "(None, 2) (1, 3) (2, 4) (3, 5) (None, 6)\n"
     ]
    }
   ],
   "source": [
    "x = [None, 1, 2, 3, None]\n",
    "y = [2, 3, 4, 5, 6, 7, 8, 9]\n",
    "\n",
    "print(*zip(x, y))"
   ]
  },
  {
   "cell_type": "code",
   "execution_count": null,
   "id": "81819f08-914a-4efe-8b29-e09b91ff3255",
   "metadata": {},
   "outputs": [],
   "source": []
  }
 ],
 "metadata": {
  "kernelspec": {
   "display_name": "Python 3 (ipykernel)",
   "language": "python",
   "name": "python3"
  },
  "language_info": {
   "codemirror_mode": {
    "name": "ipython",
    "version": 3
   },
   "file_extension": ".py",
   "mimetype": "text/x-python",
   "name": "python",
   "nbconvert_exporter": "python",
   "pygments_lexer": "ipython3",
   "version": "3.12.4"
  }
 },
 "nbformat": 4,
 "nbformat_minor": 5
}
