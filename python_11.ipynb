{
 "cells": [
  {
   "cell_type": "code",
   "execution_count": 4,
   "id": "3fc6e6ff-7727-4056-9aac-27aba3cc12ab",
   "metadata": {},
   "outputs": [
    {
     "name": "stdin",
     "output_type": "stream",
     "text": [
      "name>> \n"
     ]
    },
    {
     "name": "stdout",
     "output_type": "stream",
     "text": [
      "No name\n"
     ]
    }
   ],
   "source": [
    "name = input('name>>')\n",
    "\n",
    "if name:\n",
    "    name = name.upper()\n",
    "else:\n",
    "    name = 'No name'\n",
    "\n",
    "print(name)"
   ]
  },
  {
   "cell_type": "code",
   "execution_count": 6,
   "id": "b900b5f6-42c7-48e4-bd14-0ba98c73b438",
   "metadata": {},
   "outputs": [
    {
     "name": "stdin",
     "output_type": "stream",
     "text": [
      "name>> \n"
     ]
    },
    {
     "name": "stdout",
     "output_type": "stream",
     "text": [
      "No name\n"
     ]
    }
   ],
   "source": [
    "name = input('name>>')\n",
    "\n",
    "name = name.upper() if name else 'No name'\n",
    "print(name)"
   ]
  },
  {
   "cell_type": "code",
   "execution_count": 7,
   "id": "922a8bcd-d04d-4cfe-b27c-a69610554b83",
   "metadata": {},
   "outputs": [
    {
     "name": "stdin",
     "output_type": "stream",
     "text": [
      "name>> Oleh\n"
     ]
    },
    {
     "name": "stdout",
     "output_type": "stream",
     "text": [
      "OLEH\n"
     ]
    }
   ],
   "source": [
    "name = input('name>>')\n",
    "\n",
    "name = name.upper() or 'No name'\n",
    "print(name)"
   ]
  },
  {
   "cell_type": "code",
   "execution_count": 8,
   "id": "65a43b11-14c0-4ab0-881d-c056af7eab0d",
   "metadata": {},
   "outputs": [
    {
     "name": "stdin",
     "output_type": "stream",
     "text": [
      "x>> 4\n",
      "y 5\n"
     ]
    },
    {
     "name": "stdout",
     "output_type": "stream",
     "text": [
      "(4, 5)\n"
     ]
    }
   ],
   "source": [
    "point = int(input('x>>')), int(input('y>>'))\n",
    "print(point)"
   ]
  },
  {
   "cell_type": "code",
   "execution_count": 21,
   "id": "1dd8c802-8756-4680-a30d-e2e4204f6bc9",
   "metadata": {},
   "outputs": [
    {
     "name": "stdin",
     "output_type": "stream",
     "text": [
      "x>> 4\n",
      "y>> 5\n"
     ]
    },
    {
     "name": "stdout",
     "output_type": "stream",
     "text": [
      "X= 4 Y= 5\n"
     ]
    }
   ],
   "source": [
    "point = int(input('x>>')), int(input('y>>'))\n",
    "# if point[0] == 0 and point[1] == 0:\n",
    "#     print('Origin')\n",
    "# elif point[0] == 0:\n",
    "#     print('Y=', point[1])\n",
    "# elif point[1] == 0:\n",
    "#     print('X=', point[0])\n",
    "# else:\n",
    "#     print('X=', point[0], 'Y=', point[1])\n",
    "\n",
    "\n",
    "match point:\n",
    "    case (0, 0):\n",
    "        print('Origin')\n",
    "    case (0, y):\n",
    "        print('Y=', y)\n",
    "    case (x, 0):\n",
    "        print('X=', x)\n",
    "    case (x, y):\n",
    "        print('X=', x, 'Y=', y)"
   ]
  },
  {
   "cell_type": "code",
   "execution_count": 24,
   "id": "f1eb60a7-bab9-49e6-a144-cd04ea6c7435",
   "metadata": {},
   "outputs": [
    {
     "name": "stdin",
     "output_type": "stream",
     "text": [
      "x= 35\n"
     ]
    },
    {
     "name": "stdout",
     "output_type": "stream",
     "text": [
      "Odd\n"
     ]
    }
   ],
   "source": [
    "x = int(input('x='))\n",
    "\n",
    "if x % 2:\n",
    "    print('Odd')\n",
    "else:\n",
    "    print('Even')"
   ]
  },
  {
   "cell_type": "code",
   "execution_count": 25,
   "id": "e21a2681-fb37-4235-ba61-dbfb6593b225",
   "metadata": {},
   "outputs": [
    {
     "name": "stdout",
     "output_type": "stream",
     "text": [
      "False\n"
     ]
    }
   ],
   "source": [
    "x = 0.1\n",
    "print(x + x + x == 0.3)"
   ]
  },
  {
   "cell_type": "code",
   "execution_count": 26,
   "id": "e76ca97b-a9d7-455d-bc93-0af0fdecd451",
   "metadata": {},
   "outputs": [
    {
     "data": {
      "text/plain": [
       "0.30000000000000004"
      ]
     },
     "execution_count": 26,
     "metadata": {},
     "output_type": "execute_result"
    }
   ],
   "source": [
    "x + x + x"
   ]
  },
  {
   "cell_type": "code",
   "execution_count": 29,
   "id": "ac637b1f-a522-44f2-bac9-c37cd3af4247",
   "metadata": {},
   "outputs": [
    {
     "name": "stdout",
     "output_type": "stream",
     "text": [
      "sys.float_info(max=1.7976931348623157e+308, max_exp=1024, max_10_exp=308, min=2.2250738585072014e-308, min_exp=-1021, min_10_exp=-307, dig=15, mant_dig=53, epsilon=2.220446049250313e-16, radix=2, rounds=1)\n"
     ]
    }
   ],
   "source": [
    "import sys\n",
    "print(sys.float_info)"
   ]
  },
  {
   "cell_type": "code",
   "execution_count": 30,
   "id": "cc2e0e6a-58e0-435d-8243-a6de2b78877b",
   "metadata": {},
   "outputs": [
    {
     "name": "stdout",
     "output_type": "stream",
     "text": [
      "True\n"
     ]
    }
   ],
   "source": [
    "print(round(0.1 + 0.1 + 0.1, 2) == 0.3)"
   ]
  },
  {
   "cell_type": "code",
   "execution_count": 31,
   "id": "791ecf38-5cf2-4c14-8e06-4617392ee09c",
   "metadata": {},
   "outputs": [
    {
     "data": {
      "text/plain": [
       "False"
      ]
     },
     "execution_count": 31,
     "metadata": {},
     "output_type": "execute_result"
    }
   ],
   "source": [
    "round(0.1, 1) + round(0.1, 1) + round(0.1, 1) == round(0.3, 1)"
   ]
  },
  {
   "cell_type": "code",
   "execution_count": 34,
   "id": "0e3bcf8d-e642-4f38-abbc-a2c6d08e4168",
   "metadata": {},
   "outputs": [
    {
     "name": "stdout",
     "output_type": "stream",
     "text": [
      "True\n"
     ]
    }
   ],
   "source": [
    "import math\n",
    "\n",
    "print(math.isclose(0.1 + 0.1 + 0.1, 0.3))"
   ]
  },
  {
   "cell_type": "code",
   "execution_count": 35,
   "id": "802ab00e-9980-4936-8095-d317414bca69",
   "metadata": {},
   "outputs": [
    {
     "data": {
      "text/plain": [
       "100000"
      ]
     },
     "execution_count": 35,
     "metadata": {},
     "output_type": "execute_result"
    }
   ],
   "source": [
    "round(99999, -2)"
   ]
  },
  {
   "cell_type": "code",
   "execution_count": 36,
   "id": "15d1e394-d559-41de-875b-f8c3670bfdd3",
   "metadata": {},
   "outputs": [
    {
     "name": "stdout",
     "output_type": "stream",
     "text": [
      "(3602879701896397, 36028797018963968)\n"
     ]
    }
   ],
   "source": [
    "x = 0.1\n",
    "print(x.as_integer_ratio())"
   ]
  },
  {
   "cell_type": "code",
   "execution_count": 37,
   "id": "874562ee-5a95-420e-bb55-93cbb08d868e",
   "metadata": {},
   "outputs": [
    {
     "data": {
      "text/plain": [
       "0.1"
      ]
     },
     "execution_count": 37,
     "metadata": {},
     "output_type": "execute_result"
    }
   ],
   "source": [
    "3602879701896397 / 36028797018963968"
   ]
  },
  {
   "cell_type": "code",
   "execution_count": 41,
   "id": "92162b98-4831-461d-911e-2e0ff41dffe7",
   "metadata": {},
   "outputs": [
    {
     "name": "stdout",
     "output_type": "stream",
     "text": [
      "True\n",
      "<class 'decimal.Decimal'>\n"
     ]
    }
   ],
   "source": [
    "from decimal import Decimal\n",
    "x = Decimal('0.1')\n",
    "y = Decimal('0.3')\n",
    "\n",
    "\n",
    "print(x + x + x == y)\n",
    "res = x + x + x\n",
    "print(type(res))"
   ]
  },
  {
   "cell_type": "code",
   "execution_count": 46,
   "id": "4607906a-b0d2-4b4c-9026-19e81853d419",
   "metadata": {},
   "outputs": [
    {
     "data": {
      "text/plain": [
       "Decimal('7.33')"
      ]
     },
     "execution_count": 46,
     "metadata": {},
     "output_type": "execute_result"
    }
   ],
   "source": [
    "import decimal\n",
    "\n",
    "tolerance = decimal.Decimal('.01')\n",
    "x = decimal.Decimal('7.325')\n",
    "x.quantize(tolerance, rounding=decimal.ROUND_HALF_UP)"
   ]
  },
  {
   "cell_type": "code",
   "execution_count": 47,
   "id": "f95b1998-0c61-48cf-a69b-9c51cfc4ec58",
   "metadata": {},
   "outputs": [
    {
     "name": "stdin",
     "output_type": "stream",
     "text": [
      "a>> 7\n",
      "b>> 5\n",
      "c>> 3\n"
     ]
    },
    {
     "name": "stdout",
     "output_type": "stream",
     "text": [
      "3 5 7\n"
     ]
    }
   ],
   "source": [
    "a, b, c = int(input('a>>')), int(input('b>>')), int(input('c>>'))\n",
    "\n",
    "if a > b:\n",
    "    a, b = b, a\n",
    "if b > c:\n",
    "    b, c = c, b\n",
    "if a > b:\n",
    "    a, b = b, a\n",
    "\n",
    "print(a, b, c)"
   ]
  },
  {
   "cell_type": "code",
   "execution_count": null,
   "id": "2174f8d5-9ee4-484a-8e4d-e5084a2ac1e1",
   "metadata": {},
   "outputs": [],
   "source": []
  }
 ],
 "metadata": {
  "kernelspec": {
   "display_name": "Python 3 (ipykernel)",
   "language": "python",
   "name": "python3"
  },
  "language_info": {
   "codemirror_mode": {
    "name": "ipython",
    "version": 3
   },
   "file_extension": ".py",
   "mimetype": "text/x-python",
   "name": "python",
   "nbconvert_exporter": "python",
   "pygments_lexer": "ipython3",
   "version": "3.12.4"
  }
 },
 "nbformat": 4,
 "nbformat_minor": 5
}
