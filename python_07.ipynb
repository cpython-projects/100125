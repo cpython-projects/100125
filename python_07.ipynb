{
 "cells": [
  {
   "cell_type": "code",
   "execution_count": 2,
   "id": "aa7ec114-b076-4b19-a1c1-f36708614e86",
   "metadata": {},
   "outputs": [
    {
     "name": "stdin",
     "output_type": "stream",
     "text": [
      ">> \n"
     ]
    },
    {
     "name": "stdout",
     "output_type": "stream",
     "text": [
      "False\n"
     ]
    }
   ],
   "source": [
    "x = input('>>')\n",
    "y = bool(x)\n",
    "print(y)"
   ]
  },
  {
   "cell_type": "code",
   "execution_count": 6,
   "id": "595d3a84-b5ee-4a38-877b-e48c8e8b5dd1",
   "metadata": {},
   "outputs": [
    {
     "name": "stdin",
     "output_type": "stream",
     "text": [
      "a>> 123\n"
     ]
    },
    {
     "name": "stdout",
     "output_type": "stream",
     "text": [
      "True\n"
     ]
    }
   ],
   "source": [
    "x = int(input('a>>'))\n",
    "y = bool(x)\n",
    "print(y)"
   ]
  },
  {
   "cell_type": "code",
   "execution_count": 18,
   "id": "f85c8324-6e79-42af-bc66-52cbfbdeaac4",
   "metadata": {},
   "outputs": [
    {
     "name": "stdin",
     "output_type": "stream",
     "text": [
      "a>> 1\n",
      "b>> -2\n"
     ]
    },
    {
     "name": "stdout",
     "output_type": "stream",
     "text": [
      "-1 / 2\n"
     ]
    }
   ],
   "source": [
    "a = int(input('a>>'))\n",
    "b = int(input('b>>'))\n",
    "\n",
    "a * b > 0 or print('- ', end='')\n",
    "a * b < 0 or print(end=' ')\n",
    "\n",
    "print(abs(a), '/', abs(b))"
   ]
  },
  {
   "cell_type": "code",
   "execution_count": 17,
   "id": "bab20fa4-6a59-45da-894f-37fe22b55817",
   "metadata": {},
   "outputs": [
    {
     "name": "stdout",
     "output_type": "stream",
     "text": [
      "Hello-world-123-234***Python\n"
     ]
    }
   ],
   "source": [
    "print('Hello', 'world', 123, 234, sep='-', end='***')\n",
    "print('Python')"
   ]
  },
  {
   "cell_type": "code",
   "execution_count": 19,
   "id": "88cd1367-8249-443e-8a1d-eee969b4cf3b",
   "metadata": {},
   "outputs": [
    {
     "ename": "TypeError",
     "evalue": "'str' object does not support item assignment",
     "output_type": "error",
     "traceback": [
      "\u001b[1;31m---------------------------------------------------------------------------\u001b[0m",
      "\u001b[1;31mTypeError\u001b[0m                                 Traceback (most recent call last)",
      "Cell \u001b[1;32mIn[19], line 2\u001b[0m\n\u001b[0;32m      1\u001b[0m x \u001b[38;5;241m=\u001b[39m \u001b[38;5;124m'\u001b[39m\u001b[38;5;124mHello\u001b[39m\u001b[38;5;124m'\u001b[39m\n\u001b[1;32m----> 2\u001b[0m \u001b[43mx\u001b[49m\u001b[43m[\u001b[49m\u001b[38;5;241;43m0\u001b[39;49m\u001b[43m]\u001b[49m \u001b[38;5;241m=\u001b[39m \u001b[38;5;124m'\u001b[39m\u001b[38;5;124mh\u001b[39m\u001b[38;5;124m'\u001b[39m\n",
      "\u001b[1;31mTypeError\u001b[0m: 'str' object does not support item assignment"
     ]
    }
   ],
   "source": [
    "x = 'Hello'\n",
    "x[0] = 'h'"
   ]
  },
  {
   "cell_type": "code",
   "execution_count": 26,
   "id": "3718348e-a2e7-42c7-88d3-d404d8a58d67",
   "metadata": {},
   "outputs": [
    {
     "name": "stdout",
     "output_type": "stream",
     "text": [
      "2201530837376\n",
      "[1, 100, 3, 4]\n",
      "2201530837376\n"
     ]
    }
   ],
   "source": [
    "x = [1, 2, 3, 4]\n",
    "print(id(x))\n",
    "x[1] = 100\n",
    "print(x)\n",
    "print(id(x))"
   ]
  },
  {
   "cell_type": "code",
   "execution_count": 23,
   "id": "589c172b-faed-4efd-99aa-581c207d156d",
   "metadata": {},
   "outputs": [
    {
     "name": "stdout",
     "output_type": "stream",
     "text": [
      "140711259732536\n",
      "6\n",
      "140711259732568\n"
     ]
    }
   ],
   "source": [
    "x = 5\n",
    "print(id(x))\n",
    "x = x + 1\n",
    "print(x)\n",
    "print(id(x))"
   ]
  },
  {
   "cell_type": "code",
   "execution_count": 24,
   "id": "e5377b69-155b-4601-a9ee-176066f33a8e",
   "metadata": {},
   "outputs": [
    {
     "name": "stdout",
     "output_type": "stream",
     "text": [
      "5\n"
     ]
    }
   ],
   "source": [
    "x = 5\n",
    "x + 1\n",
    "print(x)"
   ]
  },
  {
   "cell_type": "code",
   "execution_count": 25,
   "id": "763a5d53-8388-4267-ab90-6d9fb5f7b103",
   "metadata": {},
   "outputs": [
    {
     "name": "stdout",
     "output_type": "stream",
     "text": [
      "[4, 3, 2, 1]\n"
     ]
    }
   ],
   "source": [
    "x = [1, 2, 3, 4]\n",
    "x.reverse()\n",
    "print(x)"
   ]
  },
  {
   "cell_type": "code",
   "execution_count": 34,
   "id": "9c83ca61-341c-45f7-868d-b7f039119487",
   "metadata": {},
   "outputs": [
    {
     "name": "stdout",
     "output_type": "stream",
     "text": [
      "Oleh.\n"
     ]
    },
    {
     "name": "stdin",
     "output_type": "stream",
     "text": [
      "x>> klfjlejfklejkl\n"
     ]
    },
    {
     "ename": "ValueError",
     "evalue": "invalid literal for int() with base 10: 'klfjlejfklejkl'",
     "output_type": "error",
     "traceback": [
      "\u001b[1;31m---------------------------------------------------------------------------\u001b[0m",
      "\u001b[1;31mValueError\u001b[0m                                Traceback (most recent call last)",
      "Cell \u001b[1;32mIn[34], line 4\u001b[0m\n\u001b[0;32m      2\u001b[0m y \u001b[38;5;241m=\u001b[39m name \u001b[38;5;241m+\u001b[39m \u001b[38;5;124m'\u001b[39m\u001b[38;5;124m.\u001b[39m\u001b[38;5;124m'\u001b[39m\n\u001b[0;32m      3\u001b[0m \u001b[38;5;28mprint\u001b[39m(y)\n\u001b[1;32m----> 4\u001b[0m x \u001b[38;5;241m=\u001b[39m \u001b[38;5;28;43mint\u001b[39;49m\u001b[43m(\u001b[49m\u001b[38;5;28;43minput\u001b[39;49m\u001b[43m(\u001b[49m\u001b[38;5;124;43m'\u001b[39;49m\u001b[38;5;124;43mx>>\u001b[39;49m\u001b[38;5;124;43m'\u001b[39;49m\u001b[43m)\u001b[49m\u001b[43m)\u001b[49m\n",
      "\u001b[1;31mValueError\u001b[0m: invalid literal for int() with base 10: 'klfjlejfklejkl'"
     ]
    }
   ],
   "source": [
    "name = 'Oleh'\n",
    "y = name + '.'\n",
    "print(y)\n",
    "x = int(input('x>>'))"
   ]
  },
  {
   "cell_type": "code",
   "execution_count": 35,
   "id": "d7bab0d1-51c2-4f60-b31d-e45aa22b2460",
   "metadata": {},
   "outputs": [
    {
     "name": "stdin",
     "output_type": "stream",
     "text": [
      "Тебе уже есть 18? (0 - нет, 1 - есть) 0\n"
     ]
    },
    {
     "name": "stdout",
     "output_type": "stream",
     "text": [
      "Ты не можешь водить авто\n"
     ]
    }
   ],
   "source": [
    "ans = input('Тебе уже есть 18? (0 - нет, 1 - есть)')\n",
    "is_adult = bool(int(ans))\n",
    "is_adult or print('Ты не можешь водить авто')"
   ]
  },
  {
   "cell_type": "code",
   "execution_count": 39,
   "id": "ba1bf0a0-50d9-4633-8123-b2f7a215aabe",
   "metadata": {},
   "outputs": [
    {
     "name": "stdout",
     "output_type": "stream",
     "text": [
      "False\n",
      "True\n",
      "False\n",
      "True\n",
      "False\n",
      "True\n"
     ]
    }
   ],
   "source": [
    "x = 5\n",
    "y = 6\n",
    "print(x == y)\n",
    "print(x != y)\n",
    "print(x > y)\n",
    "print(x < y)\n",
    "print(x >= y)\n",
    "print(x <= y)"
   ]
  },
  {
   "cell_type": "code",
   "execution_count": 45,
   "id": "e105cb7f-9d78-4b81-97ac-7c4d69239edf",
   "metadata": {},
   "outputs": [
    {
     "name": "stdin",
     "output_type": "stream",
     "text": [
      "x>> 1234\n"
     ]
    },
    {
     "name": "stdout",
     "output_type": "stream",
     "text": [
      "1234\n"
     ]
    }
   ],
   "source": [
    "number = int(input('x>>'))\n",
    "print(number)"
   ]
  },
  {
   "cell_type": "code",
   "execution_count": 46,
   "id": "6f0e21e8-7fd0-43d7-9a2d-bdeb87d09b5a",
   "metadata": {},
   "outputs": [
    {
     "name": "stdout",
     "output_type": "stream",
     "text": [
      "4 123\n",
      "3 12\n",
      "2 1\n",
      "1 0\n"
     ]
    }
   ],
   "source": [
    "d4 = number % 10\n",
    "number //= 10\n",
    "print(d4, number)\n",
    "\n",
    "d3 = number % 10\n",
    "number //= 10\n",
    "print(d3, number)\n",
    "\n",
    "d2 = number % 10\n",
    "number //= 10\n",
    "print(d2, number)\n",
    "\n",
    "d1 = number % 10\n",
    "number //= 10\n",
    "print(d1, number)"
   ]
  },
  {
   "cell_type": "code",
   "execution_count": 47,
   "id": "8f4e098b-719e-4f4a-9c73-9c9a6214128e",
   "metadata": {},
   "outputs": [
    {
     "name": "stdin",
     "output_type": "stream",
     "text": [
      "a>> 12\n",
      "b>> 23\n"
     ]
    },
    {
     "name": "stdout",
     "output_type": "stream",
     "text": [
      "12-23-276\n"
     ]
    }
   ],
   "source": [
    "a, b = int(input('a>>')), int(input('b>>'))\n",
    "print(a, b, a * b, sep='-')"
   ]
  },
  {
   "cell_type": "code",
   "execution_count": 52,
   "id": "e95f47bc-66c8-4941-b715-cffbc8003a85",
   "metadata": {},
   "outputs": [
    {
     "name": "stdin",
     "output_type": "stream",
     "text": [
      "True/False trUE\n"
     ]
    },
    {
     "name": "stdout",
     "output_type": "stream",
     "text": [
      "True\n"
     ]
    }
   ],
   "source": [
    "x = input('True/False').lower() == 'true'\n",
    "y = input('True/False').lower() == 'true'\n",
    "print(a and y)\n"
   ]
  },
  {
   "cell_type": "code",
   "execution_count": null,
   "id": "5a079746-86cd-4c07-b873-5bd9871b58ee",
   "metadata": {},
   "outputs": [],
   "source": []
  }
 ],
 "metadata": {
  "kernelspec": {
   "display_name": "Python 3 (ipykernel)",
   "language": "python",
   "name": "python3"
  },
  "language_info": {
   "codemirror_mode": {
    "name": "ipython",
    "version": 3
   },
   "file_extension": ".py",
   "mimetype": "text/x-python",
   "name": "python",
   "nbconvert_exporter": "python",
   "pygments_lexer": "ipython3",
   "version": "3.12.4"
  }
 },
 "nbformat": 4,
 "nbformat_minor": 5
}
