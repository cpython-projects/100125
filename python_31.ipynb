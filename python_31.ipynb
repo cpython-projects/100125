{
 "cells": [
  {
   "cell_type": "code",
   "execution_count": 1,
   "id": "d999d1df-8b04-412a-be4d-e262e4900215",
   "metadata": {},
   "outputs": [
    {
     "name": "stdout",
     "output_type": "stream",
     "text": [
      "['site1', 'site2', 'site3']\n"
     ]
    }
   ],
   "source": [
    "history = []\n",
    "\n",
    "history.append('site1')\n",
    "history.append('site2')\n",
    "history.append('site3')\n",
    "\n",
    "print(history)"
   ]
  },
  {
   "cell_type": "code",
   "execution_count": 2,
   "id": "41fbf2a3-90b4-433b-8380-bb575726285c",
   "metadata": {},
   "outputs": [
    {
     "name": "stdout",
     "output_type": "stream",
     "text": [
      "site3\n"
     ]
    }
   ],
   "source": [
    "print(history.pop())"
   ]
  },
  {
   "cell_type": "code",
   "execution_count": 3,
   "id": "b1027367-99e9-4cc5-83b3-b497c6ead4a1",
   "metadata": {},
   "outputs": [
    {
     "name": "stdout",
     "output_type": "stream",
     "text": [
      "site2\n"
     ]
    }
   ],
   "source": [
    "print(history.pop())"
   ]
  },
  {
   "cell_type": "code",
   "execution_count": 4,
   "id": "047f06db-86d1-40fd-9c5f-b4c6d4b70a41",
   "metadata": {},
   "outputs": [
    {
     "name": "stdout",
     "output_type": "stream",
     "text": [
      "site1\n"
     ]
    }
   ],
   "source": [
    "print(history.pop())"
   ]
  },
  {
   "cell_type": "code",
   "execution_count": 5,
   "id": "48154687-f18f-46fc-a789-5bb916e4d317",
   "metadata": {},
   "outputs": [
    {
     "data": {
      "text/plain": [
       "[]"
      ]
     },
     "execution_count": 5,
     "metadata": {},
     "output_type": "execute_result"
    }
   ],
   "source": [
    "history"
   ]
  },
  {
   "cell_type": "code",
   "execution_count": null,
   "id": "fb92d007-f9bd-4efd-8748-f89258117464",
   "metadata": {},
   "outputs": [],
   "source": [
    "text = '([({}()){}])'\n",
    "\n",
    "brackets_left = ('(', '[', '{')\n",
    "\n",
    "stack = []\n",
    "\n",
    "for item in text:\n",
    "    if item in brackets_left:\n",
    "        stack.append(item)\n",
    "    else:\n",
    "        if not stack:\n",
    "            print('Error')\n",
    "            break\n",
    "        tmp = stack.pop()\n",
    "        if item == '(' and tmp == ')':\n",
    "            continue\n",
    "        if item == '[' and tmp == ']':\n",
    "            continue\n",
    "        if item == '{' and tmp == '}':\n",
    "            continue\n",
    "        print('Error')\n",
    "        break"
   ]
  },
  {
   "cell_type": "code",
   "execution_count": 6,
   "id": "17a73590-3cc9-45c4-bb15-621644fe4fa3",
   "metadata": {},
   "outputs": [
    {
     "name": "stdout",
     "output_type": "stream",
     "text": [
      "Error\n"
     ]
    }
   ],
   "source": [
    "text = '([({)()){}])'\n",
    "\n",
    "brackets_left = ('(', '[', '{')\n",
    "brackets_right = (')', ']', '}')\n",
    "\n",
    "stack = []\n",
    "\n",
    "for item in text:\n",
    "    if item in brackets_left:\n",
    "        stack.append(item)\n",
    "    else:\n",
    "        if not stack:\n",
    "            print('Error')\n",
    "            break\n",
    "        tmp = stack.pop()\n",
    "        brackets_left_index = brackets_left.index(tmp)\n",
    "        if item != brackets_right[brackets_left_index]:\n",
    "            print('Error')\n",
    "            break\n",
    "else:\n",
    "    if stack:\n",
    "        print('Error')\n",
    "    else:\n",
    "        print('OK')"
   ]
  },
  {
   "cell_type": "code",
   "execution_count": 8,
   "id": "7ea5573d-1862-40e5-8c65-05fc02c2f51d",
   "metadata": {},
   "outputs": [
    {
     "name": "stdout",
     "output_type": "stream",
     "text": [
      "[1, 2, 3, 4]\n",
      "[5, 4, 3, 2, 1]\n",
      "[5, 6, 7, 8]\n",
      "[9, 10, 11, 12]\n"
     ]
    }
   ],
   "source": [
    "x = [\n",
    "    [1, 2, 3, 4],\n",
    "    [5, 6, 7, 8],\n",
    "    [9, 10, 11, 12]\n",
    "]\n",
    "\n",
    "\n",
    "y = [5, 4, 3, 2, 1]\n",
    "x.insert(1, y)\n",
    "\n",
    "\n",
    "print(*x, sep='\\n')"
   ]
  },
  {
   "cell_type": "code",
   "execution_count": 9,
   "id": "7fab76e6-838b-43b2-9ae3-ea8c9ed4fd53",
   "metadata": {},
   "outputs": [
    {
     "name": "stdout",
     "output_type": "stream",
     "text": [
      "1 2 3 4 5\n"
     ]
    }
   ],
   "source": [
    "x = (1, 2, 3, 4, 5)\n",
    "\n",
    "a, b, c, d, e = x\n",
    "\n",
    "print(a, b, c, d, e)"
   ]
  },
  {
   "cell_type": "code",
   "execution_count": 10,
   "id": "9fc53fda-bae2-418b-9ee7-a8d1fc09efc8",
   "metadata": {},
   "outputs": [
    {
     "name": "stdout",
     "output_type": "stream",
     "text": [
      "1\n",
      "2\n",
      "[3, 4, 5]\n"
     ]
    }
   ],
   "source": [
    "x = (1, 2, 3, 4, 5)\n",
    "\n",
    "a, b, *_ = x\n",
    "\n",
    "print(a)\n",
    "print(b)\n",
    "print(_)"
   ]
  },
  {
   "cell_type": "markdown",
   "id": "08425828-bf9a-4596-86ed-3c4da3147999",
   "metadata": {},
   "source": [
    "### Очередь"
   ]
  },
  {
   "cell_type": "code",
   "execution_count": 11,
   "id": "efda5b6e-46b2-4ddc-b372-b867b88812ee",
   "metadata": {},
   "outputs": [
    {
     "name": "stdout",
     "output_type": "stream",
     "text": [
      "['user1', 'user2', 'user3', 'user4']\n"
     ]
    }
   ],
   "source": [
    "users = []\n",
    "\n",
    "users.append('user1')\n",
    "users.append('user2')\n",
    "users.append('user3')\n",
    "users.append('user4')\n",
    "\n",
    "print(users)"
   ]
  },
  {
   "cell_type": "code",
   "execution_count": 12,
   "id": "0c882d1d-8661-4fc8-92c0-a8fee477c76f",
   "metadata": {},
   "outputs": [
    {
     "name": "stdout",
     "output_type": "stream",
     "text": [
      "user1\n",
      "user2\n",
      "user3\n",
      "user4\n"
     ]
    }
   ],
   "source": [
    "print(users.pop(0))\n",
    "print(users.pop(0))\n",
    "print(users.pop(0))\n",
    "print(users.pop(0))"
   ]
  },
  {
   "cell_type": "code",
   "execution_count": 16,
   "id": "47f10804-ac9f-41eb-b786-faa690adb777",
   "metadata": {},
   "outputs": [
    {
     "name": "stdout",
     "output_type": "stream",
     "text": [
      "deque([1, 2, 3, 4])\n",
      "1\n",
      "deque([2, 3, 4])\n",
      "4\n",
      "deque([2, 3])\n"
     ]
    }
   ],
   "source": [
    "from collections import deque\n",
    "\n",
    "x = deque()\n",
    "\n",
    "x.append(1)\n",
    "x.append(2)\n",
    "x.append(3)\n",
    "x.append(4)\n",
    "\n",
    "print(x)\n",
    "\n",
    "print(x.popleft())\n",
    "print(x)\n",
    "\n",
    "print(x.pop())\n",
    "print(x)"
   ]
  },
  {
   "cell_type": "code",
   "execution_count": 19,
   "id": "03ede3d6-b3f4-4256-aca5-4d61c114dc70",
   "metadata": {},
   "outputs": [
    {
     "name": "stdout",
     "output_type": "stream",
     "text": [
      "[1, 2, 3]\n",
      "[2, 3, 4]\n",
      "[3, 4, 5]\n",
      "[4, 5, 6]\n",
      "[5, 6, 7]\n",
      "[6, 7, 8]\n",
      "[7, 8, 9]\n",
      "[8, 9, 1]\n",
      "[9, 1, 2]\n",
      "[1, 2, 3]\n",
      "[2, 3, 4]\n",
      "[3, 4, 5]\n",
      "[4, 5, 6]\n",
      "[5, 6, 7]\n",
      "[6, 7, 8]\n",
      "[7, 8, 9]\n",
      "[8, 9]\n",
      "[9]\n"
     ]
    }
   ],
   "source": [
    "x = [1, 2, 3, 4, 5, 6, 7, 8, 9, 1, 2, 3, 4, 5, 6, 7, 8, 9]\n",
    "\n",
    "while x:\n",
    "    window = x[:3]\n",
    "    print(window)\n",
    "    x.pop(0)"
   ]
  },
  {
   "cell_type": "code",
   "execution_count": null,
   "id": "b6fee6fa-ce0f-4e89-a9cf-946e684af729",
   "metadata": {},
   "outputs": [],
   "source": []
  }
 ],
 "metadata": {
  "kernelspec": {
   "display_name": "Python 3 (ipykernel)",
   "language": "python",
   "name": "python3"
  },
  "language_info": {
   "codemirror_mode": {
    "name": "ipython",
    "version": 3
   },
   "file_extension": ".py",
   "mimetype": "text/x-python",
   "name": "python",
   "nbconvert_exporter": "python",
   "pygments_lexer": "ipython3",
   "version": "3.12.4"
  }
 },
 "nbformat": 4,
 "nbformat_minor": 5
}
