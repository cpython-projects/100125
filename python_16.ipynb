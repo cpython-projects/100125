{
 "cells": [
  {
   "cell_type": "code",
   "execution_count": null,
   "id": "041fddec-b153-4e55-9a28-1c2671428569",
   "metadata": {},
   "outputs": [],
   "source": [
    "x = input('text')\n",
    "\n",
    "for item in x:\n",
    "    print(item)\n",
    "\n",
    "\n",
    "i = 0\n",
    "while i < len(x):\n",
    "    print(x[i])\n",
    "    i += 1"
   ]
  },
  {
   "cell_type": "code",
   "execution_count": 1,
   "id": "a3c3e845-d9a5-4c9a-adcb-4d1b5af6d944",
   "metadata": {},
   "outputs": [
    {
     "name": "stdout",
     "output_type": "stream",
     "text": [
      "0\n",
      "1\n",
      "2\n",
      "3\n",
      "4\n"
     ]
    }
   ],
   "source": [
    "for i in range(5):\n",
    "    print(i)"
   ]
  },
  {
   "cell_type": "code",
   "execution_count": 2,
   "id": "3c274bcb-8a0b-4a6c-a9f7-444c40ecef59",
   "metadata": {},
   "outputs": [
    {
     "name": "stdout",
     "output_type": "stream",
     "text": [
      "H\n",
      "e\n",
      "l\n",
      "l\n",
      "o\n"
     ]
    }
   ],
   "source": [
    "x = 'Hello'\n",
    "i = 0\n",
    "while i < len(x):\n",
    "    print(x[i])\n",
    "    i += 1"
   ]
  },
  {
   "cell_type": "code",
   "execution_count": 6,
   "id": "d7038968-e3d3-4d5c-94ca-8f4da014f366",
   "metadata": {},
   "outputs": [
    {
     "name": "stdout",
     "output_type": "stream",
     "text": [
      "H P\n",
      "e y\n",
      "l t\n",
      "l h\n",
      "o o\n"
     ]
    }
   ],
   "source": [
    "x = 'Hello'\n",
    "y = 'Python'\n",
    "for i in range(min(len(x), len(y))):\n",
    "    print(x[i], y[i])"
   ]
  },
  {
   "cell_type": "code",
   "execution_count": 4,
   "id": "52e7728b-64f3-4249-afb9-d285c3ea4134",
   "metadata": {},
   "outputs": [
    {
     "name": "stdout",
     "output_type": "stream",
     "text": [
      "H\n",
      "e\n",
      "l\n",
      "l\n",
      "o\n"
     ]
    }
   ],
   "source": [
    "x = 'Hello'\n",
    "for item in x:\n",
    "    print(item)"
   ]
  },
  {
   "cell_type": "code",
   "execution_count": 7,
   "id": "bc5e42a6-a34b-4d6c-87f6-08016fe541f4",
   "metadata": {},
   "outputs": [
    {
     "name": "stdout",
     "output_type": "stream",
     "text": [
      "2\n",
      "3\n",
      "4\n",
      "5\n",
      "6\n",
      "7\n",
      "8\n"
     ]
    }
   ],
   "source": [
    "for i in range(2, 9):\n",
    "    print(i)"
   ]
  },
  {
   "cell_type": "code",
   "execution_count": 8,
   "id": "8c83b9f6-ae7a-425e-ac1a-2c92634ef755",
   "metadata": {},
   "outputs": [
    {
     "name": "stdout",
     "output_type": "stream",
     "text": [
      "2\n",
      "5\n",
      "8\n",
      "11\n",
      "14\n",
      "17\n"
     ]
    }
   ],
   "source": [
    "for i in range(2, 20, 3):\n",
    "    print(i)"
   ]
  },
  {
   "cell_type": "code",
   "execution_count": 9,
   "id": "1f0da6b2-fcb8-434d-ae35-1849e481ce70",
   "metadata": {},
   "outputs": [
    {
     "name": "stdout",
     "output_type": "stream",
     "text": [
      "P\n",
      "y\n",
      "t\n",
      "h\n",
      "o\n",
      "n\n"
     ]
    }
   ],
   "source": [
    "for item in 'Python':\n",
    "    print(item)"
   ]
  },
  {
   "cell_type": "code",
   "execution_count": 11,
   "id": "8077a3cf-1d06-4d81-9069-544de5c4253e",
   "metadata": {},
   "outputs": [
    {
     "name": "stdin",
     "output_type": "stream",
     "text": [
      "number>> 3\n"
     ]
    },
    {
     "name": "stdout",
     "output_type": "stream",
     "text": [
      "9\n"
     ]
    },
    {
     "name": "stdin",
     "output_type": "stream",
     "text": [
      "number>> 4\n"
     ]
    },
    {
     "name": "stdout",
     "output_type": "stream",
     "text": [
      "16\n"
     ]
    },
    {
     "name": "stdin",
     "output_type": "stream",
     "text": [
      "number>> 5\n"
     ]
    },
    {
     "name": "stdout",
     "output_type": "stream",
     "text": [
      "25\n"
     ]
    },
    {
     "name": "stdin",
     "output_type": "stream",
     "text": [
      "number>> 6\n"
     ]
    },
    {
     "name": "stdout",
     "output_type": "stream",
     "text": [
      "36\n"
     ]
    },
    {
     "name": "stdin",
     "output_type": "stream",
     "text": [
      "number>> 7\n"
     ]
    },
    {
     "name": "stdout",
     "output_type": "stream",
     "text": [
      "49\n"
     ]
    }
   ],
   "source": [
    "for i in range(5):\n",
    "    x = int(input('number>>'))\n",
    "    print(x ** 2)"
   ]
  },
  {
   "cell_type": "code",
   "execution_count": 14,
   "id": "3abb9b89-5caf-45eb-a737-cf18bd0a1289",
   "metadata": {},
   "outputs": [
    {
     "name": "stdout",
     "output_type": "stream",
     "text": [
      "0 2 4 6 8 10 12 14 16 18 20 "
     ]
    }
   ],
   "source": [
    "for i in range(0, 21, 2):\n",
    "    print(i, end=' ')"
   ]
  },
  {
   "cell_type": "code",
   "execution_count": 15,
   "id": "fe653450-d359-454f-9f73-5515a6db2696",
   "metadata": {},
   "outputs": [
    {
     "name": "stdout",
     "output_type": "stream",
     "text": [
      "1 3 5 7 9 11 13 15 17 19 "
     ]
    }
   ],
   "source": [
    "for i in range(1, 21, 2):\n",
    "    print(i, end=' ')"
   ]
  },
  {
   "cell_type": "code",
   "execution_count": 17,
   "id": "161e47d7-1ca2-4585-88ac-09d6d5513917",
   "metadata": {},
   "outputs": [
    {
     "name": "stdout",
     "output_type": "stream",
     "text": [
      "0 3 6 9 12 15 18 "
     ]
    }
   ],
   "source": [
    "for i in range(0, 21, 3):\n",
    "    print(i, end=' ')"
   ]
  },
  {
   "cell_type": "code",
   "execution_count": null,
   "id": "97854b0a-e09a-42ba-af9d-28da6a3f2ffa",
   "metadata": {},
   "outputs": [],
   "source": [
    "text = input('text>>')\n",
    "\n",
    "for item in text:\n",
    "    if item == 'l':\n",
    "        break\n",
    "    print(item)"
   ]
  },
  {
   "cell_type": "code",
   "execution_count": null,
   "id": "d44354f6-f8a7-4424-bde9-dc2c7adf178b",
   "metadata": {},
   "outputs": [],
   "source": [
    "text = input('text>>')\n",
    "\n",
    "for item in text:\n",
    "    if item == 'l':\n",
    "        continue\n",
    "    print(item)"
   ]
  },
  {
   "cell_type": "code",
   "execution_count": null,
   "id": "52124cf3-8a1b-462a-856d-c9fc5916b551",
   "metadata": {},
   "outputs": [],
   "source": [
    "text = input('text>>')\n",
    "\n",
    "for item in text:\n",
    "    if item in 'aeyuo':\n",
    "        continue\n",
    "    print(item, end='')"
   ]
  },
  {
   "cell_type": "code",
   "execution_count": null,
   "id": "7cd7787e-c5c7-4bbd-97a8-ea86ff220e8b",
   "metadata": {},
   "outputs": [],
   "source": [
    "number = int(input(\"Enter a number: \"))\n",
    "\n",
    "for i in range(2, number):\n",
    "    if number % i == 0:\n",
    "        print('Not Prime')\n",
    "        break\n",
    "else:\n",
    "    print('Prime')"
   ]
  },
  {
   "cell_type": "code",
   "execution_count": null,
   "id": "e0c3f687-fa11-4ce0-8e2b-3eb552aa8b25",
   "metadata": {},
   "outputs": [],
   "source": [
    "for i in range(5):\n",
    "    for j in range(5):\n",
    "        print(i, j)"
   ]
  },
  {
   "cell_type": "code",
   "execution_count": null,
   "id": "6535f789-fc56-4891-bbdc-85cae5be082a",
   "metadata": {},
   "outputs": [],
   "source": [
    "for hour in range(24):\n",
    "    for minute in range(60):\n",
    "        print(hour, ':', minute)"
   ]
  },
  {
   "cell_type": "code",
   "execution_count": null,
   "id": "be9dabba-c449-4d6c-ba18-d0455f4361df",
   "metadata": {},
   "outputs": [],
   "source": [
    "current_hours = int(input(\"Введите текущий час: \")) # Текущее время\n",
    "hours = 3\n",
    "end_time = current_hours + hours\n",
    "\n",
    "while current_hours < 24 and current_hours < end_time: # Внешний цикл с использованием while\n",
    "    for minutes in range(0, 60, 10): # Внутренний цикл с использованием for\n",
    "        print(\"Время (часов:минут): \", current_hours, ':', minutes, sep='')\n",
    "    current_hours += 1 # Увеличение значения часов на 1"
   ]
  }
 ],
 "metadata": {
  "kernelspec": {
   "display_name": "Python 3 (ipykernel)",
   "language": "python",
   "name": "python3"
  },
  "language_info": {
   "codemirror_mode": {
    "name": "ipython",
    "version": 3
   },
   "file_extension": ".py",
   "mimetype": "text/x-python",
   "name": "python",
   "nbconvert_exporter": "python",
   "pygments_lexer": "ipython3",
   "version": "3.12.4"
  }
 },
 "nbformat": 4,
 "nbformat_minor": 5
}
