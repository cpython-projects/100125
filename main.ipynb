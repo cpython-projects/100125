{
 "cells": [
  {
   "cell_type": "code",
   "execution_count": 4,
   "id": "7ee3598c-ccdc-47b7-bd20-4799fcca81d9",
   "metadata": {},
   "outputs": [],
   "source": [
    "import db\n",
    "import ui"
   ]
  },
  {
   "cell_type": "code",
   "execution_count": 2,
   "id": "9b810e62-f5ba-4fa1-aaa2-e053ee267c5f",
   "metadata": {},
   "outputs": [
    {
     "name": "stdout",
     "output_type": "stream",
     "text": [
      "Connection Done\n"
     ]
    }
   ],
   "source": [
    "print(db.connection())"
   ]
  },
  {
   "cell_type": "code",
   "execution_count": 3,
   "id": "e6f46e46-72e9-48ab-a131-8b38d3f0af2e",
   "metadata": {},
   "outputs": [
    {
     "name": "stdout",
     "output_type": "stream",
     "text": [
      "Users\n"
     ]
    }
   ],
   "source": [
    "print(db.query_one())"
   ]
  },
  {
   "cell_type": "code",
   "execution_count": 5,
   "id": "ee0c7b15-60a3-4f2a-93d1-759c4229c77a",
   "metadata": {},
   "outputs": [
    {
     "name": "stdin",
     "output_type": "stream",
     "text": [
      "action>> 45678\n"
     ]
    },
    {
     "data": {
      "text/plain": [
       "'45678'"
      ]
     },
     "execution_count": 5,
     "metadata": {},
     "output_type": "execute_result"
    }
   ],
   "source": [
    "ui.get_action()"
   ]
  },
  {
   "cell_type": "code",
   "execution_count": null,
   "id": "8b4a3843-fb15-4c88-8b4b-050ab7d336b3",
   "metadata": {},
   "outputs": [],
   "source": []
  }
 ],
 "metadata": {
  "kernelspec": {
   "display_name": "Python 3 (ipykernel)",
   "language": "python",
   "name": "python3"
  },
  "language_info": {
   "codemirror_mode": {
    "name": "ipython",
    "version": 3
   },
   "file_extension": ".py",
   "mimetype": "text/x-python",
   "name": "python",
   "nbconvert_exporter": "python",
   "pygments_lexer": "ipython3",
   "version": "3.13.3"
  }
 },
 "nbformat": 4,
 "nbformat_minor": 5
}
