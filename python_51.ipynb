{
 "cells": [
  {
   "cell_type": "code",
   "execution_count": 2,
   "id": "597b618b-7cd8-4eec-9c74-fb685d0d767f",
   "metadata": {},
   "outputs": [
    {
     "name": "stdout",
     "output_type": "stream",
     "text": [
      "Файл не найден\n"
     ]
    }
   ],
   "source": [
    "import os\n",
    "\n",
    "def read_data(file_name: str) -> int:\n",
    "    if not isinstance(file_name, str):\n",
    "        raise TypeError('Имя файла должно быть строкой')\n",
    "\n",
    "    if not os.path.exists(file_name):\n",
    "        raise FileNotFoundError('Файл не найден')\n",
    "        \n",
    "    file = open(file_name, 'r')\n",
    "    total = 0\n",
    "    for line in file:\n",
    "        try:\n",
    "            total += int(line)\n",
    "        except ValueError as error:\n",
    "            continue\n",
    "    return total\n",
    "\n",
    "\n",
    "try:\n",
    "    res = read_data('test.txt')\n",
    "except Exception as error:\n",
    "    print(error)"
   ]
  },
  {
   "cell_type": "code",
   "execution_count": 3,
   "id": "4b4764e8-9d61-44dc-9a98-3a0c42de6930",
   "metadata": {},
   "outputs": [
    {
     "name": "stdout",
     "output_type": "stream",
     "text": [
      "Файл не найден\n"
     ]
    }
   ],
   "source": [
    "import os\n",
    "\n",
    "def read_data(file_name: str) -> int:\n",
    "    if not isinstance(file_name, str):\n",
    "        raise TypeError('Имя файла должно быть строкой')\n",
    "\n",
    "    try:    \n",
    "        file = open(file_name, 'r')\n",
    "    except Exception as error:\n",
    "        raise FileNotFoundError('Файл не найден')\n",
    "    else:    \n",
    "        total = 0\n",
    "        for line in file:\n",
    "            try:\n",
    "                total += int(line)\n",
    "            except ValueError as error:               \n",
    "                continue\n",
    "        file.close()\n",
    "    return total\n",
    "\n",
    "\n",
    "try:\n",
    "    res = read_data('test.txt')\n",
    "except Exception as error:\n",
    "    print(error)"
   ]
  },
  {
   "cell_type": "code",
   "execution_count": 11,
   "id": "d48ddaff-92b8-44b1-852d-140cd12c1a13",
   "metadata": {},
   "outputs": [
    {
     "ename": "ValueError",
     "evalue": "В наборе данных некорректные типы",
     "output_type": "error",
     "traceback": [
      "\u001b[31m---------------------------------------------------------------------------\u001b[39m",
      "\u001b[31mValueError\u001b[39m                                Traceback (most recent call last)",
      "\u001b[36mCell\u001b[39m\u001b[36m \u001b[39m\u001b[32mIn[11]\u001b[39m\u001b[32m, line 14\u001b[39m\n\u001b[32m      9\u001b[39m     \u001b[38;5;28;01mreturn\u001b[39;00m data\n\u001b[32m     13\u001b[39m data_prices = [\u001b[32m12\u001b[39m, \u001b[32m34\u001b[39m, \u001b[33m'\u001b[39m\u001b[33m45\u001b[39m\u001b[33m'\u001b[39m, -\u001b[32m23\u001b[39m, \u001b[32m23\u001b[39m, \u001b[32m34\u001b[39m, -\u001b[32m234\u001b[39m, \u001b[32m243\u001b[39m, \u001b[32m454\u001b[39m]\n\u001b[32m---> \u001b[39m\u001b[32m14\u001b[39m prices_tax = \u001b[43mprices_with_taxes\u001b[49m\u001b[43m(\u001b[49m\u001b[43mdata_prices\u001b[49m\u001b[43m[\u001b[49m\u001b[43m:\u001b[49m\u001b[43m]\u001b[49m\u001b[43m)\u001b[49m\n\u001b[32m     16\u001b[39m \u001b[38;5;28mprint\u001b[39m(data_prices)\n\u001b[32m     17\u001b[39m \u001b[38;5;28mprint\u001b[39m(prices_tax)\n",
      "\u001b[36mCell\u001b[39m\u001b[36m \u001b[39m\u001b[32mIn[11]\u001b[39m\u001b[32m, line 3\u001b[39m, in \u001b[36mprices_with_taxes\u001b[39m\u001b[34m(data, rate)\u001b[39m\n\u001b[32m      1\u001b[39m \u001b[38;5;28;01mdef\u001b[39;00m\u001b[38;5;250m \u001b[39m\u001b[34mprices_with_taxes\u001b[39m(data, rate=\u001b[32m0.2\u001b[39m):\n\u001b[32m      2\u001b[39m     \u001b[38;5;28;01mif\u001b[39;00m \u001b[38;5;129;01mnot\u001b[39;00m \u001b[38;5;28mall\u001b[39m(\u001b[38;5;28misinstance\u001b[39m(item, \u001b[38;5;28mint\u001b[39m|\u001b[38;5;28mfloat\u001b[39m) \u001b[38;5;28;01mfor\u001b[39;00m item \u001b[38;5;129;01min\u001b[39;00m data):\n\u001b[32m----> \u001b[39m\u001b[32m3\u001b[39m         \u001b[38;5;28;01mraise\u001b[39;00m \u001b[38;5;167;01mValueError\u001b[39;00m(\u001b[33m'\u001b[39m\u001b[33mВ наборе данных некорректные типы\u001b[39m\u001b[33m'\u001b[39m)\n\u001b[32m      5\u001b[39m     \u001b[38;5;28;01mfor\u001b[39;00m i, item \u001b[38;5;129;01min\u001b[39;00m \u001b[38;5;28menumerate\u001b[39m(data):\n\u001b[32m      6\u001b[39m         \u001b[38;5;28;01mif\u001b[39;00m item <= \u001b[32m0\u001b[39m:\n",
      "\u001b[31mValueError\u001b[39m: В наборе данных некорректные типы"
     ]
    }
   ],
   "source": [
    "def prices_with_taxes(data, rate=0.2):\n",
    "    if not all(isinstance(item, int|float) for item in data):\n",
    "        raise ValueError('В наборе данных некорректные типы')\n",
    "    \n",
    "    for i, item in enumerate(data):\n",
    "        if item <= 0:\n",
    "            raise ValueError('Стоимость не должна быть отрицательной')\n",
    "        data[i] = item * (1 + rate)\n",
    "    return data\n",
    "\n",
    "\n",
    "data_prices = [12, 34, '45', -23, 23, 34, -234, 243, 454]\n",
    "prices_tax = prices_with_taxes(data_prices[:])\n",
    "\n",
    "print(data_prices)\n",
    "print(prices_tax)"
   ]
  },
  {
   "cell_type": "code",
   "execution_count": null,
   "id": "74bcbd39-437e-4fa7-8ef5-3eec39182250",
   "metadata": {},
   "outputs": [],
   "source": [
    "while True:\n",
    "    try:\n",
    "        data = ...\n",
    "        break\n",
    "    except:\n",
    "        ..."
   ]
  },
  {
   "cell_type": "code",
   "execution_count": 17,
   "id": "738c4ff4-81ad-4931-a75b-f814c712099e",
   "metadata": {},
   "outputs": [],
   "source": [
    "import logging\n",
    "logging.root.removeHandler(logging.root.handlers[0])\n",
    "logging.basicConfig(filename=\"app.log\", level=logging.DEBUG)\n",
    "# Вывод различных сообщений\n",
    "logging.debug(\"Отладочное сообщение\")\n",
    "logging.info(\"Информационное сообщение\")\n",
    "logging.warning(\"Предупреждение!\")\n",
    "logging.error(\"Ошибка!\")\n",
    "logging.critical(\"Критическая ошибка!\")"
   ]
  },
  {
   "cell_type": "code",
   "execution_count": 20,
   "id": "4dabca2e-fe30-4e67-9426-42e9a31e8633",
   "metadata": {},
   "outputs": [],
   "source": [
    "import logging\n",
    "logging.root.removeHandler(logging.root.handlers[0])\n",
    "logging.basicConfig(\n",
    "    filename=\"app_salary_1.log\",\n",
    "    format=\"%(asctime)s - %(filename)s - %(lineno)d - %(levelname)s - %(message)s\",\n",
    "    level=logging.DEBUG)\n",
    "\n",
    "data = ['Ivanov', 'Petrov', 'Sydorov']\n",
    "salary = [22, 23, 34]\n",
    "\n",
    "for name, item in zip(data, salary):\n",
    "    logging.info(f'{name}. Начислено: {item}')\n",
    "    "
   ]
  },
  {
   "cell_type": "code",
   "execution_count": null,
   "id": "7211a4a2-b81c-4a62-97d6-87d55fa7a3b7",
   "metadata": {},
   "outputs": [],
   "source": []
  }
 ],
 "metadata": {
  "kernelspec": {
   "display_name": "Python 3 (ipykernel)",
   "language": "python",
   "name": "python3"
  },
  "language_info": {
   "codemirror_mode": {
    "name": "ipython",
    "version": 3
   },
   "file_extension": ".py",
   "mimetype": "text/x-python",
   "name": "python",
   "nbconvert_exporter": "python",
   "pygments_lexer": "ipython3",
   "version": "3.13.2"
  }
 },
 "nbformat": 4,
 "nbformat_minor": 5
}
