{
 "cells": [
  {
   "cell_type": "code",
   "execution_count": 1,
   "id": "fa05c701-dd8b-4230-96d1-70e66b8e0149",
   "metadata": {},
   "outputs": [
    {
     "name": "stdout",
     "output_type": "stream",
     "text": [
      "Requirement already satisfied: requests in c:\\users\\olehs\\appdata\\local\\programs\\python\\python313\\lib\\site-packages (2.32.3)\n",
      "Requirement already satisfied: charset-normalizer<4,>=2 in c:\\users\\olehs\\appdata\\local\\programs\\python\\python313\\lib\\site-packages (from requests) (3.4.1)\n",
      "Requirement already satisfied: idna<4,>=2.5 in c:\\users\\olehs\\appdata\\local\\programs\\python\\python313\\lib\\site-packages (from requests) (3.10)\n",
      "Requirement already satisfied: urllib3<3,>=1.21.1 in c:\\users\\olehs\\appdata\\local\\programs\\python\\python313\\lib\\site-packages (from requests) (2.3.0)\n",
      "Requirement already satisfied: certifi>=2017.4.17 in c:\\users\\olehs\\appdata\\local\\programs\\python\\python313\\lib\\site-packages (from requests) (2025.1.31)\n"
     ]
    },
    {
     "name": "stderr",
     "output_type": "stream",
     "text": [
      "\n",
      "[notice] A new release of pip is available: 25.0.1 -> 25.1.1\n",
      "[notice] To update, run: python.exe -m pip install --upgrade pip\n"
     ]
    }
   ],
   "source": [
    "!pip install requests"
   ]
  },
  {
   "cell_type": "code",
   "execution_count": 23,
   "id": "10db845f-200f-402f-81ed-6770b89070ef",
   "metadata": {},
   "outputs": [
    {
     "name": "stdout",
     "output_type": "stream",
     "text": [
      "Leanne Graham, Sincere@april.biz, Gwenborough, 10-06-1996\n",
      "Ervin Howell, Shanna@melissa.tv, Wisokyburgh, 02-02-1998\n",
      "Clementine Bauch, Nathan@yesenia.net, McKenziehaven, 11-01-1999\n",
      "Patricia Lebsack, Julianne.OConner@kory.org, South Elvis, 24-01-2008\n",
      "Chelsey Dietrich, Lucio_Hettinger@annie.ca, Roscoeview, 13-04-1987\n",
      "Dennis Schulist, Karley_Dach@jasper.info, South Christy, 12-09-1994\n",
      "Kurtis Weissnat, Telly.Hoeger@billy.biz, Howemouth, 13-12-1991\n",
      "Runolfsdottir V, Sherwood@rosamond.me, Aliyaview, 15-11-1984\n",
      "Glenna Reichert, Chaim_McDermott@dana.io, Bartholomebury, 26-11-2008\n",
      "Clementina DuBuque, Rey.Padberg@karina.biz, Lebsackbury, 27-10-2000\n",
      "--------------------\n",
      "Leanne Graham, Sincere@april.biz, Gwenborough, 10-06-1996\n",
      "Ervin Howell, Shanna@melissa.tv, Wisokyburgh, 02-02-1998\n",
      "Clementine Bauch, Nathan@yesenia.net, McKenziehaven, 11-01-1999\n",
      "Chelsey Dietrich, Lucio_Hettinger@annie.ca, Roscoeview, 13-04-1987\n",
      "Dennis Schulist, Karley_Dach@jasper.info, South Christy, 12-09-1994\n",
      "Kurtis Weissnat, Telly.Hoeger@billy.biz, Howemouth, 13-12-1991\n",
      "Runolfsdottir V, Sherwood@rosamond.me, Aliyaview, 15-11-1984\n",
      "Clementina DuBuque, Rey.Padberg@karina.biz, Lebsackbury, 27-10-2000\n",
      "--------------------\n",
      "{'userId': 1, 'id': 1, 'title': 'sunt aut facere repellat provident occaecati excepturi optio reprehenderit', 'body': 'quia et suscipit\\nsuscipit recusandae consequuntur expedita et cum\\nreprehenderit molestiae ut ut quas totam\\nnostrum rerum est autem sunt rem eveniet architecto'}\n"
     ]
    }
   ],
   "source": [
    "import requests\n",
    "from datetime import datetime, date, timedelta\n",
    "from dateutil.relativedelta import relativedelta\n",
    "import random\n",
    "\n",
    "class User:\n",
    "    count: int = 0\n",
    "    \n",
    "    def __init__(self, id: int, name: str, email: str,  *args, birthdate: str=None, country: str=None,  **kwargs):\n",
    "        self.__id = id\n",
    "        *_, self.first_name, self.last_name = name.split()\n",
    "        self.email = email\n",
    "        self.country = country or 'country'\n",
    "        self.birthdate = datetime.strptime(birthdate, '%Y-%m-%d') if birthdate else User.datebirth_generator()\n",
    "        User.count += 1\n",
    "\n",
    "    @classmethod\n",
    "    def total(cls):\n",
    "        return cls.count\n",
    "\n",
    "    @staticmethod\n",
    "    def datebirth_generator(min_age=13, max_age=45):\n",
    "        today = date.today()\n",
    "        day_last = today - relativedelta(years=min_age)\n",
    "        day_first = today - relativedelta(years=max_age)\n",
    "\n",
    "        days_range = (day_last - day_first).days\n",
    "        random_day = random.randint(0, days_range)\n",
    "\n",
    "        return day_first + timedelta(days=random_day)\n",
    "\n",
    "    def age(self):\n",
    "        today = date.today()\n",
    "        return today.year - self.birthdate.year - ((today.month, today.day) < (self.birthdate.month, self.birthdate.day))\n",
    "\n",
    "    @staticmethod\n",
    "    def filter_users(users, limit=18):\n",
    "        return filter(lambda user: user.age() > limit, users)\n",
    "\n",
    "    def load_posts(self, endpoint):\n",
    "        endpoint += f'{self.__id}'\n",
    "        response = requests.get(endpoint)\n",
    "        if not response.ok:\n",
    "            return 0\n",
    "        return response.json()\n",
    "    \n",
    "    def __str__(self):\n",
    "        return f'{self.first_name} {self.last_name}, {self.email}, {self.country}, {self.birthdate.strftime('%d-%m-%Y')}'\n",
    "\n",
    "response = requests.get('https://jsonplaceholder.typicode.com/users')\n",
    "data = response.json()\n",
    "\n",
    "users = []\n",
    "for item in data:\n",
    "    item['country'] = item['address']['city']\n",
    "    user = User(**item)\n",
    "    users.append(user)\n",
    "\n",
    "\n",
    "print(*users, sep='\\n')\n",
    "\n",
    "print('-' * 20)\n",
    "print(*User.filter_users(users), sep='\\n')\n",
    "print('-' * 20)\n",
    "print(users[0].load_posts('https://jsonplaceholder.typicode.com/posts/'))"
   ]
  },
  {
   "cell_type": "code",
   "execution_count": 3,
   "id": "1fb21021-ece1-4dde-8c0a-09edcd336c48",
   "metadata": {},
   "outputs": [
    {
     "data": {
      "text/plain": [
       "[{'id': 1,\n",
       "  'name': 'Leanne Graham',\n",
       "  'username': 'Bret',\n",
       "  'email': 'Sincere@april.biz',\n",
       "  'address': {'street': 'Kulas Light',\n",
       "   'suite': 'Apt. 556',\n",
       "   'city': 'Gwenborough',\n",
       "   'zipcode': '92998-3874',\n",
       "   'geo': {'lat': '-37.3159', 'lng': '81.1496'}},\n",
       "  'phone': '1-770-736-8031 x56442',\n",
       "  'website': 'hildegard.org',\n",
       "  'company': {'name': 'Romaguera-Crona',\n",
       "   'catchPhrase': 'Multi-layered client-server neural-net',\n",
       "   'bs': 'harness real-time e-markets'}},\n",
       " {'id': 2,\n",
       "  'name': 'Ervin Howell',\n",
       "  'username': 'Antonette',\n",
       "  'email': 'Shanna@melissa.tv',\n",
       "  'address': {'street': 'Victor Plains',\n",
       "   'suite': 'Suite 879',\n",
       "   'city': 'Wisokyburgh',\n",
       "   'zipcode': '90566-7771',\n",
       "   'geo': {'lat': '-43.9509', 'lng': '-34.4618'}},\n",
       "  'phone': '010-692-6593 x09125',\n",
       "  'website': 'anastasia.net',\n",
       "  'company': {'name': 'Deckow-Crist',\n",
       "   'catchPhrase': 'Proactive didactic contingency',\n",
       "   'bs': 'synergize scalable supply-chains'}},\n",
       " {'id': 3,\n",
       "  'name': 'Clementine Bauch',\n",
       "  'username': 'Samantha',\n",
       "  'email': 'Nathan@yesenia.net',\n",
       "  'address': {'street': 'Douglas Extension',\n",
       "   'suite': 'Suite 847',\n",
       "   'city': 'McKenziehaven',\n",
       "   'zipcode': '59590-4157',\n",
       "   'geo': {'lat': '-68.6102', 'lng': '-47.0653'}},\n",
       "  'phone': '1-463-123-4447',\n",
       "  'website': 'ramiro.info',\n",
       "  'company': {'name': 'Romaguera-Jacobson',\n",
       "   'catchPhrase': 'Face to face bifurcated interface',\n",
       "   'bs': 'e-enable strategic applications'}},\n",
       " {'id': 4,\n",
       "  'name': 'Patricia Lebsack',\n",
       "  'username': 'Karianne',\n",
       "  'email': 'Julianne.OConner@kory.org',\n",
       "  'address': {'street': 'Hoeger Mall',\n",
       "   'suite': 'Apt. 692',\n",
       "   'city': 'South Elvis',\n",
       "   'zipcode': '53919-4257',\n",
       "   'geo': {'lat': '29.4572', 'lng': '-164.2990'}},\n",
       "  'phone': '493-170-9623 x156',\n",
       "  'website': 'kale.biz',\n",
       "  'company': {'name': 'Robel-Corkery',\n",
       "   'catchPhrase': 'Multi-tiered zero tolerance productivity',\n",
       "   'bs': 'transition cutting-edge web services'}},\n",
       " {'id': 5,\n",
       "  'name': 'Chelsey Dietrich',\n",
       "  'username': 'Kamren',\n",
       "  'email': 'Lucio_Hettinger@annie.ca',\n",
       "  'address': {'street': 'Skiles Walks',\n",
       "   'suite': 'Suite 351',\n",
       "   'city': 'Roscoeview',\n",
       "   'zipcode': '33263',\n",
       "   'geo': {'lat': '-31.8129', 'lng': '62.5342'}},\n",
       "  'phone': '(254)954-1289',\n",
       "  'website': 'demarco.info',\n",
       "  'company': {'name': 'Keebler LLC',\n",
       "   'catchPhrase': 'User-centric fault-tolerant solution',\n",
       "   'bs': 'revolutionize end-to-end systems'}},\n",
       " {'id': 6,\n",
       "  'name': 'Mrs. Dennis Schulist',\n",
       "  'username': 'Leopoldo_Corkery',\n",
       "  'email': 'Karley_Dach@jasper.info',\n",
       "  'address': {'street': 'Norberto Crossing',\n",
       "   'suite': 'Apt. 950',\n",
       "   'city': 'South Christy',\n",
       "   'zipcode': '23505-1337',\n",
       "   'geo': {'lat': '-71.4197', 'lng': '71.7478'}},\n",
       "  'phone': '1-477-935-8478 x6430',\n",
       "  'website': 'ola.org',\n",
       "  'company': {'name': 'Considine-Lockman',\n",
       "   'catchPhrase': 'Synchronised bottom-line interface',\n",
       "   'bs': 'e-enable innovative applications'}},\n",
       " {'id': 7,\n",
       "  'name': 'Kurtis Weissnat',\n",
       "  'username': 'Elwyn.Skiles',\n",
       "  'email': 'Telly.Hoeger@billy.biz',\n",
       "  'address': {'street': 'Rex Trail',\n",
       "   'suite': 'Suite 280',\n",
       "   'city': 'Howemouth',\n",
       "   'zipcode': '58804-1099',\n",
       "   'geo': {'lat': '24.8918', 'lng': '21.8984'}},\n",
       "  'phone': '210.067.6132',\n",
       "  'website': 'elvis.io',\n",
       "  'company': {'name': 'Johns Group',\n",
       "   'catchPhrase': 'Configurable multimedia task-force',\n",
       "   'bs': 'generate enterprise e-tailers'}},\n",
       " {'id': 8,\n",
       "  'name': 'Nicholas Runolfsdottir V',\n",
       "  'username': 'Maxime_Nienow',\n",
       "  'email': 'Sherwood@rosamond.me',\n",
       "  'address': {'street': 'Ellsworth Summit',\n",
       "   'suite': 'Suite 729',\n",
       "   'city': 'Aliyaview',\n",
       "   'zipcode': '45169',\n",
       "   'geo': {'lat': '-14.3990', 'lng': '-120.7677'}},\n",
       "  'phone': '586.493.6943 x140',\n",
       "  'website': 'jacynthe.com',\n",
       "  'company': {'name': 'Abernathy Group',\n",
       "   'catchPhrase': 'Implemented secondary concept',\n",
       "   'bs': 'e-enable extensible e-tailers'}},\n",
       " {'id': 9,\n",
       "  'name': 'Glenna Reichert',\n",
       "  'username': 'Delphine',\n",
       "  'email': 'Chaim_McDermott@dana.io',\n",
       "  'address': {'street': 'Dayna Park',\n",
       "   'suite': 'Suite 449',\n",
       "   'city': 'Bartholomebury',\n",
       "   'zipcode': '76495-3109',\n",
       "   'geo': {'lat': '24.6463', 'lng': '-168.8889'}},\n",
       "  'phone': '(775)976-6794 x41206',\n",
       "  'website': 'conrad.com',\n",
       "  'company': {'name': 'Yost and Sons',\n",
       "   'catchPhrase': 'Switchable contextually-based project',\n",
       "   'bs': 'aggregate real-time technologies'}},\n",
       " {'id': 10,\n",
       "  'name': 'Clementina DuBuque',\n",
       "  'username': 'Moriah.Stanton',\n",
       "  'email': 'Rey.Padberg@karina.biz',\n",
       "  'address': {'street': 'Kattie Turnpike',\n",
       "   'suite': 'Suite 198',\n",
       "   'city': 'Lebsackbury',\n",
       "   'zipcode': '31428-2261',\n",
       "   'geo': {'lat': '-38.2386', 'lng': '57.2232'}},\n",
       "  'phone': '024-648-3804',\n",
       "  'website': 'ambrose.net',\n",
       "  'company': {'name': 'Hoeger LLC',\n",
       "   'catchPhrase': 'Centralized empowering task-force',\n",
       "   'bs': 'target end-to-end models'}}]"
      ]
     },
     "execution_count": 3,
     "metadata": {},
     "output_type": "execute_result"
    }
   ],
   "source": [
    "data"
   ]
  },
  {
   "cell_type": "code",
   "execution_count": 24,
   "id": "feb818c8-c680-4f26-9402-ee9c6f306746",
   "metadata": {},
   "outputs": [
    {
     "name": "stdout",
     "output_type": "stream",
     "text": [
      "Requirement already satisfied: beautifulsoup4 in c:\\users\\olehs\\appdata\\local\\programs\\python\\python313\\lib\\site-packages (4.13.3)\n",
      "Requirement already satisfied: soupsieve>1.2 in c:\\users\\olehs\\appdata\\local\\programs\\python\\python313\\lib\\site-packages (from beautifulsoup4) (2.6)\n",
      "Requirement already satisfied: typing-extensions>=4.0.0 in c:\\users\\olehs\\appdata\\local\\programs\\python\\python313\\lib\\site-packages (from beautifulsoup4) (4.13.0)\n"
     ]
    },
    {
     "name": "stderr",
     "output_type": "stream",
     "text": [
      "\n",
      "[notice] A new release of pip is available: 25.0.1 -> 25.1.1\n",
      "[notice] To update, run: python.exe -m pip install --upgrade pip\n"
     ]
    }
   ],
   "source": [
    "!pip install beautifulsoup4"
   ]
  },
  {
   "cell_type": "code",
   "execution_count": 25,
   "id": "596d4bcc-b829-478b-931b-3c47edac0c53",
   "metadata": {},
   "outputs": [],
   "source": [
    "import requests\n",
    "from bs4 import BeautifulSoup"
   ]
  },
  {
   "cell_type": "code",
   "execution_count": 26,
   "id": "4d21a576-2bea-4a14-88f6-5ffeefdf4b64",
   "metadata": {},
   "outputs": [],
   "source": [
    "url = 'https://example.com'\n",
    "response = requests.get(url)"
   ]
  },
  {
   "cell_type": "code",
   "execution_count": 29,
   "id": "5643fc19-44ba-46d5-ad97-9b462877b682",
   "metadata": {},
   "outputs": [
    {
     "data": {
      "text/plain": [
       "'<!doctype html>\\n<html>\\n<head>\\n    <title>Example Domain</title>\\n\\n    <meta charset=\"utf-8\" />\\n    <meta http-equiv=\"Content-type\" content=\"text/html; charset=utf-8\" />\\n    <meta name=\"viewport\" content=\"width=device-width, initial-scale=1\" />\\n    <style type=\"text/css\">\\n    body {\\n        background-color: #f0f0f2;\\n        margin: 0;\\n        padding: 0;\\n        font-family: -apple-system, system-ui, BlinkMacSystemFont, \"Segoe UI\", \"Open Sans\", \"Helvetica Neue\", Helvetica, Arial, sans-serif;\\n        \\n    }\\n    div {\\n        width: 600px;\\n        margin: 5em auto;\\n        padding: 2em;\\n        background-color: #fdfdff;\\n        border-radius: 0.5em;\\n        box-shadow: 2px 3px 7px 2px rgba(0,0,0,0.02);\\n    }\\n    a:link, a:visited {\\n        color: #38488f;\\n        text-decoration: none;\\n    }\\n    @media (max-width: 700px) {\\n        div {\\n            margin: 0 auto;\\n            width: auto;\\n        }\\n    }\\n    </style>    \\n</head>\\n\\n<body>\\n<div>\\n    <h1>Example Domain</h1>\\n    <p>This domain is for use in illustrative examples in documents. You may use this\\n    domain in literature without prior coordination or asking for permission.</p>\\n    <p><a href=\"https://www.iana.org/domains/example\">More information...</a></p>\\n</div>\\n</body>\\n</html>\\n'"
      ]
     },
     "execution_count": 29,
     "metadata": {},
     "output_type": "execute_result"
    }
   ],
   "source": [
    "response.text"
   ]
  },
  {
   "cell_type": "code",
   "execution_count": 28,
   "id": "7b0ffa9f-f611-4967-9b4f-8d6a68ff6d35",
   "metadata": {},
   "outputs": [],
   "source": [
    "soup = BeautifulSoup(response.text, 'html.parser')"
   ]
  },
  {
   "cell_type": "code",
   "execution_count": 31,
   "id": "3feb95a3-2234-4f69-b70b-95db5d063f5b",
   "metadata": {},
   "outputs": [
    {
     "data": {
      "text/plain": [
       "'Example Domain'"
      ]
     },
     "execution_count": 31,
     "metadata": {},
     "output_type": "execute_result"
    }
   ],
   "source": [
    "soup.title.text"
   ]
  },
  {
   "cell_type": "code",
   "execution_count": 37,
   "id": "6beb36d5-3bde-42dc-81da-f6e898ed8c1a",
   "metadata": {},
   "outputs": [
    {
     "data": {
      "text/plain": [
       "'https://www.iana.org/domains/example'"
      ]
     },
     "execution_count": 37,
     "metadata": {},
     "output_type": "execute_result"
    }
   ],
   "source": [
    "soup.a.get('href')"
   ]
  },
  {
   "cell_type": "code",
   "execution_count": 39,
   "id": "7493f853-15de-4737-a378-0f775e025976",
   "metadata": {},
   "outputs": [
    {
     "data": {
      "text/plain": [
       "'\\n<!doctype html>\\n<html>\\n<head>\\n\\t<title>Example Domains</title>\\n\\n\\t<meta charset=\"utf-8\" />\\n\\t<meta http-equiv=\"Content-type\" content=\"text/html; charset=utf-8\" />\\n\\t<meta name=\"viewport\" content=\"width=device-width, initial-scale=1\" />\\n\\t\\n\\t<link rel=\"stylesheet\" href=\"/_css/2025.01/iana_website.css\"/>\\n\\t<link rel=\"shortcut icon\" type=\"image/ico\" href=\"/_img/bookmark_icon.ico\"/>\\n\\n\\t<script type=\"text/javascript\" src=\"/_js/jquery.js\"></script>\\n\\t<script type=\"text/javascript\" src=\"/_js/iana.js\"></script>\\n\\n\\t\\n</head>\\n\\n<body>\\n\\n\\n<header>\\n    <div id=\"header\">\\n        <div id=\"logo\">\\n            <a href=\"/\"><img src=\"/_img/2025.01/iana-logo-header.svg\" alt=\"Homepage\"/></a>\\n        </div>\\n        <div class=\"navigation\">\\n            <ul>\\n                <li><a href=\"/domains\">Domains</a></li>\\n                <li><a href=\"/protocols\">Protocols</a></li>\\n                <li><a href=\"/numbers\">Numbers</a></li>\\n                <li><a href=\"/about\">About</a></li>\\n            </ul>\\n        </div>\\n    </div>\\n    \\n    \\n</header>\\n\\n\\n<div id=\"body\">\\n\\n\\n<article class=\"hemmed sidenav\">\\n\\n    <main>\\n    \\n<div class=\"help-article\">\\n\\n<h1>Example Domains</h1>\\n<p>As described in <a href=\"/go/rfc2606\">RFC 2606</a> and <a href=\"/go/rfc6761\">RFC 6761</a>, a\\nnumber of domains such as example.com and example.org are maintained\\nfor documentation purposes. These domains may be used as illustrative\\nexamples in documents without prior coordination with us. They are not\\navailable for registration or transfer.</p>\\n<p>We provide a web service on the example domain hosts to provide basic\\ninformation on the purpose of the domain. These web services are\\nprovided as best effort, but are not designed to support production\\napplications. While incidental traffic for incorrectly configured\\napplications is expected, please do not design applications that require\\nthe example domains to have operating HTTP service.</p>\\n<h2>Further Reading</h2>\\n<ul>\\n<li><a href=\"/domains/reserved\">IANA-managed Reserved Domains</a></li>\\n</ul>\\n\\n<div class=\"last-updated\">Last revised 2017-05-13.</div>\\n\\n\\n</div>\\n\\n    </main>\\n\\n    <nav id=\"sidenav\">\\n    \\n    </nav>\\n\\n</article>\\n\\n\\n</div>\\n\\n<footer>\\n    <div id=\"footer\">\\n        <table class=\"navigation\">\\n            <tr>\\n                <td class=\"section\"><a href=\"/domains\">Domain&nbsp;Names</a></td>\\n                <td class=\"subsection\">\\n                    <ul>\\n                        <li><a href=\"/domains/root\">Root Zone Registry</a></li>\\n                        <li><a href=\"/domains/int\">.INT Registry</a></li>\\n                        <li><a href=\"/domains/arpa\">.ARPA Registry</a></li>\\n                        <li><a href=\"/domains/idn-tables\">IDN Repository</a></li>\\n                    </ul>\\n                </td>\\n            </tr>\\n            <tr>\\n                <td class=\"section\"><a href=\"/numbers\">Number&nbsp;Resources</a></td>\\n                <td class=\"subsection\">\\n                    <ul>\\n                        <li><a href=\"/abuse\">Abuse Information</a></li>\\n                    </ul>\\n                </td>\\n            </tr>\\n            <tr>\\n                <td class=\"section\"><a href=\"/protocols\">Protocols</a></td>\\n                <td class=\"subsection\">\\n                    <ul>\\n                        <li><a href=\"/protocols\">Protocol Registries</a></li>\\n                        <li><a href=\"/time-zones\">Time Zone Database</a></li>\\n                    </ul>\\n                </td>\\n            </tr>\\n            <tr>\\n                <td class=\"section\"><a href=\"/about\">About&nbsp;Us</a></td>\\n                <td class=\"subsection\">\\n                    <ul>\\n                        <li><a href=\"/news\">News</a></li>\\n                        <li><a href=\"/performance\">Performance</a></li>\\n                        <li><a href=\"/about/excellence\">Excellence</a></li>\\n                        <li><a href=\"/archive\">Archive</a></li>\\n                        <li><a href=\"/contact\">Contact Us</a></li>\\n                    </ul>\\n                </td>\\n            </tr>\\n        </table>\\n        <div id=\"custodian\">\\n            <p>The IANA functions coordinate the Internet’s globally unique identifiers, and\\n                are provided by <a href=\"https://pti.icann.org\">Public Technical Identifiers</a>, an affiliate of\\n                <a href=\"http://www.icann.org/\">ICANN</a>.</p>\\n        </div>\\n        <div id=\"legalnotice\">\\n            <ul>\\n                <li><a href=\"https://www.icann.org/privacy/policy\">Privacy Policy</a></li>\\n                <li><a href=\"https://www.icann.org/privacy/tos\">Terms of Service</a></li>\\n                \\n            </ul>\\n        </div>\\n    </div>\\n</footer>\\n\\n\\n\\n\\n</body>\\n\\n</html>\\n'"
      ]
     },
     "execution_count": 39,
     "metadata": {},
     "output_type": "execute_result"
    }
   ],
   "source": [
    "requests.get(soup.a.get('href')).text"
   ]
  },
  {
   "cell_type": "code",
   "execution_count": null,
   "id": "c61fa512-574f-4e88-b57e-d8e4a17fc4bf",
   "metadata": {},
   "outputs": [],
   "source": []
  }
 ],
 "metadata": {
  "kernelspec": {
   "display_name": "Python 3 (ipykernel)",
   "language": "python",
   "name": "python3"
  },
  "language_info": {
   "codemirror_mode": {
    "name": "ipython",
    "version": 3
   },
   "file_extension": ".py",
   "mimetype": "text/x-python",
   "name": "python",
   "nbconvert_exporter": "python",
   "pygments_lexer": "ipython3",
   "version": "3.13.3"
  }
 },
 "nbformat": 4,
 "nbformat_minor": 5
}
