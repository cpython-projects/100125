{
 "cells": [
  {
   "cell_type": "code",
   "execution_count": 3,
   "id": "21400a29-da80-4224-a5f5-d63932954941",
   "metadata": {},
   "outputs": [],
   "source": [
    "def add(a, b):\n",
    "    if isinstance(a, int | float) and isinstance(b, int | float):\n",
    "        return a + b\n",
    "\n",
    "    return None\n",
    "\n",
    "\n",
    "res = add('Hello', 1)\n",
    "if res:\n",
    "    print(res)\n",
    "else:\n",
    "    print('Error')"
   ]
  },
  {
   "cell_type": "code",
   "execution_count": 6,
   "id": "2b29f8ce-b23b-43bd-8f88-5640dee4d815",
   "metadata": {},
   "outputs": [
    {
     "name": "stdin",
     "output_type": "stream",
     "text": [
      "numbers>> 1 2 5 78\n"
     ]
    },
    {
     "name": "stdout",
     "output_type": "stream",
     "text": [
      "Unknown sequence\n"
     ]
    }
   ],
   "source": [
    "import string\n",
    "def text_to_numbers(numbers):\n",
    "    for item in string.punctuation:\n",
    "        numbers = numbers.replace(item, ' ')\n",
    "    return [int(number) for number in numbers.split()]\n",
    "\n",
    "def is_arithmetic(numbers):\n",
    "    if len(numbers) < 2:\n",
    "        return False\n",
    "\n",
    "    d = numbers[1] - numbers[0]\n",
    "    for i in range(len(numbers) - 1):\n",
    "        if numbers[i + 1] - numbers[i] != d:\n",
    "            return False\n",
    "\n",
    "    return True\n",
    "\n",
    "def is_geometric(numbers):\n",
    "    pass\n",
    "\n",
    "def next_arithmetic_item(numbers):\n",
    "    d = numbers[1] - numbers[0]\n",
    "    return numbers[-1] + d\n",
    "\n",
    "def next_geometric_item(numbers):\n",
    "    pass\n",
    "\n",
    "def next_sequence_item(numbers):\n",
    "    if is_arithmetic(numbers):\n",
    "        return next_arithmetic_item(numbers)\n",
    "\n",
    "    return None\n",
    "\n",
    "\n",
    "numbers = input('numbers>>')\n",
    "numbers = text_to_numbers(numbers)\n",
    "result = next_sequence_item(numbers)\n",
    "if result:\n",
    "    print(result)\n",
    "else:\n",
    "    print('Unknown sequence')"
   ]
  },
  {
   "cell_type": "code",
   "execution_count": null,
   "id": "2d65afdd-51c9-4e74-9eaf-b36a278998e1",
   "metadata": {},
   "outputs": [],
   "source": [
    "def join_dicts(*dicts):\n",
    "    pass\n",
    "\n",
    "\n",
    "a = {}\n",
    "b = {}\n",
    "c = {}\n",
    "d = {}\n",
    "join_dicts(a, b, c, d)"
   ]
  },
  {
   "cell_type": "code",
   "execution_count": null,
   "id": "78d917ff-3cd9-4786-9741-13b4a82d365a",
   "metadata": {},
   "outputs": [],
   "source": [
    "\n",
    "\n",
    "if __name__ == '__main__':\n",
    "    main()"
   ]
  },
  {
   "cell_type": "code",
   "execution_count": 7,
   "id": "2773ee6e-2946-4520-be92-9be2434e1f85",
   "metadata": {},
   "outputs": [
    {
     "name": "stdout",
     "output_type": "stream",
     "text": [
      "1744617071.256138\n"
     ]
    }
   ],
   "source": [
    "import time\n",
    "print(time.time())"
   ]
  },
  {
   "cell_type": "code",
   "execution_count": 8,
   "id": "9e1112c0-f677-4988-8217-3063053a4190",
   "metadata": {},
   "outputs": [
    {
     "name": "stdout",
     "output_type": "stream",
     "text": [
      "1744617178.373499\n"
     ]
    }
   ],
   "source": [
    "print(time.time())"
   ]
  },
  {
   "cell_type": "code",
   "execution_count": 10,
   "id": "4807e0e6-1910-4aa6-95ef-cc717b628d8e",
   "metadata": {},
   "outputs": [
    {
     "name": "stdout",
     "output_type": "stream",
     "text": [
      "Программа запущена\n",
      "2 секунды спустя...\n"
     ]
    }
   ],
   "source": [
    "print(\"Программа запущена\")\n",
    "time.sleep(5) # Задержка на 2 секунды\n",
    "print(\"2 секунды спустя...\")"
   ]
  },
  {
   "cell_type": "code",
   "execution_count": 11,
   "id": "9a92cf52-3d27-4e43-b42d-28eeab5ac947",
   "metadata": {},
   "outputs": [
    {
     "name": "stdout",
     "output_type": "stream",
     "text": [
      "Время создания range: 0.0000336170 секунд\n",
      "Время создания list: 0.0596470833 секунд\n"
     ]
    }
   ],
   "source": [
    "import time\n",
    "start_time = time.time()\n",
    "# Создание объекта range\n",
    "range_million = range(1000000)\n",
    "end_time = time.time()\n",
    "print(f\"Время создания range: {end_time - start_time:.10f} секунд\")\n",
    "\n",
    "start_time = time.time()\n",
    "# Создание объекта списка\n",
    "lst = [x for x in range(1000000)]\n",
    "end_time = time.time()\n",
    "print(f\"Время создания list: {end_time - start_time:.10f} секунд\")"
   ]
  },
  {
   "cell_type": "code",
   "execution_count": 12,
   "id": "852e7f68-1bae-4459-b7c2-dd746fd04be8",
   "metadata": {},
   "outputs": [
    {
     "name": "stdout",
     "output_type": "stream",
     "text": [
      "OrderedDict({'a': 1, 'b': 2, 'c': 3})\n"
     ]
    }
   ],
   "source": [
    "# Импорт класса из модуля collections\n",
    "from collections import OrderedDict\n",
    "# Создание пустого OrderedDict\n",
    "od = OrderedDict()\n",
    "# Добавление элементов аналогично работе со словарем\n",
    "od[\"a\"] = 1\n",
    "od[\"b\"] = 2\n",
    "od[\"c\"] = 3\n",
    "print(od)"
   ]
  },
  {
   "cell_type": "code",
   "execution_count": 13,
   "id": "c412c7ac-0e03-414c-9857-23aa03d69fc9",
   "metadata": {},
   "outputs": [
    {
     "data": {
      "text/plain": [
       "('c', 3)"
      ]
     },
     "execution_count": 13,
     "metadata": {},
     "output_type": "execute_result"
    }
   ],
   "source": [
    "od.popitem()"
   ]
  },
  {
   "cell_type": "code",
   "execution_count": 14,
   "id": "65cef2fa-ec08-47bb-972c-96e0673c5772",
   "metadata": {},
   "outputs": [
    {
     "data": {
      "text/plain": [
       "('a', 1)"
      ]
     },
     "execution_count": 14,
     "metadata": {},
     "output_type": "execute_result"
    }
   ],
   "source": [
    "od.popitem(last=False)"
   ]
  },
  {
   "cell_type": "code",
   "execution_count": 15,
   "id": "faf0c9c2-8514-45c4-aaeb-49a51695da3e",
   "metadata": {},
   "outputs": [
    {
     "name": "stdout",
     "output_type": "stream",
     "text": [
      "('first', 1)\n",
      "('second', 2)\n",
      "('third', 3)\n"
     ]
    }
   ],
   "source": [
    "from collections import OrderedDict\n",
    "queue = OrderedDict()\n",
    "queue[\"first\"] = 1\n",
    "queue[\"second\"] = 2\n",
    "queue[\"third\"] = 3\n",
    "# Удаляем элементы с начала очереди\n",
    "while queue:\n",
    "    print(queue.popitem(last=False))"
   ]
  },
  {
   "cell_type": "code",
   "execution_count": 16,
   "id": "abfa9844-a02d-48a2-a733-28418b78369c",
   "metadata": {},
   "outputs": [
    {
     "name": "stdout",
     "output_type": "stream",
     "text": [
      "OrderedDict({'task1': 'low priority', 'task2': 'medium priority', 'task3': 'low priority', 'task4': 'high priority', 'task5': 'medium priority'})\n"
     ]
    }
   ],
   "source": [
    "from collections import OrderedDict\n",
    "queue = OrderedDict()\n",
    "queue[\"task1\"] = \"low priority\"\n",
    "queue[\"task2\"] = \"medium priority\"\n",
    "queue[\"task3\"] = \"low priority\"\n",
    "queue[\"task4\"] = \"high priority\"\n",
    "queue[\"task5\"] = \"medium priority\"\n",
    "print(queue)"
   ]
  },
  {
   "cell_type": "code",
   "execution_count": 17,
   "id": "a6c7685e-6c54-4028-9937-bfb1858b7a56",
   "metadata": {},
   "outputs": [
    {
     "name": "stdout",
     "output_type": "stream",
     "text": [
      "['task1', 'task3']\n",
      "['task4']\n"
     ]
    }
   ],
   "source": [
    "# Собираем ключи для перемещения\n",
    "keys_to_end = [key for key, value in queue.items() if \"low\" in value]\n",
    "keys_to_start = [key for key, value in queue.items() if \"high\" in value]\n",
    "\n",
    "print(keys_to_end)\n",
    "print(keys_to_start)"
   ]
  },
  {
   "cell_type": "code",
   "execution_count": 18,
   "id": "932905e8-422a-4260-8f1a-cb1e07012d92",
   "metadata": {},
   "outputs": [
    {
     "name": "stdout",
     "output_type": "stream",
     "text": [
      "OrderedDict({'task4': 'high priority', 'task2': 'medium priority', 'task5': 'medium priority', 'task1': 'low priority', 'task3': 'low priority'})\n"
     ]
    }
   ],
   "source": [
    "# Перемещаем задачи с низким приоритетом в конец\n",
    "for key in keys_to_end:\n",
    "    queue.move_to_end(key)\n",
    "# Перемещаем задачи с высоким приоритетом в начало\n",
    "for key in keys_to_start:\n",
    "    queue.move_to_end(key, last=False)\n",
    "print(queue)"
   ]
  },
  {
   "cell_type": "code",
   "execution_count": 19,
   "id": "43567f6e-6bda-4bff-b246-442c069e1e13",
   "metadata": {},
   "outputs": [
    {
     "name": "stdout",
     "output_type": "stream",
     "text": [
      "0\n",
      "defaultdict(<class 'int'>, {'missing': 0})\n"
     ]
    }
   ],
   "source": [
    "from collections import defaultdict\n",
    "dd = defaultdict(int)\n",
    "print(dd['missing']) # Добавлено значение 0\n",
    "print(dd)"
   ]
  },
  {
   "cell_type": "code",
   "execution_count": 21,
   "id": "ff52fd25-f8a4-441a-a2fc-c8e106397df0",
   "metadata": {},
   "outputs": [
    {
     "name": "stdout",
     "output_type": "stream",
     "text": [
      "[]\n",
      "defaultdict(<class 'list'>, {'missing': []})\n"
     ]
    }
   ],
   "source": [
    "from collections import defaultdict\n",
    "dd = defaultdict(list)\n",
    "print(dd['missing']) # Добавлено значение 0\n",
    "print(dd)"
   ]
  },
  {
   "cell_type": "code",
   "execution_count": 24,
   "id": "8f860eff-f168-4e48-b4de-3cafd7c538a2",
   "metadata": {},
   "outputs": [
    {
     "name": "stdout",
     "output_type": "stream",
     "text": [
      "three\n",
      "four\n",
      "four\n",
      "one\n"
     ]
    }
   ],
   "source": [
    "import random\n",
    "def user_func():\n",
    "    x = ['one', 'two', 'three', 'four']\n",
    "    return random.choice(x)\n",
    "\n",
    "\n",
    "y = defaultdict(user_func)\n",
    "for i in range(4):\n",
    "    print(y[i])"
   ]
  },
  {
   "cell_type": "code",
   "execution_count": 25,
   "id": "18e1e4bc-e43d-4a1f-9380-4960793c7079",
   "metadata": {},
   "outputs": [
    {
     "data": {
      "text/plain": [
       "defaultdict(<function __main__.user_func()>,\n",
       "            {0: 'three', 1: 'four', 2: 'four', 3: 'one'})"
      ]
     },
     "execution_count": 25,
     "metadata": {},
     "output_type": "execute_result"
    }
   ],
   "source": [
    "y"
   ]
  },
  {
   "cell_type": "code",
   "execution_count": 28,
   "id": "ce7ac663-fe6a-4221-8357-a23b8971eaa1",
   "metadata": {},
   "outputs": [
    {
     "name": "stdout",
     "output_type": "stream",
     "text": [
      "H 1\n",
      "e 1\n",
      "l 3\n",
      "o 2\n",
      "  1\n",
      "w 1\n",
      "r 1\n",
      "d 1\n"
     ]
    }
   ],
   "source": [
    "x = 'Hello world'\n",
    "\n",
    "res = defaultdict(int)\n",
    "\n",
    "for item in x:\n",
    "    res[item] += 1\n",
    "    \n",
    "for item in res:\n",
    "    print(item, res[item])"
   ]
  },
  {
   "cell_type": "code",
   "execution_count": 29,
   "id": "d1364f17-e201-4e9f-a66c-a96d03f4bef0",
   "metadata": {},
   "outputs": [
    {
     "name": "stdout",
     "output_type": "stream",
     "text": [
      "Counter({1: 5, 2: 3, 4: 2, 3: 1, 5: 1})\n"
     ]
    }
   ],
   "source": [
    "from collections import Counter\n",
    "\n",
    "x = [1, 1, 1, 1, 1, 2, 2, 2, 3, 4, 4, 5]\n",
    "\n",
    "y = Counter(x)\n",
    "print(y)"
   ]
  },
  {
   "cell_type": "code",
   "execution_count": 30,
   "id": "4b798442-c307-4665-be8c-a5315a40b803",
   "metadata": {},
   "outputs": [
    {
     "name": "stdout",
     "output_type": "stream",
     "text": [
      "Counter({'l': 3, 'o': 2, 'H': 1, 'e': 1, ' ': 1, 'w': 1, 'r': 1, 'd': 1})\n"
     ]
    }
   ],
   "source": [
    "x = 'Hello world'\n",
    "y = Counter(x)\n",
    "print(y)"
   ]
  },
  {
   "cell_type": "code",
   "execution_count": 32,
   "id": "b64903f6-97b5-4b86-9721-a4869de0481b",
   "metadata": {},
   "outputs": [
    {
     "data": {
      "text/plain": [
       "[('l', 3), ('o', 2), ('H', 1), ('e', 1), (' ', 1)]"
      ]
     },
     "execution_count": 32,
     "metadata": {},
     "output_type": "execute_result"
    }
   ],
   "source": [
    "y.most_common(5)"
   ]
  },
  {
   "cell_type": "code",
   "execution_count": 33,
   "id": "cda01b37-3c01-4110-afe0-b84a565b59c7",
   "metadata": {},
   "outputs": [
    {
     "name": "stdout",
     "output_type": "stream",
     "text": [
      "Counter({3: 6, 1: 5, 2: 2, 5: 1})\n"
     ]
    }
   ],
   "source": [
    "x = [1, 1, 1, 1, 1, 2, 2, 3]\n",
    "y = [3, 3, 3, 3, 3, 5]\n",
    "\n",
    "x1 = Counter(x)\n",
    "y1 = Counter(y)\n",
    "\n",
    "res = x1 + y1\n",
    "\n",
    "print(res)"
   ]
  },
  {
   "cell_type": "code",
   "execution_count": null,
   "id": "345b5972-c2ed-4c6f-9175-50e6790e30fa",
   "metadata": {},
   "outputs": [],
   "source": []
  }
 ],
 "metadata": {
  "kernelspec": {
   "display_name": "Python 3 (ipykernel)",
   "language": "python",
   "name": "python3"
  },
  "language_info": {
   "codemirror_mode": {
    "name": "ipython",
    "version": 3
   },
   "file_extension": ".py",
   "mimetype": "text/x-python",
   "name": "python",
   "nbconvert_exporter": "python",
   "pygments_lexer": "ipython3",
   "version": "3.13.2"
  }
 },
 "nbformat": 4,
 "nbformat_minor": 5
}
