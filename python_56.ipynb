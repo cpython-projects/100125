{
 "cells": [
  {
   "cell_type": "code",
   "execution_count": 10,
   "id": "e9b72eb7-fb46-4d6c-9496-8533ede300bf",
   "metadata": {},
   "outputs": [
    {
     "name": "stdout",
     "output_type": "stream",
     "text": [
      "1990-05-01 00:00:00\n"
     ]
    }
   ],
   "source": [
    "from datetime import datetime\n",
    "\n",
    "b_date = datetime(1990, 5, 1)\n",
    "print(b_date)"
   ]
  },
  {
   "cell_type": "code",
   "execution_count": 3,
   "id": "2b50d89b-8252-45eb-9c77-fd5cfc19b08c",
   "metadata": {},
   "outputs": [],
   "source": [
    "current = datetime.now()"
   ]
  },
  {
   "cell_type": "code",
   "execution_count": 4,
   "id": "cef47c97-268d-412a-91e3-a55259d4e664",
   "metadata": {},
   "outputs": [
    {
     "name": "stdout",
     "output_type": "stream",
     "text": [
      "2025-05-12 10:14:08.150739\n"
     ]
    }
   ],
   "source": [
    "print(current)"
   ]
  },
  {
   "cell_type": "code",
   "execution_count": 11,
   "id": "dfb25d97-005e-48f3-a890-4281e8d31197",
   "metadata": {},
   "outputs": [
    {
     "data": {
      "text/plain": [
       "35"
      ]
     },
     "execution_count": 11,
     "metadata": {},
     "output_type": "execute_result"
    }
   ],
   "source": [
    "current.year - b_date.year - ((current.month, current.day) < (b_date.month, b_date.day))"
   ]
  },
  {
   "cell_type": "code",
   "execution_count": 12,
   "id": "f0445386-3b88-4f42-9c14-f7a3b34f0d07",
   "metadata": {},
   "outputs": [],
   "source": [
    "is_data = True\n",
    "\n",
    "with open('test.txt', 'r') as data_file, open('new.txt', 'w') as res_file:\n",
    "    for line in data_file:\n",
    "        tmp = int(line)\n",
    "        if tmp % 2 == 0:\n",
    "            res_file.write(f'{tmp}\\n')\n",
    "            is_data = False\n",
    "\n",
    "if is_data:\n",
    "    # remove file"
   ]
  },
  {
   "cell_type": "code",
   "execution_count": 16,
   "id": "04587843-a866-4e41-a3bd-95aa008cbd90",
   "metadata": {},
   "outputs": [
    {
     "name": "stdout",
     "output_type": "stream",
     "text": [
      "['order_id', 'customer_id', 'order_date', 'product_id', 'product_name', 'category', 'price', 'quantity', 'weight', 'discount', 'shipping_cost', 'payment_method', 'delivery_status', 'customer_city', 'customer_state', 'customer_country', 'return_requested', 'review_score', 'days_to_deliver']\n",
      "<class 'list'>\n",
      "19\n",
      "['1001', 'C101', '2023-01-15', 'P001', 'Smartphone X', 'Electronics', '599.99', '1', '0.5kg', '0.1', '5.99', 'Credit Card', 'Delivered', 'New York', 'NY', 'USA', '0', '5.0', '3.0']\n",
      "<class 'list'>\n",
      "19\n",
      "['1002', 'C102', '2023-01-16', 'P002', 'Laptop Pro', 'Electronics', '1299.99', '1', '2.2kg', '0.15', '12.99', 'paypal', 'Delivered', 'los angeles', 'CA', 'USA', '1', '4.0', '5.0']\n",
      "<class 'list'>\n",
      "19\n",
      "['1003', 'C103', '2023-01-17', 'P003', 'Wireless Earbuds', 'Electronics', '79.99', '2', '0.1kg', '0.0', '', 'Credit Card', 'Shipped', 'Chicago', 'IL', 'USA', '0', '', '']\n",
      "<class 'list'>\n",
      "19\n",
      "['1004', 'C104', '2023-01-18', 'P004', 'Smart Watch', 'Electronics', '199.99', '1', '0.3kg', '0.05', '4.99', 'debit', 'Delivered', 'Houston', 'TX', 'USA', '0', '5.0', '4.0']\n",
      "<class 'list'>\n",
      "19\n",
      "['1005', 'C105', '2023-01-19', 'P005', 'Tablet Mini', 'Electronics', '299.99', '1', '0.7kg', '', '6.99', 'credit', 'Processing', 'PHOENIX', 'AZ', 'USA', '1', '2.0', '']\n",
      "<class 'list'>\n",
      "19\n"
     ]
    }
   ],
   "source": [
    "import csv\n",
    "\n",
    "with  open('ecommerce_data.csv') as file:\n",
    "    data = csv.reader(file)\n",
    "    \n",
    "    for i, item in enumerate(data):\n",
    "        print(item)\n",
    "        print(type(item))\n",
    "        print(len(item))\n",
    "        if i == 5:\n",
    "            break"
   ]
  },
  {
   "cell_type": "code",
   "execution_count": 19,
   "id": "c149dd96-c383-4bd6-8c4d-a7826e1256ad",
   "metadata": {},
   "outputs": [
    {
     "name": "stdout",
     "output_type": "stream",
     "text": [
      "['order_id', 'customer_id', 'order_date', 'product_id', 'product_name', 'category', 'price', 'quantity', 'weight', 'discount', 'shipping_cost', 'payment_method', 'delivery_status', 'customer_city', 'customer_state', 'customer_country', 'return_requested', 'review_score', 'days_to_deliver']\n",
      "['1001', 'C101', '2023-01-15', 'P001', 'Smartphone X', 'Electronics', '599.99', '1', '0.5kg', '0.1', '5.99', 'Credit Card', 'Delivered', 'New York', 'NY', 'USA', '0', '5.0', '3.0']\n",
      "<class 'list'>\n",
      "19\n",
      "['1002', 'C102', '2023-01-16', 'P002', 'Laptop Pro', 'Electronics', '1299.99', '1', '2.2kg', '0.15', '12.99', 'paypal', 'Delivered', 'los angeles', 'CA', 'USA', '1', '4.0', '5.0']\n",
      "<class 'list'>\n",
      "19\n",
      "['1003', 'C103', '2023-01-17', 'P003', 'Wireless Earbuds', 'Electronics', '79.99', '2', '0.1kg', '0.0', '', 'Credit Card', 'Shipped', 'Chicago', 'IL', 'USA', '0', '', '']\n",
      "<class 'list'>\n",
      "19\n",
      "['1004', 'C104', '2023-01-18', 'P004', 'Smart Watch', 'Electronics', '199.99', '1', '0.3kg', '0.05', '4.99', 'debit', 'Delivered', 'Houston', 'TX', 'USA', '0', '5.0', '4.0']\n",
      "<class 'list'>\n",
      "19\n",
      "['1005', 'C105', '2023-01-19', 'P005', 'Tablet Mini', 'Electronics', '299.99', '1', '0.7kg', '', '6.99', 'credit', 'Processing', 'PHOENIX', 'AZ', 'USA', '1', '2.0', '']\n",
      "<class 'list'>\n",
      "19\n",
      "['1006', 'C106', '2023-01-20', 'P006', 'Bluetooth Speaker', 'Electronics', '59.99', '3', '1.1lbs', '0.0', '8.99', 'PayPal', 'Delivered', 'Philadelphia', 'PA', 'USA', '0', '4.0', '6.0']\n",
      "<class 'list'>\n",
      "19\n"
     ]
    }
   ],
   "source": [
    "import csv\n",
    "\n",
    "with  open('ecommerce_data.csv') as file:\n",
    "    data = csv.reader(file)\n",
    "\n",
    "    fields = next(data)\n",
    "    print(fields)\n",
    "\n",
    "    for i, item in enumerate(data):\n",
    "        print(item)\n",
    "        print(type(item))\n",
    "        print(len(item))\n",
    "        if i == 5:\n",
    "            break"
   ]
  },
  {
   "cell_type": "code",
   "execution_count": 22,
   "id": "458987a7-74a0-4051-a23b-92eb67a2dd4e",
   "metadata": {},
   "outputs": [],
   "source": [
    "import csv\n",
    "with open('output.csv', 'w', newline='') as f:\n",
    "    writer = csv.writer(f)\n",
    "    \n",
    "    writer.writerow(['name', 'age'])\n",
    "    writer.writerow(['Alice', 30])\n",
    "    writer.writerow(['name', 'age'])\n",
    "    writer.writerow(['Bob', 31])\n",
    "    "
   ]
  },
  {
   "cell_type": "code",
   "execution_count": 24,
   "id": "0cbbcba6-edb4-4c5c-9b17-419dedeba336",
   "metadata": {},
   "outputs": [],
   "source": [
    "import csv\n",
    "\n",
    "rows = [\n",
    "    ('Alice', 30),\n",
    "    ('Bob', 25),\n",
    "    ('Charlie', 35)\n",
    "]\n",
    "\n",
    "\n",
    "with open('output.csv', 'w', newline='') as f:\n",
    "    writer = csv.writer(f)\n",
    "    \n",
    "    writer.writerow(['name', 'age'])\n",
    "    writer.writerows(rows)"
   ]
  },
  {
   "cell_type": "code",
   "execution_count": 32,
   "id": "440695c4-baff-4c69-b602-2f14b8b9f5f2",
   "metadata": {},
   "outputs": [
    {
     "name": "stdout",
     "output_type": "stream",
     "text": [
      "5.0\n",
      "4.0\n",
      "Empty value\n",
      "5.0\n",
      "2.0\n",
      "4.0\n",
      "5.0\n",
      "Empty value\n",
      "3.0\n",
      "5.0\n",
      "4.0\n",
      "5.0\n",
      "1.0\n",
      "4.0\n",
      "3.0\n",
      "5.0\n",
      "4.0\n",
      "5.0\n",
      "4.0\n",
      "5.0\n",
      "5.0\n",
      "4.0\n",
      "3.0\n",
      "5.0\n",
      "4.0\n",
      "5.0\n",
      "4.0\n",
      "3.0\n",
      "5.0\n",
      "4.0\n",
      "3.0\n",
      "5.0\n",
      "5.0\n",
      "5.0\n",
      "3.0\n",
      "5.0\n",
      "3.0\n",
      "4.0\n",
      "1.0\n",
      "4.0\n"
     ]
    }
   ],
   "source": [
    "import csv\n",
    "\n",
    "with  open('ecommerce_data.csv') as file:\n",
    "    data = csv.DictReader(file)\n",
    "    \n",
    "    for item in data:\n",
    "        try:\n",
    "            print(float(item['review_score']))\n",
    "        except:\n",
    "            print('Empty value')\n",
    "        # if i == 4:\n",
    "        #     break\n",
    "\n",
    "def f(item):\n",
    "    ..."
   ]
  },
  {
   "cell_type": "code",
   "execution_count": 39,
   "id": "af8b8043-1e63-40b1-89d9-4ace0059e493",
   "metadata": {},
   "outputs": [],
   "source": [
    "with open('output.csv', 'w', newline='') as f:\n",
    "    writer = csv.DictWriter(f, fieldnames=['name', 'age'], extrasaction='ignore')\n",
    "    writer.writeheader()\n",
    "    writer.writerow({'age': 30, 'name': 'Alice'})\n",
    "    writer.writerow({'name': 'Bob', 'age': 31})\n",
    "    writer.writerow({'name': 'Jack', 'age': 31, 'city': 'Berlin'})"
   ]
  },
  {
   "cell_type": "code",
   "execution_count": 38,
   "id": "1316181f-f824-403c-b1b2-7775fee2c2b7",
   "metadata": {},
   "outputs": [],
   "source": [
    "new_persons = [\n",
    "    {'name': 'David', 'age': 28},\n",
    "    {'age': 34, 'name': 'Jane'},\n",
    "    {'name': 'Anna', 'city': 'Berlin'},\n",
    "    {'name': 'Martin', 'age': 20, 'city': 'London'}\n",
    "]\n",
    "with open('output.csv', 'a', newline='') as f:\n",
    "    writer = csv.DictWriter(f, fieldnames=['name', 'age'], extrasaction='ignore')\n",
    "    writer.writerows(new_persons)"
   ]
  },
  {
   "cell_type": "code",
   "execution_count": null,
   "id": "94547d02-d7a5-4faa-be8a-9c4a2f269336",
   "metadata": {},
   "outputs": [],
   "source": []
  }
 ],
 "metadata": {
  "kernelspec": {
   "display_name": "Python 3 (ipykernel)",
   "language": "python",
   "name": "python3"
  },
  "language_info": {
   "codemirror_mode": {
    "name": "ipython",
    "version": 3
   },
   "file_extension": ".py",
   "mimetype": "text/x-python",
   "name": "python",
   "nbconvert_exporter": "python",
   "pygments_lexer": "ipython3",
   "version": "3.13.2"
  }
 },
 "nbformat": 4,
 "nbformat_minor": 5
}
