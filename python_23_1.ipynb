{
 "cells": [
  {
   "cell_type": "code",
   "execution_count": 1,
   "id": "34d219a6-e288-41d5-b566-6cfc6a6a214e",
   "metadata": {},
   "outputs": [
    {
     "ename": "TypeError",
     "evalue": "'str' object does not support item assignment",
     "output_type": "error",
     "traceback": [
      "\u001b[1;31m---------------------------------------------------------------------------\u001b[0m",
      "\u001b[1;31mTypeError\u001b[0m                                 Traceback (most recent call last)",
      "Cell \u001b[1;32mIn[1], line 7\u001b[0m\n\u001b[0;32m      5\u001b[0m \u001b[38;5;28;01mfor\u001b[39;00m i \u001b[38;5;129;01min\u001b[39;00m \u001b[38;5;28mrange\u001b[39m(\u001b[38;5;28mlen\u001b[39m(text)):\n\u001b[0;32m      6\u001b[0m     \u001b[38;5;28;01mif\u001b[39;00m text[i]\u001b[38;5;241m.\u001b[39misdigit():\n\u001b[1;32m----> 7\u001b[0m         \u001b[43mtext\u001b[49m\u001b[43m[\u001b[49m\u001b[43mi\u001b[49m\u001b[43m]\u001b[49m \u001b[38;5;241m=\u001b[39m \u001b[38;5;124m'\u001b[39m\u001b[38;5;124m*\u001b[39m\u001b[38;5;124m'\u001b[39m\n\u001b[0;32m      9\u001b[0m \u001b[38;5;28mprint\u001b[39m(text)\n",
      "\u001b[1;31mTypeError\u001b[0m: 'str' object does not support item assignment"
     ]
    }
   ],
   "source": [
    "text = '123hello234'\n",
    "# '***hello***'\n",
    "\n",
    "\n",
    "for i in range(len(text)):\n",
    "    if text[i].isdigit():\n",
    "        text[i] = '*'\n",
    "\n",
    "print(text)"
   ]
  },
  {
   "cell_type": "code",
   "execution_count": 3,
   "id": "14a68bd9-a5af-439e-a907-7889b2a30162",
   "metadata": {},
   "outputs": [
    {
     "name": "stdout",
     "output_type": "stream",
     "text": [
      "***hello***\n"
     ]
    }
   ],
   "source": [
    "text = '123hello234'\n",
    "# '***hello***'\n",
    "text = list(text)\n",
    "# ['1', '2', '3', ....]\n",
    "\n",
    "for i in range(len(text)):\n",
    "    if text[i].isdigit():\n",
    "        text[i] = '*'\n",
    "\n",
    "print(''.join(text))"
   ]
  },
  {
   "cell_type": "code",
   "execution_count": 4,
   "id": "9cc4806b-9fee-4496-8331-8546e401ce0b",
   "metadata": {},
   "outputs": [
    {
     "data": {
      "text/plain": [
       "'0123456789'"
      ]
     },
     "execution_count": 4,
     "metadata": {},
     "output_type": "execute_result"
    }
   ],
   "source": [
    "import string\n",
    "string.digits"
   ]
  },
  {
   "cell_type": "code",
   "execution_count": 5,
   "id": "848c2aa1-311b-453d-b2ae-d33acd820ea1",
   "metadata": {},
   "outputs": [
    {
     "name": "stdout",
     "output_type": "stream",
     "text": [
      "***hello***\n"
     ]
    }
   ],
   "source": [
    "text = '123hello234'\n",
    "for item in string.digits: # '0123456789'\n",
    "    text = text.replace(item, '*')\n",
    "print(text)"
   ]
  },
  {
   "cell_type": "code",
   "execution_count": 6,
   "id": "73014a0d-1de8-420d-830d-61c33509aa39",
   "metadata": {},
   "outputs": [
    {
     "data": {
      "text/plain": [
       "True"
      ]
     },
     "execution_count": 6,
     "metadata": {},
     "output_type": "execute_result"
    }
   ],
   "source": [
    "'10'.isdigit()"
   ]
  },
  {
   "cell_type": "code",
   "execution_count": 7,
   "id": "cb4cf53a-9e33-4c25-bd99-8448d90a23a8",
   "metadata": {},
   "outputs": [
    {
     "data": {
      "text/plain": [
       "False"
      ]
     },
     "execution_count": 7,
     "metadata": {},
     "output_type": "execute_result"
    }
   ],
   "source": [
    "'10.5'.isdigit()"
   ]
  },
  {
   "cell_type": "code",
   "execution_count": 8,
   "id": "0dac9cc8-3bd3-4a00-867a-c6898f4f8040",
   "metadata": {},
   "outputs": [
    {
     "data": {
      "text/plain": [
       "False"
      ]
     },
     "execution_count": 8,
     "metadata": {},
     "output_type": "execute_result"
    }
   ],
   "source": [
    "'10.5'.isdecimal()"
   ]
  },
  {
   "cell_type": "code",
   "execution_count": 10,
   "id": "1e4c2dec-e557-4066-9623-c8aa3cd11c61",
   "metadata": {},
   "outputs": [
    {
     "data": {
      "text/plain": [
       "False"
      ]
     },
     "execution_count": 10,
     "metadata": {},
     "output_type": "execute_result"
    }
   ],
   "source": [
    "'10.5'.isalnum()"
   ]
  },
  {
   "cell_type": "code",
   "execution_count": 9,
   "id": "ad024f19-e566-406e-9ab9-a48a84fd9425",
   "metadata": {},
   "outputs": [
    {
     "name": "stdout",
     "output_type": "stream",
     "text": [
      "Help on built-in function isdecimal:\n",
      "\n",
      "isdecimal() method of builtins.str instance\n",
      "    Return True if the string is a decimal string, False otherwise.\n",
      "\n",
      "    A string is a decimal string if all characters in the string are decimal and\n",
      "    there is at least one character in the string.\n",
      "\n"
     ]
    }
   ],
   "source": [
    "help('10.5'.isdecimal)"
   ]
  },
  {
   "cell_type": "code",
   "execution_count": 11,
   "id": "6572ee2f-4cd3-41fc-a586-0e9d74041594",
   "metadata": {},
   "outputs": [
    {
     "data": {
      "text/plain": [
       "True"
      ]
     },
     "execution_count": 11,
     "metadata": {},
     "output_type": "execute_result"
    }
   ],
   "source": [
    "s = '10.5'\n",
    "s.replace('.', '', 1).isdigit() and s.count('.') == 1"
   ]
  },
  {
   "cell_type": "code",
   "execution_count": 13,
   "id": "b87512fa-7606-4c82-ae5f-5cf7c4ece005",
   "metadata": {},
   "outputs": [
    {
     "name": "stdout",
     "output_type": "stream",
     "text": [
      "50\n",
      "100\n",
      "5.0\n"
     ]
    }
   ],
   "source": [
    "text = \"I have 5 apples and 10 oranges, price is 0.5 each. Card number is ....3672.\"\n",
    "text = text.split()\n",
    "for item in text:\n",
    "    if item.replace('.', '', 1).isdigit() and item.count('.') == 1:\n",
    "        item = float(item)\n",
    "        print(item  * 10)\n",
    "    elif item.isdigit():\n",
    "        item = int(item)\n",
    "        print(item * 10)"
   ]
  },
  {
   "cell_type": "code",
   "execution_count": null,
   "id": "1f5a0ad1-42ae-4a82-a1fa-cd9c1fd5eafe",
   "metadata": {},
   "outputs": [],
   "source": []
  }
 ],
 "metadata": {
  "kernelspec": {
   "display_name": "Python 3 (ipykernel)",
   "language": "python",
   "name": "python3"
  },
  "language_info": {
   "codemirror_mode": {
    "name": "ipython",
    "version": 3
   },
   "file_extension": ".py",
   "mimetype": "text/x-python",
   "name": "python",
   "nbconvert_exporter": "python",
   "pygments_lexer": "ipython3",
   "version": "3.12.4"
  }
 },
 "nbformat": 4,
 "nbformat_minor": 5
}
