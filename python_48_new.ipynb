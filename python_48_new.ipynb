{
 "cells": [
  {
   "cell_type": "code",
   "execution_count": 1,
   "id": "c999dd54-817c-4b27-817c-114541f70bf6",
   "metadata": {},
   "outputs": [
    {
     "ename": "ZeroDivisionError",
     "evalue": "division by zero",
     "output_type": "error",
     "traceback": [
      "\u001b[31m---------------------------------------------------------------------------\u001b[39m",
      "\u001b[31mZeroDivisionError\u001b[39m                         Traceback (most recent call last)",
      "\u001b[36mCell\u001b[39m\u001b[36m \u001b[39m\u001b[32mIn[1]\u001b[39m\u001b[32m, line 1\u001b[39m\n\u001b[32m----> \u001b[39m\u001b[32m1\u001b[39m \u001b[38;5;28mprint\u001b[39m(\u001b[32;43m5\u001b[39;49m\u001b[43m \u001b[49m\u001b[43m/\u001b[49m\u001b[43m \u001b[49m\u001b[32;43m0\u001b[39;49m)\n",
      "\u001b[31mZeroDivisionError\u001b[39m: division by zero"
     ]
    }
   ],
   "source": [
    "print(5 / 0)"
   ]
  },
  {
   "cell_type": "code",
   "execution_count": 2,
   "id": "831b2b56-9073-4594-8f2f-ab400df4746c",
   "metadata": {},
   "outputs": [
    {
     "ename": "ZeroDivisionError",
     "evalue": "division by zero",
     "output_type": "error",
     "traceback": [
      "\u001b[31m---------------------------------------------------------------------------\u001b[39m",
      "\u001b[31mZeroDivisionError\u001b[39m                         Traceback (most recent call last)",
      "\u001b[36mCell\u001b[39m\u001b[36m \u001b[39m\u001b[32mIn[2]\u001b[39m\u001b[32m, line 1\u001b[39m\n\u001b[32m----> \u001b[39m\u001b[32m1\u001b[39m \u001b[38;5;28mprint\u001b[39m(\u001b[32;43m1\u001b[39;49m\u001b[43m \u001b[49m\u001b[43m/\u001b[49m\u001b[43m \u001b[49m\u001b[32;43m0\u001b[39;49m)\n\u001b[32m      2\u001b[39m \u001b[38;5;28mprint\u001b[39m(\u001b[33m'\u001b[39m\u001b[33mHello, world!\u001b[39m\u001b[33m'\u001b[39m)\n",
      "\u001b[31mZeroDivisionError\u001b[39m: division by zero"
     ]
    }
   ],
   "source": [
    "print(1 / 0)\n",
    "print('Hello, world!')"
   ]
  },
  {
   "cell_type": "code",
   "execution_count": 4,
   "id": "2f5b0e80-bfd2-46ba-a544-f8220d1be9fe",
   "metadata": {},
   "outputs": [
    {
     "name": "stdin",
     "output_type": "stream",
     "text": [
      "a>> 4\n",
      "b>> 0\n"
     ]
    },
    {
     "name": "stdout",
     "output_type": "stream",
     "text": [
      "Деление на ноль. Вычисления остановлены\n"
     ]
    }
   ],
   "source": [
    "try:\n",
    "    a, b = int(input('a>>')), int(input('b>>'))\n",
    "    res = a / b\n",
    "    print(res)\n",
    "except ZeroDivisionError:\n",
    "    print('Деление на ноль. Вычисления остановлены')"
   ]
  },
  {
   "cell_type": "code",
   "execution_count": 12,
   "id": "b364bb99-0a0d-4cb0-9147-5f2656b8a43d",
   "metadata": {},
   "outputs": [
    {
     "name": "stdin",
     "output_type": "stream",
     "text": [
      "a>> 3\n",
      "b>> 0\n"
     ]
    },
    {
     "name": "stdout",
     "output_type": "stream",
     "text": [
      "Ошибка. division by zero\n"
     ]
    }
   ],
   "source": [
    "try:\n",
    "    a, b = int(input('a>>')), int(input('b>>'))\n",
    "    res = a / b\n",
    "    print(res)\n",
    "except ZeroDivisionError as error:\n",
    "    print('Деление на ноль. Вычисления остановлены')\n",
    "    print(error)\n",
    "except ValueError as error:\n",
    "    print('Вы ввели некорректные данные!')\n",
    "    print(error)\n",
    "except Exception as error:\n",
    "    print('Ошибка.', error)"
   ]
  },
  {
   "cell_type": "code",
   "execution_count": 10,
   "id": "99f74bc7-f5a4-484b-8953-2176714805a7",
   "metadata": {},
   "outputs": [
    {
     "name": "stdin",
     "output_type": "stream",
     "text": [
      "a>> frf\n"
     ]
    },
    {
     "name": "stdout",
     "output_type": "stream",
     "text": [
      "Вы ввели некорректные данные!\n"
     ]
    }
   ],
   "source": [
    "try:\n",
    "    a, b = int(input('a>>')), int(input('b>>'))\n",
    "    res = a / b\n",
    "    print(res)\n",
    "except (ZeroDivisionError, ValueError):\n",
    "    print('Вы ввели некорректные данные!')"
   ]
  },
  {
   "cell_type": "code",
   "execution_count": 13,
   "id": "5336f687-b3e9-452f-bb2f-acf01ec9e72a",
   "metadata": {},
   "outputs": [
    {
     "name": "stdin",
     "output_type": "stream",
     "text": [
      "a>> 5\n",
      "b>> 6\n"
     ]
    },
    {
     "name": "stdout",
     "output_type": "stream",
     "text": [
      "0.8333333333333334\n"
     ]
    }
   ],
   "source": [
    "try:\n",
    "    a, b = int(input('a>>')), int(input('b>>'))\n",
    "    res = a / b\n",
    "except ZeroDivisionError as error:\n",
    "    print('Деление на ноль. Вычисления остановлены')\n",
    "    print(error)\n",
    "except ValueError as error:\n",
    "    print('Вы ввели некорректные данные!')\n",
    "    print(error)\n",
    "except Exception as error:\n",
    "    print('Ошибка.', error)\n",
    "else:\n",
    "    print(res)"
   ]
  },
  {
   "cell_type": "code",
   "execution_count": 26,
   "id": "e92392cd-f183-4759-a408-4142fe43603a",
   "metadata": {},
   "outputs": [],
   "source": [
    "def add_positive(a: int | float, b: int | float) -> int | float:\n",
    "    if not isinstance(a, int | float):\n",
    "        raise TypeError('Первое сл. неверного типа')\n",
    "    if not isinstance(b, int | float):\n",
    "        raise TypeError('Второе сл. неверного типа')\n",
    "    if a <= 0 or b <= 0:\n",
    "        raise ValueError('Числа отрицательные.')\n",
    "        \n",
    "    return a + b"
   ]
  },
  {
   "cell_type": "code",
   "execution_count": 29,
   "id": "eef5f5af-0d63-45ec-9919-26b101559490",
   "metadata": {},
   "outputs": [
    {
     "name": "stdin",
     "output_type": "stream",
     "text": [
      "a>> 54\n",
      "b>> -34\n"
     ]
    },
    {
     "name": "stdout",
     "output_type": "stream",
     "text": [
      "Числа отрицательные.\n",
      "Повторите ввод.\n"
     ]
    },
    {
     "name": "stdin",
     "output_type": "stream",
     "text": [
      "a>> 23\n",
      "b>> 23\n"
     ]
    },
    {
     "name": "stdout",
     "output_type": "stream",
     "text": [
      "46\n"
     ]
    }
   ],
   "source": [
    "while True:\n",
    "    try:\n",
    "        a, b = int(input('a>>')), int(input('b>>'))\n",
    "        res = add_positive(a, b)\n",
    "    except TypeError as error:\n",
    "        print(error)\n",
    "    except ValueError as error:\n",
    "        print(error)\n",
    "    else:\n",
    "        print(res)\n",
    "        break\n",
    "    print('Повторите ввод.')"
   ]
  },
  {
   "cell_type": "code",
   "execution_count": 31,
   "id": "4ddbafca-e161-4a57-931d-1e6b5fd8f74e",
   "metadata": {},
   "outputs": [],
   "source": [
    "def filter_numbers(filter_type: str, *args) -> tuple[int]:\n",
    "    \"\"\"\n",
    "    \"\"\"\n",
    "    if not all(isinstance(item, int) for item in args):\n",
    "        raise TypeError('In args must be only integers.')\n",
    "    if filter_type not in ('even', 'odd'):\n",
    "        raise ValueError('Filter Type undefined!')\n",
    "        \n",
    "    if filter_type == 'even':\n",
    "        return tuple(filter(lambda item: item % 2 == 0, args))\n",
    "    if filter_type == 'odd':\n",
    "        return tuple(filter(lambda item: item % 2, args))    "
   ]
  },
  {
   "cell_type": "code",
   "execution_count": 34,
   "id": "1d61e958-3c42-4dd7-bab0-ba6cba551cc1",
   "metadata": {},
   "outputs": [
    {
     "name": "stdout",
     "output_type": "stream",
     "text": [
      "Filter Type undefined!\n"
     ]
    }
   ],
   "source": [
    "try:\n",
    "    res = filter_numbers('even', 1, 2, 3, 4, 5, 6, 7)\n",
    "    print(res)\n",
    "except Exception as error:\n",
    "    print(error)"
   ]
  },
  {
   "cell_type": "code",
   "execution_count": null,
   "id": "d49a13c3-71c8-46bf-95e4-e11a382dadf3",
   "metadata": {},
   "outputs": [],
   "source": [
    "from typing import Any\n",
    "from datetime import datetime\n",
    "\n",
    "def student_information(text: str) -> dict | Any:\n",
    "    if not isinstance(text, str):\n",
    "        raise TypeError('...')\n",
    "\n",
    "    text = text.split()\n",
    "    if len(text) != 4:\n",
    "        raise ValueError('неверные данные')\n",
    "\n",
    "    last_name, first_name, birth_year, course = text\n",
    "    \n",
    "    if not last_name.isalpha():\n",
    "        raise ValueError('неверные данные')\n",
    "    if not first_name.isalpha():\n",
    "        raise ValueError('неверные данные')    \n",
    "        \n",
    "    try:\n",
    "        birth_year = int(birth_year)\n",
    "    except:\n",
    "        raise TypeError('...')\n",
    "\n",
    "    current_year = datetime.now().year\n",
    "    if not 0 <= current_year - birth_year <= 100:\n",
    "        raise ValueError('...')\n",
    "\n",
    "    return {}\n",
    "\n",
    "    \n",
    "        \n",
    "text = input('Input >>>')\n",
    "print (student_information(text))"
   ]
  },
  {
   "cell_type": "code",
   "execution_count": 35,
   "id": "76678c4a-39f0-477b-9c02-3aba60676be7",
   "metadata": {},
   "outputs": [
    {
     "name": "stdout",
     "output_type": "stream",
     "text": [
      "Help on built-in function isalpha:\n",
      "\n",
      "isalpha() method of builtins.str instance\n",
      "    Return True if the string is an alphabetic string, False otherwise.\n",
      "\n",
      "    A string is alphabetic if all characters in the string are alphabetic and there\n",
      "    is at least one character in the string.\n",
      "\n"
     ]
    }
   ],
   "source": [
    "help(''.isalpha)"
   ]
  },
  {
   "cell_type": "code",
   "execution_count": null,
   "id": "c2bc7f83-0c61-4824-8a40-21d38664a276",
   "metadata": {},
   "outputs": [],
   "source": []
  }
 ],
 "metadata": {
  "kernelspec": {
   "display_name": "Python 3 (ipykernel)",
   "language": "python",
   "name": "python3"
  },
  "language_info": {
   "codemirror_mode": {
    "name": "ipython",
    "version": 3
   },
   "file_extension": ".py",
   "mimetype": "text/x-python",
   "name": "python",
   "nbconvert_exporter": "python",
   "pygments_lexer": "ipython3",
   "version": "3.13.2"
  }
 },
 "nbformat": 4,
 "nbformat_minor": 5
}
