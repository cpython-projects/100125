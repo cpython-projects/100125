{
 "cells": [
  {
   "cell_type": "code",
   "execution_count": 18,
   "id": "c2897a63-d59e-4967-9274-7559917ca00d",
   "metadata": {},
   "outputs": [],
   "source": [
    "from datetime import datetime\n",
    "from dateutil import parser\n",
    "    \n",
    "class Student:\n",
    "\n",
    "    def __init__(self, name: str, date_of_birth: str):\n",
    "        if not isinstance(name, str):\n",
    "            raise TypeError('Name must be a string')\n",
    "        name = name.strip().title()\n",
    "        if not name:\n",
    "            raise ValueError('Name is empty!')\n",
    "        \n",
    "        self.name = name\n",
    "        date_of_birth = parser.parse(date_of_birth).strftime('%Y-%m-%d')\n",
    "        self.date_of_birth = datetime.strptime(date_of_birth, '%Y-%m-%d')\n",
    "\n",
    "    def age(self, current_date=None):\n",
    "        current_date = current_date or datetime.now()\n",
    "        user_age = current_date.year - self.date_of_birth.year - ((current_date.month, current_date.day) < (self.date_of_birth.month, self.date_of_birth.day))\n",
    "        return user_age\n",
    "\n",
    "    def __str__(self):\n",
    "        return f'Student: {self.name}, date_birth: {self.date_of_birth.date()}'"
   ]
  },
  {
   "cell_type": "code",
   "execution_count": 22,
   "id": "030c75a1-70d2-45df-aa6b-775f6e5e2bd6",
   "metadata": {},
   "outputs": [
    {
     "name": "stdout",
     "output_type": "stream",
     "text": [
      "Student: Xyz, date_birth: 1993-03-18\n",
      "Student: Alice, date_birth: 1990-12-22\n",
      "Student: Alice, date_birth: 2009-12-22\n",
      "Student: Alice, date_birth: 2005-07-18\n",
      "Student: Alice, date_birth: 2009-09-14\n",
      "Student: Xyz, date_birth: 2001-03-07\n"
     ]
    }
   ],
   "source": [
    "import random\n",
    "names = ['Alice', 'Bob', 'July', 'Jack', 'XYZ', 'Ann']\n",
    "\n",
    "\n",
    "students = []\n",
    "for i in range(6):\n",
    "    st = Student(random.choice(names),\n",
    "                 f'{random.randint(1990, 2010)}-{random.randint(1, 12)}-{random.randint(1, 28)}'\n",
    "                )\n",
    "    students.append(st)\n",
    "\n",
    "print(*students, sep='\\n')"
   ]
  },
  {
   "cell_type": "code",
   "execution_count": 23,
   "id": "646ec38a-d5b2-4bfa-8d1c-15da9de510d5",
   "metadata": {},
   "outputs": [
    {
     "name": "stdin",
     "output_type": "stream",
     "text": [
      "age>> 30\n"
     ]
    },
    {
     "name": "stdout",
     "output_type": "stream",
     "text": [
      "Student: Alice, date_birth: 2009-12-22\n",
      "Student: Alice, date_birth: 2005-07-18\n",
      "Student: Alice, date_birth: 2009-09-14\n",
      "Student: Xyz, date_birth: 2001-03-07\n"
     ]
    }
   ],
   "source": [
    "age = int(input('age>>'))\n",
    "young_students = filter(lambda item: item.age() < age,  students)\n",
    "print(*young_students, sep='\\n')"
   ]
  },
  {
   "cell_type": "code",
   "execution_count": 27,
   "id": "56281948-93d3-4022-8ef9-d09b546e5441",
   "metadata": {},
   "outputs": [],
   "source": [
    "class BachelorStudent(Student):\n",
    "    def __init__(self, name: str, date_of_birth: str, year_of_study, major):\n",
    "        super().__init__(name, date_of_birth)\n",
    "        self.year_of_study = year_of_study\n",
    "        self.major = major\n",
    "\n",
    "class MasterStudent(Student):\n",
    "    def __init__(self, name: str, date_of_birth: str, research_topic, advisor):\n",
    "        super().__init__(name, date_of_birth)\n",
    "        self.thesis = research_topic\n",
    "        self.advisor = advisor\n",
    "\n",
    "    def __str__(self):\n",
    "        res = super().__str__()\n",
    "        res += f', {self.thesis}, {self.advisor}'\n",
    "        return res"
   ]
  },
  {
   "cell_type": "code",
   "execution_count": 25,
   "id": "bdde060a-18b3-4dbb-b185-498ef746d847",
   "metadata": {},
   "outputs": [
    {
     "name": "stdout",
     "output_type": "stream",
     "text": [
      "Student: Alice, date_birth: 2020-01-01\n"
     ]
    }
   ],
   "source": [
    "st = Student('Alice', '2020-01-01')\n",
    "print(st)"
   ]
  },
  {
   "cell_type": "code",
   "execution_count": 28,
   "id": "8004a49c-56ed-40b9-bf66-43c983e841c8",
   "metadata": {},
   "outputs": [
    {
     "name": "stdout",
     "output_type": "stream",
     "text": [
      "Student: Alice, date_birth: 2020-01-01, Python, Oleh\n"
     ]
    }
   ],
   "source": [
    "st = MasterStudent('Alice', '2020-01-01', 'Python', 'Oleh')\n",
    "print(st)"
   ]
  },
  {
   "cell_type": "code",
   "execution_count": 29,
   "id": "b4c597bb-3985-48db-8aad-a11b810fe389",
   "metadata": {},
   "outputs": [
    {
     "data": {
      "text/plain": [
       "(__main__.MasterStudent, __main__.Student, object)"
      ]
     },
     "execution_count": 29,
     "metadata": {},
     "output_type": "execute_result"
    }
   ],
   "source": [
    "MasterStudent.__mro__"
   ]
  },
  {
   "cell_type": "code",
   "execution_count": 30,
   "id": "b438a00d-8985-4181-993d-675b0a0d9436",
   "metadata": {},
   "outputs": [
    {
     "name": "stdout",
     "output_type": "stream",
     "text": [
      "B\n"
     ]
    }
   ],
   "source": [
    "class A:\n",
    "    def __str__(self):\n",
    "        return 'A'\n",
    "\n",
    "class B(A):\n",
    "    def __str__(self):\n",
    "        return 'B'\n",
    "\n",
    "class C(B):\n",
    "    def __str__(self):\n",
    "        return super().__str__()\n",
    "\n",
    "x = C()\n",
    "print(x)"
   ]
  },
  {
   "cell_type": "code",
   "execution_count": 31,
   "id": "0f384e5f-5d5a-4388-8e6a-dc36d553ee4b",
   "metadata": {},
   "outputs": [
    {
     "data": {
      "text/plain": [
       "(__main__.C, __main__.B, __main__.A, object)"
      ]
     },
     "execution_count": 31,
     "metadata": {},
     "output_type": "execute_result"
    }
   ],
   "source": [
    "C.__mro__"
   ]
  },
  {
   "cell_type": "code",
   "execution_count": 35,
   "id": "99898db9-cf6a-4b5b-8aea-9ec4eeb13958",
   "metadata": {},
   "outputs": [
    {
     "name": "stdout",
     "output_type": "stream",
     "text": [
      "AB\n"
     ]
    }
   ],
   "source": [
    "class A:\n",
    "    def __str__(self):\n",
    "        return 'A'\n",
    "\n",
    "class B:\n",
    "    def __str__(self):\n",
    "        return 'B'\n",
    "\n",
    "class C(B, A):\n",
    "    def __str__(self):\n",
    "        return A.__str__(self) + B.__str__(self)\n",
    "\n",
    "x = C()\n",
    "print(x)"
   ]
  },
  {
   "cell_type": "code",
   "execution_count": 36,
   "id": "0de7515d-9de9-4d81-82d3-d64339d3e98b",
   "metadata": {},
   "outputs": [
    {
     "data": {
      "text/plain": [
       "(__main__.C, __main__.B, __main__.A, object)"
      ]
     },
     "execution_count": 36,
     "metadata": {},
     "output_type": "execute_result"
    }
   ],
   "source": [
    "C.__mro__"
   ]
  },
  {
   "cell_type": "code",
   "execution_count": null,
   "id": "b4292e08-5580-4b9c-b346-b197d5daf0d4",
   "metadata": {},
   "outputs": [],
   "source": []
  }
 ],
 "metadata": {
  "kernelspec": {
   "display_name": "Python 3 (ipykernel)",
   "language": "python",
   "name": "python3"
  },
  "language_info": {
   "codemirror_mode": {
    "name": "ipython",
    "version": 3
   },
   "file_extension": ".py",
   "mimetype": "text/x-python",
   "name": "python",
   "nbconvert_exporter": "python",
   "pygments_lexer": "ipython3",
   "version": "3.13.3"
  }
 },
 "nbformat": 4,
 "nbformat_minor": 5
}
