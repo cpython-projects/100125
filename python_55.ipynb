{
 "cells": [
  {
   "cell_type": "code",
   "execution_count": 1,
   "id": "9eed2565-e508-443a-a95b-6ef24e570f63",
   "metadata": {},
   "outputs": [
    {
     "name": "stdout",
     "output_type": "stream",
     "text": [
      "{\"\\u0433\\u043e\\u0440\\u043e\\u0434\": \"\\u0411\\u0435\\u0440\\u043b\\u0438\\u043d\", \"\\u0441\\u0442\\u0440\\u0430\\u043d\\u0430\": \"\\u0413\\u0435\\u0440\\u043c\\u0430\\u043d\\u0438\\u044f\"}\n"
     ]
    }
   ],
   "source": [
    "import json\n",
    "data = {\n",
    "    \"город\": \"Берлин\",\n",
    "    \"страна\": \"Германия\"\n",
    "}\n",
    "\n",
    "json_string = json.dumps(data)\n",
    "print(json_string)"
   ]
  },
  {
   "cell_type": "code",
   "execution_count": 4,
   "id": "1e64b052-29cd-470e-874d-095c827d4c85",
   "metadata": {},
   "outputs": [
    {
     "name": "stdout",
     "output_type": "stream",
     "text": [
      "{\n",
      "    \"город\": \"Берлин\",\n",
      "    \"страна\": \"Германия\"\n",
      "}\n"
     ]
    }
   ],
   "source": [
    "import json\n",
    "data = {\n",
    "    \"город\": \"Берлин\",\n",
    "    \"страна\": \"Германия\"\n",
    "}\n",
    "\n",
    "json_string = json.dumps(data, ensure_ascii=False, indent=4)\n",
    "print(json_string)"
   ]
  },
  {
   "cell_type": "code",
   "execution_count": 5,
   "id": "ef80931a-ef10-421c-bec4-fbc3ab6bebba",
   "metadata": {},
   "outputs": [
    {
     "name": "stdout",
     "output_type": "stream",
     "text": [
      "{\n",
      "    \"name\": \"Alice\",\n",
      "    \"age\": 25,\n",
      "    \"is_student\": false,\n",
      "    \"city\": \"London\"\n",
      "}\n"
     ]
    }
   ],
   "source": [
    "import json\n",
    "data = {\"name\": \"Alice\", \"age\": 25, \"is_student\": False, \"city\": \"London\"}\n",
    "\n",
    "json_string = json.dumps(data, indent=4) # Без сортировки ключей\n",
    "print(json_string)"
   ]
  },
  {
   "cell_type": "code",
   "execution_count": 6,
   "id": "cf0b187e-00fc-455d-b51a-b36e5b20af71",
   "metadata": {},
   "outputs": [
    {
     "name": "stdout",
     "output_type": "stream",
     "text": [
      "{\n",
      "    \"age\": 25,\n",
      "    \"city\": \"London\",\n",
      "    \"is_student\": false,\n",
      "    \"name\": \"Alice\"\n",
      "}\n"
     ]
    }
   ],
   "source": [
    "json_string = json.dumps(data, indent=4, sort_keys=True) \n",
    "print(json_string)"
   ]
  },
  {
   "cell_type": "code",
   "execution_count": null,
   "id": "da9cc55e-88d5-4f5c-8859-70372da6f416",
   "metadata": {},
   "outputs": [],
   "source": [
    "with open('data.json') as file:\n",
    "    ..."
   ]
  },
  {
   "cell_type": "code",
   "execution_count": 9,
   "id": "8440d56a-228a-46f7-b647-c77e2c2b28e0",
   "metadata": {},
   "outputs": [
    {
     "name": "stdout",
     "output_type": "stream",
     "text": [
      "Expecting property name enclosed in double quotes: line 1 column 50 (char 49)\n"
     ]
    }
   ],
   "source": [
    "import json\n",
    "invalid_json = '{\"name\": \"Alice\", \"age\": 25, \"is_student\": false,' \n",
    "\n",
    "try:\n",
    "    data = json.loads(invalid_json)\n",
    "except json.JSONDecodeError as error:\n",
    "    print(error)"
   ]
  },
  {
   "cell_type": "code",
   "execution_count": 10,
   "id": "9d7517b8-0f39-4283-b9e2-f623a8f8f1b0",
   "metadata": {},
   "outputs": [
    {
     "name": "stdout",
     "output_type": "stream",
     "text": [
      "<class 'datetime.datetime'>\n",
      "2025-05-09 11:03:51.426009\n"
     ]
    }
   ],
   "source": [
    "from datetime import datetime\n",
    "\n",
    "now = datetime.now()\n",
    "\n",
    "print(type(now))\n",
    "print(now)"
   ]
  },
  {
   "cell_type": "code",
   "execution_count": 11,
   "id": "556ba8d8-b0e4-4c3f-b69c-f667fcd8d474",
   "metadata": {},
   "outputs": [
    {
     "data": {
      "text/plain": [
       "2025"
      ]
     },
     "execution_count": 11,
     "metadata": {},
     "output_type": "execute_result"
    }
   ],
   "source": [
    "now.year"
   ]
  },
  {
   "cell_type": "code",
   "execution_count": 12,
   "id": "4a7e9abd-522e-4494-9a51-c1828aef17de",
   "metadata": {},
   "outputs": [
    {
     "data": {
      "text/plain": [
       "5"
      ]
     },
     "execution_count": 12,
     "metadata": {},
     "output_type": "execute_result"
    }
   ],
   "source": [
    "now.month"
   ]
  },
  {
   "cell_type": "code",
   "execution_count": 13,
   "id": "6f6167a9-7114-4be3-adfb-47bbb066a6f2",
   "metadata": {},
   "outputs": [
    {
     "data": {
      "text/plain": [
       "9"
      ]
     },
     "execution_count": 13,
     "metadata": {},
     "output_type": "execute_result"
    }
   ],
   "source": [
    "now.day"
   ]
  },
  {
   "cell_type": "code",
   "execution_count": 14,
   "id": "8e270f45-5cd4-463f-8afe-c4a24954ab5a",
   "metadata": {},
   "outputs": [
    {
     "data": {
      "text/plain": [
       "11"
      ]
     },
     "execution_count": 14,
     "metadata": {},
     "output_type": "execute_result"
    }
   ],
   "source": [
    "now.hour"
   ]
  },
  {
   "cell_type": "code",
   "execution_count": 17,
   "id": "69f3f0f5-1fa1-42b8-99ec-aab92a6982ea",
   "metadata": {},
   "outputs": [
    {
     "data": {
      "text/plain": [
       "3"
      ]
     },
     "execution_count": 17,
     "metadata": {},
     "output_type": "execute_result"
    }
   ],
   "source": [
    "now.minute"
   ]
  },
  {
   "cell_type": "code",
   "execution_count": 18,
   "id": "8c298c2d-6890-4c39-924e-85841d621462",
   "metadata": {},
   "outputs": [
    {
     "data": {
      "text/plain": [
       "51"
      ]
     },
     "execution_count": 18,
     "metadata": {},
     "output_type": "execute_result"
    }
   ],
   "source": [
    "now.second"
   ]
  },
  {
   "cell_type": "code",
   "execution_count": 19,
   "id": "b7bdcfd1-df92-4dfb-bf5f-82a5918a62f4",
   "metadata": {},
   "outputs": [
    {
     "name": "stdout",
     "output_type": "stream",
     "text": [
      "2025-05-09 11:06:57.809269\n"
     ]
    }
   ],
   "source": [
    "from datetime import datetime\n",
    "\n",
    "now = datetime.now()\n",
    "print(now)"
   ]
  },
  {
   "cell_type": "code",
   "execution_count": 21,
   "id": "a33ef4f6-2231-4a9b-8d7c-0743d0f83919",
   "metadata": {},
   "outputs": [
    {
     "name": "stdout",
     "output_type": "stream",
     "text": [
      "<class 'str'>\n",
      "09.05.2025 11:06\n"
     ]
    }
   ],
   "source": [
    "formatted_date = now.strftime(\"%d.%m.%Y %H:%M\")\n",
    "print(type(formatted_date))\n",
    "print(formatted_date)"
   ]
  },
  {
   "cell_type": "code",
   "execution_count": 22,
   "id": "e5fb51ae-c2e1-4d84-a97f-8c6fdb871cf7",
   "metadata": {},
   "outputs": [
    {
     "name": "stdout",
     "output_type": "stream",
     "text": [
      "2025-05-09\n",
      "09/05/2025\n",
      "11:12 AM\n",
      "Friday, May 09, 2025\n"
     ]
    }
   ],
   "source": [
    "from datetime import datetime\n",
    "now = datetime.now()\n",
    "print(now.strftime(\"%Y-%m-%d\")) # 2025-02-28 (ISO формат)\n",
    "print(now.strftime(\"%d/%m/%Y\")) # 28/02/2025 (европейский формат)\n",
    "print(now.strftime(\"%I:%M %p\")) # 02:30 PM (12-часовой формат)\n",
    "print(now.strftime(\"%A, %B %d, %Y\")) # Friday, February 28, 2025"
   ]
  },
  {
   "cell_type": "code",
   "execution_count": 24,
   "id": "d05c2baf-5fd3-4452-8441-8c0874a9ad7e",
   "metadata": {},
   "outputs": [
    {
     "name": "stdout",
     "output_type": "stream",
     "text": [
      "<class 'datetime.timedelta'>\n",
      "736 days, 0:00:00\n",
      "736\n"
     ]
    }
   ],
   "source": [
    "from datetime import datetime\n",
    "date1 = datetime(2023, 2, 28)\n",
    "date2 = datetime(2025, 3, 5)\n",
    "difference = date2 - date1\n",
    "print(type(difference))\n",
    "print(difference)\n",
    "print(difference.days)"
   ]
  },
  {
   "cell_type": "code",
   "execution_count": 26,
   "id": "38ede202-7bbf-428c-8538-d2fdef3dcbc9",
   "metadata": {},
   "outputs": [
    {
     "name": "stdout",
     "output_type": "stream",
     "text": [
      "Дедлайн: 2025-05-23 11:23:54.898800\n"
     ]
    }
   ],
   "source": [
    "from datetime import datetime, timedelta\n",
    "\n",
    "start_date = datetime.now()\n",
    "\n",
    "deadline = start_date + timedelta(weeks=2)\n",
    "\n",
    "print(f\"Дедлайн: {deadline}\")\n",
    "\n"
   ]
  },
  {
   "cell_type": "code",
   "execution_count": 29,
   "id": "4e46f786-3e75-48a1-8ec7-c4b07880da96",
   "metadata": {},
   "outputs": [
    {
     "name": "stdout",
     "output_type": "stream",
     "text": [
      "2025-05-09 00:00:00\n"
     ]
    }
   ],
   "source": [
    "res = datetime(2025, 5, 9)\n",
    "\n",
    "print(res)"
   ]
  },
  {
   "cell_type": "code",
   "execution_count": 27,
   "id": "31046710-b81e-4da3-9577-2d205d114bb4",
   "metadata": {},
   "outputs": [
    {
     "name": "stdout",
     "output_type": "stream",
     "text": [
      "Help on class datetime in module datetime:\n",
      "\n",
      "class datetime(date)\n",
      " |  datetime(year, month, day[, hour[, minute[, second[, microsecond[,tzinfo]]]]])\n",
      " |\n",
      " |  The year, month and day arguments are required. tzinfo may be None, or an\n",
      " |  instance of a tzinfo subclass. The remaining arguments may be ints.\n",
      " |\n",
      " |  Method resolution order:\n",
      " |      datetime\n",
      " |      date\n",
      " |      builtins.object\n",
      " |\n",
      " |  Methods defined here:\n",
      " |\n",
      " |  __add__(self, value, /)\n",
      " |      Return self+value.\n",
      " |\n",
      " |  __eq__(self, value, /)\n",
      " |      Return self==value.\n",
      " |\n",
      " |  __ge__(self, value, /)\n",
      " |      Return self>=value.\n",
      " |\n",
      " |  __gt__(self, value, /)\n",
      " |      Return self>value.\n",
      " |\n",
      " |  __hash__(self, /)\n",
      " |      Return hash(self).\n",
      " |\n",
      " |  __le__(self, value, /)\n",
      " |      Return self<=value.\n",
      " |\n",
      " |  __lt__(self, value, /)\n",
      " |      Return self<value.\n",
      " |\n",
      " |  __ne__(self, value, /)\n",
      " |      Return self!=value.\n",
      " |\n",
      " |  __radd__(self, value, /)\n",
      " |      Return value+self.\n",
      " |\n",
      " |  __reduce__(self, /)\n",
      " |      __reduce__() -> (cls, state)\n",
      " |\n",
      " |  __reduce_ex__(...)\n",
      " |      __reduce_ex__(proto) -> (cls, state)\n",
      " |\n",
      " |  __replace__(self, /, **changes)\n",
      " |      The same as replace().\n",
      " |\n",
      " |  __repr__(self, /)\n",
      " |      Return repr(self).\n",
      " |\n",
      " |  __rsub__(self, value, /)\n",
      " |      Return value-self.\n",
      " |\n",
      " |  __str__(self, /)\n",
      " |      Return str(self).\n",
      " |\n",
      " |  __sub__(self, value, /)\n",
      " |      Return self-value.\n",
      " |\n",
      " |  astimezone(...)\n",
      " |      tz -> convert to local time in new timezone tz\n",
      " |\n",
      " |  ctime(self, /)\n",
      " |      Return ctime() style string.\n",
      " |\n",
      " |  date(self, /)\n",
      " |      Return date object with same year, month and day.\n",
      " |\n",
      " |  dst(self, /)\n",
      " |      Return self.tzinfo.dst(self).\n",
      " |\n",
      " |  isoformat(...)\n",
      " |      [sep] -> string in ISO 8601 format, YYYY-MM-DDT[HH[:MM[:SS[.mmm[uuu]]]]][+HH:MM].\n",
      " |      sep is used to separate the year from the time, and defaults to 'T'.\n",
      " |      The optional argument timespec specifies the number of additional terms\n",
      " |      of the time to include. Valid options are 'auto', 'hours', 'minutes',\n",
      " |      'seconds', 'milliseconds' and 'microseconds'.\n",
      " |\n",
      " |  replace(self, /, year=unchanged, month=unchanged, day=unchanged,\n",
      " |          hour=unchanged, minute=unchanged, second=unchanged,\n",
      " |          microsecond=unchanged, tzinfo=unchanged, *, fold=unchanged)\n",
      " |      Return datetime with new specified fields.\n",
      " |\n",
      " |  time(self, /)\n",
      " |      Return time object with same time but with tzinfo=None.\n",
      " |\n",
      " |  timestamp(self, /)\n",
      " |      Return POSIX timestamp as float.\n",
      " |\n",
      " |  timetuple(self, /)\n",
      " |      Return time tuple, compatible with time.localtime().\n",
      " |\n",
      " |  timetz(self, /)\n",
      " |      Return time object with same time and tzinfo.\n",
      " |\n",
      " |  tzname(self, /)\n",
      " |      Return self.tzinfo.tzname(self).\n",
      " |\n",
      " |  utcoffset(self, /)\n",
      " |      Return self.tzinfo.utcoffset(self).\n",
      " |\n",
      " |  utctimetuple(self, /)\n",
      " |      Return UTC time tuple, compatible with time.localtime().\n",
      " |\n",
      " |  ----------------------------------------------------------------------\n",
      " |  Class methods defined here:\n",
      " |\n",
      " |  combine(...)\n",
      " |      date, time -> datetime with same date and time fields\n",
      " |\n",
      " |  fromisoformat(object, /)\n",
      " |      string -> datetime from a string in most ISO 8601 formats\n",
      " |\n",
      " |  fromtimestamp(...)\n",
      " |      timestamp[, tz] -> tz's local time from POSIX timestamp.\n",
      " |\n",
      " |  now(tz=None)\n",
      " |      Returns new datetime object representing current time local to tz.\n",
      " |\n",
      " |        tz\n",
      " |          Timezone object.\n",
      " |\n",
      " |      If no tz is specified, uses local timezone.\n",
      " |\n",
      " |  strptime(...)\n",
      " |      string, format -> new datetime parsed from a string (like time.strptime()).\n",
      " |\n",
      " |  utcfromtimestamp(...)\n",
      " |      Construct a naive UTC datetime from a POSIX timestamp.\n",
      " |\n",
      " |  utcnow()\n",
      " |      Return a new datetime representing UTC day and time.\n",
      " |\n",
      " |  ----------------------------------------------------------------------\n",
      " |  Static methods defined here:\n",
      " |\n",
      " |  __new__(*args, **kwargs)\n",
      " |      Create and return a new object.  See help(type) for accurate signature.\n",
      " |\n",
      " |  ----------------------------------------------------------------------\n",
      " |  Data descriptors defined here:\n",
      " |\n",
      " |  fold\n",
      " |\n",
      " |  hour\n",
      " |\n",
      " |  microsecond\n",
      " |\n",
      " |  minute\n",
      " |\n",
      " |  second\n",
      " |\n",
      " |  tzinfo\n",
      " |\n",
      " |  ----------------------------------------------------------------------\n",
      " |  Data and other attributes defined here:\n",
      " |\n",
      " |  max = datetime.datetime(9999, 12, 31, 23, 59, 59, 999999)\n",
      " |\n",
      " |  min = datetime.datetime(1, 1, 1, 0, 0)\n",
      " |\n",
      " |  resolution = datetime.timedelta(microseconds=1)\n",
      " |\n",
      " |  ----------------------------------------------------------------------\n",
      " |  Methods inherited from date:\n",
      " |\n",
      " |  __format__(...)\n",
      " |      Formats self with strftime.\n",
      " |\n",
      " |  isocalendar(self, /)\n",
      " |      Return a named tuple containing ISO year, week number, and weekday.\n",
      " |\n",
      " |  isoweekday(self, /)\n",
      " |      Return the day of the week represented by the date.\n",
      " |      Monday == 1 ... Sunday == 7\n",
      " |\n",
      " |  strftime(...)\n",
      " |      format -> strftime() style string.\n",
      " |\n",
      " |  toordinal(self, /)\n",
      " |      Return proleptic Gregorian ordinal.  January 1 of year 1 is day 1.\n",
      " |\n",
      " |  weekday(self, /)\n",
      " |      Return the day of the week represented by the date.\n",
      " |      Monday == 0 ... Sunday == 6\n",
      " |\n",
      " |  ----------------------------------------------------------------------\n",
      " |  Class methods inherited from date:\n",
      " |\n",
      " |  fromisocalendar(...)\n",
      " |      int, int, int -> Construct a date from the ISO year, week number and weekday.\n",
      " |\n",
      " |      This is the inverse of the date.isocalendar() function\n",
      " |\n",
      " |  fromordinal(...)\n",
      " |      int -> date corresponding to a proleptic Gregorian ordinal.\n",
      " |\n",
      " |  today()\n",
      " |      Current date or datetime:  same as self.__class__.fromtimestamp(time.time()).\n",
      " |\n",
      " |  ----------------------------------------------------------------------\n",
      " |  Data descriptors inherited from date:\n",
      " |\n",
      " |  day\n",
      " |\n",
      " |  month\n",
      " |\n",
      " |  year\n",
      "\n"
     ]
    }
   ],
   "source": [
    "help(datetime)"
   ]
  },
  {
   "cell_type": "code",
   "execution_count": null,
   "id": "37ed75f9-165d-41a2-adc9-aa48a717edb7",
   "metadata": {},
   "outputs": [],
   "source": []
  }
 ],
 "metadata": {
  "kernelspec": {
   "display_name": "Python 3 (ipykernel)",
   "language": "python",
   "name": "python3"
  },
  "language_info": {
   "codemirror_mode": {
    "name": "ipython",
    "version": 3
   },
   "file_extension": ".py",
   "mimetype": "text/x-python",
   "name": "python",
   "nbconvert_exporter": "python",
   "pygments_lexer": "ipython3",
   "version": "3.13.2"
  }
 },
 "nbformat": 4,
 "nbformat_minor": 5
}
