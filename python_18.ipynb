{
 "cells": [
  {
   "cell_type": "code",
   "execution_count": 1,
   "id": "99908ef8-79ce-4afc-b6bc-d22c4fe76830",
   "metadata": {},
   "outputs": [
    {
     "name": "stdout",
     "output_type": "stream",
     "text": [
      "[]\n",
      "[]\n"
     ]
    }
   ],
   "source": [
    "x = []\n",
    "y = list()\n",
    "print(x)\n",
    "print(y)"
   ]
  },
  {
   "cell_type": "code",
   "execution_count": 2,
   "id": "97ba0a0c-c0f5-4484-9061-9a21c12a1dd9",
   "metadata": {},
   "outputs": [
    {
     "name": "stdout",
     "output_type": "stream",
     "text": [
      "['Python']\n",
      "['P', 'y', 't', 'h', 'o', 'n']\n"
     ]
    }
   ],
   "source": [
    "x = ['Python']\n",
    "y = list('Python')\n",
    "print(x)\n",
    "print(y)"
   ]
  },
  {
   "cell_type": "code",
   "execution_count": 4,
   "id": "57a7c303-bc48-48e5-89a9-a30381d835e0",
   "metadata": {},
   "outputs": [
    {
     "name": "stdout",
     "output_type": "stream",
     "text": [
      "[42, 'Python', 3.14, True, [1, 2, 3]]\n",
      "[42, 'Python', 3.14, True, [1, 2, 3]]\n",
      "['4', '2', ',', ' ', '\"', 'P', 'y', 't', 'h', 'o', 'n', '\"', ',', ' ', '3', '.', '1', '4', ',', ' ', 'T', 'r', 'u', 'e', ',', ' ', '[', '1', ',', ' ', '2', ',', '3', ']']\n"
     ]
    }
   ],
   "source": [
    "mixed_list = [42, \"Python\", 3.14, True, [1, 2,\n",
    "3]]\n",
    "\n",
    "y = list(mixed_list)\n",
    "z =  list('42, \"Python\", 3.14, True, [1, 2,3]')\n",
    "print(mixed_list, y, z, sep='\\n')"
   ]
  },
  {
   "cell_type": "code",
   "execution_count": 5,
   "id": "d7dd1c47-94cb-40a9-bfd3-a5e059aa71cc",
   "metadata": {},
   "outputs": [
    {
     "name": "stdout",
     "output_type": "stream",
     "text": [
      "[1, 2, 3, 4, 5, 6, 7, 8, 9, 10, 11, 12, 13, 14, 15, 16, 17, 18, 19, 20]\n"
     ]
    }
   ],
   "source": [
    "x = list(range(1, 21))\n",
    "print(x)"
   ]
  },
  {
   "cell_type": "code",
   "execution_count": 7,
   "id": "b405618d-9e42-44a3-b9a7-fe387f1fb4b6",
   "metadata": {},
   "outputs": [
    {
     "name": "stdout",
     "output_type": "stream",
     "text": [
      "[8, 7, 6]\n"
     ]
    }
   ],
   "source": [
    "x = [1, 2, 3, 4, 5, 6, 7, 8, 9]\n",
    "print(x[-2:-5:-1])"
   ]
  },
  {
   "cell_type": "code",
   "execution_count": 8,
   "id": "e03fdb94-3eaa-4a2c-974b-869c453bb097",
   "metadata": {},
   "outputs": [
    {
     "name": "stdout",
     "output_type": "stream",
     "text": [
      "Hello Hello\n"
     ]
    }
   ],
   "source": [
    "x = 'Hello'\n",
    "y = x[:]\n",
    "\n",
    "print(x, y)"
   ]
  },
  {
   "cell_type": "code",
   "execution_count": 9,
   "id": "81f4c9bd-826d-45b6-8700-fc1d674e508b",
   "metadata": {},
   "outputs": [
    {
     "data": {
      "text/plain": [
       "(1892561510176, 1892561510176)"
      ]
     },
     "execution_count": 9,
     "metadata": {},
     "output_type": "execute_result"
    }
   ],
   "source": [
    "id(x), id(y)"
   ]
  },
  {
   "cell_type": "code",
   "execution_count": 13,
   "id": "8ee5d48f-10f1-4440-8f6a-9f172b2abbfa",
   "metadata": {},
   "outputs": [
    {
     "name": "stdin",
     "output_type": "stream",
     "text": [
      "numbers>> 1,23,34,45,56,65,5,5,5,4,4,3,2,1\n"
     ]
    }
   ],
   "source": [
    "text = input('numbers>>')\n",
    "text=text.split(',')"
   ]
  },
  {
   "cell_type": "code",
   "execution_count": 15,
   "id": "34897e62-9959-45dc-b964-ec178bcc4080",
   "metadata": {},
   "outputs": [
    {
     "name": "stdout",
     "output_type": "stream",
     "text": [
      "['1', '2', '3', '4', '4']\n"
     ]
    }
   ],
   "source": [
    "print(text[-1:-6:-1])"
   ]
  },
  {
   "cell_type": "code",
   "execution_count": 16,
   "id": "0d2e9a4a-0569-48ce-914e-636532858687",
   "metadata": {},
   "outputs": [
    {
     "name": "stdout",
     "output_type": "stream",
     "text": [
      "['4', '4', '3', '2', '1']\n"
     ]
    }
   ],
   "source": [
    "print(text[-5:])"
   ]
  },
  {
   "cell_type": "code",
   "execution_count": 18,
   "id": "5c2f1ba2-97c7-494a-b452-b48cf5bc7d53",
   "metadata": {},
   "outputs": [
    {
     "name": "stdout",
     "output_type": "stream",
     "text": [
      "['56', '65', '5', '5', '5']\n"
     ]
    }
   ],
   "source": [
    "md = len(text) // 2\n",
    "print(text[md-3:md+2])"
   ]
  },
  {
   "cell_type": "code",
   "execution_count": 19,
   "id": "9e6e544f-9e2d-4897-88af-540326bbbe0e",
   "metadata": {},
   "outputs": [
    {
     "data": {
      "text/plain": [
       "33"
      ]
     },
     "execution_count": 19,
     "metadata": {},
     "output_type": "execute_result"
    }
   ],
   "source": [
    "len(range(2, 100, 3))"
   ]
  },
  {
   "cell_type": "code",
   "execution_count": 20,
   "id": "f0bf8738-fbfa-4eda-9b68-b5d055399dab",
   "metadata": {},
   "outputs": [
    {
     "name": "stdout",
     "output_type": "stream",
     "text": [
      "728.0\n",
      "46884.666666666664\n"
     ]
    }
   ],
   "source": [
    "salary = [100, 1001, 1023, 100, 1021, 1123, 1450, 11201, 10233, 13400, 134001, 111023]\n",
    "\n",
    "\n",
    "print(sum(salary[:6])/6)\n",
    "print(sum(salary[6:])/6)"
   ]
  },
  {
   "cell_type": "code",
   "execution_count": 21,
   "id": "6eba0583-7676-403a-89e8-e72a58669887",
   "metadata": {},
   "outputs": [
    {
     "name": "stdout",
     "output_type": "stream",
     "text": [
      "[0, 0, 0, 0, 0, 0, 0, 0, 0, 0]\n"
     ]
    }
   ],
   "source": [
    "x = [0] * 10\n",
    "print(x)"
   ]
  },
  {
   "cell_type": "code",
   "execution_count": 22,
   "id": "f57c2375-d55f-4503-8523-966f68f92bdc",
   "metadata": {},
   "outputs": [
    {
     "name": "stdout",
     "output_type": "stream",
     "text": [
      "[[1, 2, 3], [1, 2, 3], [1, 2, 3], [1, 2, 3], [1, 2, 3]]\n"
     ]
    }
   ],
   "source": [
    "x = [[1, 2, 3]] * 5\n",
    "print(x)"
   ]
  },
  {
   "cell_type": "code",
   "execution_count": 23,
   "id": "105d49e2-e727-4f5b-9829-ebbfce8c7fce",
   "metadata": {},
   "outputs": [
    {
     "name": "stdout",
     "output_type": "stream",
     "text": [
      "[[100, 2, 3], [100, 2, 3], [100, 2, 3], [100, 2, 3], [100, 2, 3]]\n"
     ]
    }
   ],
   "source": [
    "x[0][0] = 100\n",
    "print(x)"
   ]
  },
  {
   "cell_type": "code",
   "execution_count": 24,
   "id": "d151e833-279e-428a-8af1-2e707e896657",
   "metadata": {},
   "outputs": [
    {
     "data": {
      "text/plain": [
       "[100, 2, 3]"
      ]
     },
     "execution_count": 24,
     "metadata": {},
     "output_type": "execute_result"
    }
   ],
   "source": [
    "x[0]"
   ]
  },
  {
   "cell_type": "code",
   "execution_count": 25,
   "id": "9d5d1bd7-2ca8-416f-923e-2de4b5a89357",
   "metadata": {},
   "outputs": [
    {
     "name": "stdout",
     "output_type": "stream",
     "text": [
      "True\n"
     ]
    }
   ],
   "source": [
    "x = [1, 2, 3]\n",
    "y = [1, 2, 3]\n",
    "print(x == y)"
   ]
  },
  {
   "cell_type": "code",
   "execution_count": 26,
   "id": "ef3da94a-4181-4003-857d-ab6291bd0ea7",
   "metadata": {},
   "outputs": [
    {
     "name": "stdout",
     "output_type": "stream",
     "text": [
      "True\n"
     ]
    }
   ],
   "source": [
    "x = [1, 2, 3]\n",
    "y = [1, 2, 3, 4]\n",
    "print(x != y)"
   ]
  },
  {
   "cell_type": "code",
   "execution_count": 28,
   "id": "cd520035-1393-4e78-adf2-6fc2c20641ff",
   "metadata": {},
   "outputs": [
    {
     "name": "stdout",
     "output_type": "stream",
     "text": [
      "True\n",
      "False\n"
     ]
    }
   ],
   "source": [
    "x = [1, 2, 6]\n",
    "y = [1, 2, 3, 7]\n",
    "print(x > y)\n",
    "print(x < y)"
   ]
  },
  {
   "cell_type": "code",
   "execution_count": 29,
   "id": "41a4636f-5296-42a1-b48f-d21d6f861a94",
   "metadata": {},
   "outputs": [
    {
     "name": "stdout",
     "output_type": "stream",
     "text": [
      "False\n"
     ]
    }
   ],
   "source": [
    "x = [1, 2, 3, 4]\n",
    "y = [2.4, 5.6]\n",
    "\n",
    "print(x > y)"
   ]
  },
  {
   "cell_type": "code",
   "execution_count": 30,
   "id": "0bf44b9b-fb78-4bd1-850c-fe56c2452d01",
   "metadata": {},
   "outputs": [
    {
     "ename": "TypeError",
     "evalue": "'>' not supported between instances of 'int' and 'str'",
     "output_type": "error",
     "traceback": [
      "\u001b[1;31m---------------------------------------------------------------------------\u001b[0m",
      "\u001b[1;31mTypeError\u001b[0m                                 Traceback (most recent call last)",
      "Cell \u001b[1;32mIn[30], line 4\u001b[0m\n\u001b[0;32m      1\u001b[0m x \u001b[38;5;241m=\u001b[39m [\u001b[38;5;241m1\u001b[39m, \u001b[38;5;241m2\u001b[39m, \u001b[38;5;241m3\u001b[39m, \u001b[38;5;241m4\u001b[39m]\n\u001b[0;32m      2\u001b[0m y \u001b[38;5;241m=\u001b[39m [\u001b[38;5;124m'\u001b[39m\u001b[38;5;124m2.4\u001b[39m\u001b[38;5;124m'\u001b[39m, \u001b[38;5;241m5.6\u001b[39m]\n\u001b[1;32m----> 4\u001b[0m \u001b[38;5;28mprint\u001b[39m(\u001b[43mx\u001b[49m\u001b[43m \u001b[49m\u001b[38;5;241;43m>\u001b[39;49m\u001b[43m \u001b[49m\u001b[43my\u001b[49m)\n",
      "\u001b[1;31mTypeError\u001b[0m: '>' not supported between instances of 'int' and 'str'"
     ]
    }
   ],
   "source": [
    "x = [1, 2, 3, 4]\n",
    "y = ['2.4', 5.6]\n",
    "\n",
    "print(x > y)"
   ]
  },
  {
   "cell_type": "code",
   "execution_count": 31,
   "id": "35e28885-41cf-46f9-8c37-77aa20e9a0e9",
   "metadata": {},
   "outputs": [
    {
     "name": "stdout",
     "output_type": "stream",
     "text": [
      "False\n"
     ]
    }
   ],
   "source": [
    "x = [1, 2, 3]\n",
    "y = [1, 4, 'Hello']\n",
    "print(x > y)"
   ]
  },
  {
   "cell_type": "code",
   "execution_count": 32,
   "id": "cb247c80-c5c2-4889-a385-2ee2b4884fa0",
   "metadata": {},
   "outputs": [
    {
     "name": "stdout",
     "output_type": "stream",
     "text": [
      "False\n"
     ]
    }
   ],
   "source": [
    "x = ['1', '2']\n",
    "y = ['a', 'b']\n",
    "print(x > y)"
   ]
  },
  {
   "cell_type": "code",
   "execution_count": 35,
   "id": "0f5500b6-7d98-4c03-b20f-2376f6b4b172",
   "metadata": {},
   "outputs": [
    {
     "data": {
      "text/plain": [
       "(1, 5, 15)"
      ]
     },
     "execution_count": 35,
     "metadata": {},
     "output_type": "execute_result"
    }
   ],
   "source": [
    "x = [1, 2, 3, 4, 5]\n",
    "min(x), max(x), sum(x)"
   ]
  },
  {
   "cell_type": "code",
   "execution_count": 37,
   "id": "f0e329db-6d22-4ab8-a98a-2fdfcbc97e4a",
   "metadata": {},
   "outputs": [
    {
     "data": {
      "text/plain": [
       "('a', 'z')"
      ]
     },
     "execution_count": 37,
     "metadata": {},
     "output_type": "execute_result"
    }
   ],
   "source": [
    "x = 'abcxz'\n",
    "min(x), max(x)"
   ]
  },
  {
   "cell_type": "code",
   "execution_count": 38,
   "id": "05c5615f-7ab3-46d6-ae22-bf1a50d95825",
   "metadata": {},
   "outputs": [
    {
     "name": "stdout",
     "output_type": "stream",
     "text": [
      "12\n",
      "23\n",
      "3434\n",
      "33.456\n"
     ]
    }
   ],
   "source": [
    "x = ['12', 23, 3434, 33.456]\n",
    "\n",
    "for item in x:\n",
    "    print(item)"
   ]
  },
  {
   "cell_type": "code",
   "execution_count": null,
   "id": "bf7bb672-46a7-4f2d-aa10-4fb016a90c21",
   "metadata": {},
   "outputs": [],
   "source": []
  }
 ],
 "metadata": {
  "kernelspec": {
   "display_name": "Python 3 (ipykernel)",
   "language": "python",
   "name": "python3"
  },
  "language_info": {
   "codemirror_mode": {
    "name": "ipython",
    "version": 3
   },
   "file_extension": ".py",
   "mimetype": "text/x-python",
   "name": "python",
   "nbconvert_exporter": "python",
   "pygments_lexer": "ipython3",
   "version": "3.12.4"
  }
 },
 "nbformat": 4,
 "nbformat_minor": 5
}
