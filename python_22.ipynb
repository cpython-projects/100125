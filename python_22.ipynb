{
 "cells": [
  {
   "cell_type": "code",
   "execution_count": 1,
   "id": "8253312a-9dfd-4979-bcdf-9020e7fec560",
   "metadata": {},
   "outputs": [
    {
     "name": "stdout",
     "output_type": "stream",
     "text": [
      "144\n",
      "529\n",
      "2025\n",
      "3136\n",
      "6084\n"
     ]
    }
   ],
   "source": [
    "x = [12, 23, 45, 56, 78]\n",
    "\n",
    "for item in x:\n",
    "    print(item * item)"
   ]
  },
  {
   "cell_type": "code",
   "execution_count": 2,
   "id": "5bb3b3ee-6f03-4284-aa94-439378beb17f",
   "metadata": {},
   "outputs": [
    {
     "name": "stdout",
     "output_type": "stream",
     "text": [
      "[600.0, 12200.4, 20.4, 2060.4, 2060.4]\n"
     ]
    }
   ],
   "source": [
    "salary = [1000, 20334, 34, 3434, 3434]\n",
    "for i in range(len(salary)):\n",
    "    salary[i] *= 0.6\n",
    "\n",
    "print(salary)"
   ]
  },
  {
   "cell_type": "code",
   "execution_count": 3,
   "id": "7506c9b4-c031-4105-b522-487b5be4b57f",
   "metadata": {},
   "outputs": [
    {
     "name": "stdout",
     "output_type": "stream",
     "text": [
      "Янв : 100\n",
      "Фев : 200\n",
      "Март : 300\n",
      "Апр : 400\n",
      "Май : 500\n",
      "Июнь : 600\n"
     ]
    }
   ],
   "source": [
    "salary = [100, 200, 300, 400, 500, 600]\n",
    "month = ['Янв', 'Фев', 'Март', 'Апр', 'Май', 'Июнь']\n",
    "\n",
    "for i in range(len(salary)):\n",
    "    print(month[i], ':', salary[i])\n",
    "    "
   ]
  },
  {
   "cell_type": "code",
   "execution_count": 5,
   "id": "ad186bdb-9295-40d4-8f73-1fc80b564229",
   "metadata": {},
   "outputs": [
    {
     "name": "stdout",
     "output_type": "stream",
     "text": [
      "[1, 2, 3, 4, 5, 6, 7]\n"
     ]
    }
   ],
   "source": [
    "x = [1, 2, 3, 4, 5, 6, 7]\n",
    "\n",
    "\n",
    "for item in x:\n",
    "    item += 1\n",
    "\n",
    "print(x)"
   ]
  },
  {
   "cell_type": "code",
   "execution_count": 6,
   "id": "6c3e3cc8-4013-4a79-8ed8-b4bb31abb92f",
   "metadata": {},
   "outputs": [],
   "source": [
    "data = [\n",
    "    '1 1$',\n",
    "    '2 2$',\n",
    "    '3 3$',\n",
    "    '4 4$',\n",
    "    '5 5$',\n",
    "    '6 6$',\n",
    "    '7 7$',\n",
    "    '8 8$',\n",
    "]\n",
    "\n",
    "total = 0\n",
    "for row in data:\n",
    "    total += float(row.split()[1].replace('$', ''))\n",
    "\n",
    "print(total)"
   ]
  },
  {
   "cell_type": "code",
   "execution_count": 7,
   "id": "b3b5056e-5f81-4194-b865-3014e6480263",
   "metadata": {},
   "outputs": [
    {
     "name": "stdout",
     "output_type": "stream",
     "text": [
      "[1.0, 2.0, 3.0, 4.0, 5.0, 6.0, 7.0, 8.0]\n",
      "36.0\n",
      "1.0\n",
      "8.0\n",
      "4.5\n"
     ]
    }
   ],
   "source": [
    "data = [\n",
    "    '1 1$',\n",
    "    '2 2$',\n",
    "    '3 3$',\n",
    "    '4 4$',\n",
    "    '5 5$',\n",
    "    '6 6$',\n",
    "    '7 7$',\n",
    "    '8 8$',\n",
    "]\n",
    "\n",
    "for i in range(len(data)):\n",
    "    row = data[i]\n",
    "    salary = float(row.split()[1].replace('$', ''))\n",
    "    data[i] = salary\n",
    "\n",
    "print(data)\n",
    "print(sum(data))\n",
    "print(min(data))\n",
    "print(max(data))\n",
    "print(sum(data) / len(data))"
   ]
  },
  {
   "cell_type": "code",
   "execution_count": 8,
   "id": "119796b0-8984-434f-8971-bda7485f41f5",
   "metadata": {},
   "outputs": [
    {
     "name": "stdout",
     "output_type": "stream",
     "text": [
      "The number is 42.\n"
     ]
    }
   ],
   "source": [
    "num = 42\n",
    "text = \"The number is %s.\" % num\n",
    "print(text)"
   ]
  },
  {
   "cell_type": "code",
   "execution_count": 9,
   "id": "f0a132a1-a5b0-494e-985e-f5d5d59f6e5d",
   "metadata": {},
   "outputs": [
    {
     "name": "stdout",
     "output_type": "stream",
     "text": [
      "Pi: 3.141593\n"
     ]
    }
   ],
   "source": [
    "import math\n",
    "text = 'Pi: %f' % math.pi\n",
    "print(text)"
   ]
  },
  {
   "cell_type": "code",
   "execution_count": 10,
   "id": "9ecaa3c5-7876-4c54-b1ef-15c3834fcc68",
   "metadata": {},
   "outputs": [
    {
     "data": {
      "text/plain": [
       "3.141592653589793"
      ]
     },
     "execution_count": 10,
     "metadata": {},
     "output_type": "execute_result"
    }
   ],
   "source": [
    "math.pi"
   ]
  },
  {
   "cell_type": "code",
   "execution_count": 12,
   "id": "96cee61f-3c26-4952-8aed-55650ee479e0",
   "metadata": {},
   "outputs": [
    {
     "name": "stdout",
     "output_type": "stream",
     "text": [
      "Pi: 3.142\n"
     ]
    }
   ],
   "source": [
    "import math\n",
    "text = 'Pi: %.3f' % math.pi\n",
    "print(text)"
   ]
  },
  {
   "cell_type": "code",
   "execution_count": 16,
   "id": "09c3bb77-692e-4119-8363-87791320adf3",
   "metadata": {},
   "outputs": [
    {
     "name": "stdout",
     "output_type": "stream",
     "text": [
      "My name is {} and I am {} years old. {} is a big boss!\n"
     ]
    }
   ],
   "source": [
    "name = \"Alice\"\n",
    "age = 30\n",
    "text = \"My name is {} and I am {} years old. {} is a big boss!\"\n",
    "\n",
    "print(text)"
   ]
  },
  {
   "cell_type": "code",
   "execution_count": 17,
   "id": "5da200a2-7803-4445-9dda-ee8cf41e3ff9",
   "metadata": {},
   "outputs": [
    {
     "name": "stdout",
     "output_type": "stream",
     "text": [
      "My name is Alice and I am 30 years old. Alice is a big boss!\n"
     ]
    }
   ],
   "source": [
    "print(text.format(name, age, name))"
   ]
  },
  {
   "cell_type": "code",
   "execution_count": 19,
   "id": "19ad7899-5c06-4c9a-8476-7b9b25eeb3b5",
   "metadata": {},
   "outputs": [
    {
     "name": "stdout",
     "output_type": "stream",
     "text": [
      "My name is Alice and I am 30 years old.\n",
      "My name is Bob and I am 23 years old.\n",
      "My name is Anna and I am 45 years old.\n",
      "My name is Oleh and I am 34 years old.\n"
     ]
    }
   ],
   "source": [
    "text = \"My name is {} and I am {} years old.\"\n",
    "\n",
    "data = [\n",
    "    'Alice 30',\n",
    "    'Bob 23',\n",
    "    'Anna 45',\n",
    "    'Oleh 34'\n",
    "]\n",
    "\n",
    "for row in data:\n",
    "    info = row.split()\n",
    "    print(text.format(info[0], info[1]))"
   ]
  },
  {
   "cell_type": "code",
   "execution_count": 20,
   "id": "be8034a0-f206-4a16-9671-3d0308aafb46",
   "metadata": {},
   "outputs": [
    {
     "name": "stdout",
     "output_type": "stream",
     "text": [
      "My name is Alice and I am 30 years old. Alice is a big boss.\n",
      "My name is Bob and I am 23 years old. Bob is a big boss.\n",
      "My name is Anna and I am 45 years old. Anna is a big boss.\n",
      "My name is Oleh and I am 34 years old. Oleh is a big boss.\n"
     ]
    }
   ],
   "source": [
    "text = \"My name is {0} and I am {1} years old. {0} is a big boss.\"\n",
    "\n",
    "data = [\n",
    "    'Alice 30',\n",
    "    'Bob 23',\n",
    "    'Anna 45',\n",
    "    'Oleh 34'\n",
    "]\n",
    "\n",
    "for row in data:\n",
    "    info = row.split()\n",
    "    print(text.format(info[0], info[1]))"
   ]
  },
  {
   "cell_type": "code",
   "execution_count": 23,
   "id": "a190c1bc-03e3-4764-bd89-a00524a139b0",
   "metadata": {},
   "outputs": [
    {
     "name": "stdout",
     "output_type": "stream",
     "text": [
      "My name is Alice and I am 30 years old. Alice is a big boss.\n",
      "My name is Bob and I am 23 years old. Bob is a big boss.\n",
      "My name is Anna and I am 45 years old. Anna is a big boss.\n",
      "My name is Oleh and I am 34 years old. Oleh is a big boss.\n"
     ]
    }
   ],
   "source": [
    "text = \"My name is {name} and I am {age} years old. {name} is a big boss.\"\n",
    "\n",
    "data = [\n",
    "    'Alice 30',\n",
    "    'Bob 23',\n",
    "    'Anna 45',\n",
    "    'Oleh 34'\n",
    "]\n",
    "\n",
    "for row in data:\n",
    "    info = row.split()\n",
    "    print(text.format(name=info[0], age=info[1]))"
   ]
  },
  {
   "cell_type": "code",
   "execution_count": 25,
   "id": "e505e4b8-3bea-46fd-81b8-85a83632fb94",
   "metadata": {},
   "outputs": [
    {
     "name": "stdout",
     "output_type": "stream",
     "text": [
      "My name is Alice and I am 30 years old. Alice is a big boss. Lives in Berlin\n",
      "My name is Bob and I am 23 years old. Bob is a big boss. Lives in Keln\n",
      "My name is Anna and I am 45 years old. Anna is a big boss. Lives in Antalya\n",
      "My name is Oleh and I am 34 years old. Oleh is a big boss. Lives in Tbilisi\n"
     ]
    }
   ],
   "source": [
    "text = \"My name is {name} and I am {age} years old. {name} is a big boss. Lives in {}\"\n",
    "\n",
    "data = [\n",
    "    'Alice 30 Berlin',\n",
    "    'Bob 23 Keln',\n",
    "    'Anna 45 Antalya',\n",
    "    'Oleh 34 Tbilisi'\n",
    "]\n",
    "\n",
    "for row in data:\n",
    "    info = row.split()\n",
    "    print(text.format(info[2], name=info[0], age=info[1]))"
   ]
  },
  {
   "cell_type": "code",
   "execution_count": 26,
   "id": "43a4522c-9e75-4a74-8d6a-1b967a2c2fc3",
   "metadata": {},
   "outputs": [
    {
     "name": "stdin",
     "output_type": "stream",
     "text": [
      "name>> Alice\n",
      "age>> 20\n"
     ]
    },
    {
     "name": "stdout",
     "output_type": "stream",
     "text": [
      "My name is Alice and I am 20 years old\n"
     ]
    }
   ],
   "source": [
    "name = input('name>>')\n",
    "age = int(input('age>>'))\n",
    "text = f\"My name is {name} and I am {age} years old\"\n",
    "print(text)"
   ]
  },
  {
   "cell_type": "code",
   "execution_count": 28,
   "id": "1a52a074-bad3-437f-bad1-2f8013b68a67",
   "metadata": {},
   "outputs": [
    {
     "name": "stdout",
     "output_type": "stream",
     "text": [
      "My name is Alice and I am 20 years old\n"
     ]
    }
   ],
   "source": [
    "text = \"My name is \" + name + \" and I am \" + str(age) + \" years old\"\n",
    "print(text)"
   ]
  },
  {
   "cell_type": "code",
   "execution_count": 30,
   "id": "f3f69eb2-7471-443b-9a31-0d6f578461be",
   "metadata": {},
   "outputs": [
    {
     "name": "stdout",
     "output_type": "stream",
     "text": [
      "Pi: 3.14\n"
     ]
    }
   ],
   "source": [
    "import math\n",
    "print(f'Pi: {math.pi:.2f}')"
   ]
  },
  {
   "cell_type": "code",
   "execution_count": 36,
   "id": "411f3469-ea14-40bf-b96a-4c79e3af8c23",
   "metadata": {},
   "outputs": [
    {
     "name": "stdout",
     "output_type": "stream",
     "text": [
      "x: 1,234,567,890,345,678\n",
      "x: 1_234_567_890_345_678\n"
     ]
    }
   ],
   "source": [
    "x = 1234567890345678\n",
    "print(f'x: {x:,}')\n",
    "print(f'x: {x:_}')"
   ]
  },
  {
   "cell_type": "code",
   "execution_count": 40,
   "id": "dcf96fbc-54dd-4966-b892-b2bde0267700",
   "metadata": {},
   "outputs": [
    {
     "name": "stdout",
     "output_type": "stream",
     "text": [
      "start_      text_end\n",
      "start_text      _end\n",
      "start_   text   _end\n",
      "start_***text***_end\n"
     ]
    }
   ],
   "source": [
    "# f-строки\n",
    "text_fstring = f\"start_{'text':>10}_end\"\n",
    "print(text_fstring)\n",
    "text_fstring = f\"start_{'text':<10}_end\"\n",
    "print(text_fstring)\n",
    "text_fstring = f\"start_{'text':^10}_end\"\n",
    "print(text_fstring)\n",
    "text_fstring = f\"start_{'text':*^10}_end\"\n",
    "print(text_fstring)"
   ]
  },
  {
   "cell_type": "code",
   "execution_count": 42,
   "id": "fd59874e-b9bd-467f-b6aa-fa4e48779945",
   "metadata": {},
   "outputs": [
    {
     "name": "stdout",
     "output_type": "stream",
     "text": [
      "0000 **Alice***\n",
      "0001 ***Bob****\n",
      "0002 ***Oleh***\n",
      "0003 ggggggggggggggggggggg\n"
     ]
    }
   ],
   "source": [
    "names = ['Alice', 'Bob', 'Oleh', 'ggggggggggggggggggggg']\n",
    "\n",
    "for i in range(len(names)):\n",
    "    print(f'{i:0>4} {names[i]:*^10}')"
   ]
  },
  {
   "cell_type": "code",
   "execution_count": null,
   "id": "0c66be15-118f-47e0-a029-a8d2774ae2ce",
   "metadata": {},
   "outputs": [],
   "source": []
  }
 ],
 "metadata": {
  "kernelspec": {
   "display_name": "Python 3 (ipykernel)",
   "language": "python",
   "name": "python3"
  },
  "language_info": {
   "codemirror_mode": {
    "name": "ipython",
    "version": 3
   },
   "file_extension": ".py",
   "mimetype": "text/x-python",
   "name": "python",
   "nbconvert_exporter": "python",
   "pygments_lexer": "ipython3",
   "version": "3.12.4"
  }
 },
 "nbformat": 4,
 "nbformat_minor": 5
}
