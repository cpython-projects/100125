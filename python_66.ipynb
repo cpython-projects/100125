{
 "cells": [
  {
   "cell_type": "code",
   "execution_count": 1,
   "id": "d31ee5b5-5f21-485e-9afa-8b3e7551dade",
   "metadata": {},
   "outputs": [
    {
     "name": "stdout",
     "output_type": "stream",
     "text": [
      "Alice is working...\n",
      "Bob is working...\n"
     ]
    }
   ],
   "source": [
    "class Employee:\n",
    "    def __init__(self, name):\n",
    "        self.name = name\n",
    "    \n",
    "    def work(self):\n",
    "        print(f\"{self.name} is working...\")\n",
    "\n",
    "class Programmer(Employee):\n",
    "    pass\n",
    "\n",
    "class Manager(Employee):\n",
    "    pass\n",
    "\n",
    "    \n",
    "programmer = Programmer(\"Alice\")\n",
    "manager = Manager(\"Bob\")\n",
    "\n",
    "programmer.work()\n",
    "manager.work()"
   ]
  },
  {
   "cell_type": "code",
   "execution_count": 2,
   "id": "5991d157-540a-4fe1-a271-023f6628f082",
   "metadata": {},
   "outputs": [
    {
     "name": "stdout",
     "output_type": "stream",
     "text": [
      "Method1 from A\n",
      "Method2 from A\n"
     ]
    }
   ],
   "source": [
    "class A:\n",
    "    def method1(self):\n",
    "        return 'Method1 from A'\n",
    "\n",
    "    def method2(self):\n",
    "        return 'Method2 from A'\n",
    "\n",
    "\n",
    "class B(A):\n",
    "    pass\n",
    "\n",
    "x = B()\n",
    "print(x.method1())\n",
    "print(x.method2())"
   ]
  },
  {
   "cell_type": "code",
   "execution_count": 3,
   "id": "28fa4b75-90e5-4af4-ba32-a4cf03febbde",
   "metadata": {},
   "outputs": [
    {
     "name": "stdout",
     "output_type": "stream",
     "text": [
      "Method1 from A\n",
      "Method2 from A\n",
      "Method3 from B\n"
     ]
    }
   ],
   "source": [
    "class A:\n",
    "    def method1(self):\n",
    "        return 'Method1 from A'\n",
    "\n",
    "    def method2(self):\n",
    "        return 'Method2 from A'\n",
    "\n",
    "\n",
    "class B(A):\n",
    "    def method3(self):\n",
    "        return 'Method3 from B'\n",
    "\n",
    "x = B()\n",
    "print(x.method1())\n",
    "print(x.method2())\n",
    "print(x.method3())"
   ]
  },
  {
   "cell_type": "code",
   "execution_count": 4,
   "id": "9fa10bee-65b6-4673-b391-8ddafb279f21",
   "metadata": {},
   "outputs": [
    {
     "name": "stdout",
     "output_type": "stream",
     "text": [
      "Method1 from B\n",
      "Method2 from A\n",
      "Method3 from B\n",
      "Method1 from A\n",
      "Method2 from A\n"
     ]
    }
   ],
   "source": [
    "class A:\n",
    "    def method1(self):\n",
    "        return 'Method1 from A'\n",
    "\n",
    "    def method2(self):\n",
    "        return 'Method2 from A'\n",
    "\n",
    "\n",
    "class B(A):\n",
    "    def method1(self):\n",
    "        return 'Method1 from B'\n",
    "        \n",
    "    def method3(self):\n",
    "        return 'Method3 from B'\n",
    "\n",
    "x = B()\n",
    "print(x.method1())\n",
    "print(x.method2())\n",
    "print(x.method3())\n",
    "\n",
    "y = A()\n",
    "print(y.method1())\n",
    "print(y.method2())"
   ]
  },
  {
   "cell_type": "code",
   "execution_count": 5,
   "id": "6894eb65-33d0-47da-9cf8-1314b90852bf",
   "metadata": {},
   "outputs": [
    {
     "name": "stdout",
     "output_type": "stream",
     "text": [
      "Method1 from B\n",
      "*Method2 from A*\n",
      "Method3 from B\n"
     ]
    }
   ],
   "source": [
    "class A:\n",
    "    def method1(self):\n",
    "        return 'Method1 from A'\n",
    "\n",
    "    def method2(self):\n",
    "        return 'Method2 from A'\n",
    "\n",
    "\n",
    "class B(A):\n",
    "    def method1(self):\n",
    "        return 'Method1 from B'\n",
    "\n",
    "    def method2(self):\n",
    "        return f'*{super().method2()}*'\n",
    "        \n",
    "    def method3(self):\n",
    "        return 'Method3 from B'\n",
    "\n",
    "x = B()\n",
    "print(x.method1())\n",
    "print(x.method2())\n",
    "print(x.method3())"
   ]
  },
  {
   "cell_type": "code",
   "execution_count": 10,
   "id": "dc2a3a67-ee5c-4fb0-acfd-f2cfae780f9a",
   "metadata": {},
   "outputs": [
    {
     "name": "stdout",
     "output_type": "stream",
     "text": [
      "10\n",
      "20\n"
     ]
    }
   ],
   "source": [
    "class A:\n",
    "    def __init__(self, a):\n",
    "        self.a = a\n",
    "\n",
    "\n",
    "class B(A):\n",
    "    def __init__(self, b):\n",
    "        super().__init__(b * 2)\n",
    "        self.b = b\n",
    "\n",
    "\n",
    "x = B(10)\n",
    "print(x.b)\n",
    "print(x.a)"
   ]
  },
  {
   "cell_type": "code",
   "execution_count": 11,
   "id": "2d18cf49-40d6-496b-bd6e-fd369104e904",
   "metadata": {},
   "outputs": [
    {
     "name": "stdout",
     "output_type": "stream",
     "text": [
      "Alice\n",
      "Python\n"
     ]
    }
   ],
   "source": [
    "class Employee:\n",
    "    def __init__(self, name):\n",
    "        self.name = name\n",
    "        \n",
    "class Programmer(Employee):\n",
    "    def __init__(self, name, language):\n",
    "        super().__init__(name) # вызываем родительский __init__\n",
    "        self.language = language\n",
    "        \n",
    "class Manager(Employee):\n",
    "    def __init__(self, name, department):\n",
    "        super().__init__(name) # вызываем родительский __init__\n",
    "        self.department = department\n",
    "        \n",
    "p = Programmer(\"Alice\", \"Python\")\n",
    "print(p.name)\n",
    "print(p.language)"
   ]
  },
  {
   "cell_type": "code",
   "execution_count": 14,
   "id": "8d398628-a01e-453e-8d2a-8c38eea02dd3",
   "metadata": {},
   "outputs": [
    {
     "name": "stdout",
     "output_type": "stream",
     "text": [
      "one int\n",
      "one str\n",
      "3 + 4\n"
     ]
    }
   ],
   "source": [
    "def f1(*args):\n",
    "    if len(args) == 1:\n",
    "        if isinstance(args[0], str):\n",
    "            return 'one str'\n",
    "        if isinstance(args[0], int):\n",
    "            return 'one int'\n",
    "\n",
    "    if len(args) == 2:\n",
    "        a, b = args\n",
    "        return f'{a} + {b}'\n",
    "\n",
    "    raise TypeError()\n",
    "\n",
    "print(f1(3))\n",
    "print(f1('3'))\n",
    "print(f1(3, 4))"
   ]
  },
  {
   "cell_type": "code",
   "execution_count": 19,
   "id": "e0c0288e-8c36-4287-a5e8-841a71159006",
   "metadata": {},
   "outputs": [
    {
     "name": "stdout",
     "output_type": "stream",
     "text": [
      "Cat Tom says May-May\n",
      "Dog Lack says Woof-Woof\n",
      "Bird Kesha says Kar-Kar\n"
     ]
    }
   ],
   "source": [
    "class Animal:\n",
    "    def __init__(self, name):\n",
    "        self.name = name\n",
    "\n",
    "    def say(self):\n",
    "        raise NotImplementedError()\n",
    "\n",
    "class Cat(Animal):\n",
    "    def say(self):\n",
    "        return f'Cat {self.name} says May-May'\n",
    "\n",
    "class Dog(Animal):\n",
    "    def say(self):\n",
    "        return f'Dog {self.name} says Woof-Woof'\n",
    "\n",
    "class Bird(Animal):\n",
    "    def say(self):\n",
    "        return f'Bird {self.name} says Kar-Kar'\n",
    "\n",
    "def animal_say(obj: Animal):\n",
    "    if isinstance(obj, Animal):\n",
    "        return obj.say()\n",
    "    return 'Cannot speak'\n",
    "\n",
    "obj1 = Cat('Tom')\n",
    "obj2 = Dog('Lack')\n",
    "obj3 = Bird('Kesha')\n",
    "\n",
    "print(animal_say(obj1))\n",
    "print(animal_say(obj2))\n",
    "print(animal_say(obj3))"
   ]
  },
  {
   "cell_type": "code",
   "execution_count": 20,
   "id": "a9c64b37-3673-4f94-b4e7-aa9bb8c6e078",
   "metadata": {},
   "outputs": [
    {
     "data": {
      "text/plain": [
       "True"
      ]
     },
     "execution_count": 20,
     "metadata": {},
     "output_type": "execute_result"
    }
   ],
   "source": [
    "isinstance(obj1, Animal)"
   ]
  },
  {
   "cell_type": "code",
   "execution_count": 21,
   "id": "f1b11f77-a562-42f5-875e-52d6f3ac0605",
   "metadata": {},
   "outputs": [
    {
     "data": {
      "text/plain": [
       "bool"
      ]
     },
     "execution_count": 21,
     "metadata": {},
     "output_type": "execute_result"
    }
   ],
   "source": [
    "x = True\n",
    "type(x) == 'bool'"
   ]
  },
  {
   "cell_type": "code",
   "execution_count": 24,
   "id": "43fcc7b9-0750-46e4-a4cf-71dfa3735316",
   "metadata": {},
   "outputs": [
    {
     "data": {
      "text/plain": [
       "True"
      ]
     },
     "execution_count": 24,
     "metadata": {},
     "output_type": "execute_result"
    }
   ],
   "source": [
    "issubclass(Cat, Animal)"
   ]
  },
  {
   "cell_type": "code",
   "execution_count": 25,
   "id": "c6d7c461-cb24-40eb-ad58-df3cf008059f",
   "metadata": {},
   "outputs": [
    {
     "data": {
      "text/plain": [
       "False"
      ]
     },
     "execution_count": 25,
     "metadata": {},
     "output_type": "execute_result"
    }
   ],
   "source": [
    "issubclass(Cat, Dog)"
   ]
  },
  {
   "cell_type": "code",
   "execution_count": 26,
   "id": "18428746-2df9-4b91-8ece-d3e4601e334e",
   "metadata": {},
   "outputs": [
    {
     "name": "stdout",
     "output_type": "stream",
     "text": [
      "<__main__.Cat object at 0x000001935A679A90>\n"
     ]
    }
   ],
   "source": [
    "print(obj1)"
   ]
  },
  {
   "cell_type": "code",
   "execution_count": 27,
   "id": "f778101c-6fef-48bd-b045-5b3d4fb36f01",
   "metadata": {},
   "outputs": [
    {
     "name": "stdout",
     "output_type": "stream",
     "text": [
      "5\n"
     ]
    }
   ],
   "source": [
    "x = 5\n",
    "print(x)"
   ]
  },
  {
   "cell_type": "code",
   "execution_count": 28,
   "id": "a78afa3c-08fe-4177-afd9-72fb57dd1cb6",
   "metadata": {},
   "outputs": [
    {
     "data": {
      "text/plain": [
       "'<__main__.Cat object at 0x000001935A679A90>'"
      ]
     },
     "execution_count": 28,
     "metadata": {},
     "output_type": "execute_result"
    }
   ],
   "source": [
    "str(obj1)"
   ]
  },
  {
   "cell_type": "code",
   "execution_count": 29,
   "id": "08357401-3878-44aa-95e7-9df5f73043cc",
   "metadata": {},
   "outputs": [
    {
     "data": {
      "text/plain": [
       "'<__main__.Cat object at 0x000001935A679A90>'"
      ]
     },
     "execution_count": 29,
     "metadata": {},
     "output_type": "execute_result"
    }
   ],
   "source": [
    "obj1.__str__()"
   ]
  },
  {
   "cell_type": "code",
   "execution_count": 31,
   "id": "ba9ed0d7-3421-4479-9f69-37841c0e8c16",
   "metadata": {},
   "outputs": [
    {
     "data": {
      "text/plain": [
       "(__main__.Cat, __main__.Animal, object)"
      ]
     },
     "execution_count": 31,
     "metadata": {},
     "output_type": "execute_result"
    }
   ],
   "source": [
    "Cat.__mro__"
   ]
  },
  {
   "cell_type": "code",
   "execution_count": 32,
   "id": "1794c36c-35af-4290-ab51-6e3094cc3f4f",
   "metadata": {},
   "outputs": [
    {
     "data": {
      "text/plain": [
       "['__class__',\n",
       " '__delattr__',\n",
       " '__dict__',\n",
       " '__dir__',\n",
       " '__doc__',\n",
       " '__eq__',\n",
       " '__firstlineno__',\n",
       " '__format__',\n",
       " '__ge__',\n",
       " '__getattribute__',\n",
       " '__getstate__',\n",
       " '__gt__',\n",
       " '__hash__',\n",
       " '__init__',\n",
       " '__init_subclass__',\n",
       " '__le__',\n",
       " '__lt__',\n",
       " '__module__',\n",
       " '__ne__',\n",
       " '__new__',\n",
       " '__reduce__',\n",
       " '__reduce_ex__',\n",
       " '__repr__',\n",
       " '__setattr__',\n",
       " '__sizeof__',\n",
       " '__static_attributes__',\n",
       " '__str__',\n",
       " '__subclasshook__',\n",
       " '__weakref__',\n",
       " 'say']"
      ]
     },
     "execution_count": 32,
     "metadata": {},
     "output_type": "execute_result"
    }
   ],
   "source": [
    "dir(Cat)"
   ]
  },
  {
   "cell_type": "code",
   "execution_count": 35,
   "id": "cd0ca50a-b8db-42dd-ac23-223df8fdfdfa",
   "metadata": {},
   "outputs": [],
   "source": [
    "class Cat(Animal):\n",
    "    def say(self):\n",
    "        return f'Cat {self.name} says May-May'\n",
    "\n",
    "    def __str__(self):\n",
    "        return self.name"
   ]
  },
  {
   "cell_type": "code",
   "execution_count": 34,
   "id": "bcecc372-43a2-4c85-8e0f-0067686ec688",
   "metadata": {},
   "outputs": [
    {
     "name": "stdout",
     "output_type": "stream",
     "text": [
      "Tom\n"
     ]
    }
   ],
   "source": [
    "obj1 = Cat('Tom')\n",
    "print(obj1)"
   ]
  },
  {
   "cell_type": "code",
   "execution_count": 36,
   "id": "0c1dd2e2-fb40-4df9-9f82-8e2ee38a48bc",
   "metadata": {},
   "outputs": [
    {
     "data": {
      "text/plain": [
       "'Tom'"
      ]
     },
     "execution_count": 36,
     "metadata": {},
     "output_type": "execute_result"
    }
   ],
   "source": [
    "str(obj1)"
   ]
  },
  {
   "cell_type": "code",
   "execution_count": 37,
   "id": "06cbf313-4cf2-4bca-8f17-52c09cced9f4",
   "metadata": {},
   "outputs": [
    {
     "data": {
      "text/plain": [
       "'5'"
      ]
     },
     "execution_count": 37,
     "metadata": {},
     "output_type": "execute_result"
    }
   ],
   "source": [
    "x = 5\n",
    "x.__str__()"
   ]
  },
  {
   "cell_type": "code",
   "execution_count": null,
   "id": "f2fdb74a-5fd1-44a4-b1e1-1f3357f89daa",
   "metadata": {},
   "outputs": [],
   "source": []
  }
 ],
 "metadata": {
  "kernelspec": {
   "display_name": "Python 3 (ipykernel)",
   "language": "python",
   "name": "python3"
  },
  "language_info": {
   "codemirror_mode": {
    "name": "ipython",
    "version": 3
   },
   "file_extension": ".py",
   "mimetype": "text/x-python",
   "name": "python",
   "nbconvert_exporter": "python",
   "pygments_lexer": "ipython3",
   "version": "3.13.3"
  }
 },
 "nbformat": 4,
 "nbformat_minor": 5
}
