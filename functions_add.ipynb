{
 "cells": [
  {
   "cell_type": "markdown",
   "id": "8ba8cdf8-da9d-4d77-a298-d2fc5951167f",
   "metadata": {},
   "source": [
    "**Task 1**\n",
    "Напишите программу-калькулятор, которая выполняет сложение, вычитание, умножение и деление. Обработайте ошибку деления на ноль и ввод некорректных данных (например, текста вместо чисел)."
   ]
  },
  {
   "cell_type": "code",
   "execution_count": null,
   "id": "50f306eb-1dfc-44af-b13c-96980e51108f",
   "metadata": {},
   "outputs": [],
   "source": []
  },
  {
   "cell_type": "markdown",
   "id": "e4290235-edf6-452b-9a89-d980db4be276",
   "metadata": {},
   "source": [
    "**Task 2**\n",
    "Напишите функцию, которая принимает возраст пользователя и возвращает подтверждение, если возраст больше 18. Если возраст меньше, выбросьте исключение с сообщением, что возраст недостаточен."
   ]
  },
  {
   "cell_type": "code",
   "execution_count": null,
   "id": "e491f5e4-62dd-48ec-a10a-3b2ebbe8284d",
   "metadata": {},
   "outputs": [],
   "source": []
  },
  {
   "cell_type": "markdown",
   "id": "8abfbab7-5daa-4fd9-8ced-26f1165b89a5",
   "metadata": {},
   "source": [
    "**Task 3**\n",
    "Напишите функцию, которая проверяет корректность email-адреса. Если адрес некорректен (например, не содержит символ \"@\"), выбросьте исключение с соответствующим сообщением."
   ]
  },
  {
   "cell_type": "code",
   "execution_count": null,
   "id": "e0b6eb00-b90b-4be5-9c89-889ac65623c6",
   "metadata": {},
   "outputs": [],
   "source": []
  },
  {
   "cell_type": "markdown",
   "id": "b24e5687-1cf4-429f-ac8c-3eb2662b0bcb",
   "metadata": {},
   "source": [
    "**Task 4**\n",
    "Создайте программу, которая конвертирует валюты. При попытке конвертации валюты, которой нет в справочнике, выбросьте исключение с сообщением \"Валюта не найдена\"."
   ]
  },
  {
   "cell_type": "code",
   "execution_count": null,
   "id": "c6f9e247-f8de-4230-b32c-6695bb081058",
   "metadata": {},
   "outputs": [],
   "source": []
  },
  {
   "cell_type": "markdown",
   "id": "5dd21bb3-2c7c-4e05-8789-c78d210e6eb6",
   "metadata": {},
   "source": [
    "**Task 5**\n",
    "Напишите функцию, которая проверяет корректность пароля. Если пароль короче 8 символов, выбросьте исключение с сообщением \"Слишком короткий пароль\"."
   ]
  },
  {
   "cell_type": "code",
   "execution_count": null,
   "id": "14be006e-ba55-4174-ae74-b66044e0098d",
   "metadata": {},
   "outputs": [],
   "source": []
  },
  {
   "cell_type": "markdown",
   "id": "3f7eeaf8-a0f7-455c-a538-c46dfb4efb83",
   "metadata": {},
   "source": [
    "**Task 6**\n",
    "Напишите программу, которая считывает данные из CSV-файла и проверяет, нет ли в колонках пропусков (NaN). Если пропуски есть, выбросьте исключение с указанием, в каких колонках они обнаружены."
   ]
  },
  {
   "cell_type": "code",
   "execution_count": null,
   "id": "961930df-9ec4-448f-ac4d-47473d36d6ba",
   "metadata": {},
   "outputs": [],
   "source": []
  },
  {
   "cell_type": "markdown",
   "id": "1833845a-384a-480f-8110-cf0d05a327ad",
   "metadata": {},
   "source": [
    "**Task 7**\n",
    "Напишите функцию, которая принимает список с датами и проверяет их формат. Если формат некорректен (например, не YYYY-MM-DD), выбросьте исключение. Обработайте ошибку, чтобы записать некорректные значения в отдельный список."
   ]
  },
  {
   "cell_type": "code",
   "execution_count": null,
   "id": "08c0734b-6cd2-477b-bdbc-6ea5822413ce",
   "metadata": {},
   "outputs": [],
   "source": []
  },
  {
   "cell_type": "markdown",
   "id": "87d1037b-9692-43e1-8af5-071e87952dfd",
   "metadata": {},
   "source": [
    "**Task 8**\n",
    "Напишите функцию для анализа данных о продажах, которая принимает колонку с ценами и проверяет, находятся ли все значения в диапазоне от 0 до 1000. Если есть значения за пределами диапазона, выбросьте исключение с сообщением."
   ]
  },
  {
   "cell_type": "code",
   "execution_count": null,
   "id": "2b192186-7609-4be4-81cd-280db8e95339",
   "metadata": {},
   "outputs": [],
   "source": []
  },
  {
   "cell_type": "markdown",
   "id": "35e59b57-3195-4ff3-bfae-01ecaf443e5e",
   "metadata": {},
   "source": [
    "**Task 9**\n",
    "Загрузите данные из JSON-файла и проверьте, чтобы все ключи были заполнены. Если в каких-то записях JSON есть пропущенные ключи, обработайте ошибку и выведите, в каких записях отсутствуют нужные данные."
   ]
  },
  {
   "cell_type": "code",
   "execution_count": null,
   "id": "bde74cad-497d-45ad-92cb-13d752d2cf48",
   "metadata": {},
   "outputs": [],
   "source": []
  },
  {
   "cell_type": "markdown",
   "id": "5ccad2e9-d70a-4222-ab94-3f03580e0f53",
   "metadata": {},
   "source": [
    "**Task 10**\n",
    "Напишите функцию, которая агрегирует данные по месяцам и вычисляет средние значения. Если данные за месяц отсутствуют, выбросьте исключение и выведите месяц, для которого не хватает данных."
   ]
  },
  {
   "cell_type": "code",
   "execution_count": null,
   "id": "bd403b78-1d15-4a87-a61f-b71609b09a6e",
   "metadata": {},
   "outputs": [],
   "source": []
  }
 ],
 "metadata": {
  "kernelspec": {
   "display_name": "Python 3 (ipykernel)",
   "language": "python",
   "name": "python3"
  },
  "language_info": {
   "codemirror_mode": {
    "name": "ipython",
    "version": 3
   },
   "file_extension": ".py",
   "mimetype": "text/x-python",
   "name": "python",
   "nbconvert_exporter": "python",
   "pygments_lexer": "ipython3",
   "version": "3.13.3"
  }
 },
 "nbformat": 4,
 "nbformat_minor": 5
}
