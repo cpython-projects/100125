{
 "cells": [
  {
   "cell_type": "code",
   "execution_count": 1,
   "id": "6544aa07-51b4-4a9a-b2e7-f268552e473b",
   "metadata": {},
   "outputs": [
    {
     "name": "stdout",
     "output_type": "stream",
     "text": [
      "<class 'str'>\n",
      "{\"name\": \"Alice\", \"age\": 25, \"is_student\": false}\n"
     ]
    }
   ],
   "source": [
    "import json\n",
    "\n",
    "data = {\n",
    "    'name': 'Alice',\n",
    "    'age': 25, \n",
    "    'is_student': False\n",
    "}\n",
    "\n",
    "json_string = json.dumps(data) # Преобразование в JSON-строку\n",
    "print(type(json_string))\n",
    "print(json_string)"
   ]
  },
  {
   "cell_type": "code",
   "execution_count": 2,
   "id": "8d7ce833-30c5-4ed0-b9d5-ab4a701dccf8",
   "metadata": {},
   "outputs": [],
   "source": [
    "import json\n",
    "\n",
    "data = {\n",
    "    'name': 'Alice',\n",
    "    'age': 25, \n",
    "    'is_student': False\n",
    "}\n",
    "\n",
    "with open('data.json', 'w') as file:\n",
    "    json.dump(data, file)"
   ]
  },
  {
   "cell_type": "code",
   "execution_count": 4,
   "id": "f9979ca3-9f4e-4e36-8427-fa6aaff42a4a",
   "metadata": {},
   "outputs": [
    {
     "name": "stdout",
     "output_type": "stream",
     "text": [
      "<class 'dict'>\n",
      "{'name': 'Alice', 'age': 25, 'is_student': False}\n"
     ]
    }
   ],
   "source": [
    "import json\n",
    "\n",
    "json_object = '{\"name\": \"Alice\", \"age\": 25, \"is_student\": false}'\n",
    "json_objects = '[{\"name\": \"Alice\", \"age\": 25, \"is_student\": false}, {\"name\": \"Bob\", \"age\": 20, \"is_student\": true}]'\n",
    "\n",
    "data_dict = json.loads(json_object)\n",
    "print(type(data_dict))\n",
    "print(data_dict)"
   ]
  },
  {
   "cell_type": "code",
   "execution_count": 6,
   "id": "cbae5bdc-83b1-4892-9fa9-4f42ab57e43c",
   "metadata": {},
   "outputs": [
    {
     "name": "stdout",
     "output_type": "stream",
     "text": [
      "<class 'list'>\n",
      "[{'name': 'Alice', 'age': 25, 'is_student': False}, {'name': 'Bob', 'age': 20, 'is_student': True}]\n"
     ]
    }
   ],
   "source": [
    "data_dict = json.loads(json_objects)\n",
    "print(type(data_dict))\n",
    "print(data_dict)"
   ]
  },
  {
   "cell_type": "code",
   "execution_count": 7,
   "id": "42864d89-966d-4703-9eaf-9dbc18f15557",
   "metadata": {},
   "outputs": [
    {
     "name": "stdout",
     "output_type": "stream",
     "text": [
      "<class 'dict'>\n",
      "{'name': 'Alice', 'age': 26, 'is_student': False}\n"
     ]
    }
   ],
   "source": [
    "import json\n",
    "with open(\"data.json\", \"r\") as file:\n",
    "    data = json.load(file) # Загрузка JSON из файла\n",
    "print(type(data))\n",
    "print(data)"
   ]
  },
  {
   "cell_type": "code",
   "execution_count": null,
   "id": "f8c0ac89-ecc0-4467-aec1-a39f79380325",
   "metadata": {},
   "outputs": [],
   "source": []
  },
  {
   "cell_type": "code",
   "execution_count": 19,
   "id": "12a3ceb3-70a9-4816-bcc3-ad7312a36d72",
   "metadata": {},
   "outputs": [
    {
     "name": "stdin",
     "output_type": "stream",
     "text": [
      "add\n",
      "get\n",
      "exit\n",
      " add\n",
      "name>> David\n",
      "phone>> e5678\n",
      "add\n",
      "get\n",
      "exit\n",
      " exit\n"
     ]
    }
   ],
   "source": [
    "import json\n",
    "\n",
    "file_contacts = 'contacts.json'\n",
    "\n",
    "with open(file_contacts, 'r') as file:\n",
    "    contacts = json.load(file)\n",
    "\n",
    "prompt = \"add\\nget\\nexit\\n\"\n",
    "while True:\n",
    "    ans = input(prompt).strip().lower()\n",
    "    if ans == 'add':\n",
    "        name, phone = input('name>>'), input('phone>>')\n",
    "        contacts.append({\n",
    "            \"name\": name,\n",
    "            \"phone\": phone\n",
    "        })\n",
    "    elif ans == \"get\":\n",
    "        name = input('name>>')\n",
    "        for item in contacts:\n",
    "            print(item)\n",
    "            if item[\"name\"] == name:\n",
    "                print(item[\"phone\"])\n",
    "                break\n",
    "    elif ans == \"exit\":\n",
    "        with open(file_contacts, 'w') as file:\n",
    "            json.dump(contacts, file, indent=4)\n",
    "        break"
   ]
  },
  {
   "cell_type": "code",
   "execution_count": 14,
   "id": "a6b314b2-25ec-494f-907c-e48479baf47e",
   "metadata": {},
   "outputs": [
    {
     "data": {
      "text/plain": [
       "[{'name': 'Alice', 'phone': '345678'}, {'name': 'Bob', 'phone': '2345678'}]"
      ]
     },
     "execution_count": 14,
     "metadata": {},
     "output_type": "execute_result"
    }
   ],
   "source": [
    "contacts"
   ]
  },
  {
   "cell_type": "code",
   "execution_count": null,
   "id": "b7f5b11b-862d-48d7-8d2d-f6c7ac01a372",
   "metadata": {},
   "outputs": [],
   "source": []
  }
 ],
 "metadata": {
  "kernelspec": {
   "display_name": "Python 3 (ipykernel)",
   "language": "python",
   "name": "python3"
  },
  "language_info": {
   "codemirror_mode": {
    "name": "ipython",
    "version": 3
   },
   "file_extension": ".py",
   "mimetype": "text/x-python",
   "name": "python",
   "nbconvert_exporter": "python",
   "pygments_lexer": "ipython3",
   "version": "3.13.2"
  }
 },
 "nbformat": 4,
 "nbformat_minor": 5
}
