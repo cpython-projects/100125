{
 "cells": [
  {
   "cell_type": "code",
   "execution_count": 1,
   "id": "a260efbe-f9da-4d6f-9e3e-e0c32fecc606",
   "metadata": {},
   "outputs": [
    {
     "ename": "TypeError",
     "evalue": "'int' object is not iterable",
     "output_type": "error",
     "traceback": [
      "\u001b[1;31m---------------------------------------------------------------------------\u001b[0m",
      "\u001b[1;31mTypeError\u001b[0m                                 Traceback (most recent call last)",
      "Cell \u001b[1;32mIn[1], line 2\u001b[0m\n\u001b[0;32m      1\u001b[0m x \u001b[38;5;241m=\u001b[39m \u001b[38;5;241m123\u001b[39m\n\u001b[1;32m----> 2\u001b[0m \u001b[38;5;28;43;01mfor\u001b[39;49;00m\u001b[43m \u001b[49m\u001b[43mitem\u001b[49m\u001b[43m \u001b[49m\u001b[38;5;129;43;01min\u001b[39;49;00m\u001b[43m \u001b[49m\u001b[43mx\u001b[49m\u001b[43m:\u001b[49m\n\u001b[0;32m      3\u001b[0m \u001b[43m    \u001b[49m\u001b[38;5;28;43mprint\u001b[39;49m\u001b[43m(\u001b[49m\u001b[43mitem\u001b[49m\u001b[43m)\u001b[49m\n",
      "\u001b[1;31mTypeError\u001b[0m: 'int' object is not iterable"
     ]
    }
   ],
   "source": [
    "x = 123\n",
    "for item in x:\n",
    "    print(item)"
   ]
  },
  {
   "cell_type": "code",
   "execution_count": 2,
   "id": "525bd71b-20cb-4521-be44-55cedefe826e",
   "metadata": {},
   "outputs": [
    {
     "name": "stdout",
     "output_type": "stream",
     "text": [
      "1\n",
      "2\n",
      "3\n"
     ]
    }
   ],
   "source": [
    "x = '123'\n",
    "for item in x:\n",
    "    print(item)"
   ]
  },
  {
   "cell_type": "code",
   "execution_count": 3,
   "id": "ec5a2e9c-24b0-4496-a6b5-f80de4abd695",
   "metadata": {},
   "outputs": [
    {
     "name": "stdout",
     "output_type": "stream",
     "text": [
      "6\n"
     ]
    }
   ],
   "source": [
    "x = '123'\n",
    "s = 0\n",
    "for item in x:\n",
    "    s += int(item)\n",
    "print(s)"
   ]
  },
  {
   "cell_type": "code",
   "execution_count": 7,
   "id": "82eac2bf-e35f-4d67-8a01-cabde6468cb6",
   "metadata": {},
   "outputs": [
    {
     "data": {
      "text/plain": [
       "True"
      ]
     },
     "execution_count": 7,
     "metadata": {},
     "output_type": "execute_result"
    }
   ],
   "source": [
    "x = 'Oleh Tymchuk'\n",
    "x.isalpha()\n",
    "\n",
    "x = 'OlehTymchuk'\n",
    "x.isalpha()\n",
    "\n",
    "x = 'Олег Тимчук'\n",
    "x.isalpha()\n",
    "\n",
    "x = 'ОлегТимчук'\n",
    "x.isalpha()"
   ]
  },
  {
   "cell_type": "code",
   "execution_count": 13,
   "id": "e3f61781-bfb1-4123-81cf-76fa691ee002",
   "metadata": {},
   "outputs": [
    {
     "name": "stdout",
     "output_type": "stream",
     "text": [
      "True\n",
      "False\n"
     ]
    }
   ],
   "source": [
    "x = '1234'\n",
    "print(x.isdigit())\n",
    "\n",
    "x = '1234a'\n",
    "print(x.isdigit())"
   ]
  },
  {
   "cell_type": "code",
   "execution_count": 16,
   "id": "a519e268-7390-4da7-956e-bf950a5be654",
   "metadata": {},
   "outputs": [
    {
     "name": "stdout",
     "output_type": "stream",
     "text": [
      "False\n",
      "True\n"
     ]
    }
   ],
   "source": [
    "x = '1234 kljkljk'\n",
    "print(x.isalnum())\n",
    "\n",
    "x = '1234kjhkjhja'\n",
    "print(x.isalnum())"
   ]
  },
  {
   "cell_type": "code",
   "execution_count": 28,
   "id": "6c8cce54-9d33-4496-899c-2b9a3b77d1d0",
   "metadata": {},
   "outputs": [
    {
     "name": "stdout",
     "output_type": "stream",
     "text": [
      "   \t   \n",
      " \n",
      "True\n",
      "False\n",
      "False\n",
      "True\n"
     ]
    }
   ],
   "source": [
    "x = '   \\t   \\n '\n",
    "print(x)\n",
    "print(x.isspace())\n",
    "print(x.isprintable())\n",
    "\n",
    "x = '1234a'\n",
    "print(x.isspace())\n",
    "print(x.isprintable())"
   ]
  },
  {
   "cell_type": "code",
   "execution_count": 24,
   "id": "e0f57756-9e09-47a0-b098-9a50926bc703",
   "metadata": {},
   "outputs": [
    {
     "name": "stdout",
     "output_type": "stream",
     "text": [
      "False\n",
      "False\n",
      "False\n"
     ]
    }
   ],
   "source": [
    "x = 'Oleh Tymchuk'\n",
    "print(x.islower())\n",
    "print(x.isupper())\n",
    "print(x.istitle())"
   ]
  },
  {
   "cell_type": "code",
   "execution_count": 26,
   "id": "85025719-c883-4295-a0ab-1a5f3c3ee71a",
   "metadata": {},
   "outputs": [
    {
     "name": "stdout",
     "output_type": "stream",
     "text": [
      "False\n"
     ]
    }
   ],
   "source": [
    "x = 'Oleh'\n",
    "print(x.startswith('Oa'))"
   ]
  },
  {
   "cell_type": "code",
   "execution_count": 27,
   "id": "0df99b06-923b-46db-91f7-53f1f5ddd847",
   "metadata": {},
   "outputs": [
    {
     "name": "stdout",
     "output_type": "stream",
     "text": [
      "True\n"
     ]
    }
   ],
   "source": [
    "x = 'Oleh'\n",
    "print(x.endswith('h'))"
   ]
  },
  {
   "cell_type": "code",
   "execution_count": 30,
   "id": "0f9a147b-13d8-45a5-a760-e3915c2185fb",
   "metadata": {},
   "outputs": [
    {
     "name": "stdout",
     "output_type": "stream",
     "text": [
      "False\n",
      "True\n"
     ]
    }
   ],
   "source": [
    "x = 'Олег'\n",
    "print(x.isascii())\n",
    "\n",
    "x = 'Oleh'\n",
    "print(x.isascii())"
   ]
  },
  {
   "cell_type": "code",
   "execution_count": 32,
   "id": "9009130b-f8dd-4ef2-83d5-00930492174b",
   "metadata": {},
   "outputs": [
    {
     "name": "stdout",
     "output_type": "stream",
     "text": [
      "True\n",
      "False\n"
     ]
    }
   ],
   "source": [
    "x = 'name'\n",
    "print(x.isidentifier())\n",
    "x = '0name'\n",
    "print(x.isidentifier())"
   ]
  },
  {
   "cell_type": "code",
   "execution_count": 2,
   "id": "aa4386e4-2971-4ec2-a959-73e928dc95ec",
   "metadata": {},
   "outputs": [
    {
     "name": "stdin",
     "output_type": "stream",
     "text": [
      "name>> \n"
     ]
    },
    {
     "name": "stdout",
     "output_type": "stream",
     "text": [
      "Error\n"
     ]
    }
   ],
   "source": [
    "user = input('name>>')\n",
    "\n",
    "if user and user.istitle() and user.isalpha():\n",
    "    print('Correct name')\n",
    "else:\n",
    "    print('Error')"
   ]
  },
  {
   "cell_type": "code",
   "execution_count": 3,
   "id": "c7b477ab-e803-4552-b914-9d66788ce1be",
   "metadata": {},
   "outputs": [
    {
     "name": "stdin",
     "output_type": "stream",
     "text": [
      "name>>     \n"
     ]
    },
    {
     "name": "stdout",
     "output_type": "stream",
     "text": [
      "Первая буква с большой, все остальные - с маленькой.\n"
     ]
    }
   ],
   "source": [
    "user = input('name>>')\n",
    "\n",
    "if not user:\n",
    "    print('Вы ничего не ввели.')\n",
    "elif not user.istitle():\n",
    "    print('Первая буква с большой, все остальные - с маленькой.')\n",
    "elif not user.isalpha():\n",
    "    print('Только символы из алфавита')\n",
    "else:\n",
    "    print('Correct name')"
   ]
  },
  {
   "cell_type": "code",
   "execution_count": 4,
   "id": "06173971-3003-4f1c-b45c-5228fd534e5b",
   "metadata": {},
   "outputs": [
    {
     "name": "stdout",
     "output_type": "stream",
     "text": [
      "True\n"
     ]
    }
   ],
   "source": [
    "print('while'.isidentifier())"
   ]
  },
  {
   "cell_type": "code",
   "execution_count": 6,
   "id": "496d0368-ee51-44dc-a1ee-c71700c50db9",
   "metadata": {},
   "outputs": [
    {
     "name": "stdout",
     "output_type": "stream",
     "text": [
      "123\n"
     ]
    }
   ],
   "source": [
    "x = 123\n",
    "print(x)"
   ]
  },
  {
   "cell_type": "code",
   "execution_count": 11,
   "id": "293c6f9a-6856-401e-88af-9e3057a08af9",
   "metadata": {},
   "outputs": [
    {
     "name": "stdout",
     "output_type": "stream",
     "text": [
      "True\n",
      "6\n",
      "13\n",
      "-1\n"
     ]
    }
   ],
   "source": [
    "text = 'Hello World. World if big'\n",
    "print('ll' in text)\n",
    "\n",
    "\n",
    "print(text.find('World'))\n",
    "print(text.rfind('World'))\n",
    "print(text.find('Python'))"
   ]
  },
  {
   "cell_type": "code",
   "execution_count": 13,
   "id": "ec119b4e-889e-4095-b62e-d630b359f503",
   "metadata": {},
   "outputs": [
    {
     "name": "stdin",
     "output_type": "stream",
     "text": [
      "text>> Hello\n",
      "text>> 23456789\n"
     ]
    },
    {
     "name": "stdout",
     "output_type": "stream",
     "text": [
      "Not found!\n"
     ]
    }
   ],
   "source": [
    "text = input('text>>')\n",
    "pattern = input('text>>')\n",
    "res = text.find(pattern)\n",
    "if res != -1:\n",
    "    print(res)\n",
    "else:\n",
    "    print('Not found!')"
   ]
  },
  {
   "cell_type": "code",
   "execution_count": 15,
   "id": "17e66397-4a90-49ab-9374-1d933a8f642a",
   "metadata": {},
   "outputs": [
    {
     "name": "stdout",
     "output_type": "stream",
     "text": [
      "2\n",
      "3\n"
     ]
    },
    {
     "ename": "ValueError",
     "evalue": "substring not found",
     "output_type": "error",
     "traceback": [
      "\u001b[1;31m---------------------------------------------------------------------------\u001b[0m",
      "\u001b[1;31mValueError\u001b[0m                                Traceback (most recent call last)",
      "Cell \u001b[1;32mIn[15], line 6\u001b[0m\n\u001b[0;32m      3\u001b[0m \u001b[38;5;28mprint\u001b[39m(x\u001b[38;5;241m.\u001b[39mindex(\u001b[38;5;124m'\u001b[39m\u001b[38;5;124ml\u001b[39m\u001b[38;5;124m'\u001b[39m))\n\u001b[0;32m      4\u001b[0m \u001b[38;5;28mprint\u001b[39m(x\u001b[38;5;241m.\u001b[39mrindex(\u001b[38;5;124m'\u001b[39m\u001b[38;5;124ml\u001b[39m\u001b[38;5;124m'\u001b[39m))\n\u001b[1;32m----> 6\u001b[0m \u001b[38;5;28mprint\u001b[39m(\u001b[43mx\u001b[49m\u001b[38;5;241;43m.\u001b[39;49m\u001b[43mindex\u001b[49m\u001b[43m(\u001b[49m\u001b[38;5;124;43m'\u001b[39;49m\u001b[38;5;124;43m1\u001b[39;49m\u001b[38;5;124;43m'\u001b[39;49m\u001b[43m)\u001b[49m)\n",
      "\u001b[1;31mValueError\u001b[0m: substring not found"
     ]
    }
   ],
   "source": [
    "x = 'Hello'\n",
    "\n",
    "print(x.index('l'))\n",
    "print(x.rindex('l'))\n",
    "\n",
    "print(x.index('1'))"
   ]
  },
  {
   "cell_type": "code",
   "execution_count": 16,
   "id": "e33873ac-fbb7-4736-b61c-e12081552682",
   "metadata": {},
   "outputs": [
    {
     "name": "stdout",
     "output_type": "stream",
     "text": [
      "Help on built-in function find:\n",
      "\n",
      "find(...) method of builtins.str instance\n",
      "    S.find(sub[, start[, end]]) -> int\n",
      "\n",
      "    Return the lowest index in S where substring sub is found,\n",
      "    such that sub is contained within S[start:end].  Optional\n",
      "    arguments start and end are interpreted as in slice notation.\n",
      "\n",
      "    Return -1 on failure.\n",
      "\n"
     ]
    }
   ],
   "source": [
    "help('123'.find)"
   ]
  },
  {
   "cell_type": "code",
   "execution_count": 1,
   "id": "f60bf20f-4061-4f88-81c5-4ca8adcf2a70",
   "metadata": {},
   "outputs": [
    {
     "name": "stdout",
     "output_type": "stream",
     "text": [
      "0\n",
      "5\n",
      "8\n",
      "11\n",
      "21\n"
     ]
    }
   ],
   "source": [
    "x = '12345123123126677888912'\n",
    "\n",
    "pattern = '12'\n",
    "i = 0\n",
    "\n",
    "while (res := x.find(pattern, i)) != -1:\n",
    "    print(res)\n",
    "    i = res + 1"
   ]
  },
  {
   "cell_type": "code",
   "execution_count": 2,
   "id": "5e8c2db6-5b35-4a95-a4a1-193eb1c327f3",
   "metadata": {},
   "outputs": [
    {
     "name": "stdin",
     "output_type": "stream",
     "text": [
      "number or exit>> 12\n",
      "number or exit>> 12\n",
      "number or exit>> 12\n",
      "number or exit>> exit\n"
     ]
    },
    {
     "name": "stdout",
     "output_type": "stream",
     "text": [
      "36\n"
     ]
    }
   ],
   "source": [
    "s = 0\n",
    "while True:\n",
    "    ans = input('number or exit>>')\n",
    "    if ans == 'exit':\n",
    "        break\n",
    "    s += int(ans)\n",
    "\n",
    "print(s)"
   ]
  },
  {
   "cell_type": "code",
   "execution_count": 3,
   "id": "9e8804a7-ff2a-496f-9208-3453cac384f5",
   "metadata": {},
   "outputs": [
    {
     "name": "stdin",
     "output_type": "stream",
     "text": [
      "number or exit>> 12\n",
      "number or exit>> 12\n",
      "number or exit>> 12\n",
      "number or exit>> exit\n"
     ]
    },
    {
     "name": "stdout",
     "output_type": "stream",
     "text": [
      "36\n"
     ]
    }
   ],
   "source": [
    "s = 0\n",
    "while (ans := input('number or exit>>')) != 'exit':\n",
    "    s += int(ans)\n",
    "\n",
    "print(s)"
   ]
  },
  {
   "cell_type": "code",
   "execution_count": 4,
   "id": "0455f332-b77a-4247-bafb-c501ed87648f",
   "metadata": {},
   "outputs": [
    {
     "name": "stdout",
     "output_type": "stream",
     "text": [
      "3\n"
     ]
    }
   ],
   "source": [
    "x = '123123123'\n",
    "print(x.count('12'))"
   ]
  },
  {
   "cell_type": "code",
   "execution_count": 10,
   "id": "49d23c4d-49aa-4306-aa4c-5e103943756f",
   "metadata": {},
   "outputs": [
    {
     "name": "stdout",
     "output_type": "stream",
     "text": [
      "oleh tymchuk\n",
      "OLEH TYMCHUK\n",
      "Oleh Tymchuk\n",
      "Oleh tymchuk\n",
      "oLEH TYMChuK\n",
      "oleh tymchuk\n",
      "Oleh tymcHUk\n"
     ]
    }
   ],
   "source": [
    "x = 'Oleh tymcHUk'\n",
    "\n",
    "print(x.lower())\n",
    "print(x.upper())\n",
    "print(x.title())\n",
    "print(x.capitalize())\n",
    "print(x.swapcase())\n",
    "\n",
    "print(x.casefold())\n",
    "\n",
    "print(x)\n",
    "\n",
    "x = x.title()"
   ]
  },
  {
   "cell_type": "code",
   "execution_count": 7,
   "id": "ee3f203e-bd32-4ef2-9a1a-e53cbaaaa79a",
   "metadata": {},
   "outputs": [
    {
     "name": "stdin",
     "output_type": "stream",
     "text": [
      "Yes\\No yeS\n"
     ]
    },
    {
     "name": "stdout",
     "output_type": "stream",
     "text": [
      "True\n"
     ]
    }
   ],
   "source": [
    "ans = input('Yes\\\\No')\n",
    "if ans.lower() == 'yes':\n",
    "    print(True)\n",
    "else:\n",
    "    print(False)"
   ]
  },
  {
   "cell_type": "code",
   "execution_count": 11,
   "id": "87ecd604-358f-4b42-875e-f8c7b98ee019",
   "metadata": {},
   "outputs": [
    {
     "name": "stdout",
     "output_type": "stream",
     "text": [
      "straße\n",
      "strasse\n"
     ]
    }
   ],
   "source": [
    "x = \"Straße\"\n",
    "\n",
    "print(x.lower())\n",
    "print(x.casefold())"
   ]
  },
  {
   "cell_type": "code",
   "execution_count": 13,
   "id": "fb44a965-8c95-47ad-aae2-04bebaa250ce",
   "metadata": {},
   "outputs": [
    {
     "name": "stdout",
     "output_type": "stream",
     "text": [
      "He***o world\n"
     ]
    }
   ],
   "source": [
    "x = 'Hello world'\n",
    "\n",
    "x = x.replace('ll', '***')\n",
    "print(x)\n"
   ]
  },
  {
   "cell_type": "code",
   "execution_count": 14,
   "id": "6ca825ad-a179-4195-99ed-eaaba9458a67",
   "metadata": {},
   "outputs": [
    {
     "name": "stdin",
     "output_type": "stream",
     "text": [
      "text>>> hello             world!        Python\n"
     ]
    }
   ],
   "source": [
    "text = input('text>>>')"
   ]
  },
  {
   "cell_type": "code",
   "execution_count": 15,
   "id": "ac40a7f7-0634-435b-8cac-61fc1c62ad1c",
   "metadata": {},
   "outputs": [
    {
     "name": "stdout",
     "output_type": "stream",
     "text": [
      "hello world! Python\n"
     ]
    }
   ],
   "source": [
    "while '  ' in text:\n",
    "    text = text.replace('  ', ' ')\n",
    "print(text)"
   ]
  },
  {
   "cell_type": "code",
   "execution_count": 16,
   "id": "2dc9bb6b-0df1-4e9b-897a-65ad87ea8d65",
   "metadata": {},
   "outputs": [
    {
     "name": "stdout",
     "output_type": "stream",
     "text": [
      "['12', '12', '23', '4545', '56']\n"
     ]
    }
   ],
   "source": [
    "x = '12   12     23    4545     56'\n",
    "res = x.split()\n",
    "\n",
    "\n",
    "print(res)"
   ]
  },
  {
   "cell_type": "code",
   "execution_count": 17,
   "id": "bea1df2b-1d7d-498c-84b7-fbde50011be3",
   "metadata": {},
   "outputs": [
    {
     "name": "stdout",
     "output_type": "stream",
     "text": [
      "['12', '', '', '12', '', '', '', '', '23', '', '', '', '4545', '', '', '', '', '56']\n"
     ]
    }
   ],
   "source": [
    "x = '12   12     23    4545     56'\n",
    "res = x.split(' ')\n",
    "print(res)"
   ]
  },
  {
   "cell_type": "code",
   "execution_count": 19,
   "id": "7205a584-2efd-45e9-af8f-dc08a29fabe2",
   "metadata": {},
   "outputs": [
    {
     "name": "stdout",
     "output_type": "stream",
     "text": [
      "['12', '12', '   23', '   4545', '   56']\n"
     ]
    }
   ],
   "source": [
    "x = '12;12;   23;   4545;   56'\n",
    "res = x.split(';')\n",
    "print(res)"
   ]
  },
  {
   "cell_type": "code",
   "execution_count": 21,
   "id": "7e1baff8-1699-4119-aaf5-894dbe6f1096",
   "metadata": {},
   "outputs": [
    {
     "name": "stdout",
     "output_type": "stream",
     "text": [
      "['12', '12', '23', '4545', '56']\n"
     ]
    }
   ],
   "source": [
    "x = '12;12;   23;   4545;   56'\n",
    "x = x.replace(' ', '')\n",
    "res = x.split(';')\n",
    "print(res)"
   ]
  },
  {
   "cell_type": "code",
   "execution_count": 22,
   "id": "ba86cfd0-6887-407c-a37c-f94a7f3d22df",
   "metadata": {},
   "outputs": [
    {
     "name": "stdout",
     "output_type": "stream",
     "text": [
      "Help on built-in function split:\n",
      "\n",
      "split(sep=None, maxsplit=-1) method of builtins.str instance\n",
      "    Return a list of the substrings in the string, using sep as the separator string.\n",
      "\n",
      "      sep\n",
      "        The separator used to split the string.\n",
      "\n",
      "        When set to None (the default value), will split on any whitespace\n",
      "        character (including \\n \\r \\t \\f and spaces) and will discard\n",
      "        empty strings from the result.\n",
      "      maxsplit\n",
      "        Maximum number of splits.\n",
      "        -1 (the default value) means no limit.\n",
      "\n",
      "    Splitting starts at the front of the string and works to the end.\n",
      "\n",
      "    Note, str.split() is mainly useful for data that has been intentionally\n",
      "    delimited.  With natural text that includes punctuation, consider using\n",
      "    the regular expression module.\n",
      "\n"
     ]
    }
   ],
   "source": [
    "help(''.split)\n"
   ]
  },
  {
   "cell_type": "code",
   "execution_count": 23,
   "id": "e44028bb-46b9-405b-bf2f-c27f011631ed",
   "metadata": {},
   "outputs": [
    {
     "name": "stdout",
     "output_type": "stream",
     "text": [
      "1232343443434\n"
     ]
    }
   ],
   "source": [
    "x = ['123', '234', '344', '3434']\n",
    "\n",
    "s = ''\n",
    "for item in x:\n",
    "    s += item\n",
    "\n",
    "print(s)"
   ]
  },
  {
   "cell_type": "code",
   "execution_count": null,
   "id": "51d08c4b-8fd2-4e27-a6ba-91fed0973333",
   "metadata": {},
   "outputs": [],
   "source": []
  }
 ],
 "metadata": {
  "kernelspec": {
   "display_name": "Python 3 (ipykernel)",
   "language": "python",
   "name": "python3"
  },
  "language_info": {
   "codemirror_mode": {
    "name": "ipython",
    "version": 3
   },
   "file_extension": ".py",
   "mimetype": "text/x-python",
   "name": "python",
   "nbconvert_exporter": "python",
   "pygments_lexer": "ipython3",
   "version": "3.12.4"
  }
 },
 "nbformat": 4,
 "nbformat_minor": 5
}
