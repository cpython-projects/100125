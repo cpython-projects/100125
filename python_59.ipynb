{
 "cells": [
  {
   "cell_type": "code",
   "execution_count": 1,
   "id": "8351964c-b3eb-49bf-8fe0-8caf81b5b761",
   "metadata": {},
   "outputs": [],
   "source": [
    "import statistics\n",
    "# Набор данных\n",
    "data = [12, 15, 14, 10, 1, 18, 17, 15, 15, 14, 200]"
   ]
  },
  {
   "cell_type": "code",
   "execution_count": 2,
   "id": "3f2d16ba-6e07-4f50-af49-2729457040d7",
   "metadata": {},
   "outputs": [
    {
     "name": "stdout",
     "output_type": "stream",
     "text": [
      "Арифметическое среднее: 30.09090909090909\n",
      "Геометрическое среднее: 14.233600568730704\n",
      "Гармоническое среднее: 6.684615624671968\n"
     ]
    }
   ],
   "source": [
    "# Средние значения\n",
    "print(\"Арифметическое среднее:\", statistics.mean(data))\n",
    "print(\"Геометрическое среднее:\", statistics.geometric_mean(data))\n",
    "print(\"Гармоническое среднее:\", statistics.harmonic_mean(data))"
   ]
  },
  {
   "cell_type": "code",
   "execution_count": 3,
   "id": "5b636191-820a-4578-8c3a-e21b96b365aa",
   "metadata": {},
   "outputs": [
    {
     "name": "stdout",
     "output_type": "stream",
     "text": [
      "Отсортированный список: [1, 10, 12, 14, 14, 15, 15, 15, 17, 18, 200]\n",
      "[12, 15, 14, 10, 1, 18, 17, 15, 15, 14, 200]\n",
      "Медиана: 15\n",
      "Мода: 15\n"
     ]
    }
   ],
   "source": [
    "# Характеристики на отсортированном наборе\n",
    "print(\"Отсортированный список:\", sorted(data))\n",
    "\n",
    "print(data)\n",
    "\n",
    "print(\"Медиана:\", statistics.median(data))\n",
    "print(\"Мода:\", statistics.mode(data))"
   ]
  },
  {
   "cell_type": "code",
   "execution_count": 6,
   "id": "ae3e0bd8-4793-43a7-b205-da3a5d0919fe",
   "metadata": {},
   "outputs": [
    {
     "name": "stdout",
     "output_type": "stream",
     "text": [
      "Медиана: 15\n",
      "Мода: 15\n"
     ]
    }
   ],
   "source": [
    "# Характеристики на отсортированном наборе\n",
    "data.sort()\n",
    "print(\"Медиана:\", statistics.median(data))\n",
    "print(\"Мода:\", statistics.mode(data))"
   ]
  },
  {
   "cell_type": "code",
   "execution_count": 7,
   "id": "45c74478-9bcd-450c-a2bc-4d130996dcda",
   "metadata": {},
   "outputs": [
    {
     "name": "stdout",
     "output_type": "stream",
     "text": [
      "Квартили: [12.0, 15.0, 17.0]\n"
     ]
    }
   ],
   "source": [
    "# Квантильные значения (делим на 4 части — квартиль)\n",
    "print(\"Квартили:\", statistics.quantiles(data, n=4))"
   ]
  },
  {
   "cell_type": "code",
   "execution_count": 8,
   "id": "5cde68c4-2836-4fc4-b01e-e42f55652024",
   "metadata": {},
   "outputs": [
    {
     "name": "stdout",
     "output_type": "stream",
     "text": [
      "Стандартное отклонение: 56.53751771249697\n",
      "Дисперсия: 3196.490909090909\n"
     ]
    }
   ],
   "source": [
    "print(\"Стандартное отклонение:\", statistics.stdev(data))\n",
    "print(\"Дисперсия:\", statistics.variance(data))"
   ]
  },
  {
   "cell_type": "code",
   "execution_count": 9,
   "id": "edf84091-348b-4643-8fca-d280539b90b4",
   "metadata": {},
   "outputs": [
    {
     "name": "stdout",
     "output_type": "stream",
     "text": [
      "Collecting pandas\n",
      "  Using cached pandas-2.2.3-cp312-cp312-win_amd64.whl.metadata (19 kB)\n",
      "Collecting numpy>=1.26.0 (from pandas)\n",
      "  Downloading numpy-2.2.5-cp312-cp312-win_amd64.whl.metadata (60 kB)\n",
      "     ---------------------------------------- 0.0/60.8 kB ? eta -:--:--\n",
      "     ------ --------------------------------- 10.2/60.8 kB ? eta -:--:--\n",
      "     ------------ ------------------------- 20.5/60.8 kB 217.9 kB/s eta 0:00:01\n",
      "     ------------------- ------------------ 30.7/60.8 kB 187.9 kB/s eta 0:00:01\n",
      "     ------------------------------- ------ 51.2/60.8 kB 290.5 kB/s eta 0:00:01\n",
      "     -------------------------------------- 60.8/60.8 kB 269.2 kB/s eta 0:00:00\n",
      "Collecting python-dateutil>=2.8.2 (from pandas)\n",
      "  Using cached python_dateutil-2.9.0.post0-py2.py3-none-any.whl.metadata (8.4 kB)\n",
      "Collecting pytz>=2020.1 (from pandas)\n",
      "  Using cached pytz-2025.2-py2.py3-none-any.whl.metadata (22 kB)\n",
      "Collecting tzdata>=2022.7 (from pandas)\n",
      "  Using cached tzdata-2025.2-py2.py3-none-any.whl.metadata (1.4 kB)\n",
      "Collecting six>=1.5 (from python-dateutil>=2.8.2->pandas)\n",
      "  Using cached six-1.17.0-py2.py3-none-any.whl.metadata (1.7 kB)\n",
      "Using cached pandas-2.2.3-cp312-cp312-win_amd64.whl (11.5 MB)\n",
      "Downloading numpy-2.2.5-cp312-cp312-win_amd64.whl (12.6 MB)\n",
      "   ---------------------------------------- 0.0/12.6 MB ? eta -:--:--\n",
      "   ---------------------------------------- 0.0/12.6 MB 991.0 kB/s eta 0:00:13\n",
      "   ---------------------------------------- 0.1/12.6 MB 1.2 MB/s eta 0:00:11\n",
      "    --------------------------------------- 0.2/12.6 MB 1.6 MB/s eta 0:00:08\n",
      "   - -------------------------------------- 0.4/12.6 MB 2.4 MB/s eta 0:00:06\n",
      "   - -------------------------------------- 0.6/12.6 MB 2.8 MB/s eta 0:00:05\n",
      "   -- ------------------------------------- 0.9/12.6 MB 3.5 MB/s eta 0:00:04\n",
      "   ---- ----------------------------------- 1.3/12.6 MB 4.0 MB/s eta 0:00:03\n",
      "   ----- ---------------------------------- 1.6/12.6 MB 4.5 MB/s eta 0:00:03\n",
      "   ------ --------------------------------- 1.9/12.6 MB 4.7 MB/s eta 0:00:03\n",
      "   ------- -------------------------------- 2.3/12.6 MB 5.0 MB/s eta 0:00:03\n",
      "   -------- ------------------------------- 2.6/12.6 MB 5.1 MB/s eta 0:00:02\n",
      "   --------- ------------------------------ 2.9/12.6 MB 5.3 MB/s eta 0:00:02\n",
      "   ---------- ----------------------------- 3.2/12.6 MB 5.4 MB/s eta 0:00:02\n",
      "   ----------- ---------------------------- 3.5/12.6 MB 5.5 MB/s eta 0:00:02\n",
      "   ------------ --------------------------- 3.9/12.6 MB 5.6 MB/s eta 0:00:02\n",
      "   ------------- -------------------------- 4.1/12.6 MB 5.6 MB/s eta 0:00:02\n",
      "   -------------- ------------------------- 4.5/12.6 MB 5.7 MB/s eta 0:00:02\n",
      "   --------------- ------------------------ 4.8/12.6 MB 5.8 MB/s eta 0:00:02\n",
      "   ---------------- ----------------------- 5.1/12.6 MB 5.8 MB/s eta 0:00:02\n",
      "   ----------------- ---------------------- 5.4/12.6 MB 5.9 MB/s eta 0:00:02\n",
      "   ------------------ --------------------- 5.8/12.6 MB 5.9 MB/s eta 0:00:02\n",
      "   ------------------- -------------------- 6.1/12.6 MB 6.0 MB/s eta 0:00:02\n",
      "   -------------------- ------------------- 6.4/12.6 MB 6.1 MB/s eta 0:00:02\n",
      "   --------------------- ------------------ 6.7/12.6 MB 6.0 MB/s eta 0:00:01\n",
      "   ---------------------- ----------------- 7.0/12.6 MB 6.2 MB/s eta 0:00:01\n",
      "   ----------------------- ---------------- 7.4/12.6 MB 6.2 MB/s eta 0:00:01\n",
      "   ------------------------ --------------- 7.7/12.6 MB 6.2 MB/s eta 0:00:01\n",
      "   ------------------------- -------------- 8.0/12.6 MB 6.2 MB/s eta 0:00:01\n",
      "   -------------------------- ------------- 8.3/12.6 MB 6.3 MB/s eta 0:00:01\n",
      "   --------------------------- ------------ 8.6/12.6 MB 6.3 MB/s eta 0:00:01\n",
      "   ---------------------------- ----------- 8.9/12.6 MB 6.3 MB/s eta 0:00:01\n",
      "   ----------------------------- ---------- 9.3/12.6 MB 6.3 MB/s eta 0:00:01\n",
      "   ------------------------------ --------- 9.6/12.6 MB 6.3 MB/s eta 0:00:01\n",
      "   ------------------------------- -------- 9.9/12.6 MB 6.3 MB/s eta 0:00:01\n",
      "   -------------------------------- ------- 10.2/12.6 MB 6.3 MB/s eta 0:00:01\n",
      "   --------------------------------- ------ 10.6/12.6 MB 6.8 MB/s eta 0:00:01\n",
      "   ---------------------------------- ----- 10.9/12.6 MB 7.0 MB/s eta 0:00:01\n",
      "   ----------------------------------- ---- 11.2/12.6 MB 7.0 MB/s eta 0:00:01\n",
      "   ------------------------------------ --- 11.5/12.6 MB 7.0 MB/s eta 0:00:01\n",
      "   ------------------------------------- -- 11.8/12.6 MB 6.9 MB/s eta 0:00:01\n",
      "   -------------------------------------- - 12.2/12.6 MB 7.0 MB/s eta 0:00:01\n",
      "   ---------------------------------------  12.5/12.6 MB 7.0 MB/s eta 0:00:01\n",
      "   ---------------------------------------  12.6/12.6 MB 7.0 MB/s eta 0:00:01\n",
      "   ---------------------------------------- 12.6/12.6 MB 6.7 MB/s eta 0:00:00\n",
      "Using cached python_dateutil-2.9.0.post0-py2.py3-none-any.whl (229 kB)\n",
      "Using cached pytz-2025.2-py2.py3-none-any.whl (509 kB)\n",
      "Using cached tzdata-2025.2-py2.py3-none-any.whl (347 kB)\n",
      "Using cached six-1.17.0-py2.py3-none-any.whl (11 kB)\n",
      "Installing collected packages: pytz, tzdata, six, numpy, python-dateutil, pandas\n",
      "Successfully installed numpy-2.2.5 pandas-2.2.3 python-dateutil-2.9.0.post0 pytz-2025.2 six-1.17.0 tzdata-2025.2\n"
     ]
    },
    {
     "name": "stderr",
     "output_type": "stream",
     "text": [
      "\n",
      "[notice] A new release of pip is available: 24.0 -> 25.1.1\n",
      "[notice] To update, run: python.exe -m pip install --upgrade pip\n"
     ]
    }
   ],
   "source": [
    "!pip install pandas"
   ]
  },
  {
   "cell_type": "code",
   "execution_count": null,
   "id": "dc1c9e18-30e8-4a56-9a89-75a5450cc424",
   "metadata": {},
   "outputs": [],
   "source": [
    "import pandas as pd\n",
    "\n",
    "# pd.read_csv()\n",
    "# pd.head()"
   ]
  },
  {
   "cell_type": "code",
   "execution_count": 10,
   "id": "11f8b3cc-dab8-4c08-9350-95dfe073d5ca",
   "metadata": {},
   "outputs": [],
   "source": [
    "import random\n",
    "\n",
    "with open('test.txt', 'w') as file:\n",
    "    for _ in range(100_000):\n",
    "        file.write(f'{random.randint(0, 1000)}\\n')\n",
    "    "
   ]
  },
  {
   "cell_type": "code",
   "execution_count": 11,
   "id": "9052ac0a-e233-4422-a72d-ca5d37ca648d",
   "metadata": {},
   "outputs": [
    {
     "name": "stdout",
     "output_type": "stream",
     "text": [
      "Total: 33315258479\n"
     ]
    }
   ],
   "source": [
    "with open('test.txt') as file:\n",
    "    data = [int(line) ** 2 for line in file]\n",
    "\n",
    "print(f'Total: {sum(data)}')"
   ]
  },
  {
   "cell_type": "code",
   "execution_count": 13,
   "id": "7a256bb7-8a00-4c38-93a8-89f0ff4e6a74",
   "metadata": {},
   "outputs": [
    {
     "name": "stdout",
     "output_type": "stream",
     "text": [
      "Total: 33315258479\n"
     ]
    }
   ],
   "source": [
    "def total_prices(file_name):\n",
    "    with open(file_name) as file:\n",
    "        for line in file:\n",
    "            yield int(line) ** 2\n",
    "\n",
    "\n",
    "print(f'Total: {sum(total_prices('test.txt'))}')"
   ]
  },
  {
   "cell_type": "code",
   "execution_count": 14,
   "id": "e39d8785-1fb1-4eb7-9723-14d850027c70",
   "metadata": {},
   "outputs": [
    {
     "name": "stdout",
     "output_type": "stream",
     "text": [
      "Total: 33315258479\n"
     ]
    }
   ],
   "source": [
    "def total_prices(file_name):\n",
    "    with open(file_name) as file:\n",
    "        for line in file:\n",
    "            yield int(line)\n",
    "\n",
    "\n",
    "def square(items):\n",
    "    for item in items:\n",
    "        yield item ** 2\n",
    "\n",
    "\n",
    "y = square(total_prices('test.txt'))\n",
    "print(f'Total: {sum(y)}')"
   ]
  },
  {
   "cell_type": "code",
   "execution_count": null,
   "id": "f389af94-16c0-4a9e-83d1-aa29af4f9899",
   "metadata": {},
   "outputs": [],
   "source": []
  }
 ],
 "metadata": {
  "kernelspec": {
   "display_name": "Python 3 (ipykernel)",
   "language": "python",
   "name": "python3"
  },
  "language_info": {
   "codemirror_mode": {
    "name": "ipython",
    "version": 3
   },
   "file_extension": ".py",
   "mimetype": "text/x-python",
   "name": "python",
   "nbconvert_exporter": "python",
   "pygments_lexer": "ipython3",
   "version": "3.13.3"
  }
 },
 "nbformat": 4,
 "nbformat_minor": 5
}
