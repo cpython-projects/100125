{
 "cells": [
  {
   "cell_type": "code",
   "execution_count": null,
   "id": "d46b6b88-f111-4560-9b66-36cb65fea1da",
   "metadata": {},
   "outputs": [],
   "source": [
    "# python hw_26.py /home/user/documents\n",
    "\n",
    "import sys\n",
    "import os\n",
    "\n",
    "_, dir_path = sys.argv # ['hw_26.py', '/home/user/documents']\n",
    "\n",
    "dirs = []\n",
    "files = []\n",
    "\n",
    "for obj_name in os.listdir(dir_path):\n",
    "    if os.path.isdir(obj_name):\n",
    "        dirs.append(obj_name)\n",
    "    else:\n",
    "        files.append(obj_name)\n",
    "\n",
    "print('Folders:')\n",
    "print(*dirs, sep='\\n')\n",
    "\n",
    "print('Files:')\n",
    "print(*files, sep='\\n')"
   ]
  }
 ],
 "metadata": {
  "kernelspec": {
   "display_name": "Python 3 (ipykernel)",
   "language": "python",
   "name": "python3"
  },
  "language_info": {
   "codemirror_mode": {
    "name": "ipython",
    "version": 3
   },
   "file_extension": ".py",
   "mimetype": "text/x-python",
   "name": "python",
   "nbconvert_exporter": "python",
   "pygments_lexer": "ipython3",
   "version": "3.13.2"
  }
 },
 "nbformat": 4,
 "nbformat_minor": 5
}
