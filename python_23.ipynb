{
 "cells": [
  {
   "cell_type": "markdown",
   "id": "0a43a2ef-87cf-470a-850b-b1ba41a0bc51",
   "metadata": {},
   "source": [
    "# 🛒 Анализ покупок  \n",
    "\n",
    "## 📌 Описание данных  \n",
    "\n",
    "У вас есть список покупок, где каждая строка содержит:  \n",
    "1. **№ (int)** — порядковый номер покупки.  \n",
    "2. **Имя покупателя (str)** — кто совершил покупку.  \n",
    "3. **Сумма (float)** — стоимость покупки в долларах.  \n",
    "4. **Категория (str)** — категория товара.  \n",
    "\n",
    "### 🔹 Пример входных данных (в виде списка кортежей):  \n",
    "```python\n",
    "data = [\n",
    "    '1 Bob Simson 19.58$ decorations',\n",
    "    '2 Mary 66.7$ food',\n",
    "    '3 Mary 98.91$ toys',\n",
    "    '4 Aleksa 72.29$ drinks',\n",
    "    '5 Maria Simson 84.48$ food',\n",
    "    '6 Aleksa 100.41$ accessories',\n",
    "    '7 Mary 19.9$ accessories',\n",
    "    '8 Bob Simson 83.88$ drinks',\n",
    "    '9 Bob Simson 58.21$ instruments',\n",
    "    '10 Maria Simson 20.61$ accessories',\n",
    "]\n"
   ]
  },
  {
   "cell_type": "markdown",
   "id": "27cafe38-0dc6-44fe-8ebe-ad3a29ab9565",
   "metadata": {},
   "source": [
    "### 🏷 Задача 1: вычислить сумму всех покупок.\n",
    "\n",
    "Ожидаемый вывод:<br>\n",
    "Общая сумма затрат: 604.99$"
   ]
  },
  {
   "cell_type": "code",
   "execution_count": 6,
   "id": "b8f047cb-52e7-4b64-a6a6-0800f190eee2",
   "metadata": {},
   "outputs": [
    {
     "name": "stdout",
     "output_type": "stream",
     "text": [
      "Общая сумма: 624.97$\n"
     ]
    }
   ],
   "source": [
    "data = [\n",
    "    '1 Bob Simson 19.58$ decorations',\n",
    "    '2 Mary 66.7$ food',\n",
    "    '3 Mary 98.91$ toys',\n",
    "    '4 Aleksa 72.29$ drinks',\n",
    "    '5 Maria Simson 84.48$ food',\n",
    "    '6 Aleksa 100.41$ accessories',\n",
    "    '7 Mary 19.9$ accessories',\n",
    "    '8 Bob Simson 83.88$ drinks',\n",
    "    '9 Bob Simson 58.21$ instruments',\n",
    "    '10 Maria Simson 20.61$ accessories',\n",
    "]\n",
    "total = 0\n",
    "for row in data:\n",
    "    total += float(row.split()[-2].replace('$', ''))\n",
    "print(f'Общая сумма: {total:.2f}$')"
   ]
  },
  {
   "cell_type": "markdown",
   "id": "6b3c842c-c8dd-47c5-9de2-fbf19e9c8683",
   "metadata": {},
   "source": [
    "### 🏷 Задача 2: Cгруппировать затраты по категориям.\n",
    "\n",
    "Ожидаемый вывод:  \n",
    "\n",
    "- decorations: 19.58 usd\n",
    "- food: 151.18 usd\n",
    "- toys: 98.91 usd\n",
    "- drinks: 156.17 usd\n",
    "- accessories: 140.92 usd\n",
    "- instruments: 58.21 usd\n"
   ]
  },
  {
   "cell_type": "code",
   "execution_count": 11,
   "id": "b198af1d-63fc-40d8-af9a-fa2ef30b6d0f",
   "metadata": {},
   "outputs": [
    {
     "name": "stdout",
     "output_type": "stream",
     "text": [
      "decorations: 19.58$\n",
      "food: 151.18$\n",
      "toys: 98.91$\n",
      "drinks: 156.17$\n",
      "accessories: 140.92$\n",
      "instruments: 58.21$\n"
     ]
    }
   ],
   "source": [
    "data = [\n",
    "    '1 Bob Simson 19.58$ decorations',\n",
    "    '2 Mary 66.7$ food',\n",
    "    '3 Mary 98.91$ toys',\n",
    "    '4 Aleksa 72.29$ drinks',\n",
    "    '5 Maria Simson 84.48$ food',\n",
    "    '6 Aleksa 100.41$ accessories',\n",
    "    '7 Mary 19.9$ accessories',\n",
    "    '8 Bob Simson 83.88$ drinks',\n",
    "    '9 Bob Simson 58.21$ instruments',\n",
    "    '10 Maria Simson 20.61$ accessories',\n",
    "]\n",
    "\n",
    "categories = []\n",
    "for row in data:\n",
    "    category = row.split()[-1]\n",
    "    if category not in categories:\n",
    "        categories += [category]\n",
    "\n",
    "summa = [0] * len(categories)\n",
    "for row in data:\n",
    "    row = row.split()\n",
    "    amount = float(row[-2].replace('$', ''))\n",
    "    category = row[-1]\n",
    "\n",
    "    for i in range(len(categories)):\n",
    "        if category == categories[i]:\n",
    "            summa[i] += amount\n",
    "\n",
    "for i in range(len(categories)):\n",
    "    print(f'{categories[i]}: {summa[i]:.2f}$')\n"
   ]
  },
  {
   "cell_type": "markdown",
   "id": "7113fd99-a042-4673-9ab5-a6f485d124a9",
   "metadata": {},
   "source": [
    "### 🏷 Задача 3: Вычислить сумму затрат для каждого покупателя.\n",
    "\n",
    "Ожидаемый вывод:  \n",
    "\n",
    "- Bob Simson: 161.67 usd\n",
    "- Mary: 185.51 usd\n",
    "- Aleksa: 172.70 usd\n",
    "- Maria Simson: 105.09 usd  \n",
    "Всего: 604.99 usd"
   ]
  },
  {
   "cell_type": "code",
   "execution_count": null,
   "id": "72e3115b-3578-4fb1-8737-ba6ad1c5b98c",
   "metadata": {},
   "outputs": [],
   "source": []
  },
  {
   "cell_type": "markdown",
   "id": "a3f42073-d5b7-468e-bb3c-7cadaf9f416e",
   "metadata": {},
   "source": [
    "### 🏷 Задача 4: Для 2 и 3 задач выполнить форматированный вывод.\n",
    "\n",
    "- Столбец \"Категория\" или \"Имя\" должен быть выровнен по левому краю.\n",
    "- Столбец \"Сумма $\" должен быть выровнен по правому краю.\n",
    "- Ширина каждой колонки должна соответствовать длине самого длинного слова в ней + 2 символа. "
   ]
  },
  {
   "cell_type": "code",
   "execution_count": null,
   "id": "3ac3f59f-fe50-4a45-bf16-a9211431dcbc",
   "metadata": {},
   "outputs": [],
   "source": []
  }
 ],
 "metadata": {
  "kernelspec": {
   "display_name": "Python 3 (ipykernel)",
   "language": "python",
   "name": "python3"
  },
  "language_info": {
   "codemirror_mode": {
    "name": "ipython",
    "version": 3
   },
   "file_extension": ".py",
   "mimetype": "text/x-python",
   "name": "python",
   "nbconvert_exporter": "python",
   "pygments_lexer": "ipython3",
   "version": "3.12.4"
  }
 },
 "nbformat": 4,
 "nbformat_minor": 5
}
