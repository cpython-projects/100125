{
 "cells": [
  {
   "cell_type": "code",
   "execution_count": 1,
   "id": "c4cc2b4f-e883-40b9-bc92-21a855001c0c",
   "metadata": {},
   "outputs": [
    {
     "name": "stdin",
     "output_type": "stream",
     "text": [
      "numbers>> 12, 23, 34 3434 23;2 2323\n"
     ]
    },
    {
     "name": "stdout",
     "output_type": "stream",
     "text": [
      "['12', '23', '34', '3434', '23', '2', '2323']\n"
     ]
    }
   ],
   "source": [
    "import string\n",
    "numbers = input('numbers>>')\n",
    "\n",
    "for item in string.punctuation:\n",
    "    numbers = numbers.replace(item, ' ')\n",
    "\n",
    "numbers = numbers.split()\n",
    "print(numbers)"
   ]
  },
  {
   "cell_type": "code",
   "execution_count": 2,
   "id": "27640527-2b70-44c9-9a1b-ae0db98381cd",
   "metadata": {},
   "outputs": [
    {
     "name": "stdout",
     "output_type": "stream",
     "text": [
      "[12, 23, 34, 3434, 23, 2, 2323]\n"
     ]
    }
   ],
   "source": [
    "for index, item in enumerate(numbers):\n",
    "    numbers[index] = int(item)\n",
    "\n",
    "print(numbers)"
   ]
  },
  {
   "cell_type": "code",
   "execution_count": null,
   "id": "74ec88ee-9cb2-48b7-acf5-88197f16d572",
   "metadata": {},
   "outputs": [],
   "source": [
    "result = list(map(int, numbers))"
   ]
  },
  {
   "cell_type": "code",
   "execution_count": null,
   "id": "1ecfce13-03e2-403e-84cb-b985dcc0be5a",
   "metadata": {},
   "outputs": [],
   "source": [
    "for item in map(int, numbers):\n",
    "    print(item)"
   ]
  },
  {
   "cell_type": "code",
   "execution_count": 3,
   "id": "9c1b46f1-d964-462e-81b1-b574b825f42c",
   "metadata": {},
   "outputs": [
    {
     "name": "stdout",
     "output_type": "stream",
     "text": [
      "[5, 6, 2, 11]\n"
     ]
    }
   ],
   "source": [
    "words = ['Hello', 'Python', 'is', 'programming']\n",
    "\n",
    "len_words = [len(item) for item in words]\n",
    "\n",
    "print(len_words)"
   ]
  },
  {
   "cell_type": "code",
   "execution_count": 7,
   "id": "f096a941-6f81-4460-b4e4-db8c06769376",
   "metadata": {},
   "outputs": [
    {
     "name": "stdout",
     "output_type": "stream",
     "text": [
      "(5, 6, 2, 11)\n"
     ]
    }
   ],
   "source": [
    "words = ['Hello', 'Python', 'is', 'programming']\n",
    "len_words = list(map(len, words))\n",
    "print(len_words)"
   ]
  },
  {
   "cell_type": "code",
   "execution_count": 12,
   "id": "58dcd2e6-ba95-42bf-9ba1-82f15a504336",
   "metadata": {},
   "outputs": [
    {
     "name": "stdout",
     "output_type": "stream",
     "text": [
      "['*H*e*l*l*o*', '*P*y*t*h*o*n*', '*i*s*', '*p*r*o*g*r*a*m*m*i*n*g*']\n"
     ]
    }
   ],
   "source": [
    "def stars_in_word(word):\n",
    "    # return '*' + '*'.join(word) + '*'\n",
    "    return f\"*{'*'.join(word)}*\"\n",
    "\n",
    "words = ['Hello', 'Python', 'is', 'programming'] # H*e*l*l*o\n",
    "len_words = list(map(stars_in_word, words))\n",
    "print(len_words)"
   ]
  },
  {
   "cell_type": "code",
   "execution_count": 10,
   "id": "b1dffd21-2b47-497a-bb3a-1d7e713b5c55",
   "metadata": {},
   "outputs": [
    {
     "name": "stdout",
     "output_type": "stream",
     "text": [
      "['H*e*l*l*o', 'P*y*t*h*o*n', 'i*s', 'p*r*o*g*r*a*m*m*i*n*g']\n"
     ]
    }
   ],
   "source": [
    "words = ['Hello', 'Python', 'is', 'programming'] # H*e*l*l*o\n",
    "len_words = list(map(lambda word: '*'.join(word), words))\n",
    "print(len_words)"
   ]
  },
  {
   "cell_type": "code",
   "execution_count": 14,
   "id": "083f510a-d07d-4b02-9b90-044792d75ba0",
   "metadata": {},
   "outputs": [
    {
     "name": "stdout",
     "output_type": "stream",
     "text": [
      "[5, 7, 9]\n"
     ]
    }
   ],
   "source": [
    "a = [1, 2, 3]\n",
    "b = [4, 5, 6]\n",
    "\n",
    "\n",
    "result = map(lambda x, y: x + y, a, b)\n",
    "print(list(result)) # [5, 7, 9]"
   ]
  },
  {
   "cell_type": "code",
   "execution_count": 15,
   "id": "4c731abf-b60b-4aed-9970-6f5b9004bed2",
   "metadata": {},
   "outputs": [
    {
     "name": "stdout",
     "output_type": "stream",
     "text": [
      "Help on class map in module builtins:\n",
      "\n",
      "class map(object)\n",
      " |  map(function, iterable, /, *iterables)\n",
      " |\n",
      " |  Make an iterator that computes the function using arguments from\n",
      " |  each of the iterables.  Stops when the shortest iterable is exhausted.\n",
      " |\n",
      " |  Methods defined here:\n",
      " |\n",
      " |  __getattribute__(self, name, /)\n",
      " |      Return getattr(self, name).\n",
      " |\n",
      " |  __iter__(self, /)\n",
      " |      Implement iter(self).\n",
      " |\n",
      " |  __next__(self, /)\n",
      " |      Implement next(self).\n",
      " |\n",
      " |  __reduce__(self, /)\n",
      " |      Return state information for pickling.\n",
      " |\n",
      " |  ----------------------------------------------------------------------\n",
      " |  Static methods defined here:\n",
      " |\n",
      " |  __new__(*args, **kwargs)\n",
      " |      Create and return a new object.  See help(type) for accurate signature.\n",
      "\n"
     ]
    }
   ],
   "source": [
    "help(map)"
   ]
  },
  {
   "cell_type": "code",
   "execution_count": 16,
   "id": "b990e679-e07c-4b53-98ad-d3cd9925911f",
   "metadata": {},
   "outputs": [
    {
     "ename": "TypeError",
     "evalue": "<lambda>() takes 1 positional argument but 2 were given",
     "output_type": "error",
     "traceback": [
      "\u001b[31m---------------------------------------------------------------------------\u001b[39m",
      "\u001b[31mTypeError\u001b[39m                                 Traceback (most recent call last)",
      "\u001b[36mCell\u001b[39m\u001b[36m \u001b[39m\u001b[32mIn[16]\u001b[39m\u001b[32m, line 6\u001b[39m\n\u001b[32m      2\u001b[39m b = [\u001b[32m4\u001b[39m, \u001b[32m5\u001b[39m, \u001b[32m6\u001b[39m]\n\u001b[32m      5\u001b[39m result = \u001b[38;5;28mmap\u001b[39m(\u001b[38;5;28;01mlambda\u001b[39;00m item: item, a, b)\n\u001b[32m----> \u001b[39m\u001b[32m6\u001b[39m \u001b[38;5;28mprint\u001b[39m(\u001b[38;5;28;43mlist\u001b[39;49m\u001b[43m(\u001b[49m\u001b[43mresult\u001b[49m\u001b[43m)\u001b[49m) \u001b[38;5;66;03m# [5, 7, 9]\u001b[39;00m\n",
      "\u001b[31mTypeError\u001b[39m: <lambda>() takes 1 positional argument but 2 were given"
     ]
    }
   ],
   "source": [
    "a = [1, 2, 3]\n",
    "b = [4, 5, 6]\n",
    "\n",
    "\n",
    "result = map(lambda item: item, a, b)\n",
    "print(list(result)) # [5, 7, 9]"
   ]
  },
  {
   "cell_type": "code",
   "execution_count": 17,
   "id": "c5bd4d70-d83e-40d8-835e-0ac68809262d",
   "metadata": {},
   "outputs": [
    {
     "name": "stdout",
     "output_type": "stream",
     "text": [
      "[38, 83, 58]\n"
     ]
    }
   ],
   "source": [
    "group_numbers = [(1, 2, 3, 4, 5, 23), (4, 5, 6, 34, 34), (7, 8, 9, 34)]\n",
    "\n",
    "# К каждому кортежу применяется функция sum\n",
    "result = map(sum, group_numbers)\n",
    "print(list(result)) # [6, 15, 24]"
   ]
  },
  {
   "cell_type": "code",
   "execution_count": 18,
   "id": "3544a508-83fe-4468-b4ed-42c936171aff",
   "metadata": {},
   "outputs": [
    {
     "name": "stdout",
     "output_type": "stream",
     "text": [
      "[(38, 6.333333333333333, 3.5), (83, 16.6, 6), (58, 14.5, 8.5)]\n"
     ]
    }
   ],
   "source": [
    "def statics(numbers):\n",
    "    sum_items = sum(numbers)\n",
    "    avg = sum_items / len(numbers)\n",
    "\n",
    "    tmp = sorted(numbers)\n",
    "    md = len(tmp) // 2\n",
    "    if len(tmp) % 2:\n",
    "        median = numbers[md]\n",
    "    else:\n",
    "        median = (numbers[md] + numbers[md - 1]) / 2\n",
    "    return sum_items, avg, median\n",
    "    \n",
    "    \n",
    "group_numbers = [(1, 2, 3, 4, 5, 23), (4, 5, 6, 34, 34), (7, 8, 9, 34)]\n",
    "\n",
    "result = list(map(statics, group_numbers))\n",
    "print(result)"
   ]
  },
  {
   "cell_type": "code",
   "execution_count": 20,
   "id": "408c47b1-ddbb-4886-a19a-8825d181d858",
   "metadata": {},
   "outputs": [
    {
     "name": "stdout",
     "output_type": "stream",
     "text": [
      "['1223', '23434', '3434']\n"
     ]
    }
   ],
   "source": [
    "x = ['0', '0', '1223', '23434', '3434']\n",
    "\n",
    "res = list(filter(int, x))\n",
    "print(res)"
   ]
  },
  {
   "cell_type": "code",
   "execution_count": 21,
   "id": "b7ce3da2-4f55-4a01-abd5-6dbcd49ef328",
   "metadata": {},
   "outputs": [
    {
     "name": "stdout",
     "output_type": "stream",
     "text": [
      "<filter object at 0x000001A696E21270>\n",
      "[1, True, 'Python', [1, 2, 3]]\n"
     ]
    }
   ],
   "source": [
    "data = [0, 1, False, True, '', 'Python', [], [1, 2, 3]]\n",
    "# Из списка выбираются только те элементы, которые оцениваются как True\n",
    "true_list = filter(None, data)\n",
    "print(true_list)\n",
    "print(list(true_list))"
   ]
  },
  {
   "cell_type": "code",
   "execution_count": 23,
   "id": "fa016c3d-d354-4f43-9408-8f22f81fc2e9",
   "metadata": {},
   "outputs": [],
   "source": [
    "x = [0, 0, 0, 0, 0, 0, 0]\n",
    "\n",
    "if any(x):\n",
    "    print('Yes')"
   ]
  },
  {
   "cell_type": "code",
   "execution_count": 27,
   "id": "b75f7ffb-ba31-4b6f-af59-40c704f078f5",
   "metadata": {},
   "outputs": [
    {
     "name": "stdout",
     "output_type": "stream",
     "text": [
      "[1, 4, 9, 16, 25, 36]\n"
     ]
    }
   ],
   "source": [
    "def numbers_to_square(numbers):\n",
    "    if all([isinstance(item, int | float) for item in numbers]):\n",
    "        return list(map(lambda item: item * item, numbers))\n",
    "    return None \n",
    "\n",
    "x = [1, 2, 3, 4, 5, 6]\n",
    "y = numbers_to_square(x)\n",
    "\n",
    "print(y)"
   ]
  },
  {
   "cell_type": "code",
   "execution_count": 29,
   "id": "d1284246-3864-456e-932f-82c81c20dfac",
   "metadata": {},
   "outputs": [
    {
     "name": "stdout",
     "output_type": "stream",
     "text": [
      "kiwi\n",
      "mango\n",
      "grape\n",
      "apple\n",
      "banana\n",
      "pineapple\n",
      "blueberry\n",
      "strawberry\n"
     ]
    }
   ],
   "source": [
    "words = ['mango', 'grape', 'apple', 'strawberry', 'banana', 'pineapple', 'kiwi', 'blueberry']\n",
    "\n",
    "result = sorted(words, key=len)\n",
    "print(*result, sep='\\n')"
   ]
  },
  {
   "cell_type": "code",
   "execution_count": 32,
   "id": "1c9df521-75bb-4525-825d-34ebcf455223",
   "metadata": {},
   "outputs": [
    {
     "name": "stdout",
     "output_type": "stream",
     "text": [
      "strawberry\n",
      "blueberry\n",
      "mango\n",
      "kiwi\n",
      "pineapple\n",
      "grape\n",
      "apple\n",
      "banana\n"
     ]
    }
   ],
   "source": [
    "def last_char_len(s):\n",
    "    return s[-1], len(s)\n",
    "    \n",
    "words = ['mango', 'grape', 'apple', 'strawberry', 'banana', 'pineapple', 'kiwi', 'blueberry']\n",
    "# Сортировка по последнему символу и длине слова\n",
    "result = sorted(words, key=last_char_len, reverse=True)\n",
    "print(*result, sep='\\n')"
   ]
  },
  {
   "cell_type": "code",
   "execution_count": 34,
   "id": "701a4ef3-4e83-44d4-8b60-b6b013551cc6",
   "metadata": {},
   "outputs": [
    {
     "name": "stdout",
     "output_type": "stream",
     "text": [
      "[('Alice', 25), ('Bob', 20), ('Charlie', 23)]\n"
     ]
    }
   ],
   "source": [
    "students = [(\"Alice\", 25), (\"Bob\", 20), (\"Charlie\", 23)]\n",
    "\n",
    "sorted_students = sorted(students, key=lambda item: item[0])\n",
    "print(sorted_students)"
   ]
  },
  {
   "cell_type": "code",
   "execution_count": null,
   "id": "7bd7d645-b393-41af-9ced-8cda413e51d2",
   "metadata": {},
   "outputs": [],
   "source": []
  }
 ],
 "metadata": {
  "kernelspec": {
   "display_name": "Python 3 (ipykernel)",
   "language": "python",
   "name": "python3"
  },
  "language_info": {
   "codemirror_mode": {
    "name": "ipython",
    "version": 3
   },
   "file_extension": ".py",
   "mimetype": "text/x-python",
   "name": "python",
   "nbconvert_exporter": "python",
   "pygments_lexer": "ipython3",
   "version": "3.13.2"
  }
 },
 "nbformat": 4,
 "nbformat_minor": 5
}
