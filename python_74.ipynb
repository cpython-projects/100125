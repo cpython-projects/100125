{
 "cells": [
  {
   "cell_type": "code",
   "execution_count": 1,
   "id": "0c572e08-585d-4a36-8b40-9346c0d4cd20",
   "metadata": {},
   "outputs": [
    {
     "name": "stdout",
     "output_type": "stream",
     "text": [
      "Requirement already satisfied: PyMySQL in c:\\users\\olehs\\appdata\\local\\programs\\python\\python313\\lib\\site-packages (1.1.1)\n"
     ]
    },
    {
     "name": "stderr",
     "output_type": "stream",
     "text": [
      "\n",
      "[notice] A new release of pip is available: 25.0.1 -> 25.1.1\n",
      "[notice] To update, run: python.exe -m pip install --upgrade pip\n"
     ]
    }
   ],
   "source": [
    "!pip install PyMySQL"
   ]
  },
  {
   "cell_type": "code",
   "execution_count": 1,
   "id": "303e6c03-3781-42db-a60d-ad11a923085d",
   "metadata": {},
   "outputs": [],
   "source": [
    "import pymysql\n",
    "config = {\n",
    "    'host': 'ich-db.edu.itcareerhub.de',\n",
    "    'user': 'ich1',\n",
    "    'password': 'password',\n",
    "    'database': 'hr',\n",
    "}\n",
    "connection = pymysql.connect(**config)"
   ]
  },
  {
   "cell_type": "code",
   "execution_count": 2,
   "id": "1de4d65a-3607-41d0-82fd-d3591c0f883b",
   "metadata": {},
   "outputs": [
    {
     "data": {
      "text/plain": [
       "pymysql.connections.Connection"
      ]
     },
     "execution_count": 2,
     "metadata": {},
     "output_type": "execute_result"
    }
   ],
   "source": [
    "type(connection)"
   ]
  },
  {
   "cell_type": "code",
   "execution_count": 3,
   "id": "72f37b7b-62a7-4b8a-8f51-04736a39c00c",
   "metadata": {},
   "outputs": [
    {
     "data": {
      "text/plain": [
       "['DataError',\n",
       " 'DatabaseError',\n",
       " 'Error',\n",
       " 'IntegrityError',\n",
       " 'InterfaceError',\n",
       " 'InternalError',\n",
       " 'NotSupportedError',\n",
       " 'OperationalError',\n",
       " 'ProgrammingError',\n",
       " 'Warning',\n",
       " '__class__',\n",
       " '__del__',\n",
       " '__delattr__',\n",
       " '__dict__',\n",
       " '__dir__',\n",
       " '__doc__',\n",
       " '__enter__',\n",
       " '__eq__',\n",
       " '__exit__',\n",
       " '__firstlineno__',\n",
       " '__format__',\n",
       " '__ge__',\n",
       " '__getattribute__',\n",
       " '__getstate__',\n",
       " '__gt__',\n",
       " '__hash__',\n",
       " '__init__',\n",
       " '__init_subclass__',\n",
       " '__le__',\n",
       " '__lt__',\n",
       " '__module__',\n",
       " '__ne__',\n",
       " '__new__',\n",
       " '__reduce__',\n",
       " '__reduce_ex__',\n",
       " '__repr__',\n",
       " '__setattr__',\n",
       " '__sizeof__',\n",
       " '__static_attributes__',\n",
       " '__str__',\n",
       " '__subclasshook__',\n",
       " '__weakref__',\n",
       " '_affected_rows',\n",
       " '_auth_plugin_map',\n",
       " '_auth_plugin_name',\n",
       " '_binary_prefix',\n",
       " '_closed',\n",
       " '_connect_attrs',\n",
       " '_create_ssl_ctx',\n",
       " '_execute_command',\n",
       " '_force_close',\n",
       " '_get_auth_plugin_handler',\n",
       " '_get_server_information',\n",
       " '_local_infile',\n",
       " '_next_seq_id',\n",
       " '_process_auth',\n",
       " '_quote_bytes',\n",
       " '_read_bytes',\n",
       " '_read_ok_packet',\n",
       " '_read_packet',\n",
       " '_read_query_result',\n",
       " '_read_timeout',\n",
       " '_request_authentication',\n",
       " '_result',\n",
       " '_rfile',\n",
       " '_secure',\n",
       " '_send_autocommit_mode',\n",
       " '_sock',\n",
       " '_write_bytes',\n",
       " '_write_timeout',\n",
       " 'affected_rows',\n",
       " 'autocommit',\n",
       " 'autocommit_mode',\n",
       " 'begin',\n",
       " 'bind_address',\n",
       " 'character_set_name',\n",
       " 'charset',\n",
       " 'client_flag',\n",
       " 'close',\n",
       " 'collation',\n",
       " 'commit',\n",
       " 'connect',\n",
       " 'connect_timeout',\n",
       " 'cursor',\n",
       " 'cursorclass',\n",
       " 'db',\n",
       " 'decoders',\n",
       " 'encoders',\n",
       " 'encoding',\n",
       " 'escape',\n",
       " 'escape_string',\n",
       " 'get_autocommit',\n",
       " 'get_host_info',\n",
       " 'get_proto_info',\n",
       " 'get_server_info',\n",
       " 'host',\n",
       " 'host_info',\n",
       " 'init_command',\n",
       " 'insert_id',\n",
       " 'kill',\n",
       " 'literal',\n",
       " 'max_allowed_packet',\n",
       " 'next_result',\n",
       " 'open',\n",
       " 'password',\n",
       " 'ping',\n",
       " 'port',\n",
       " 'protocol_version',\n",
       " 'query',\n",
       " 'rollback',\n",
       " 'salt',\n",
       " 'select_db',\n",
       " 'server_capabilities',\n",
       " 'server_charset',\n",
       " 'server_language',\n",
       " 'server_public_key',\n",
       " 'server_status',\n",
       " 'server_thread_id',\n",
       " 'server_version',\n",
       " 'set_character_set',\n",
       " 'set_charset',\n",
       " 'show_warnings',\n",
       " 'sql_mode',\n",
       " 'ssl',\n",
       " 'thread_id',\n",
       " 'unix_socket',\n",
       " 'use_unicode',\n",
       " 'user',\n",
       " 'write_packet']"
      ]
     },
     "execution_count": 3,
     "metadata": {},
     "output_type": "execute_result"
    }
   ],
   "source": [
    "dir(connection)"
   ]
  },
  {
   "cell_type": "code",
   "execution_count": 4,
   "id": "38637017-33f7-4532-9750-c0ec1c42fbd7",
   "metadata": {},
   "outputs": [
    {
     "data": {
      "text/plain": [
       "'ich-db.edu.itcareerhub.de'"
      ]
     },
     "execution_count": 4,
     "metadata": {},
     "output_type": "execute_result"
    }
   ],
   "source": [
    "connection.host"
   ]
  },
  {
   "cell_type": "code",
   "execution_count": 5,
   "id": "a73f20ad-6100-4b7b-beb4-1657bf3a8f95",
   "metadata": {},
   "outputs": [
    {
     "data": {
      "text/plain": [
       "str"
      ]
     },
     "execution_count": 5,
     "metadata": {},
     "output_type": "execute_result"
    }
   ],
   "source": [
    "type(connection.host)"
   ]
  },
  {
   "cell_type": "code",
   "execution_count": 6,
   "id": "d7bef04e-0f0c-4539-bff5-5f1b08a56370",
   "metadata": {},
   "outputs": [
    {
     "name": "stdout",
     "output_type": "stream",
     "text": [
      "Connection successful!\n"
     ]
    }
   ],
   "source": [
    "if connection.open:\n",
    "    print(\"Connection successful!\")"
   ]
  },
  {
   "cell_type": "code",
   "execution_count": 7,
   "id": "bb61e4ad-e0a7-4e99-9722-dcb960677f74",
   "metadata": {},
   "outputs": [],
   "source": [
    "cursor = connection.cursor()"
   ]
  },
  {
   "cell_type": "code",
   "execution_count": 8,
   "id": "a0f85c26-3f85-4209-9255-536442572540",
   "metadata": {},
   "outputs": [
    {
     "data": {
      "text/plain": [
       "pymysql.cursors.Cursor"
      ]
     },
     "execution_count": 8,
     "metadata": {},
     "output_type": "execute_result"
    }
   ],
   "source": [
    "type(cursor)"
   ]
  },
  {
   "cell_type": "code",
   "execution_count": 9,
   "id": "5829e453-5946-41c5-9d4c-6325107c1b58",
   "metadata": {},
   "outputs": [
    {
     "data": {
      "text/plain": [
       "['__class__',\n",
       " '__delattr__',\n",
       " '__dict__',\n",
       " '__dir__',\n",
       " '__doc__',\n",
       " '__enter__',\n",
       " '__eq__',\n",
       " '__exit__',\n",
       " '__firstlineno__',\n",
       " '__format__',\n",
       " '__ge__',\n",
       " '__getattr__',\n",
       " '__getattribute__',\n",
       " '__getstate__',\n",
       " '__gt__',\n",
       " '__hash__',\n",
       " '__init__',\n",
       " '__init_subclass__',\n",
       " '__iter__',\n",
       " '__le__',\n",
       " '__lt__',\n",
       " '__module__',\n",
       " '__ne__',\n",
       " '__new__',\n",
       " '__next__',\n",
       " '__reduce__',\n",
       " '__reduce_ex__',\n",
       " '__repr__',\n",
       " '__setattr__',\n",
       " '__sizeof__',\n",
       " '__static_attributes__',\n",
       " '__str__',\n",
       " '__subclasshook__',\n",
       " '__weakref__',\n",
       " '_check_executed',\n",
       " '_clear_result',\n",
       " '_conv_row',\n",
       " '_do_execute_many',\n",
       " '_do_get_result',\n",
       " '_escape_args',\n",
       " '_executed',\n",
       " '_get_db',\n",
       " '_nextset',\n",
       " '_query',\n",
       " '_result',\n",
       " '_rows',\n",
       " 'arraysize',\n",
       " 'callproc',\n",
       " 'close',\n",
       " 'connection',\n",
       " 'description',\n",
       " 'execute',\n",
       " 'executemany',\n",
       " 'fetchall',\n",
       " 'fetchmany',\n",
       " 'fetchone',\n",
       " 'max_stmt_length',\n",
       " 'mogrify',\n",
       " 'nextset',\n",
       " 'rowcount',\n",
       " 'rownumber',\n",
       " 'scroll',\n",
       " 'setinputsizes',\n",
       " 'setoutputsizes',\n",
       " 'warning_count']"
      ]
     },
     "execution_count": 9,
     "metadata": {},
     "output_type": "execute_result"
    }
   ],
   "source": [
    "dir(cursor)"
   ]
  },
  {
   "cell_type": "code",
   "execution_count": 10,
   "id": "2a3df90a-35e2-46e4-87f0-d148081f63bb",
   "metadata": {},
   "outputs": [
    {
     "data": {
      "text/plain": [
       "27"
      ]
     },
     "execution_count": 10,
     "metadata": {},
     "output_type": "execute_result"
    }
   ],
   "source": [
    "cursor.execute(\"SELECT * FROM departments\")"
   ]
  },
  {
   "cell_type": "code",
   "execution_count": 11,
   "id": "bf965706-68ec-421c-a8b0-19292d431c82",
   "metadata": {},
   "outputs": [
    {
     "name": "stdout",
     "output_type": "stream",
     "text": [
      "(Decimal('10'), 'Administration', Decimal('200'), Decimal('1700'))\n",
      "(Decimal('20'), 'Marketing', Decimal('201'), Decimal('1800'))\n",
      "(Decimal('30'), 'Purchasing', Decimal('114'), Decimal('1700'))\n",
      "(Decimal('40'), 'Human Resources', Decimal('203'), Decimal('2400'))\n",
      "(Decimal('50'), 'Shipping', Decimal('121'), Decimal('1500'))\n",
      "(Decimal('60'), 'IT', Decimal('103'), Decimal('1400'))\n",
      "(Decimal('70'), 'Public Relations', Decimal('204'), Decimal('2700'))\n",
      "(Decimal('80'), 'Sales', Decimal('145'), Decimal('2500'))\n",
      "(Decimal('90'), 'Executive', Decimal('100'), Decimal('1700'))\n",
      "(Decimal('100'), 'Finance', Decimal('108'), Decimal('1700'))\n",
      "(Decimal('110'), 'Accounting', Decimal('205'), Decimal('1700'))\n",
      "(Decimal('120'), 'Treasury', None, Decimal('1700'))\n",
      "(Decimal('130'), 'Corporate Tax', None, Decimal('1700'))\n",
      "(Decimal('140'), 'Control And Credit', None, Decimal('1700'))\n",
      "(Decimal('150'), 'Shareholder Services', None, Decimal('1700'))\n",
      "(Decimal('160'), 'Benefits', None, Decimal('1700'))\n",
      "(Decimal('170'), 'Manufacturing', None, Decimal('1700'))\n",
      "(Decimal('180'), 'Construction', None, Decimal('1700'))\n",
      "(Decimal('190'), 'Contracting', None, Decimal('1700'))\n",
      "(Decimal('200'), 'Operations', None, Decimal('1700'))\n",
      "(Decimal('210'), 'IT Support', None, Decimal('1700'))\n",
      "(Decimal('220'), 'NOC', None, Decimal('1700'))\n",
      "(Decimal('230'), 'IT Helpdesk', None, Decimal('1700'))\n",
      "(Decimal('240'), 'Government Sales', None, Decimal('1700'))\n",
      "(Decimal('250'), 'Retail Sales', None, Decimal('1700'))\n",
      "(Decimal('260'), 'Recruiting', None, Decimal('1700'))\n",
      "(Decimal('270'), 'Payroll', None, Decimal('1700'))\n"
     ]
    }
   ],
   "source": [
    "for row in cursor:\n",
    "    print(row)"
   ]
  },
  {
   "cell_type": "code",
   "execution_count": 12,
   "id": "2c6947e2-9da0-4fe3-88ee-ff8f7586c648",
   "metadata": {},
   "outputs": [
    {
     "name": "stdout",
     "output_type": "stream",
     "text": [
      "(Decimal('100'), 'Steven', 'King', 'SKING', '515.123.4567', 'AD_PRES', Decimal('24000.00'), None, None, Decimal('90'), datetime.date(2016, 6, 4))\n",
      "(Decimal('101'), 'Neena', 'Kochhar', 'NKOCHHAR', '515.123.4568', 'AD_VP', Decimal('17000.00'), None, Decimal('100'), Decimal('90'), datetime.date(2015, 10, 29))\n",
      "(Decimal('102'), 'Lex', 'De Haan', 'LDEHAAN', '515.123.4569', 'AD_VP', Decimal('17000.00'), None, Decimal('100'), Decimal('90'), datetime.date(2004, 12, 21))\n",
      "(Decimal('103'), 'Alexander', 'Hunold', 'AHUNOLD', '590.423.4567', 'IT_PROG', Decimal('9000.00'), None, Decimal('102'), Decimal('60'), datetime.date(2002, 4, 10))\n",
      "(Decimal('104'), 'Bruce', 'Ernst', 'BERNST', '590.423.4568', 'IT_PROG', Decimal('6000.00'), None, Decimal('103'), Decimal('60'), datetime.date(2021, 5, 3))\n",
      "(Decimal('105'), 'David', 'Austin', 'DAUSTIN', '590.423.4569', 'IT_PROG', Decimal('4800.00'), None, Decimal('103'), Decimal('60'), datetime.date(2000, 4, 26))\n",
      "(Decimal('106'), 'Valli', 'Pataballa', 'VPATABAL', '590.423.4560', 'IT_PROG', Decimal('4800.00'), None, Decimal('103'), Decimal('60'), datetime.date(2012, 3, 29))\n",
      "(Decimal('107'), 'Diana', 'Lorentz', 'DLORENTZ', '590.423.5567', 'IT_PROG', Decimal('4200.00'), None, Decimal('103'), Decimal('60'), datetime.date(2010, 6, 23))\n",
      "(Decimal('108'), 'Nancy', 'Greenberg', 'NGREENBE', '515.124.4569', 'FI_MGR', Decimal('12000.00'), None, Decimal('101'), Decimal('100'), datetime.date(2015, 8, 29))\n",
      "(Decimal('109'), 'Daniel', 'Faviet', 'DFAVIET', '515.124.4169', 'FI_ACCOUNT', Decimal('9000.00'), None, Decimal('108'), Decimal('100'), datetime.date(2021, 12, 22))\n",
      "(Decimal('110'), 'John', 'Chen', 'JCHEN', '515.124.4269', 'FI_ACCOUNT', Decimal('8200.00'), None, Decimal('108'), Decimal('100'), datetime.date(2013, 2, 14))\n",
      "(Decimal('111'), 'Ismael', 'Sciarra', 'ISCIARRA', '515.124.4369', 'FI_ACCOUNT', Decimal('7700.00'), None, Decimal('108'), Decimal('100'), datetime.date(2024, 8, 1))\n",
      "(Decimal('112'), 'Jose Manuel', 'Urman', 'JMURMAN', '515.124.4469', 'FI_ACCOUNT', Decimal('7800.00'), None, Decimal('108'), Decimal('100'), datetime.date(2008, 11, 21))\n",
      "(Decimal('113'), 'Luis', 'Popp', 'LPOPP', '515.124.4567', 'FI_ACCOUNT', Decimal('6900.00'), None, Decimal('108'), Decimal('100'), datetime.date(2020, 6, 21))\n",
      "(Decimal('114'), 'Den', 'Raphaely', 'DRAPHEAL', '515.127.4561', 'PU_MAN', Decimal('11000.00'), None, Decimal('100'), Decimal('30'), datetime.date(2001, 1, 9))\n",
      "(Decimal('115'), 'Alexander', 'Khoo', 'AKHOO', '515.127.4562', 'PU_CLERK', Decimal('3100.00'), None, Decimal('114'), Decimal('30'), datetime.date(2018, 5, 14))\n",
      "(Decimal('116'), 'Shelli', 'Baida', 'SBAIDA', '515.127.4563', 'PU_CLERK', Decimal('2900.00'), None, Decimal('114'), Decimal('30'), datetime.date(2014, 2, 7))\n",
      "(Decimal('117'), 'Sigal', 'Tobias', 'STOBIAS', '515.127.4564', 'PU_CLERK', Decimal('2800.00'), None, Decimal('114'), Decimal('30'), datetime.date(2015, 6, 4))\n",
      "(Decimal('118'), 'Guy', 'Himuro', 'GHIMURO', '515.127.4565', 'PU_CLERK', Decimal('2600.00'), None, Decimal('114'), Decimal('30'), datetime.date(2009, 11, 30))\n",
      "(Decimal('119'), 'Karen', 'Colmenares', 'KCOLMENA', '515.127.4566', 'PU_CLERK', Decimal('2500.00'), None, Decimal('114'), Decimal('30'), datetime.date(2003, 4, 20))\n",
      "(Decimal('120'), 'Matthew', 'Weiss', 'MWEISS', '650.123.1234', 'ST_MAN', Decimal('8000.00'), None, Decimal('100'), Decimal('50'), datetime.date(2011, 8, 27))\n",
      "(Decimal('121'), 'Adam', 'Fripp', 'AFRIPP', '650.123.2234', 'ST_MAN', Decimal('8200.00'), None, Decimal('100'), Decimal('50'), datetime.date(2023, 6, 21))\n",
      "(Decimal('122'), 'Payam', 'Kaufling', 'PKAUFLIN', '650.123.3234', 'ST_MAN', Decimal('7900.00'), None, Decimal('100'), Decimal('50'), datetime.date(2007, 9, 26))\n",
      "(Decimal('123'), 'Shanta', 'Vollman', 'SVOLLMAN', '650.123.4234', 'ST_MAN', Decimal('6500.00'), None, Decimal('100'), Decimal('50'), datetime.date(2018, 1, 14))\n",
      "(Decimal('124'), 'Kevin', 'Mourgos', 'KMOURGOS', '650.123.5234', 'ST_MAN', Decimal('5800.00'), None, Decimal('100'), Decimal('50'), datetime.date(2017, 3, 20))\n",
      "(Decimal('125'), 'Julia', 'Nayer', 'JNAYER', '650.124.1214', 'ST_CLERK', Decimal('3200.00'), None, Decimal('120'), Decimal('50'), datetime.date(2007, 1, 28))\n",
      "(Decimal('126'), 'Irene', 'Mikkilineni', 'IMIKKILI', '650.124.1224', 'ST_CLERK', Decimal('2700.00'), None, Decimal('120'), Decimal('50'), datetime.date(2008, 8, 13))\n",
      "(Decimal('127'), 'James', 'Landry', 'JLANDRY', '650.124.1334', 'ST_CLERK', Decimal('2400.00'), None, Decimal('120'), Decimal('50'), datetime.date(2021, 11, 11))\n",
      "(Decimal('128'), 'Steven', 'Markle', 'SMARKLE', '650.124.1434', 'ST_CLERK', Decimal('2200.00'), None, Decimal('120'), Decimal('50'), datetime.date(2008, 10, 18))\n",
      "(Decimal('129'), 'Laura', 'Bissot', 'LBISSOT', '650.124.5234', 'ST_CLERK', Decimal('3300.00'), None, Decimal('121'), Decimal('50'), datetime.date(2003, 4, 16))\n",
      "(Decimal('130'), 'Mozhe', 'Atkinson', 'MATKINSO', '650.124.6234', 'ST_CLERK', Decimal('2800.00'), None, Decimal('121'), Decimal('50'), datetime.date(2014, 12, 10))\n",
      "(Decimal('131'), 'James', 'Marlow', 'JAMRLOW', '650.124.7234', 'ST_CLERK', Decimal('2500.00'), None, Decimal('121'), Decimal('50'), datetime.date(2015, 1, 23))\n",
      "(Decimal('132'), 'TJ', 'Olson', 'TJOLSON', '650.124.8234', 'ST_CLERK', Decimal('2100.00'), None, Decimal('121'), Decimal('50'), datetime.date(2005, 8, 8))\n",
      "(Decimal('133'), 'Jason', 'Mallin', 'JMALLIN', '650.127.1934', 'ST_CLERK', Decimal('3300.00'), None, Decimal('122'), Decimal('50'), datetime.date(2007, 9, 18))\n",
      "(Decimal('134'), 'Michael', 'Rogers', 'MROGERS', '650.127.1834', 'ST_CLERK', Decimal('2900.00'), None, Decimal('122'), Decimal('50'), datetime.date(2021, 10, 4))\n",
      "(Decimal('135'), 'Ki', 'Gee', 'KGEE', '650.127.1734', 'ST_CLERK', Decimal('2400.00'), None, Decimal('122'), Decimal('50'), datetime.date(2010, 12, 29))\n",
      "(Decimal('136'), 'Hazel', 'Philtanker', 'HPHILTAN', '650.127.1634', 'ST_CLERK', Decimal('2200.00'), None, Decimal('122'), Decimal('50'), datetime.date(2014, 8, 1))\n",
      "(Decimal('137'), 'Renske', 'Ladwig', 'RLADWIG', '650.121.1234', 'ST_CLERK', Decimal('3600.00'), None, Decimal('123'), Decimal('50'), datetime.date(2015, 1, 16))\n",
      "(Decimal('138'), 'Stephen', 'Stiles', 'SSTILES', '650.121.2034', 'ST_CLERK', Decimal('3200.00'), None, Decimal('123'), Decimal('50'), datetime.date(2006, 7, 31))\n",
      "(Decimal('139'), 'John', 'Seo', 'JSEO', '650.121.2019', 'ST_CLERK', Decimal('2700.00'), None, Decimal('123'), Decimal('50'), datetime.date(2012, 8, 27))\n",
      "(Decimal('140'), 'Joshua', 'Patel', 'JPATEL', '650.121.1834', 'ST_CLERK', Decimal('2500.00'), None, Decimal('123'), Decimal('50'), datetime.date(2018, 8, 26))\n",
      "(Decimal('141'), 'Trenna', 'Rajs', 'TRAJS', '650.121.8009', 'ST_CLERK', Decimal('3500.00'), None, Decimal('124'), Decimal('50'), datetime.date(2005, 7, 9))\n",
      "(Decimal('142'), 'Curtis', 'Davies', 'CDAVIES', '650.121.2994', 'ST_CLERK', Decimal('3100.00'), None, Decimal('124'), Decimal('50'), datetime.date(2021, 6, 3))\n",
      "(Decimal('143'), 'Randall', 'Matos', 'RMATOS', '650.121.2874', 'ST_CLERK', Decimal('2600.00'), None, Decimal('124'), Decimal('50'), datetime.date(2015, 11, 20))\n",
      "(Decimal('144'), 'Peter', 'Vargas', 'PVARGAS', '650.121.2004', 'ST_CLERK', Decimal('2500.00'), None, Decimal('124'), Decimal('50'), datetime.date(2015, 3, 3))\n",
      "(Decimal('145'), 'John', 'Russell', 'JRUSSEL', '011.44.1344.429268', 'SA_MAN', Decimal('14000.00'), Decimal('0.40'), Decimal('100'), Decimal('80'), datetime.date(2003, 4, 18))\n",
      "(Decimal('146'), 'Karen', 'Partners', 'KPARTNER', '011.44.1344.467268', 'SA_MAN', Decimal('13500.00'), Decimal('0.30'), Decimal('100'), Decimal('80'), datetime.date(2020, 9, 30))\n",
      "(Decimal('147'), 'Alberto', 'Errazuriz', 'AERRAZUR', '011.44.1344.429278', 'SA_MAN', Decimal('12000.00'), Decimal('0.30'), Decimal('100'), Decimal('80'), datetime.date(2019, 3, 12))\n",
      "(Decimal('148'), 'Gerald', 'Cambrault', 'GCAMBRAU', '011.44.1344.619268', 'SA_MAN', Decimal('11000.00'), Decimal('0.30'), Decimal('100'), Decimal('80'), datetime.date(2008, 10, 30))\n",
      "(Decimal('149'), 'Eleni', 'Zlotkey', 'EZLOTKEY', '011.44.1344.429018', 'SA_MAN', Decimal('10500.00'), Decimal('0.20'), Decimal('100'), Decimal('80'), datetime.date(2011, 6, 20))\n",
      "(Decimal('150'), 'Peter', 'Tucker', 'PTUCKER', '011.44.1344.129268', 'SA_REP', Decimal('10000.00'), Decimal('0.30'), Decimal('145'), Decimal('80'), datetime.date(2005, 12, 14))\n",
      "(Decimal('151'), 'David', 'Bernstein', 'DBERNSTE', '011.44.1344.345268', 'SA_REP', Decimal('9500.00'), Decimal('0.25'), Decimal('145'), Decimal('80'), datetime.date(2020, 3, 31))\n",
      "(Decimal('152'), 'Peter', 'Hall', 'PHALL', '011.44.1344.478968', 'SA_REP', Decimal('9000.00'), Decimal('0.25'), Decimal('145'), Decimal('80'), datetime.date(2008, 9, 20))\n",
      "(Decimal('153'), 'Christopher', 'Olsen', 'COLSEN', '011.44.1344.498718', 'SA_REP', Decimal('8000.00'), Decimal('0.20'), Decimal('145'), Decimal('80'), datetime.date(2007, 10, 1))\n",
      "(Decimal('154'), 'Nanette', 'Cambrault', 'NCAMBRAU', '011.44.1344.987668', 'SA_REP', Decimal('7500.00'), Decimal('0.20'), Decimal('145'), Decimal('80'), datetime.date(2012, 7, 30))\n",
      "(Decimal('155'), 'Oliver', 'Tuvault', 'OTUVAULT', '011.44.1344.486508', 'SA_REP', Decimal('7000.00'), Decimal('0.15'), Decimal('145'), Decimal('80'), datetime.date(2014, 10, 6))\n",
      "(Decimal('156'), 'Janette', 'King', 'JKING', '011.44.1345.429268', 'SA_REP', Decimal('10000.00'), Decimal('0.35'), Decimal('146'), Decimal('80'), datetime.date(2011, 3, 14))\n",
      "(Decimal('157'), 'Patrick', 'Sully', 'PSULLY', '011.44.1345.929268', 'SA_REP', Decimal('9500.00'), Decimal('0.35'), Decimal('146'), Decimal('80'), datetime.date(2011, 9, 13))\n",
      "(Decimal('158'), 'Allan', 'McEwen', 'AMCEWEN', '011.44.1345.829268', 'SA_REP', Decimal('9000.00'), Decimal('0.35'), Decimal('146'), Decimal('80'), datetime.date(2000, 1, 6))\n",
      "(Decimal('159'), 'Lindsey', 'Smith', 'LSMITH', '011.44.1345.729268', 'SA_REP', Decimal('8000.00'), Decimal('0.30'), Decimal('146'), Decimal('80'), datetime.date(2014, 10, 3))\n",
      "(Decimal('160'), 'Louise', 'Doran', 'LDORAN', '011.44.1345.629268', 'SA_REP', Decimal('7500.00'), Decimal('0.30'), Decimal('146'), Decimal('80'), datetime.date(2023, 12, 14))\n",
      "(Decimal('161'), 'Sarath', 'Sewall', 'SSEWALL', '011.44.1345.529268', 'SA_REP', Decimal('7000.00'), Decimal('0.25'), Decimal('146'), Decimal('80'), datetime.date(2000, 11, 2))\n",
      "(Decimal('162'), 'Clara', 'Vishney', 'CVISHNEY', '011.44.1346.129268', 'SA_REP', Decimal('10500.00'), Decimal('0.25'), Decimal('147'), Decimal('80'), datetime.date(2006, 12, 30))\n",
      "(Decimal('163'), 'Danielle', 'Greene', 'DGREENE', '011.44.1346.229268', 'SA_REP', Decimal('9500.00'), Decimal('0.15'), Decimal('147'), Decimal('80'), datetime.date(2007, 7, 30))\n",
      "(Decimal('164'), 'Mattea', 'Marvins', 'MMARVINS', '011.44.1346.329268', 'SA_REP', Decimal('7200.00'), Decimal('0.10'), Decimal('147'), Decimal('80'), datetime.date(2016, 11, 23))\n",
      "(Decimal('165'), 'David', 'Lee', 'DLEE', '011.44.1346.529268', 'SA_REP', Decimal('6800.00'), Decimal('0.10'), Decimal('147'), Decimal('80'), datetime.date(2011, 12, 25))\n",
      "(Decimal('166'), 'Sundar', 'Ande', 'SANDE', '011.44.1346.629268', 'SA_REP', Decimal('6400.00'), Decimal('0.10'), Decimal('147'), Decimal('80'), datetime.date(2009, 3, 21))\n",
      "(Decimal('167'), 'Amit', 'Banda', 'ABANDA', '011.44.1346.729268', 'SA_REP', Decimal('6200.00'), Decimal('0.10'), Decimal('147'), Decimal('80'), datetime.date(2010, 2, 23))\n",
      "(Decimal('168'), 'Lisa', 'Ozer', 'LOZER', '011.44.1343.929268', 'SA_REP', Decimal('11500.00'), Decimal('0.25'), Decimal('148'), Decimal('80'), datetime.date(2023, 1, 30))\n",
      "(Decimal('169'), 'Harrison', 'Bloom', 'HBLOOM', '011.44.1343.829268', 'SA_REP', Decimal('10000.00'), Decimal('0.20'), Decimal('148'), Decimal('80'), datetime.date(2010, 4, 21))\n",
      "(Decimal('170'), 'Tayler', 'Fox', 'TFOX', '011.44.1343.729268', 'SA_REP', Decimal('9600.00'), Decimal('0.20'), Decimal('148'), Decimal('80'), datetime.date(2007, 3, 1))\n",
      "(Decimal('171'), 'William', 'Smith', 'WSMITH', '011.44.1343.629268', 'SA_REP', Decimal('7400.00'), Decimal('0.15'), Decimal('148'), Decimal('80'), datetime.date(2004, 11, 25))\n",
      "(Decimal('172'), 'Elizabeth', 'Bates', 'EBATES', '011.44.1343.529268', 'SA_REP', Decimal('7300.00'), Decimal('0.15'), Decimal('148'), Decimal('80'), datetime.date(2003, 1, 9))\n",
      "(Decimal('173'), 'Sundita', 'Kumar', 'SKUMAR', '011.44.1343.329268', 'SA_REP', Decimal('6100.00'), Decimal('0.10'), Decimal('148'), Decimal('80'), datetime.date(2000, 5, 28))\n",
      "(Decimal('174'), 'Ellen', 'Abel', 'EABEL', '011.44.1644.429267', 'SA_REP', Decimal('11000.00'), Decimal('0.30'), Decimal('149'), Decimal('80'), datetime.date(2017, 11, 7))\n",
      "(Decimal('175'), 'Alyssa', 'Hutton', 'AHUTTON', '011.44.1644.429266', 'SA_REP', Decimal('8800.00'), Decimal('0.25'), Decimal('149'), Decimal('80'), datetime.date(2013, 5, 18))\n",
      "(Decimal('176'), 'Jonathon', 'Taylor', 'JTAYLOR', '011.44.1644.429265', 'SA_REP', Decimal('8600.00'), Decimal('0.20'), Decimal('149'), Decimal('80'), datetime.date(2013, 5, 2))\n",
      "(Decimal('177'), 'Jack', 'Livingston', 'JLIVINGS', '011.44.1644.429264', 'SA_REP', Decimal('8400.00'), Decimal('0.20'), Decimal('149'), Decimal('80'), datetime.date(2001, 8, 25))\n",
      "(Decimal('178'), 'Kimberely', 'Grant', 'KGRANT', '011.44.1644.429263', 'SA_REP', Decimal('7000.00'), Decimal('0.15'), Decimal('149'), None, datetime.date(2018, 1, 7))\n",
      "(Decimal('179'), 'Charles', 'Johnson', 'CJOHNSON', '011.44.1644.429262', 'SA_REP', Decimal('6200.00'), Decimal('0.10'), Decimal('149'), Decimal('80'), datetime.date(2010, 6, 27))\n",
      "(Decimal('180'), 'Winston', 'Taylor', 'WTAYLOR', '650.507.9876', 'SH_CLERK', Decimal('3200.00'), None, Decimal('120'), Decimal('50'), datetime.date(2023, 4, 9))\n",
      "(Decimal('181'), 'Jean', 'Fleaur', 'JFLEAUR', '650.507.9877', 'SH_CLERK', Decimal('3100.00'), None, Decimal('120'), Decimal('50'), datetime.date(2010, 3, 24))\n",
      "(Decimal('182'), 'Martha', 'Sullivan', 'MSULLIVA', '650.507.9878', 'SH_CLERK', Decimal('2500.00'), None, Decimal('120'), Decimal('50'), datetime.date(2006, 3, 20))\n",
      "(Decimal('183'), 'Girard', 'Geoni', 'GGEONI', '650.507.9879', 'SH_CLERK', Decimal('2800.00'), None, Decimal('120'), Decimal('50'), datetime.date(2000, 5, 23))\n",
      "(Decimal('184'), 'Nandita', 'Sarchand', 'NSARCHAN', '650.509.1876', 'SH_CLERK', Decimal('4200.00'), None, Decimal('121'), Decimal('50'), datetime.date(2008, 3, 16))\n",
      "(Decimal('185'), 'Alexis', 'Bull', 'ABULL', '650.509.2876', 'SH_CLERK', Decimal('4100.00'), None, Decimal('121'), Decimal('50'), datetime.date(2014, 12, 17))\n",
      "(Decimal('186'), 'Julia', 'Dellinger', 'JDELLING', '650.509.3876', 'SH_CLERK', Decimal('3400.00'), None, Decimal('121'), Decimal('50'), datetime.date(2000, 6, 1))\n",
      "(Decimal('187'), 'Anthony', 'Cabrio', 'ACABRIO', '650.509.4876', 'SH_CLERK', Decimal('3000.00'), None, Decimal('121'), Decimal('50'), datetime.date(2006, 12, 21))\n",
      "(Decimal('188'), 'Kelly', 'Chung', 'KCHUNG', '650.505.1876', 'SH_CLERK', Decimal('3800.00'), None, Decimal('122'), Decimal('50'), datetime.date(2008, 9, 20))\n",
      "(Decimal('189'), 'Jennifer', 'Dilly', 'JDILLY', '650.505.2876', 'SH_CLERK', Decimal('3600.00'), None, Decimal('122'), Decimal('50'), datetime.date(2022, 9, 11))\n",
      "(Decimal('190'), 'Timothy', 'Gates', 'TGATES', '650.505.3876', 'SH_CLERK', Decimal('2900.00'), None, Decimal('122'), Decimal('50'), datetime.date(2012, 8, 26))\n",
      "(Decimal('191'), 'Randall', 'Perkins', 'RPERKINS', '650.505.4876', 'SH_CLERK', Decimal('2500.00'), None, Decimal('122'), Decimal('50'), datetime.date(2020, 1, 24))\n",
      "(Decimal('192'), 'Sarah', 'Bell', 'SBELL', '650.501.1876', 'SH_CLERK', Decimal('4000.00'), None, Decimal('123'), Decimal('50'), datetime.date(2012, 8, 3))\n",
      "(Decimal('193'), 'Britney', 'Everett', 'BEVERETT', '650.501.2876', 'SH_CLERK', Decimal('3900.00'), None, Decimal('123'), Decimal('50'), datetime.date(2002, 10, 5))\n",
      "(Decimal('194'), 'Samuel', 'McCain', 'SMCCAIN', '650.501.3876', 'SH_CLERK', Decimal('3200.00'), None, Decimal('123'), Decimal('50'), datetime.date(2000, 11, 30))\n",
      "(Decimal('195'), 'Vance', 'Jones', 'VJONES', '650.501.4876', 'SH_CLERK', Decimal('2800.00'), None, Decimal('123'), Decimal('50'), datetime.date(2021, 3, 8))\n",
      "(Decimal('196'), 'Alana', 'Walsh', 'AWALSH', '650.507.9811', 'SH_CLERK', Decimal('3100.00'), None, Decimal('124'), Decimal('50'), datetime.date(2003, 8, 18))\n",
      "(Decimal('197'), 'Kevin', 'Feeney', 'KFEENEY', '650.507.9822', 'SH_CLERK', Decimal('3000.00'), None, Decimal('124'), Decimal('50'), datetime.date(2004, 5, 14))\n",
      "(Decimal('198'), 'Donald', 'OConnell', 'DOCONNEL', '650.507.9833', 'SH_CLERK', Decimal('2600.00'), None, Decimal('124'), Decimal('50'), datetime.date(2010, 12, 14))\n",
      "(Decimal('199'), 'Douglas', 'Grant', 'DGRANT', '650.507.9844', 'SH_CLERK', Decimal('2600.00'), None, Decimal('124'), Decimal('50'), datetime.date(2016, 10, 8))\n",
      "(Decimal('200'), 'Jennifer', 'Whalen', 'JWHALEN', '515.123.4444', 'AD_ASST', Decimal('4400.00'), None, Decimal('101'), Decimal('10'), datetime.date(2001, 3, 21))\n",
      "(Decimal('201'), 'Michael', 'Hartstein', 'MHARTSTE', '515.123.5555', 'MK_MAN', Decimal('13000.00'), None, Decimal('100'), Decimal('20'), datetime.date(2005, 7, 24))\n",
      "(Decimal('202'), 'Pat', 'Fay', 'PFAY', '603.123.6666', 'MK_REP', Decimal('6000.00'), None, Decimal('201'), Decimal('20'), datetime.date(2024, 2, 25))\n",
      "(Decimal('203'), 'Susan', 'Mavris', 'SMAVRIS', '515.123.7777', 'HR_REP', Decimal('6500.00'), None, Decimal('101'), Decimal('40'), datetime.date(2004, 7, 11))\n",
      "(Decimal('204'), 'Hermann', 'Baer', 'HBAER', '515.123.8888', 'PR_REP', Decimal('10000.00'), None, Decimal('101'), Decimal('70'), datetime.date(2024, 11, 3))\n",
      "(Decimal('205'), 'Shelley', 'Higgins', 'SHIGGINS', '515.123.8080', 'AC_MGR', Decimal('12000.00'), None, Decimal('101'), Decimal('110'), datetime.date(2011, 1, 30))\n",
      "(Decimal('206'), 'William', 'Gietz', 'WGIETZ', '515.123.8181', 'AC_ACCOUNT', Decimal('8300.00'), None, Decimal('205'), Decimal('110'), datetime.date(2005, 10, 8))\n"
     ]
    }
   ],
   "source": [
    "# Прямое включение пользовательского ввода\n",
    "user_input = \"1 OR 1=1\"\n",
    "sql = f\"SELECT * FROM employees WHERE employee_id = {user_input}\"\n",
    "cursor.execute(sql) # выполнит: SELECT * FROM employees WHERE employee_id = 1 OR 1=1\n",
    "# Получены все записи, вместо одной\n",
    "for r in cursor:\n",
    "    print(r)"
   ]
  },
  {
   "cell_type": "code",
   "execution_count": 14,
   "id": "bab53e0f-bf73-48b4-8de7-0d9ebc5d5fbb",
   "metadata": {},
   "outputs": [
    {
     "name": "stdout",
     "output_type": "stream",
     "text": [
      "(Decimal('100'), 'Steven', 'King', 'SKING', '515.123.4567', 'AD_PRES', Decimal('24000.00'), None, None, Decimal('90'), datetime.date(2016, 6, 4))\n",
      "(Decimal('103'), 'Alexander', 'Hunold', 'AHUNOLD', '590.423.4567', 'IT_PROG', Decimal('9000.00'), None, Decimal('102'), Decimal('60'), datetime.date(2002, 4, 10))\n",
      "(Decimal('104'), 'Bruce', 'Ernst', 'BERNST', '590.423.4568', 'IT_PROG', Decimal('6000.00'), None, Decimal('103'), Decimal('60'), datetime.date(2021, 5, 3))\n",
      "(Decimal('105'), 'David', 'Austin', 'DAUSTIN', '590.423.4569', 'IT_PROG', Decimal('4800.00'), None, Decimal('103'), Decimal('60'), datetime.date(2000, 4, 26))\n",
      "(Decimal('106'), 'Valli', 'Pataballa', 'VPATABAL', '590.423.4560', 'IT_PROG', Decimal('4800.00'), None, Decimal('103'), Decimal('60'), datetime.date(2012, 3, 29))\n",
      "(Decimal('107'), 'Diana', 'Lorentz', 'DLORENTZ', '590.423.5567', 'IT_PROG', Decimal('4200.00'), None, Decimal('103'), Decimal('60'), datetime.date(2010, 6, 23))\n"
     ]
    }
   ],
   "source": [
    "id = 60\n",
    "salary = 20000\n",
    "\n",
    "cursor.execute(\n",
    "\"SELECT * FROM employees WHERE department_id = %s OR salary > %s\",\n",
    "(id, salary)\n",
    ")\n",
    "for r in cursor:\n",
    "    print(r)"
   ]
  },
  {
   "cell_type": "code",
   "execution_count": 19,
   "id": "848234f9-1ac9-4f3b-a181-bf3727b435e6",
   "metadata": {},
   "outputs": [],
   "source": [
    "user_input = \"1 OR 1=1\"\n",
    "# user_input = \"100\"\n",
    "cursor.execute(\n",
    "    \"SELECT * FROM employees WHERE employee_id = %s\",\n",
    "    (user_input,)\n",
    ")\n",
    "for r in cursor:\n",
    "    print(r)"
   ]
  },
  {
   "cell_type": "code",
   "execution_count": null,
   "id": "b74c602a-2f5e-466c-9c52-5baa48aa065f",
   "metadata": {},
   "outputs": [],
   "source": [
    "SELECT * FROM employees WHERE employee_id = 1 OR 1=1\n",
    "SELECT * FROM employees WHERE employee_id = '1 OR 1=1'"
   ]
  },
  {
   "cell_type": "code",
   "execution_count": 20,
   "id": "9778c0a2-0b06-41f2-97dc-41c1ecae515e",
   "metadata": {},
   "outputs": [
    {
     "name": "stdout",
     "output_type": "stream",
     "text": [
      "(Decimal('100'), 'Steven', 'King', 'SKING', '515.123.4567', 'AD_PRES', Decimal('24000.00'), None, None, Decimal('90'), datetime.date(2016, 6, 4))\n",
      "(Decimal('101'), 'Neena', 'Kochhar', 'NKOCHHAR', '515.123.4568', 'AD_VP', Decimal('17000.00'), None, Decimal('100'), Decimal('90'), datetime.date(2015, 10, 29))\n",
      "(Decimal('102'), 'Lex', 'De Haan', 'LDEHAAN', '515.123.4569', 'AD_VP', Decimal('17000.00'), None, Decimal('100'), Decimal('90'), datetime.date(2004, 12, 21))\n",
      "(Decimal('103'), 'Alexander', 'Hunold', 'AHUNOLD', '590.423.4567', 'IT_PROG', Decimal('9000.00'), None, Decimal('102'), Decimal('60'), datetime.date(2002, 4, 10))\n",
      "(Decimal('104'), 'Bruce', 'Ernst', 'BERNST', '590.423.4568', 'IT_PROG', Decimal('6000.00'), None, Decimal('103'), Decimal('60'), datetime.date(2021, 5, 3))\n",
      "(Decimal('105'), 'David', 'Austin', 'DAUSTIN', '590.423.4569', 'IT_PROG', Decimal('4800.00'), None, Decimal('103'), Decimal('60'), datetime.date(2000, 4, 26))\n",
      "(Decimal('106'), 'Valli', 'Pataballa', 'VPATABAL', '590.423.4560', 'IT_PROG', Decimal('4800.00'), None, Decimal('103'), Decimal('60'), datetime.date(2012, 3, 29))\n",
      "(Decimal('107'), 'Diana', 'Lorentz', 'DLORENTZ', '590.423.5567', 'IT_PROG', Decimal('4200.00'), None, Decimal('103'), Decimal('60'), datetime.date(2010, 6, 23))\n",
      "(Decimal('108'), 'Nancy', 'Greenberg', 'NGREENBE', '515.124.4569', 'FI_MGR', Decimal('12000.00'), None, Decimal('101'), Decimal('100'), datetime.date(2015, 8, 29))\n",
      "(Decimal('109'), 'Daniel', 'Faviet', 'DFAVIET', '515.124.4169', 'FI_ACCOUNT', Decimal('9000.00'), None, Decimal('108'), Decimal('100'), datetime.date(2021, 12, 22))\n",
      "(Decimal('110'), 'John', 'Chen', 'JCHEN', '515.124.4269', 'FI_ACCOUNT', Decimal('8200.00'), None, Decimal('108'), Decimal('100'), datetime.date(2013, 2, 14))\n",
      "(Decimal('111'), 'Ismael', 'Sciarra', 'ISCIARRA', '515.124.4369', 'FI_ACCOUNT', Decimal('7700.00'), None, Decimal('108'), Decimal('100'), datetime.date(2024, 8, 1))\n",
      "(Decimal('112'), 'Jose Manuel', 'Urman', 'JMURMAN', '515.124.4469', 'FI_ACCOUNT', Decimal('7800.00'), None, Decimal('108'), Decimal('100'), datetime.date(2008, 11, 21))\n",
      "(Decimal('113'), 'Luis', 'Popp', 'LPOPP', '515.124.4567', 'FI_ACCOUNT', Decimal('6900.00'), None, Decimal('108'), Decimal('100'), datetime.date(2020, 6, 21))\n",
      "(Decimal('114'), 'Den', 'Raphaely', 'DRAPHEAL', '515.127.4561', 'PU_MAN', Decimal('11000.00'), None, Decimal('100'), Decimal('30'), datetime.date(2001, 1, 9))\n",
      "(Decimal('115'), 'Alexander', 'Khoo', 'AKHOO', '515.127.4562', 'PU_CLERK', Decimal('3100.00'), None, Decimal('114'), Decimal('30'), datetime.date(2018, 5, 14))\n",
      "(Decimal('116'), 'Shelli', 'Baida', 'SBAIDA', '515.127.4563', 'PU_CLERK', Decimal('2900.00'), None, Decimal('114'), Decimal('30'), datetime.date(2014, 2, 7))\n",
      "(Decimal('117'), 'Sigal', 'Tobias', 'STOBIAS', '515.127.4564', 'PU_CLERK', Decimal('2800.00'), None, Decimal('114'), Decimal('30'), datetime.date(2015, 6, 4))\n",
      "(Decimal('118'), 'Guy', 'Himuro', 'GHIMURO', '515.127.4565', 'PU_CLERK', Decimal('2600.00'), None, Decimal('114'), Decimal('30'), datetime.date(2009, 11, 30))\n",
      "(Decimal('119'), 'Karen', 'Colmenares', 'KCOLMENA', '515.127.4566', 'PU_CLERK', Decimal('2500.00'), None, Decimal('114'), Decimal('30'), datetime.date(2003, 4, 20))\n",
      "(Decimal('120'), 'Matthew', 'Weiss', 'MWEISS', '650.123.1234', 'ST_MAN', Decimal('8000.00'), None, Decimal('100'), Decimal('50'), datetime.date(2011, 8, 27))\n",
      "(Decimal('121'), 'Adam', 'Fripp', 'AFRIPP', '650.123.2234', 'ST_MAN', Decimal('8200.00'), None, Decimal('100'), Decimal('50'), datetime.date(2023, 6, 21))\n",
      "(Decimal('122'), 'Payam', 'Kaufling', 'PKAUFLIN', '650.123.3234', 'ST_MAN', Decimal('7900.00'), None, Decimal('100'), Decimal('50'), datetime.date(2007, 9, 26))\n",
      "(Decimal('123'), 'Shanta', 'Vollman', 'SVOLLMAN', '650.123.4234', 'ST_MAN', Decimal('6500.00'), None, Decimal('100'), Decimal('50'), datetime.date(2018, 1, 14))\n",
      "(Decimal('124'), 'Kevin', 'Mourgos', 'KMOURGOS', '650.123.5234', 'ST_MAN', Decimal('5800.00'), None, Decimal('100'), Decimal('50'), datetime.date(2017, 3, 20))\n",
      "(Decimal('125'), 'Julia', 'Nayer', 'JNAYER', '650.124.1214', 'ST_CLERK', Decimal('3200.00'), None, Decimal('120'), Decimal('50'), datetime.date(2007, 1, 28))\n",
      "(Decimal('126'), 'Irene', 'Mikkilineni', 'IMIKKILI', '650.124.1224', 'ST_CLERK', Decimal('2700.00'), None, Decimal('120'), Decimal('50'), datetime.date(2008, 8, 13))\n",
      "(Decimal('127'), 'James', 'Landry', 'JLANDRY', '650.124.1334', 'ST_CLERK', Decimal('2400.00'), None, Decimal('120'), Decimal('50'), datetime.date(2021, 11, 11))\n",
      "(Decimal('128'), 'Steven', 'Markle', 'SMARKLE', '650.124.1434', 'ST_CLERK', Decimal('2200.00'), None, Decimal('120'), Decimal('50'), datetime.date(2008, 10, 18))\n",
      "(Decimal('129'), 'Laura', 'Bissot', 'LBISSOT', '650.124.5234', 'ST_CLERK', Decimal('3300.00'), None, Decimal('121'), Decimal('50'), datetime.date(2003, 4, 16))\n",
      "(Decimal('130'), 'Mozhe', 'Atkinson', 'MATKINSO', '650.124.6234', 'ST_CLERK', Decimal('2800.00'), None, Decimal('121'), Decimal('50'), datetime.date(2014, 12, 10))\n",
      "(Decimal('131'), 'James', 'Marlow', 'JAMRLOW', '650.124.7234', 'ST_CLERK', Decimal('2500.00'), None, Decimal('121'), Decimal('50'), datetime.date(2015, 1, 23))\n",
      "(Decimal('132'), 'TJ', 'Olson', 'TJOLSON', '650.124.8234', 'ST_CLERK', Decimal('2100.00'), None, Decimal('121'), Decimal('50'), datetime.date(2005, 8, 8))\n",
      "(Decimal('133'), 'Jason', 'Mallin', 'JMALLIN', '650.127.1934', 'ST_CLERK', Decimal('3300.00'), None, Decimal('122'), Decimal('50'), datetime.date(2007, 9, 18))\n",
      "(Decimal('134'), 'Michael', 'Rogers', 'MROGERS', '650.127.1834', 'ST_CLERK', Decimal('2900.00'), None, Decimal('122'), Decimal('50'), datetime.date(2021, 10, 4))\n",
      "(Decimal('135'), 'Ki', 'Gee', 'KGEE', '650.127.1734', 'ST_CLERK', Decimal('2400.00'), None, Decimal('122'), Decimal('50'), datetime.date(2010, 12, 29))\n",
      "(Decimal('136'), 'Hazel', 'Philtanker', 'HPHILTAN', '650.127.1634', 'ST_CLERK', Decimal('2200.00'), None, Decimal('122'), Decimal('50'), datetime.date(2014, 8, 1))\n",
      "(Decimal('137'), 'Renske', 'Ladwig', 'RLADWIG', '650.121.1234', 'ST_CLERK', Decimal('3600.00'), None, Decimal('123'), Decimal('50'), datetime.date(2015, 1, 16))\n",
      "(Decimal('138'), 'Stephen', 'Stiles', 'SSTILES', '650.121.2034', 'ST_CLERK', Decimal('3200.00'), None, Decimal('123'), Decimal('50'), datetime.date(2006, 7, 31))\n",
      "(Decimal('139'), 'John', 'Seo', 'JSEO', '650.121.2019', 'ST_CLERK', Decimal('2700.00'), None, Decimal('123'), Decimal('50'), datetime.date(2012, 8, 27))\n",
      "(Decimal('140'), 'Joshua', 'Patel', 'JPATEL', '650.121.1834', 'ST_CLERK', Decimal('2500.00'), None, Decimal('123'), Decimal('50'), datetime.date(2018, 8, 26))\n",
      "(Decimal('141'), 'Trenna', 'Rajs', 'TRAJS', '650.121.8009', 'ST_CLERK', Decimal('3500.00'), None, Decimal('124'), Decimal('50'), datetime.date(2005, 7, 9))\n",
      "(Decimal('142'), 'Curtis', 'Davies', 'CDAVIES', '650.121.2994', 'ST_CLERK', Decimal('3100.00'), None, Decimal('124'), Decimal('50'), datetime.date(2021, 6, 3))\n",
      "(Decimal('143'), 'Randall', 'Matos', 'RMATOS', '650.121.2874', 'ST_CLERK', Decimal('2600.00'), None, Decimal('124'), Decimal('50'), datetime.date(2015, 11, 20))\n",
      "(Decimal('144'), 'Peter', 'Vargas', 'PVARGAS', '650.121.2004', 'ST_CLERK', Decimal('2500.00'), None, Decimal('124'), Decimal('50'), datetime.date(2015, 3, 3))\n",
      "(Decimal('145'), 'John', 'Russell', 'JRUSSEL', '011.44.1344.429268', 'SA_MAN', Decimal('14000.00'), Decimal('0.40'), Decimal('100'), Decimal('80'), datetime.date(2003, 4, 18))\n",
      "(Decimal('146'), 'Karen', 'Partners', 'KPARTNER', '011.44.1344.467268', 'SA_MAN', Decimal('13500.00'), Decimal('0.30'), Decimal('100'), Decimal('80'), datetime.date(2020, 9, 30))\n",
      "(Decimal('147'), 'Alberto', 'Errazuriz', 'AERRAZUR', '011.44.1344.429278', 'SA_MAN', Decimal('12000.00'), Decimal('0.30'), Decimal('100'), Decimal('80'), datetime.date(2019, 3, 12))\n",
      "(Decimal('148'), 'Gerald', 'Cambrault', 'GCAMBRAU', '011.44.1344.619268', 'SA_MAN', Decimal('11000.00'), Decimal('0.30'), Decimal('100'), Decimal('80'), datetime.date(2008, 10, 30))\n",
      "(Decimal('149'), 'Eleni', 'Zlotkey', 'EZLOTKEY', '011.44.1344.429018', 'SA_MAN', Decimal('10500.00'), Decimal('0.20'), Decimal('100'), Decimal('80'), datetime.date(2011, 6, 20))\n",
      "(Decimal('150'), 'Peter', 'Tucker', 'PTUCKER', '011.44.1344.129268', 'SA_REP', Decimal('10000.00'), Decimal('0.30'), Decimal('145'), Decimal('80'), datetime.date(2005, 12, 14))\n",
      "(Decimal('151'), 'David', 'Bernstein', 'DBERNSTE', '011.44.1344.345268', 'SA_REP', Decimal('9500.00'), Decimal('0.25'), Decimal('145'), Decimal('80'), datetime.date(2020, 3, 31))\n",
      "(Decimal('152'), 'Peter', 'Hall', 'PHALL', '011.44.1344.478968', 'SA_REP', Decimal('9000.00'), Decimal('0.25'), Decimal('145'), Decimal('80'), datetime.date(2008, 9, 20))\n",
      "(Decimal('153'), 'Christopher', 'Olsen', 'COLSEN', '011.44.1344.498718', 'SA_REP', Decimal('8000.00'), Decimal('0.20'), Decimal('145'), Decimal('80'), datetime.date(2007, 10, 1))\n",
      "(Decimal('154'), 'Nanette', 'Cambrault', 'NCAMBRAU', '011.44.1344.987668', 'SA_REP', Decimal('7500.00'), Decimal('0.20'), Decimal('145'), Decimal('80'), datetime.date(2012, 7, 30))\n",
      "(Decimal('155'), 'Oliver', 'Tuvault', 'OTUVAULT', '011.44.1344.486508', 'SA_REP', Decimal('7000.00'), Decimal('0.15'), Decimal('145'), Decimal('80'), datetime.date(2014, 10, 6))\n",
      "(Decimal('156'), 'Janette', 'King', 'JKING', '011.44.1345.429268', 'SA_REP', Decimal('10000.00'), Decimal('0.35'), Decimal('146'), Decimal('80'), datetime.date(2011, 3, 14))\n",
      "(Decimal('157'), 'Patrick', 'Sully', 'PSULLY', '011.44.1345.929268', 'SA_REP', Decimal('9500.00'), Decimal('0.35'), Decimal('146'), Decimal('80'), datetime.date(2011, 9, 13))\n",
      "(Decimal('158'), 'Allan', 'McEwen', 'AMCEWEN', '011.44.1345.829268', 'SA_REP', Decimal('9000.00'), Decimal('0.35'), Decimal('146'), Decimal('80'), datetime.date(2000, 1, 6))\n",
      "(Decimal('159'), 'Lindsey', 'Smith', 'LSMITH', '011.44.1345.729268', 'SA_REP', Decimal('8000.00'), Decimal('0.30'), Decimal('146'), Decimal('80'), datetime.date(2014, 10, 3))\n",
      "(Decimal('160'), 'Louise', 'Doran', 'LDORAN', '011.44.1345.629268', 'SA_REP', Decimal('7500.00'), Decimal('0.30'), Decimal('146'), Decimal('80'), datetime.date(2023, 12, 14))\n",
      "(Decimal('161'), 'Sarath', 'Sewall', 'SSEWALL', '011.44.1345.529268', 'SA_REP', Decimal('7000.00'), Decimal('0.25'), Decimal('146'), Decimal('80'), datetime.date(2000, 11, 2))\n",
      "(Decimal('162'), 'Clara', 'Vishney', 'CVISHNEY', '011.44.1346.129268', 'SA_REP', Decimal('10500.00'), Decimal('0.25'), Decimal('147'), Decimal('80'), datetime.date(2006, 12, 30))\n",
      "(Decimal('163'), 'Danielle', 'Greene', 'DGREENE', '011.44.1346.229268', 'SA_REP', Decimal('9500.00'), Decimal('0.15'), Decimal('147'), Decimal('80'), datetime.date(2007, 7, 30))\n",
      "(Decimal('164'), 'Mattea', 'Marvins', 'MMARVINS', '011.44.1346.329268', 'SA_REP', Decimal('7200.00'), Decimal('0.10'), Decimal('147'), Decimal('80'), datetime.date(2016, 11, 23))\n",
      "(Decimal('165'), 'David', 'Lee', 'DLEE', '011.44.1346.529268', 'SA_REP', Decimal('6800.00'), Decimal('0.10'), Decimal('147'), Decimal('80'), datetime.date(2011, 12, 25))\n",
      "(Decimal('166'), 'Sundar', 'Ande', 'SANDE', '011.44.1346.629268', 'SA_REP', Decimal('6400.00'), Decimal('0.10'), Decimal('147'), Decimal('80'), datetime.date(2009, 3, 21))\n",
      "(Decimal('167'), 'Amit', 'Banda', 'ABANDA', '011.44.1346.729268', 'SA_REP', Decimal('6200.00'), Decimal('0.10'), Decimal('147'), Decimal('80'), datetime.date(2010, 2, 23))\n",
      "(Decimal('168'), 'Lisa', 'Ozer', 'LOZER', '011.44.1343.929268', 'SA_REP', Decimal('11500.00'), Decimal('0.25'), Decimal('148'), Decimal('80'), datetime.date(2023, 1, 30))\n",
      "(Decimal('169'), 'Harrison', 'Bloom', 'HBLOOM', '011.44.1343.829268', 'SA_REP', Decimal('10000.00'), Decimal('0.20'), Decimal('148'), Decimal('80'), datetime.date(2010, 4, 21))\n",
      "(Decimal('170'), 'Tayler', 'Fox', 'TFOX', '011.44.1343.729268', 'SA_REP', Decimal('9600.00'), Decimal('0.20'), Decimal('148'), Decimal('80'), datetime.date(2007, 3, 1))\n",
      "(Decimal('171'), 'William', 'Smith', 'WSMITH', '011.44.1343.629268', 'SA_REP', Decimal('7400.00'), Decimal('0.15'), Decimal('148'), Decimal('80'), datetime.date(2004, 11, 25))\n",
      "(Decimal('172'), 'Elizabeth', 'Bates', 'EBATES', '011.44.1343.529268', 'SA_REP', Decimal('7300.00'), Decimal('0.15'), Decimal('148'), Decimal('80'), datetime.date(2003, 1, 9))\n",
      "(Decimal('173'), 'Sundita', 'Kumar', 'SKUMAR', '011.44.1343.329268', 'SA_REP', Decimal('6100.00'), Decimal('0.10'), Decimal('148'), Decimal('80'), datetime.date(2000, 5, 28))\n",
      "(Decimal('174'), 'Ellen', 'Abel', 'EABEL', '011.44.1644.429267', 'SA_REP', Decimal('11000.00'), Decimal('0.30'), Decimal('149'), Decimal('80'), datetime.date(2017, 11, 7))\n",
      "(Decimal('175'), 'Alyssa', 'Hutton', 'AHUTTON', '011.44.1644.429266', 'SA_REP', Decimal('8800.00'), Decimal('0.25'), Decimal('149'), Decimal('80'), datetime.date(2013, 5, 18))\n",
      "(Decimal('176'), 'Jonathon', 'Taylor', 'JTAYLOR', '011.44.1644.429265', 'SA_REP', Decimal('8600.00'), Decimal('0.20'), Decimal('149'), Decimal('80'), datetime.date(2013, 5, 2))\n",
      "(Decimal('177'), 'Jack', 'Livingston', 'JLIVINGS', '011.44.1644.429264', 'SA_REP', Decimal('8400.00'), Decimal('0.20'), Decimal('149'), Decimal('80'), datetime.date(2001, 8, 25))\n",
      "(Decimal('178'), 'Kimberely', 'Grant', 'KGRANT', '011.44.1644.429263', 'SA_REP', Decimal('7000.00'), Decimal('0.15'), Decimal('149'), None, datetime.date(2018, 1, 7))\n",
      "(Decimal('179'), 'Charles', 'Johnson', 'CJOHNSON', '011.44.1644.429262', 'SA_REP', Decimal('6200.00'), Decimal('0.10'), Decimal('149'), Decimal('80'), datetime.date(2010, 6, 27))\n",
      "(Decimal('180'), 'Winston', 'Taylor', 'WTAYLOR', '650.507.9876', 'SH_CLERK', Decimal('3200.00'), None, Decimal('120'), Decimal('50'), datetime.date(2023, 4, 9))\n",
      "(Decimal('181'), 'Jean', 'Fleaur', 'JFLEAUR', '650.507.9877', 'SH_CLERK', Decimal('3100.00'), None, Decimal('120'), Decimal('50'), datetime.date(2010, 3, 24))\n",
      "(Decimal('182'), 'Martha', 'Sullivan', 'MSULLIVA', '650.507.9878', 'SH_CLERK', Decimal('2500.00'), None, Decimal('120'), Decimal('50'), datetime.date(2006, 3, 20))\n",
      "(Decimal('183'), 'Girard', 'Geoni', 'GGEONI', '650.507.9879', 'SH_CLERK', Decimal('2800.00'), None, Decimal('120'), Decimal('50'), datetime.date(2000, 5, 23))\n",
      "(Decimal('184'), 'Nandita', 'Sarchand', 'NSARCHAN', '650.509.1876', 'SH_CLERK', Decimal('4200.00'), None, Decimal('121'), Decimal('50'), datetime.date(2008, 3, 16))\n",
      "(Decimal('185'), 'Alexis', 'Bull', 'ABULL', '650.509.2876', 'SH_CLERK', Decimal('4100.00'), None, Decimal('121'), Decimal('50'), datetime.date(2014, 12, 17))\n",
      "(Decimal('186'), 'Julia', 'Dellinger', 'JDELLING', '650.509.3876', 'SH_CLERK', Decimal('3400.00'), None, Decimal('121'), Decimal('50'), datetime.date(2000, 6, 1))\n",
      "(Decimal('187'), 'Anthony', 'Cabrio', 'ACABRIO', '650.509.4876', 'SH_CLERK', Decimal('3000.00'), None, Decimal('121'), Decimal('50'), datetime.date(2006, 12, 21))\n",
      "(Decimal('188'), 'Kelly', 'Chung', 'KCHUNG', '650.505.1876', 'SH_CLERK', Decimal('3800.00'), None, Decimal('122'), Decimal('50'), datetime.date(2008, 9, 20))\n",
      "(Decimal('189'), 'Jennifer', 'Dilly', 'JDILLY', '650.505.2876', 'SH_CLERK', Decimal('3600.00'), None, Decimal('122'), Decimal('50'), datetime.date(2022, 9, 11))\n",
      "(Decimal('190'), 'Timothy', 'Gates', 'TGATES', '650.505.3876', 'SH_CLERK', Decimal('2900.00'), None, Decimal('122'), Decimal('50'), datetime.date(2012, 8, 26))\n",
      "(Decimal('191'), 'Randall', 'Perkins', 'RPERKINS', '650.505.4876', 'SH_CLERK', Decimal('2500.00'), None, Decimal('122'), Decimal('50'), datetime.date(2020, 1, 24))\n",
      "(Decimal('192'), 'Sarah', 'Bell', 'SBELL', '650.501.1876', 'SH_CLERK', Decimal('4000.00'), None, Decimal('123'), Decimal('50'), datetime.date(2012, 8, 3))\n",
      "(Decimal('193'), 'Britney', 'Everett', 'BEVERETT', '650.501.2876', 'SH_CLERK', Decimal('3900.00'), None, Decimal('123'), Decimal('50'), datetime.date(2002, 10, 5))\n",
      "(Decimal('194'), 'Samuel', 'McCain', 'SMCCAIN', '650.501.3876', 'SH_CLERK', Decimal('3200.00'), None, Decimal('123'), Decimal('50'), datetime.date(2000, 11, 30))\n",
      "(Decimal('195'), 'Vance', 'Jones', 'VJONES', '650.501.4876', 'SH_CLERK', Decimal('2800.00'), None, Decimal('123'), Decimal('50'), datetime.date(2021, 3, 8))\n",
      "(Decimal('196'), 'Alana', 'Walsh', 'AWALSH', '650.507.9811', 'SH_CLERK', Decimal('3100.00'), None, Decimal('124'), Decimal('50'), datetime.date(2003, 8, 18))\n",
      "(Decimal('197'), 'Kevin', 'Feeney', 'KFEENEY', '650.507.9822', 'SH_CLERK', Decimal('3000.00'), None, Decimal('124'), Decimal('50'), datetime.date(2004, 5, 14))\n",
      "(Decimal('198'), 'Donald', 'OConnell', 'DOCONNEL', '650.507.9833', 'SH_CLERK', Decimal('2600.00'), None, Decimal('124'), Decimal('50'), datetime.date(2010, 12, 14))\n",
      "(Decimal('199'), 'Douglas', 'Grant', 'DGRANT', '650.507.9844', 'SH_CLERK', Decimal('2600.00'), None, Decimal('124'), Decimal('50'), datetime.date(2016, 10, 8))\n",
      "(Decimal('200'), 'Jennifer', 'Whalen', 'JWHALEN', '515.123.4444', 'AD_ASST', Decimal('4400.00'), None, Decimal('101'), Decimal('10'), datetime.date(2001, 3, 21))\n",
      "(Decimal('201'), 'Michael', 'Hartstein', 'MHARTSTE', '515.123.5555', 'MK_MAN', Decimal('13000.00'), None, Decimal('100'), Decimal('20'), datetime.date(2005, 7, 24))\n",
      "(Decimal('202'), 'Pat', 'Fay', 'PFAY', '603.123.6666', 'MK_REP', Decimal('6000.00'), None, Decimal('201'), Decimal('20'), datetime.date(2024, 2, 25))\n",
      "(Decimal('203'), 'Susan', 'Mavris', 'SMAVRIS', '515.123.7777', 'HR_REP', Decimal('6500.00'), None, Decimal('101'), Decimal('40'), datetime.date(2004, 7, 11))\n",
      "(Decimal('204'), 'Hermann', 'Baer', 'HBAER', '515.123.8888', 'PR_REP', Decimal('10000.00'), None, Decimal('101'), Decimal('70'), datetime.date(2024, 11, 3))\n",
      "(Decimal('205'), 'Shelley', 'Higgins', 'SHIGGINS', '515.123.8080', 'AC_MGR', Decimal('12000.00'), None, Decimal('101'), Decimal('110'), datetime.date(2011, 1, 30))\n",
      "(Decimal('206'), 'William', 'Gietz', 'WGIETZ', '515.123.8181', 'AC_ACCOUNT', Decimal('8300.00'), None, Decimal('205'), Decimal('110'), datetime.date(2005, 10, 8))\n"
     ]
    }
   ],
   "source": [
    "db_conn = {\n",
    "    'host': 'ich-db.edu.itcareerhub.de',\n",
    "    'user': 'ich1',\n",
    "    'password': 'password',\n",
    "    'database': 'hr'\n",
    "}\n",
    "\n",
    "with pymysql.connect(**db_conn) as connection:\n",
    "    with connection.cursor() as cursor:\n",
    "        cursor.execute(\"SELECT * FROM employees\")\n",
    "        for row in cursor:\n",
    "            print(row)"
   ]
  },
  {
   "cell_type": "code",
   "execution_count": null,
   "id": "4ac6b2ec-d88b-466f-8dfc-c3acd187424a",
   "metadata": {},
   "outputs": [],
   "source": []
  }
 ],
 "metadata": {
  "kernelspec": {
   "display_name": "Python 3 (ipykernel)",
   "language": "python",
   "name": "python3"
  },
  "language_info": {
   "codemirror_mode": {
    "name": "ipython",
    "version": 3
   },
   "file_extension": ".py",
   "mimetype": "text/x-python",
   "name": "python",
   "nbconvert_exporter": "python",
   "pygments_lexer": "ipython3",
   "version": "3.13.3"
  }
 },
 "nbformat": 4,
 "nbformat_minor": 5
}
