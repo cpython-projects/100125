{
 "cells": [
  {
   "cell_type": "code",
   "execution_count": 2,
   "id": "a5b7591f-2c92-462f-928f-16dfe2b97a56",
   "metadata": {},
   "outputs": [
    {
     "name": "stdout",
     "output_type": "stream",
     "text": [
      "3\n",
      "7\n",
      "7\n"
     ]
    }
   ],
   "source": [
    "def add(a, b):\n",
    "    return a + b\n",
    "\n",
    "\n",
    "\n",
    "print(add(1, 2))\n",
    "print(add(3, 4))\n",
    "print(add(3, 4))"
   ]
  },
  {
   "cell_type": "code",
   "execution_count": 4,
   "id": "5aeff479-9cea-44df-b33a-1d0f346c4111",
   "metadata": {},
   "outputs": [
    {
     "name": "stdin",
     "output_type": "stream",
     "text": [
      "text>> lkl;kl;\n"
     ]
    },
    {
     "name": "stdout",
     "output_type": "stream",
     "text": [
      "None\n"
     ]
    }
   ],
   "source": [
    "def process_text(text):\n",
    "    pass\n",
    "    \n",
    "def words_upper(text):\n",
    "    ...\n",
    "\n",
    "def main():\n",
    "    text = input('text>>')\n",
    "    text = process_text(text)\n",
    "    words = words_upper(text)\n",
    "    print(words)\n",
    "\n",
    "main()"
   ]
  },
  {
   "cell_type": "code",
   "execution_count": 5,
   "id": "c45fb16b-afec-4655-94ce-d1d9f9b8376e",
   "metadata": {},
   "outputs": [
    {
     "name": "stdin",
     "output_type": "stream",
     "text": [
      "text rfrf\n"
     ]
    },
    {
     "name": "stdout",
     "output_type": "stream",
     "text": [
      "The end\n"
     ]
    }
   ],
   "source": [
    "x = input('text')\n",
    "\n",
    "for item in x:\n",
    "    pass\n",
    "\n",
    "\n",
    "print('The end')"
   ]
  },
  {
   "cell_type": "code",
   "execution_count": null,
   "id": "59b68581-d8cb-47fa-979f-0d5fc27709fa",
   "metadata": {},
   "outputs": [],
   "source": [
    "def task_1():\n",
    "    ...\n",
    "\n",
    "\n",
    "def task_2():\n",
    "    ...\n",
    "\n",
    "\n",
    "def main():\n",
    "    task_1()\n",
    "    task_2()"
   ]
  },
  {
   "cell_type": "code",
   "execution_count": 6,
   "id": "f0195a3b-58ab-43f0-8689-5c728ec7534f",
   "metadata": {},
   "outputs": [
    {
     "name": "stdout",
     "output_type": "stream",
     "text": [
      "Hello\n",
      "None\n"
     ]
    },
    {
     "ename": "TypeError",
     "evalue": "sum() takes 0 positional arguments but 1 was given",
     "output_type": "error",
     "traceback": [
      "\u001b[31m---------------------------------------------------------------------------\u001b[39m",
      "\u001b[31mTypeError\u001b[39m                                 Traceback (most recent call last)",
      "\u001b[36mCell\u001b[39m\u001b[36m \u001b[39m\u001b[32mIn[6]\u001b[39m\u001b[32m, line 6\u001b[39m\n\u001b[32m      4\u001b[39m \u001b[38;5;28mprint\u001b[39m(\u001b[38;5;28msum\u001b[39m())\n\u001b[32m      5\u001b[39m x = [\u001b[32m1\u001b[39m, \u001b[32m2\u001b[39m, \u001b[32m3\u001b[39m, \u001b[32m4\u001b[39m, \u001b[32m5\u001b[39m]\n\u001b[32m----> \u001b[39m\u001b[32m6\u001b[39m \u001b[38;5;28mprint\u001b[39m(\u001b[38;5;28;43msum\u001b[39;49m\u001b[43m(\u001b[49m\u001b[43mx\u001b[49m\u001b[43m)\u001b[49m)\n",
      "\u001b[31mTypeError\u001b[39m: sum() takes 0 positional arguments but 1 was given"
     ]
    }
   ],
   "source": [
    "def sum():\n",
    "    print('Hello')\n",
    "\n",
    "print(sum())\n",
    "x = [1, 2, 3, 4, 5]\n",
    "print(sum(x))"
   ]
  },
  {
   "cell_type": "code",
   "execution_count": 7,
   "id": "90529332-4709-424a-ab77-47ff73fabf6d",
   "metadata": {},
   "outputs": [
    {
     "ename": "SyntaxError",
     "evalue": "'continue' not properly in loop (803609397.py, line 3)",
     "output_type": "error",
     "traceback": [
      "  \u001b[36mCell\u001b[39m\u001b[36m \u001b[39m\u001b[32mIn[7]\u001b[39m\u001b[32m, line 3\u001b[39m\n\u001b[31m    \u001b[39m\u001b[31mcontinue\u001b[39m\n    ^\n\u001b[31mSyntaxError\u001b[39m\u001b[31m:\u001b[39m 'continue' not properly in loop\n"
     ]
    }
   ],
   "source": []
  },
  {
   "cell_type": "code",
   "execution_count": 9,
   "id": "d14338c2-667d-49d7-bda2-fae2db3de7e1",
   "metadata": {},
   "outputs": [
    {
     "name": "stdin",
     "output_type": "stream",
     "text": [
      "text>> 324234\n"
     ]
    }
   ],
   "source": [
    "text = input('text>>')\n",
    "\n",
    "for item in text:\n",
    "    pass"
   ]
  },
  {
   "cell_type": "code",
   "execution_count": 18,
   "id": "4d8be2ea-ebf3-48a5-9bb8-8b5495bdd84e",
   "metadata": {},
   "outputs": [
    {
     "name": "stdout",
     "output_type": "stream",
     "text": [
      "6\n",
      "6\n",
      "6\n"
     ]
    }
   ],
   "source": [
    "def add(a, b, c):\n",
    "    return a + b + c\n",
    "\n",
    "\n",
    "print(add(1, 2, 3))\n",
    "print(add(c=1, b=3, a=2))\n",
    "\n",
    "print(add(2, c=1, b=3))"
   ]
  },
  {
   "cell_type": "code",
   "execution_count": 20,
   "id": "0a657502-ee52-4353-91b6-3b6b5228dec0",
   "metadata": {},
   "outputs": [
    {
     "name": "stdout",
     "output_type": "stream",
     "text": [
      "4\n",
      "13\n"
     ]
    }
   ],
   "source": [
    "def add(a, b, c=1):\n",
    "    return a + b + c\n",
    "\n",
    "print(add(1, 2))\n",
    "print(add(1, 2, 10))"
   ]
  },
  {
   "cell_type": "code",
   "execution_count": 22,
   "id": "25659528-457c-4790-b107-8e0058d9a024",
   "metadata": {},
   "outputs": [
    {
     "name": "stdout",
     "output_type": "stream",
     "text": [
      "Help on built-in function sorted in module builtins:\n",
      "\n",
      "sorted(iterable, /, *, key=None, reverse=False)\n",
      "    Return a new list containing all items from the iterable in ascending order.\n",
      "\n",
      "    A custom key function can be supplied to customize the sort order, and the\n",
      "    reverse flag can be set to request the result in descending order.\n",
      "\n"
     ]
    }
   ],
   "source": [
    "help(sorted)"
   ]
  },
  {
   "cell_type": "code",
   "execution_count": 25,
   "id": "375cf1de-798c-485d-9381-aeaa42185e03",
   "metadata": {},
   "outputs": [
    {
     "name": "stdout",
     "output_type": "stream",
     "text": [
      "3\n",
      "23\n",
      "(6+10j)\n",
      "[1, 2, 3, 3, 4, 5]\n"
     ]
    }
   ],
   "source": [
    "def add(a, b):\n",
    "    return a + b\n",
    "\n",
    "\n",
    "print(add(1, 2))\n",
    "print(add('2', '3'))\n",
    "print(add(1+4j, 5+6j))\n",
    "print(add([1, 2, 3], [3, 4, 5]))"
   ]
  },
  {
   "cell_type": "code",
   "execution_count": 32,
   "id": "78f3fd8d-fec3-4043-9b7d-55d61ad38485",
   "metadata": {},
   "outputs": [
    {
     "name": "stdout",
     "output_type": "stream",
     "text": [
      "0\n",
      "6\n",
      "3472.5\n"
     ]
    }
   ],
   "source": [
    "def add(*args):\n",
    "    s = 0\n",
    "    for item in args:\n",
    "        if isinstance(item, int | float):\n",
    "            s += item\n",
    "    return s\n",
    "\n",
    "print(add())\n",
    "print(add(1, 2, 3))\n",
    "print(add(34, 'Hello', 3434, 4.5, [1, 2, 3]))"
   ]
  },
  {
   "cell_type": "code",
   "execution_count": 35,
   "id": "3b288bb6-79ca-4e29-bc69-06efa422addf",
   "metadata": {},
   "outputs": [
    {
     "name": "stdout",
     "output_type": "stream",
     "text": [
      "1\n",
      "()\n",
      "1\n",
      "(2, 3, 4, 5)\n"
     ]
    }
   ],
   "source": [
    "def func(a, *args):\n",
    "    print(a)\n",
    "    print(args)\n",
    "\n",
    "func(1)\n",
    "\n",
    "func(1, 2, 3, 4, 5)"
   ]
  },
  {
   "cell_type": "code",
   "execution_count": 38,
   "id": "b3666fc6-c935-49c2-9ce7-f40b8da5e10e",
   "metadata": {},
   "outputs": [
    {
     "name": "stdout",
     "output_type": "stream",
     "text": [
      "1\n",
      "1\n",
      "2\n",
      "3\n",
      "4\n",
      "5\n",
      "a 1\n",
      "b 2\n",
      "c 3\n"
     ]
    }
   ],
   "source": [
    "def func(*args, **kwargs):\n",
    "    for item in args:\n",
    "        print(item)\n",
    "\n",
    "    for key, value in kwargs.items():\n",
    "        print(key, value)\n",
    "\n",
    "func(1)\n",
    "func(1, 2, 3, 4, 5, a=1, b=2, c=3)"
   ]
  },
  {
   "cell_type": "code",
   "execution_count": 40,
   "id": "b82e79da-95bd-4350-93e0-c9ac558b8c21",
   "metadata": {},
   "outputs": [
    {
     "name": "stdout",
     "output_type": "stream",
     "text": [
      "F\n",
      "A\n"
     ]
    }
   ],
   "source": [
    "def grade(points):\n",
    "    if points < 60:\n",
    "        return 'F'\n",
    "    if points < 66:\n",
    "        return 'E'\n",
    "    if points < 70:\n",
    "        return 'D'\n",
    "    if points < 75:\n",
    "        return 'C'\n",
    "    if points < 85:\n",
    "        return 'B'\n",
    "    return 'A'\n",
    "\n",
    "print(grade(23))\n",
    "print(grade(100))"
   ]
  },
  {
   "cell_type": "code",
   "execution_count": null,
   "id": "f31fcd38-2bbf-49f5-a2c1-9eb53cfe5b83",
   "metadata": {},
   "outputs": [],
   "source": [
    "def is_even_odd(item):\n",
    "    if item % 2:\n",
    "        return 'Odd'\n",
    "    return 'Even'"
   ]
  },
  {
   "cell_type": "code",
   "execution_count": null,
   "id": "5f51c39c-f683-4712-90b0-23d767011097",
   "metadata": {},
   "outputs": [],
   "source": [
    "def is_even(item):\n",
    "    return item % 2 == 0"
   ]
  },
  {
   "cell_type": "code",
   "execution_count": 42,
   "id": "5be0f4d8-2388-420a-a26e-b17591f94469",
   "metadata": {},
   "outputs": [
    {
     "name": "stdout",
     "output_type": "stream",
     "text": [
      "None\n"
     ]
    }
   ],
   "source": [
    "def func():\n",
    "    return\n",
    "\n",
    "\n",
    "print(func())"
   ]
  },
  {
   "cell_type": "code",
   "execution_count": 43,
   "id": "dbf42619-5b63-45e0-bf09-b6ecee18ef35",
   "metadata": {},
   "outputs": [
    {
     "name": "stdout",
     "output_type": "stream",
     "text": [
      "None\n"
     ]
    }
   ],
   "source": [
    "def func():\n",
    "    a = 4\n",
    "\n",
    "\n",
    "print(func())"
   ]
  },
  {
   "cell_type": "code",
   "execution_count": 44,
   "id": "26ef2c12-1b8d-4d9d-9437-800128fd1237",
   "metadata": {},
   "outputs": [
    {
     "name": "stdout",
     "output_type": "stream",
     "text": [
      "(1, 2, 3, 4)\n"
     ]
    }
   ],
   "source": [
    "def func():\n",
    "    return 1, 2, 3, 4\n",
    "\n",
    "print(func())"
   ]
  },
  {
   "cell_type": "code",
   "execution_count": null,
   "id": "0e8b3a09-64df-47b4-a326-ca07cec464b5",
   "metadata": {},
   "outputs": [],
   "source": []
  }
 ],
 "metadata": {
  "kernelspec": {
   "display_name": "Python 3 (ipykernel)",
   "language": "python",
   "name": "python3"
  },
  "language_info": {
   "codemirror_mode": {
    "name": "ipython",
    "version": 3
   },
   "file_extension": ".py",
   "mimetype": "text/x-python",
   "name": "python",
   "nbconvert_exporter": "python",
   "pygments_lexer": "ipython3",
   "version": "3.13.2"
  }
 },
 "nbformat": 4,
 "nbformat_minor": 5
}
