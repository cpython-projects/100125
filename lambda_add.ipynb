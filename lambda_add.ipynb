{
 "cells": [
  {
   "cell_type": "markdown",
   "id": "82e68a3c-84b5-44e8-9b55-006dc75461c5",
   "metadata": {},
   "source": [
    "**Task 1.** Присвоить каждому возрасту категорию:  \n",
    "- `\"child\"` (0–12), `\"teen\"` (13–19), `\"adult\"` (20+).  \n",
    "\n",
    "*Вход:*\n",
    "```python\n",
    "ages = [5, 13, 25, 17, 8]\n",
    "```\n",
    "\n",
    "*Выход:*\n",
    "```python\n",
    "{5:'child', 13:'teen', 25:'adult', 17:'teen', 8:'child'}\n",
    "```"
   ]
  },
  {
   "cell_type": "code",
   "execution_count": null,
   "id": "39401d91-bb14-4c21-bd67-7f00ee2760ef",
   "metadata": {},
   "outputs": [],
   "source": []
  },
  {
   "cell_type": "markdown",
   "id": "3ba60ab0-6117-4985-87e6-fa722af8aad6",
   "metadata": {},
   "source": [
    "**Task 2.** Для каждого пользователя сформировать элемент с полным именем.\n",
    "\n",
    "*Вход:*\n",
    "```python\n",
    "people = [\n",
    "    {'first': 'John', 'last': 'Smith'},\n",
    "    {'first': 'Anna', 'last': 'Brown'}\n",
    "]\n",
    "```\n",
    "\n",
    "*Выход:*\n",
    "```python\n",
    "[\n",
    "    {'first': 'John', 'last': 'Smith', 'full_name': 'John Smith'},\n",
    "    {'first': 'Anna', 'last': 'Brown', 'full_name': 'Anna Brown'}\n",
    "]\n",
    "```"
   ]
  },
  {
   "cell_type": "code",
   "execution_count": null,
   "id": "5a5e52c4-2ed3-4261-bd3f-b40ebb3003f1",
   "metadata": {},
   "outputs": [],
   "source": []
  },
  {
   "cell_type": "markdown",
   "id": "5c97adf3-7b2d-4c6d-b83d-8056f9807a8a",
   "metadata": {},
   "source": [
    "**Task 3.** Для каждого элемента списка выделить домен из email.  \n",
    "\n",
    "*Вход:*\n",
    "```python\n",
    "emails = ['user1@gmail.com', 'admin@yahoo.com']\n",
    "```\n",
    "\n",
    "*Выход:*\n",
    "```python\n",
    "['gmail.com', 'yahoo.com']\n",
    "```"
   ]
  },
  {
   "cell_type": "code",
   "execution_count": null,
   "id": "202e2142-a513-41ed-a3f9-e32b179ff0e7",
   "metadata": {},
   "outputs": [],
   "source": []
  },
  {
   "cell_type": "markdown",
   "id": "51ea8e66-1a5f-4dea-ad3e-d76995af9fe1",
   "metadata": {},
   "source": [
    "**Task 4.** Для каждого элемента списка вычислить `price * qty`.  \n",
    "\n",
    "*Вход:*\n",
    "```python\n",
    "sales = [\n",
    "    {'price': 10.5, 'qty': 3},\n",
    "    {'price': 20.0, 'qty': 2}\n",
    "]\n",
    "```\n",
    "\n",
    "*Выход:*\n",
    "```python\n",
    "[\n",
    "    {'price': 10.5, 'qty': 3, 'revenue': 31.5},\n",
    "    {'price': 20.0, 'qty': 2, 'revenue': 40.0}\n",
    "]\n",
    "```"
   ]
  },
  {
   "cell_type": "code",
   "execution_count": null,
   "id": "baaa5366-9aa2-425a-b18a-5d4d2852c0b9",
   "metadata": {},
   "outputs": [],
   "source": []
  },
  {
   "cell_type": "markdown",
   "id": "4f2b91ba-2dd4-43a6-a660-0c9344b1d245",
   "metadata": {},
   "source": [
    "**Task 5.** Определить, является ли день недели выходным (`Saturday`, `Sunday`).  \n",
    "\n",
    "*Вход:*\n",
    "```python\n",
    "days = ['Monday', 'Saturday', 'Sunday', 'Wednesday']\n",
    "```\n",
    "\n",
    "*Выход:*\n",
    "```python\n",
    "[False, True, True, False]\n",
    "```"
   ]
  },
  {
   "cell_type": "code",
   "execution_count": null,
   "id": "e8ecec56-0186-482d-9a23-6c55e1bc0356",
   "metadata": {},
   "outputs": [],
   "source": []
  },
  {
   "cell_type": "markdown",
   "id": "96d3c1ae-49fa-488c-a8a2-54534e658913",
   "metadata": {},
   "source": [
    "**Task 6.** Извлечь год из строки формата `\"YYYY-MM-DD\"`.  \n",
    "\n",
    "*Вход:*\n",
    "```python\n",
    "dates = ['2023-01-15', '2022-12-30', '2021-06-01']\n",
    "```\n",
    "\n",
    "*Выход:*\n",
    "```python\n",
    "[2023, 2022, 2021]\n",
    "```"
   ]
  },
  {
   "cell_type": "code",
   "execution_count": null,
   "id": "ec58829b-f93a-4526-978e-e3ea3a61d2c7",
   "metadata": {},
   "outputs": [],
   "source": []
  },
  {
   "cell_type": "markdown",
   "id": "606cf64b-482c-4cf0-bfb7-679c128c7647",
   "metadata": {},
   "source": [
    "**Task 7.** Преобразовать минуты в список строк в формате \"Xh Ym\"\n",
    "\n",
    "*Вход:*\n",
    "```python\n",
    "minutes = [135, 45, 200]\n",
    "```\n",
    "\n",
    "*Выход:*\n",
    "```python\n",
    "['2h 15m', '0h 45m', '3h 20m']\n",
    "```"
   ]
  },
  {
   "cell_type": "code",
   "execution_count": null,
   "id": "2fca01f9-4483-4fe8-b435-08f6abac4ec5",
   "metadata": {},
   "outputs": [],
   "source": []
  },
  {
   "cell_type": "markdown",
   "id": "b139d1df-563f-4332-a8cb-8ffa5bfc6c74",
   "metadata": {},
   "source": [
    "**Task 8.** Получить длину каждой строки.  \n",
    "\n",
    "*Вход:*\n",
    "```python\n",
    "words = ['data', 'analytics', 'AI']\n",
    "```\n",
    "\n",
    "*Выход:*\n",
    "```python\n",
    "[4, 9, 2]\n",
    "```"
   ]
  },
  {
   "cell_type": "code",
   "execution_count": null,
   "id": "d7245223-2a9a-46c0-8e1f-fb046e762321",
   "metadata": {},
   "outputs": [],
   "source": []
  },
  {
   "cell_type": "markdown",
   "id": "84faa678-99e3-4f16-adc6-8a1e210b3364",
   "metadata": {},
   "source": [
    "**Task 9.** Для каждой строки определить, содержит ли строка слово \"error\" (без учёта регистра).  \n",
    "\n",
    "*Вход:*\n",
    "```python\n",
    "logs = ['System Error occurred', 'All OK', 'Critical ERROR!']\n",
    "```\n",
    "\n",
    "*Выход:*\n",
    "```python\n",
    "[True, False, True]\n",
    "```"
   ]
  },
  {
   "cell_type": "code",
   "execution_count": null,
   "id": "fe264a1c-539f-4b8b-a307-85ca7d17b8fa",
   "metadata": {},
   "outputs": [],
   "source": []
  },
  {
   "cell_type": "markdown",
   "id": "a73223e0-c1b3-4329-9a90-560cf6e7a790",
   "metadata": {},
   "source": [
    "**Task 10.** Выполнить сегментацию клиентов по сумме покупок**  \n",
    "*Условие:*  \n",
    "- `>1000` → `\"VIP\"`  \n",
    "- `>500` → `\"Premium\"`  \n",
    "- иначе → `\"Regular\"`  \n",
    "\n",
    "\n",
    "*Вход:*\n",
    "```python\n",
    "spendings = [1200, 700, 300]\n",
    "```\n",
    "\n",
    "*Выход:*\n",
    "```python\n",
    "['VIP', 'Premium', 'Regular']\n",
    "```"
   ]
  },
  {
   "cell_type": "code",
   "execution_count": null,
   "id": "4ef042ff-29fe-4b14-82e3-568e8bcb9018",
   "metadata": {},
   "outputs": [],
   "source": []
  },
  {
   "cell_type": "markdown",
   "id": "76b95df3-e51f-4a0b-844e-a9ca56ba870f",
   "metadata": {},
   "source": [
    "**Task 11.** В каждый словарь добавить элемент с инициалами пользователя.\n",
    "\n",
    "*Вход:*\n",
    "```python\n",
    "names = [\n",
    "    {'first': 'John', 'last': 'Doe'},\n",
    "    {'first': 'Anna', 'last': 'Smith'}\n",
    "]\n",
    "```\n",
    "\n",
    "*Выход:*\n",
    "```python\n",
    "[\n",
    "    {'first': 'John', 'last': 'Doe', 'initials': 'J.D.'},\n",
    "    {'first': 'Anna', 'last': 'Smith', 'initials': 'A.S.'}\n",
    "]\n",
    "```"
   ]
  },
  {
   "cell_type": "code",
   "execution_count": null,
   "id": "54fc3620-feb5-4969-a6f6-c7f1406889da",
   "metadata": {},
   "outputs": [],
   "source": []
  },
  {
   "cell_type": "markdown",
   "id": "9ed74adf-a274-45f6-ae90-671f629a8f98",
   "metadata": {},
   "source": [
    "**Task 12.** Преобразовать имя и фамилию пользователя из формата (`name`, `surname`) в `\"surname, name\"`.\n",
    "\n",
    "*Вход:*\n",
    "```python\n",
    "names = [('John', 'Smith'), ('Alice', 'Brown')]\n",
    "```\n",
    "\n",
    "*Выход:*\n",
    "```python\n",
    "['Smith, John', 'Brown, Alice']\n",
    "```"
   ]
  },
  {
   "cell_type": "code",
   "execution_count": null,
   "id": "1c515d31-d643-4c89-8780-bbc86542d3c6",
   "metadata": {},
   "outputs": [],
   "source": []
  },
  {
   "cell_type": "markdown",
   "id": "a82e8756-e99b-4fc6-828c-82471ecc6120",
   "metadata": {},
   "source": [
    "**Task 13.** Перевести USD → EUR по курсу 1 USD = 0.9 EUR  \n",
    "\n",
    "*Вход:*\n",
    "```python\n",
    "usd_values = [100, 55.5, 200]\n",
    "```\n",
    "\n",
    "*Выход:*\n",
    "```python\n",
    "[90.0, 49.95, 180.0]\n",
    "```"
   ]
  },
  {
   "cell_type": "code",
   "execution_count": null,
   "id": "a009eaa1-e584-4720-8dfa-f79f7e37fba4",
   "metadata": {},
   "outputs": [],
   "source": []
  },
  {
   "cell_type": "markdown",
   "id": "1d4ff337-7333-4a01-a44e-64a854fee669",
   "metadata": {},
   "source": [
    "**Task 14.** Сформировать email пользователя на базе его имени и фамилии как `name.lastname@email.com`. Если такой email уже существует, то добавлять счетчик как `name.lastname01@email.com`\n",
    "\n",
    "*Вход:*\n",
    "```python\n",
    "users = [\n",
    "    {'name': 'john', 'last': 'doe'},\n",
    "    {'name': 'anna', 'last': 'smith'}\n",
    "]\n",
    "```\n",
    "\n",
    "*Выход:*\n",
    "```python\n",
    "[\n",
    "    {'name': 'john', 'last': 'doe', 'email': 'john.doe@email.com'},\n",
    "    {'name': 'anna', 'last': 'smith', 'email': 'anna.smith@email.com'}\n",
    "]\n",
    "```"
   ]
  },
  {
   "cell_type": "code",
   "execution_count": null,
   "id": "0e138911-b926-422e-8c26-8eea35422fb5",
   "metadata": {},
   "outputs": [],
   "source": []
  }
 ],
 "metadata": {
  "kernelspec": {
   "display_name": "Python 3 (ipykernel)",
   "language": "python",
   "name": "python3"
  },
  "language_info": {
   "codemirror_mode": {
    "name": "ipython",
    "version": 3
   },
   "file_extension": ".py",
   "mimetype": "text/x-python",
   "name": "python",
   "nbconvert_exporter": "python",
   "pygments_lexer": "ipython3",
   "version": "3.13.2"
  }
 },
 "nbformat": 4,
 "nbformat_minor": 5
}
