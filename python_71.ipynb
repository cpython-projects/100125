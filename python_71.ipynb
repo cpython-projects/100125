{
 "cells": [
  {
   "cell_type": "code",
   "execution_count": 20,
   "id": "1f0c1397-9227-42be-a03e-3cb6d80d258c",
   "metadata": {},
   "outputs": [],
   "source": [
    "class User:\n",
    "\n",
    "    def __init__(self, name: str):\n",
    "        self.name = name\n",
    "\n",
    "    @property\n",
    "    def name(self):\n",
    "        return self.__name.upper()\n",
    "\n",
    "    @name.setter\n",
    "    def name(self, value):\n",
    "        if not isinstance(value, str):\n",
    "            raise TypeError('Users\\'s name nust be a not empty string.')\n",
    "        self.__name = value\n",
    "\n",
    "    @name.deleter\n",
    "    def name(self):\n",
    "        raise Exception('You can not delete this attr')    \n",
    "\n",
    "    def __str__(self):\n",
    "        return f'{self.name}'"
   ]
  },
  {
   "cell_type": "code",
   "execution_count": 21,
   "id": "ca663fb0-2349-4ddb-860d-05fc57d0c7a4",
   "metadata": {},
   "outputs": [
    {
     "name": "stdout",
     "output_type": "stream",
     "text": [
      "ALICE\n"
     ]
    }
   ],
   "source": [
    "person1 = User('Alice')\n",
    "print(person1)"
   ]
  },
  {
   "cell_type": "code",
   "execution_count": 22,
   "id": "77398a5e-e135-4efb-9256-0b734ddc0cba",
   "metadata": {},
   "outputs": [
    {
     "ename": "Exception",
     "evalue": "You can not delete this attr",
     "output_type": "error",
     "traceback": [
      "\u001b[31m---------------------------------------------------------------------------\u001b[39m",
      "\u001b[31mException\u001b[39m                                 Traceback (most recent call last)",
      "\u001b[36mCell\u001b[39m\u001b[36m \u001b[39m\u001b[32mIn[22]\u001b[39m\u001b[32m, line 1\u001b[39m\n\u001b[32m----> \u001b[39m\u001b[32m1\u001b[39m \u001b[38;5;28;01mdel\u001b[39;00m \u001b[43mperson1\u001b[49m\u001b[43m.\u001b[49m\u001b[43mname\u001b[49m\n",
      "\u001b[36mCell\u001b[39m\u001b[36m \u001b[39m\u001b[32mIn[20]\u001b[39m\u001b[32m, line 18\u001b[39m, in \u001b[36mUser.name\u001b[39m\u001b[34m(self)\u001b[39m\n\u001b[32m     16\u001b[39m \u001b[38;5;129m@name\u001b[39m.deleter\n\u001b[32m     17\u001b[39m \u001b[38;5;28;01mdef\u001b[39;00m\u001b[38;5;250m \u001b[39m\u001b[34mname\u001b[39m(\u001b[38;5;28mself\u001b[39m):\n\u001b[32m---> \u001b[39m\u001b[32m18\u001b[39m     \u001b[38;5;28;01mraise\u001b[39;00m \u001b[38;5;167;01mException\u001b[39;00m(\u001b[33m'\u001b[39m\u001b[33mYou can not delete this attr\u001b[39m\u001b[33m'\u001b[39m)\n",
      "\u001b[31mException\u001b[39m: You can not delete this attr"
     ]
    }
   ],
   "source": [
    "del person1.name"
   ]
  },
  {
   "cell_type": "code",
   "execution_count": 8,
   "id": "a0de569a-0445-4c95-b82c-45e5c9a4daf7",
   "metadata": {},
   "outputs": [
    {
     "name": "stdout",
     "output_type": "stream",
     "text": [
      "1123456789\n"
     ]
    }
   ],
   "source": [
    "person1.name = 1123456789\n",
    "print(person1)"
   ]
  },
  {
   "cell_type": "code",
   "execution_count": 9,
   "id": "e1416443-7529-458b-9db0-9fff5c7b9e8d",
   "metadata": {},
   "outputs": [
    {
     "name": "stdout",
     "output_type": "stream",
     "text": [
      "\n"
     ]
    }
   ],
   "source": [
    "person1.name = ''\n",
    "print(person1)"
   ]
  },
  {
   "cell_type": "code",
   "execution_count": 16,
   "id": "5e9c19dc-a893-41f0-8ae9-eef568e4fc3f",
   "metadata": {},
   "outputs": [
    {
     "data": {
      "text/plain": [
       "'ALICE'"
      ]
     },
     "execution_count": 16,
     "metadata": {},
     "output_type": "execute_result"
    }
   ],
   "source": [
    "person1.name"
   ]
  },
  {
   "cell_type": "code",
   "execution_count": 19,
   "id": "9b06575d-a5ad-422f-8ec1-7e9872c719ab",
   "metadata": {},
   "outputs": [
    {
     "name": "stdout",
     "output_type": "stream",
     "text": [
      "120.0\n"
     ]
    }
   ],
   "source": [
    "class Product:\n",
    "\n",
    "    def __init__(self, name: str, price: float):\n",
    "        self.name = name\n",
    "        self.__price = price\n",
    "\n",
    "    @property\n",
    "    def price(self):\n",
    "        return self.__price * 1.2\n",
    "\n",
    "    def __str__(self):\n",
    "        return f'{self.name}'\n",
    "\n",
    "\n",
    "product1 = Product('Banana', 100)\n",
    "print(product1.price)\n"
   ]
  },
  {
   "cell_type": "code",
   "execution_count": 25,
   "id": "5bc09eb9-d4e2-4048-9253-167de81fda5a",
   "metadata": {},
   "outputs": [
    {
     "name": "stdout",
     "output_type": "stream",
     "text": [
      "15\n"
     ]
    }
   ],
   "source": [
    "class A:\n",
    "\n",
    "    def __init__(self, a):\n",
    "        self.a = a\n",
    "\n",
    "    def __add__(self, other):\n",
    "        return self.a + other.a\n",
    "\n",
    "\n",
    "x = A(5)\n",
    "y = A(10)\n",
    "\n",
    "print(x + y)"
   ]
  },
  {
   "cell_type": "code",
   "execution_count": 26,
   "id": "09d24be8-1cd9-4e5a-9c1d-20710c0dfeb1",
   "metadata": {},
   "outputs": [
    {
     "name": "stdout",
     "output_type": "stream",
     "text": [
      "15\n"
     ]
    }
   ],
   "source": [
    "x = 5\n",
    "y = 10\n",
    "print(x + y)"
   ]
  },
  {
   "cell_type": "code",
   "execution_count": 27,
   "id": "bdb8f8e9-ee76-4900-8cd7-f90bd3e83cd6",
   "metadata": {},
   "outputs": [
    {
     "data": {
      "text/plain": [
       "15"
      ]
     },
     "execution_count": 27,
     "metadata": {},
     "output_type": "execute_result"
    }
   ],
   "source": [
    "x.__add__(y)"
   ]
  },
  {
   "cell_type": "code",
   "execution_count": 28,
   "id": "7e167d23-42e9-4ae5-87bb-d83efd921f6a",
   "metadata": {},
   "outputs": [
    {
     "name": "stdout",
     "output_type": "stream",
     "text": [
      "15\n",
      "50\n"
     ]
    }
   ],
   "source": [
    "x = 5\n",
    "y = 10\n",
    "\n",
    "print(x + y)\n",
    "\n",
    "print(x.__mul__(y))"
   ]
  },
  {
   "cell_type": "code",
   "execution_count": 29,
   "id": "6eaab78a-ba75-43a6-9fa5-22ca061754e5",
   "metadata": {},
   "outputs": [
    {
     "name": "stdout",
     "output_type": "stream",
     "text": [
      "Заголовок страницы: Example Domain\n"
     ]
    }
   ],
   "source": [
    "import requests\n",
    "from bs4 import BeautifulSoup\n",
    "url = 'https://example.com'\n",
    "response = requests.get(url)\n",
    "if response.status_code == 200:\n",
    "    soup = BeautifulSoup(response.text, 'html.parser')\n",
    "    title = soup.title.text\n",
    "    print('Заголовок страницы:', title)\n",
    "else:\n",
    "    print('Ошибка при запросе:', response.status_code)"
   ]
  },
  {
   "cell_type": "code",
   "execution_count": 31,
   "id": "e9a1f34b-81ea-4b59-ab68-2677d097ff41",
   "metadata": {},
   "outputs": [
    {
     "data": {
      "text/plain": [
       "<!DOCTYPE html>\n",
       "\n",
       "<html>\n",
       "<head>\n",
       "<title>Example Domain</title>\n",
       "<meta charset=\"utf-8\"/>\n",
       "<meta content=\"text/html; charset=utf-8\" http-equiv=\"Content-type\"/>\n",
       "<meta content=\"width=device-width, initial-scale=1\" name=\"viewport\"/>\n",
       "<style type=\"text/css\">\n",
       "    body {\n",
       "        background-color: #f0f0f2;\n",
       "        margin: 0;\n",
       "        padding: 0;\n",
       "        font-family: -apple-system, system-ui, BlinkMacSystemFont, \"Segoe UI\", \"Open Sans\", \"Helvetica Neue\", Helvetica, Arial, sans-serif;\n",
       "        \n",
       "    }\n",
       "    div {\n",
       "        width: 600px;\n",
       "        margin: 5em auto;\n",
       "        padding: 2em;\n",
       "        background-color: #fdfdff;\n",
       "        border-radius: 0.5em;\n",
       "        box-shadow: 2px 3px 7px 2px rgba(0,0,0,0.02);\n",
       "    }\n",
       "    a:link, a:visited {\n",
       "        color: #38488f;\n",
       "        text-decoration: none;\n",
       "    }\n",
       "    @media (max-width: 700px) {\n",
       "        div {\n",
       "            margin: 0 auto;\n",
       "            width: auto;\n",
       "        }\n",
       "    }\n",
       "    </style>\n",
       "</head>\n",
       "<body>\n",
       "<div>\n",
       "<h1>Example Domain</h1>\n",
       "<p>This domain is for use in illustrative examples in documents. You may use this\n",
       "    domain in literature without prior coordination or asking for permission.</p>\n",
       "<p><a href=\"https://www.iana.org/domains/example\">More information...</a></p>\n",
       "</div>\n",
       "</body>\n",
       "</html>"
      ]
     },
     "execution_count": 31,
     "metadata": {},
     "output_type": "execute_result"
    }
   ],
   "source": [
    "soup"
   ]
  },
  {
   "cell_type": "code",
   "execution_count": 33,
   "id": "acf8eb9c-77e4-461c-acee-90c917e18660",
   "metadata": {},
   "outputs": [
    {
     "data": {
      "text/plain": [
       "'Example Domain'"
      ]
     },
     "execution_count": 33,
     "metadata": {},
     "output_type": "execute_result"
    }
   ],
   "source": [
    "soup.find('h1').text"
   ]
  },
  {
   "cell_type": "code",
   "execution_count": 34,
   "id": "6259f581-a232-46fd-83d9-475f76cfb285",
   "metadata": {},
   "outputs": [
    {
     "data": {
      "text/plain": [
       "<a href=\"https://www.iana.org/domains/example\">More information...</a>"
      ]
     },
     "execution_count": 34,
     "metadata": {},
     "output_type": "execute_result"
    }
   ],
   "source": [
    "soup.find('a')"
   ]
  },
  {
   "cell_type": "code",
   "execution_count": 35,
   "id": "c251b9ba-02b8-43eb-830a-00f1812e3515",
   "metadata": {},
   "outputs": [
    {
     "data": {
      "text/plain": [
       "'More information...'"
      ]
     },
     "execution_count": 35,
     "metadata": {},
     "output_type": "execute_result"
    }
   ],
   "source": [
    "soup.find('a').text"
   ]
  },
  {
   "cell_type": "code",
   "execution_count": 36,
   "id": "6c356cfd-0c09-4352-8f58-cc1ad1c50cbe",
   "metadata": {},
   "outputs": [
    {
     "data": {
      "text/plain": [
       "'https://www.iana.org/domains/example'"
      ]
     },
     "execution_count": 36,
     "metadata": {},
     "output_type": "execute_result"
    }
   ],
   "source": [
    "soup.find('a').get('href')"
   ]
  },
  {
   "cell_type": "code",
   "execution_count": 38,
   "id": "bb82e8c5-2cb7-4f13-b06c-71582424191c",
   "metadata": {},
   "outputs": [
    {
     "data": {
      "text/plain": [
       "'https://www.iana.org/domains/example'"
      ]
     },
     "execution_count": 38,
     "metadata": {},
     "output_type": "execute_result"
    }
   ],
   "source": [
    "soup.find('a')['href']"
   ]
  },
  {
   "cell_type": "code",
   "execution_count": 39,
   "id": "dc5702a6-0f71-4d26-b267-6636830aaf29",
   "metadata": {},
   "outputs": [],
   "source": [
    "import requests\n",
    "from bs4 import BeautifulSoup\n",
    "url = 'https://www.iana.org/help/example-domains'\n",
    "response = requests.get(url)\n",
    "if response.status_code == 200:\n",
    "    soup = BeautifulSoup(response.text, 'html.parser')"
   ]
  },
  {
   "cell_type": "code",
   "execution_count": 40,
   "id": "c6c12439-accb-4b29-b4f3-3cd919726714",
   "metadata": {},
   "outputs": [
    {
     "data": {
      "text/plain": [
       "\n",
       "<!DOCTYPE html>\n",
       "\n",
       "<html>\n",
       "<head>\n",
       "<title>Example Domains</title>\n",
       "<meta charset=\"utf-8\"/>\n",
       "<meta content=\"text/html; charset=utf-8\" http-equiv=\"Content-type\"/>\n",
       "<meta content=\"width=device-width, initial-scale=1\" name=\"viewport\"/>\n",
       "<link href=\"/_css/2025.01/iana_website.css\" rel=\"stylesheet\"/>\n",
       "<link href=\"/_img/bookmark_icon.ico\" rel=\"shortcut icon\" type=\"image/ico\"/>\n",
       "<script src=\"/_js/jquery.js\" type=\"text/javascript\"></script>\n",
       "<script src=\"/_js/iana.js\" type=\"text/javascript\"></script>\n",
       "</head>\n",
       "<body>\n",
       "<header>\n",
       "<div id=\"header\">\n",
       "<div id=\"logo\">\n",
       "<a href=\"/\"><img alt=\"Homepage\" src=\"/_img/2025.01/iana-logo-header.svg\"/></a>\n",
       "</div>\n",
       "<div class=\"navigation\">\n",
       "<ul>\n",
       "<li><a href=\"/domains\">Domains</a></li>\n",
       "<li><a href=\"/protocols\">Protocols</a></li>\n",
       "<li><a href=\"/numbers\">Numbers</a></li>\n",
       "<li><a href=\"/about\">About</a></li>\n",
       "</ul>\n",
       "</div>\n",
       "</div>\n",
       "</header>\n",
       "<div id=\"body\">\n",
       "<article class=\"hemmed sidenav\">\n",
       "<main>\n",
       "<div class=\"help-article\">\n",
       "<h1>Example Domains</h1>\n",
       "<p>As described in <a href=\"/go/rfc2606\">RFC 2606</a> and <a href=\"/go/rfc6761\">RFC 6761</a>, a\n",
       "number of domains such as example.com and example.org are maintained\n",
       "for documentation purposes. These domains may be used as illustrative\n",
       "examples in documents without prior coordination with us. They are not\n",
       "available for registration or transfer.</p>\n",
       "<p>We provide a web service on the example domain hosts to provide basic\n",
       "information on the purpose of the domain. These web services are\n",
       "provided as best effort, but are not designed to support production\n",
       "applications. While incidental traffic for incorrectly configured\n",
       "applications is expected, please do not design applications that require\n",
       "the example domains to have operating HTTP service.</p>\n",
       "<h2>Further Reading</h2>\n",
       "<ul>\n",
       "<li><a href=\"/domains/reserved\">IANA-managed Reserved Domains</a></li>\n",
       "</ul>\n",
       "<div class=\"last-updated\">Last revised 2017-05-13.</div>\n",
       "</div>\n",
       "</main>\n",
       "<nav id=\"sidenav\">\n",
       "</nav>\n",
       "</article>\n",
       "</div>\n",
       "<footer>\n",
       "<div id=\"footer\">\n",
       "<table class=\"navigation\">\n",
       "<tr>\n",
       "<td class=\"section\"><a href=\"/domains\">Domain Names</a></td>\n",
       "<td class=\"subsection\">\n",
       "<ul>\n",
       "<li><a href=\"/domains/root\">Root Zone Registry</a></li>\n",
       "<li><a href=\"/domains/int\">.INT Registry</a></li>\n",
       "<li><a href=\"/domains/arpa\">.ARPA Registry</a></li>\n",
       "<li><a href=\"/domains/idn-tables\">IDN Repository</a></li>\n",
       "</ul>\n",
       "</td>\n",
       "</tr>\n",
       "<tr>\n",
       "<td class=\"section\"><a href=\"/numbers\">Number Resources</a></td>\n",
       "<td class=\"subsection\">\n",
       "<ul>\n",
       "<li><a href=\"/abuse\">Abuse Information</a></li>\n",
       "</ul>\n",
       "</td>\n",
       "</tr>\n",
       "<tr>\n",
       "<td class=\"section\"><a href=\"/protocols\">Protocols</a></td>\n",
       "<td class=\"subsection\">\n",
       "<ul>\n",
       "<li><a href=\"/protocols\">Protocol Registries</a></li>\n",
       "<li><a href=\"/time-zones\">Time Zone Database</a></li>\n",
       "</ul>\n",
       "</td>\n",
       "</tr>\n",
       "<tr>\n",
       "<td class=\"section\"><a href=\"/about\">About Us</a></td>\n",
       "<td class=\"subsection\">\n",
       "<ul>\n",
       "<li><a href=\"/news\">News</a></li>\n",
       "<li><a href=\"/performance\">Performance</a></li>\n",
       "<li><a href=\"/about/excellence\">Excellence</a></li>\n",
       "<li><a href=\"/archive\">Archive</a></li>\n",
       "<li><a href=\"/contact\">Contact Us</a></li>\n",
       "</ul>\n",
       "</td>\n",
       "</tr>\n",
       "</table>\n",
       "<div id=\"custodian\">\n",
       "<p>The IANA functions coordinate the Internet’s globally unique identifiers, and\n",
       "                are provided by <a href=\"https://pti.icann.org\">Public Technical Identifiers</a>, an affiliate of\n",
       "                <a href=\"http://www.icann.org/\">ICANN</a>.</p>\n",
       "</div>\n",
       "<div id=\"legalnotice\">\n",
       "<ul>\n",
       "<li><a href=\"https://www.icann.org/privacy/policy\">Privacy Policy</a></li>\n",
       "<li><a href=\"https://www.icann.org/privacy/tos\">Terms of Service</a></li>\n",
       "</ul>\n",
       "</div>\n",
       "</div>\n",
       "</footer>\n",
       "</body>\n",
       "</html>"
      ]
     },
     "execution_count": 40,
     "metadata": {},
     "output_type": "execute_result"
    }
   ],
   "source": [
    "soup"
   ]
  },
  {
   "cell_type": "code",
   "execution_count": 41,
   "id": "e5ef7f1d-7c43-4d02-aa38-2828c87af13b",
   "metadata": {},
   "outputs": [
    {
     "data": {
      "text/plain": [
       "[<a href=\"/\"><img alt=\"Homepage\" src=\"/_img/2025.01/iana-logo-header.svg\"/></a>,\n",
       " <a href=\"/domains\">Domains</a>,\n",
       " <a href=\"/protocols\">Protocols</a>,\n",
       " <a href=\"/numbers\">Numbers</a>,\n",
       " <a href=\"/about\">About</a>,\n",
       " <a href=\"/go/rfc2606\">RFC 2606</a>,\n",
       " <a href=\"/go/rfc6761\">RFC 6761</a>,\n",
       " <a href=\"/domains/reserved\">IANA-managed Reserved Domains</a>,\n",
       " <a href=\"/domains\">Domain Names</a>,\n",
       " <a href=\"/domains/root\">Root Zone Registry</a>,\n",
       " <a href=\"/domains/int\">.INT Registry</a>,\n",
       " <a href=\"/domains/arpa\">.ARPA Registry</a>,\n",
       " <a href=\"/domains/idn-tables\">IDN Repository</a>,\n",
       " <a href=\"/numbers\">Number Resources</a>,\n",
       " <a href=\"/abuse\">Abuse Information</a>,\n",
       " <a href=\"/protocols\">Protocols</a>,\n",
       " <a href=\"/protocols\">Protocol Registries</a>,\n",
       " <a href=\"/time-zones\">Time Zone Database</a>,\n",
       " <a href=\"/about\">About Us</a>,\n",
       " <a href=\"/news\">News</a>,\n",
       " <a href=\"/performance\">Performance</a>,\n",
       " <a href=\"/about/excellence\">Excellence</a>,\n",
       " <a href=\"/archive\">Archive</a>,\n",
       " <a href=\"/contact\">Contact Us</a>,\n",
       " <a href=\"https://pti.icann.org\">Public Technical Identifiers</a>,\n",
       " <a href=\"http://www.icann.org/\">ICANN</a>,\n",
       " <a href=\"https://www.icann.org/privacy/policy\">Privacy Policy</a>,\n",
       " <a href=\"https://www.icann.org/privacy/tos\">Terms of Service</a>]"
      ]
     },
     "execution_count": 41,
     "metadata": {},
     "output_type": "execute_result"
    }
   ],
   "source": [
    "soup.find_all('a')"
   ]
  },
  {
   "cell_type": "code",
   "execution_count": 44,
   "id": "47c31d1e-223f-488e-9192-c27e77b988ab",
   "metadata": {},
   "outputs": [
    {
     "name": "stdout",
     "output_type": "stream",
     "text": [
      "https://pti.icann.org\n",
      "http://www.icann.org/\n",
      "https://www.icann.org/privacy/policy\n",
      "https://www.icann.org/privacy/tos\n"
     ]
    }
   ],
   "source": [
    "res = soup.find_all('a')\n",
    "\n",
    "for item in res:\n",
    "    url =  item.get('href')\n",
    "    if url.startswith('http'):\n",
    "        print(url)"
   ]
  },
  {
   "cell_type": "code",
   "execution_count": 45,
   "id": "bd71e4d3-9020-4fad-baef-798d58443ca5",
   "metadata": {},
   "outputs": [],
   "source": [
    "url = \"https://the-internet.herokuapp.com/tables\"\n",
    "response = requests.get(url)"
   ]
  },
  {
   "cell_type": "code",
   "execution_count": 46,
   "id": "f13ee347-2e9b-4e4f-b662-52bf0b26b2b0",
   "metadata": {},
   "outputs": [],
   "source": [
    "if response.status_code == 200:\n",
    "    soup = BeautifulSoup(response.text, \"html.parser\")"
   ]
  },
  {
   "cell_type": "code",
   "execution_count": 47,
   "id": "b08f19ba-ee88-4cf2-adda-a58b2367c177",
   "metadata": {},
   "outputs": [
    {
     "data": {
      "text/plain": [
       "<!DOCTYPE html>\n",
       "\n",
       "<!--[if IE 8]>         <html class=\"no-js lt-ie9\" lang=\"en\" > <![endif]-->\n",
       "<!--[if gt IE 8]><!--> <html class=\"no-js\" lang=\"en\"> <!--<![endif]-->\n",
       "<html>\n",
       "<head>\n",
       "<script src=\"/js/vendor/298279967.js\"></script>\n",
       "<meta charset=\"utf-8\"/>\n",
       "<meta content=\"width=device-width\" name=\"viewport\"/>\n",
       "<title>The Internet</title>\n",
       "<link href=\"/css/app.css\" rel=\"stylesheet\"/>\n",
       "<link href=\"/css/font-awesome.css\" rel=\"stylesheet\"/>\n",
       "<script src=\"/js/vendor/jquery-1.11.3.min.js\"></script>\n",
       "<script src=\"/js/vendor/jquery-ui-1.11.4/jquery-ui.js\"></script>\n",
       "<script src=\"/js/foundation/foundation.js\"></script>\n",
       "<script src=\"/js/foundation/foundation.alerts.js\"></script>\n",
       "<script>\n",
       "      $(document).foundation();\n",
       "    </script>\n",
       "</head>\n",
       "<body>\n",
       "<div class=\"row\">\n",
       "<div class=\"large-12 columns\" id=\"flash-messages\">\n",
       "</div>\n",
       "</div>\n",
       "<div class=\"row\">\n",
       "<a href=\"https://github.com/tourdedave/the-internet\"><img alt=\"Fork me on GitHub\" src=\"/img/forkme_right_green_007200.png\" style=\"position: absolute; top: 0; right: 0; border: 0;\"/></a>\n",
       "<div class=\"large-12 columns\" id=\"content\">\n",
       "<script src=\"/js/vendor/jquery.tablesorter.min.js\"></script>\n",
       "<script>\n",
       "$(function(){\n",
       "  $(\"#table1\").tablesorter();\n",
       "  $(\"#table2\").tablesorter();\n",
       "});\n",
       "</script>\n",
       "<style>\n",
       "  span {\n",
       "    padding-right: 20px;\n",
       "    background-repeat: no-repeat;\n",
       "    background-position: 100% 100%;\n",
       "  }\n",
       "  .tablesorter-headerAsc span   { background-image: url('img/down-arrow.png');  }\n",
       "  .tablesorter-headerDesc span  { background-image: url('img/up-arrow.png');    }\n",
       "</style>\n",
       "<div class=\"example\">\n",
       "<h3>Data Tables</h3>\n",
       "<p>Often times when you see a table it contains data which is sortable -- sometimes with actions that can be taken within each row (e.g. edit, delete). And it can be challenging to automate interaction with sets of data in a table depending on how it is constructed.</p>\n",
       "<h4>Example 1</h4>\n",
       "<p>No Class or ID attributes to signify groupings of rows and columns</p>\n",
       "<table class=\"tablesorter\" id=\"table1\">\n",
       "<thead>\n",
       "<tr>\n",
       "<th><span>Last Name</span></th>\n",
       "<th><span>First Name</span></th>\n",
       "<th><span>Email</span></th>\n",
       "<th><span>Due</span></th>\n",
       "<th><span>Web Site</span></th>\n",
       "<th><span>Action</span></th>\n",
       "</tr>\n",
       "</thead>\n",
       "<tbody>\n",
       "<tr>\n",
       "<td>Smith</td>\n",
       "<td>John</td>\n",
       "<td>jsmith@gmail.com</td>\n",
       "<td>$50.00</td>\n",
       "<td>http://www.jsmith.com</td>\n",
       "<td>\n",
       "<a href=\"#edit\">edit</a>\n",
       "<a href=\"#delete\">delete</a>\n",
       "</td>\n",
       "</tr>\n",
       "<tr>\n",
       "<td>Bach</td>\n",
       "<td>Frank</td>\n",
       "<td>fbach@yahoo.com</td>\n",
       "<td>$51.00</td>\n",
       "<td>http://www.frank.com</td>\n",
       "<td>\n",
       "<a href=\"#edit\">edit</a>\n",
       "<a href=\"#delete\">delete</a>\n",
       "</td>\n",
       "</tr>\n",
       "<tr>\n",
       "<td>Doe</td>\n",
       "<td>Jason</td>\n",
       "<td>jdoe@hotmail.com</td>\n",
       "<td>$100.00</td>\n",
       "<td>http://www.jdoe.com</td>\n",
       "<td>\n",
       "<a href=\"#edit\">edit</a>\n",
       "<a href=\"#delete\">delete</a>\n",
       "</td>\n",
       "</tr>\n",
       "<tr>\n",
       "<td>Conway</td>\n",
       "<td>Tim</td>\n",
       "<td>tconway@earthlink.net</td>\n",
       "<td>$50.00</td>\n",
       "<td>http://www.timconway.com</td>\n",
       "<td>\n",
       "<a href=\"#edit\">edit</a>\n",
       "<a href=\"#delete\">delete</a>\n",
       "</td>\n",
       "</tr>\n",
       "</tbody>\n",
       "</table>\n",
       "<h4>Example 2</h4>\n",
       "<p>Class and ID attributes to signify groupings of rows and columns</p>\n",
       "<table class=\"tablesorter\" id=\"table2\">\n",
       "<thead>\n",
       "<tr>\n",
       "<th><span class=\"last-name\">Last Name</span></th>\n",
       "<th><span class=\"first-name\">First Name</span></th>\n",
       "<th><span class=\"email\">Email</span></th>\n",
       "<th><span class=\"dues\">Due</span></th>\n",
       "<th><span class=\"web-site\">Web Site</span></th>\n",
       "<th><span class=\"action\">Action</span></th>\n",
       "</tr>\n",
       "</thead>\n",
       "<tbody>\n",
       "<tr>\n",
       "<td class=\"last-name\">Smith</td>\n",
       "<td class=\"first-name\">John</td>\n",
       "<td class=\"email\">jsmith@gmail.com</td>\n",
       "<td class=\"dues\">$50.00</td>\n",
       "<td class=\"web-site\">http://www.jsmith.com</td>\n",
       "<td class=\"action\">\n",
       "<a href=\"#edit\">edit</a>\n",
       "<a href=\"#delete\">delete</a>\n",
       "</td>\n",
       "</tr>\n",
       "<tr>\n",
       "<td class=\"last-name\">Bach</td>\n",
       "<td class=\"first-name\">Frank</td>\n",
       "<td class=\"email\">fbach@yahoo.com</td>\n",
       "<td class=\"dues\">$51.00</td>\n",
       "<td class=\"web-site\">http://www.frank.com</td>\n",
       "<td class=\"action\">\n",
       "<a href=\"#edit\">edit</a>\n",
       "<a href=\"#delete\">delete</a>\n",
       "</td>\n",
       "</tr>\n",
       "<tr>\n",
       "<td class=\"last-name\">Doe</td>\n",
       "<td class=\"first-name\">Jason</td>\n",
       "<td class=\"email\">jdoe@hotmail.com</td>\n",
       "<td class=\"dues\">$100.00</td>\n",
       "<td class=\"web-site\">http://www.jdoe.com</td>\n",
       "<td class=\"action\">\n",
       "<a href=\"#edit\">edit</a>\n",
       "<a href=\"#delete\">delete</a>\n",
       "</td>\n",
       "</tr>\n",
       "<tr>\n",
       "<td class=\"last-name\">Conway</td>\n",
       "<td class=\"first-name\">Tim</td>\n",
       "<td class=\"email\">tconway@earthlink.net</td>\n",
       "<td class=\"dues\">$50.00</td>\n",
       "<td class=\"web-site\">http://www.timconway.com</td>\n",
       "<td class=\"action\">\n",
       "<a href=\"#edit\">edit</a>\n",
       "<a href=\"#delete\">delete</a>\n",
       "</td>\n",
       "</tr>\n",
       "</tbody>\n",
       "</table>\n",
       "</div>\n",
       "</div>\n",
       "</div>\n",
       "<div class=\"row\" id=\"page-footer\">\n",
       "<div class=\"large-4 large-centered columns\">\n",
       "<hr/>\n",
       "<div style=\"text-align: center;\">Powered by <a href=\"http://elementalselenium.com/\" target=\"_blank\">Elemental Selenium</a></div>\n",
       "</div>\n",
       "</div>\n",
       "</body>\n",
       "</html>\n",
       "</html>"
      ]
     },
     "execution_count": 47,
     "metadata": {},
     "output_type": "execute_result"
    }
   ],
   "source": [
    "soup"
   ]
  },
  {
   "cell_type": "code",
   "execution_count": 49,
   "id": "b039884b-b6d7-47a4-930e-a7d1e38c8d9a",
   "metadata": {},
   "outputs": [],
   "source": [
    "table_1 = soup.find(\"table\", id=\"table1\")\n",
    "table_2 = soup.find(\"table\", id=\"table2\")"
   ]
  },
  {
   "cell_type": "code",
   "execution_count": 50,
   "id": "defd78ab-a768-4a27-900b-423544ea2fba",
   "metadata": {},
   "outputs": [
    {
     "name": "stdout",
     "output_type": "stream",
     "text": [
      "Заголовки: ['Last Name', 'First Name', 'Email', 'Due', 'Web Site', 'Action']\n"
     ]
    }
   ],
   "source": [
    "headers = [th.text.strip() for th in table_1.find_all(\"th\")]\n",
    "print(\"Заголовки:\", headers)"
   ]
  },
  {
   "cell_type": "code",
   "execution_count": 51,
   "id": "0ce39254-e775-4a39-b145-ed5fe7a59f4a",
   "metadata": {},
   "outputs": [
    {
     "name": "stdout",
     "output_type": "stream",
     "text": [
      "Заголовки: ['Last Name', 'First Name', 'Email', 'Due', 'Web Site', 'Action']\n"
     ]
    }
   ],
   "source": [
    "headers = [th.text.strip() for th in table_2.find_all(\"th\")]\n",
    "print(\"Заголовки:\", headers)"
   ]
  },
  {
   "cell_type": "code",
   "execution_count": 52,
   "id": "06218fe1-17d8-4414-b922-a3f83150579d",
   "metadata": {},
   "outputs": [
    {
     "name": "stdout",
     "output_type": "stream",
     "text": [
      "['Smith', 'John', 'jsmith@gmail.com', '$50.00', 'http://www.jsmith.com', 'edit\\ndelete']\n",
      "['Bach', 'Frank', 'fbach@yahoo.com', '$51.00', 'http://www.frank.com', 'edit\\ndelete']\n",
      "['Doe', 'Jason', 'jdoe@hotmail.com', '$100.00', 'http://www.jdoe.com', 'edit\\ndelete']\n",
      "['Conway', 'Tim', 'tconway@earthlink.net', '$50.00', 'http://www.timconway.com', 'edit\\ndelete']\n"
     ]
    }
   ],
   "source": [
    "rows = table_1.find_all(\"tr\")[1:] # Пропускаем заголовок\n",
    "for row in rows:\n",
    "    cols = [td.text.strip() for td in row.find_all(\"td\")]\n",
    "    print(cols)"
   ]
  },
  {
   "cell_type": "code",
   "execution_count": null,
   "id": "47ed34a8-29de-4bc9-8fcc-883fe65c05f1",
   "metadata": {},
   "outputs": [],
   "source": []
  }
 ],
 "metadata": {
  "kernelspec": {
   "display_name": "Python 3 (ipykernel)",
   "language": "python",
   "name": "python3"
  },
  "language_info": {
   "codemirror_mode": {
    "name": "ipython",
    "version": 3
   },
   "file_extension": ".py",
   "mimetype": "text/x-python",
   "name": "python",
   "nbconvert_exporter": "python",
   "pygments_lexer": "ipython3",
   "version": "3.13.3"
  }
 },
 "nbformat": 4,
 "nbformat_minor": 5
}
