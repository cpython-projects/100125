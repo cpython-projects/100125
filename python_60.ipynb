{
 "cells": [
  {
   "cell_type": "code",
   "execution_count": 3,
   "id": "fc683df8-bf5a-452d-b227-f33c55f35f23",
   "metadata": {},
   "outputs": [
    {
     "name": "stdout",
     "output_type": "stream",
     "text": [
      "['17', '47', '14']\n"
     ]
    }
   ],
   "source": [
    "import re\n",
    "text = \"Python 3.9, Java 1747, C++ 14\"\n",
    "numbers = re.findall(r\"\\d\\d\", text) # Поиск всех чисел\n",
    "print(numbers)"
   ]
  },
  {
   "cell_type": "code",
   "execution_count": 4,
   "id": "64ec5431-8643-4ecd-bee0-76c219f2ee4e",
   "metadata": {},
   "outputs": [
    {
     "name": "stdout",
     "output_type": "stream",
     "text": [
      "Цифры: ['3', '1', '2', '1', '7', '1', '4']\n"
     ]
    }
   ],
   "source": [
    "text = \"\\tPython 3.12, Java 17, C++ 14!\\n\"\n",
    "\n",
    "print(\"Цифры:\", re.findall(r\"\\d\", text))"
   ]
  },
  {
   "cell_type": "code",
   "execution_count": 5,
   "id": "41b4d40f-d3fa-4ef4-9a65-1263219f0db8",
   "metadata": {},
   "outputs": [
    {
     "name": "stdout",
     "output_type": "stream",
     "text": [
      "Двузначные цифры: ['12', '17', '14']\n"
     ]
    }
   ],
   "source": [
    "print(\"Двузначные цифры:\", re.findall(r\"\\d\\d\", text))"
   ]
  },
  {
   "cell_type": "code",
   "execution_count": 6,
   "id": "97587293-715f-412d-8295-393342326093",
   "metadata": {},
   "outputs": [
    {
     "name": "stdout",
     "output_type": "stream",
     "text": [
      "НЕ цифры: ['\\t', 'P', 'y', 't', 'h', 'o', 'n', ' ', '.', ',', ' ', 'J', 'a', 'v', 'a', ' ', ',', ' ', 'C', '+', '+', ' ', '!', '\\n']\n"
     ]
    }
   ],
   "source": [
    "print(\"НЕ цифры:\", re.findall(r\"\\D\", text))"
   ]
  },
  {
   "cell_type": "code",
   "execution_count": 7,
   "id": "c76ec54c-0245-42e4-96d8-2fb2f79d51f5",
   "metadata": {},
   "outputs": [
    {
     "name": "stdout",
     "output_type": "stream",
     "text": [
      "Буквы, цифры, _: ['P', 'y', 't', 'h', 'o', 'n', '3', '1', '2', 'J', 'a', 'v', 'a', '1', '7', 'C', '1', '4']\n"
     ]
    }
   ],
   "source": [
    "print(\"Буквы, цифры, _:\", re.findall(r\"\\w\", text))"
   ]
  },
  {
   "cell_type": "code",
   "execution_count": 8,
   "id": "9555144f-51c6-4458-a2f8-9f21c2e8c147",
   "metadata": {},
   "outputs": [
    {
     "name": "stdout",
     "output_type": "stream",
     "text": [
      "НЕ буквы, цифры, _: ['\\t', ' ', '.', ',', ' ', ' ', ',', ' ', '+', '+', ' ', '!', '\\n']\n"
     ]
    }
   ],
   "source": [
    "print(\"НЕ буквы, цифры, _:\", re.findall(r\"\\W\", text))"
   ]
  },
  {
   "cell_type": "code",
   "execution_count": 9,
   "id": "57742595-5378-4673-8af6-e50387de8eec",
   "metadata": {},
   "outputs": [
    {
     "name": "stdout",
     "output_type": "stream",
     "text": [
      "Пробелы: ['\\t', ' ', ' ', ' ', ' ', ' ', '\\n']\n"
     ]
    }
   ],
   "source": [
    "print(\"Пробелы:\", re.findall(r\"\\s\", text))"
   ]
  },
  {
   "cell_type": "code",
   "execution_count": 10,
   "id": "028b660c-3dc3-45e8-9fb6-6c64ea3f7475",
   "metadata": {},
   "outputs": [
    {
     "name": "stdout",
     "output_type": "stream",
     "text": [
      "НЕ пробелы: ['P', 'y', 't', 'h', 'o', 'n', '3', '.', '1', '2', ',', 'J', 'a', 'v', 'a', '1', '7', ',', 'C', '+', '+', '1', '4', '!']\n"
     ]
    }
   ],
   "source": [
    "print(\"НЕ пробелы:\", re.findall(r\"\\S\", text))"
   ]
  },
  {
   "cell_type": "code",
   "execution_count": 11,
   "id": "2dd2c372-ee54-4cf0-bc50-5aad4fa79f24",
   "metadata": {},
   "outputs": [
    {
     "data": {
      "text/plain": [
       "'Python3.12,Java17,C++14!'"
      ]
     },
     "execution_count": 11,
     "metadata": {},
     "output_type": "execute_result"
    }
   ],
   "source": [
    "''.join(re.findall(r\"\\S\", text))"
   ]
  },
  {
   "cell_type": "code",
   "execution_count": 12,
   "id": "538efe66-7b8c-4fe5-9081-43b7202d32d2",
   "metadata": {},
   "outputs": [
    {
     "name": "stdout",
     "output_type": "stream",
     "text": [
      "Все символы (кроме \\n): ['\\t', 'P', 'y', 't', 'h', 'o', 'n', ' ', '3', '.', '1', '2', ',', ' ', 'J', 'a', 'v', 'a', ' ', '1', '7', ',', ' ', 'C', '+', '+', ' ', '1', '4', '!']\n"
     ]
    }
   ],
   "source": [
    "print(\"Все символы (кроме \\\\n):\", re.findall(r\".\", text))"
   ]
  },
  {
   "cell_type": "code",
   "execution_count": 13,
   "id": "2d7a4368-e9e8-4d66-802c-a15b596879d2",
   "metadata": {},
   "outputs": [
    {
     "ename": "NameError",
     "evalue": "name 'a' is not defined",
     "output_type": "error",
     "traceback": [
      "\u001b[31m---------------------------------------------------------------------------\u001b[39m",
      "\u001b[31mNameError\u001b[39m                                 Traceback (most recent call last)",
      "\u001b[36mCell\u001b[39m\u001b[36m \u001b[39m\u001b[32mIn[13]\u001b[39m\u001b[32m, line 1\u001b[39m\n\u001b[32m----> \u001b[39m\u001b[32m1\u001b[39m [\u001b[43ma\u001b[49m-z]\n",
      "\u001b[31mNameError\u001b[39m: name 'a' is not defined"
     ]
    }
   ],
   "source": [
    "[a-z]"
   ]
  },
  {
   "cell_type": "code",
   "execution_count": 16,
   "id": "f3e442d8-6ad8-4c77-a0fd-e057a061b437",
   "metadata": {},
   "outputs": [
    {
     "name": "stdout",
     "output_type": "stream",
     "text": [
      "['P', 'y', 't', 'h', 'o', 'n', '3', '9', 'J', 'a', 'v', 'a', '1', '7', '4', '7', 'C', '1', '4']\n"
     ]
    }
   ],
   "source": [
    "text = \"Python 3.9, Java 1747, C++ 14\"\n",
    "res = re.findall(r\"[a-zA-Z0-9]\", text) # Поиск всех чисел\n",
    "print(res)"
   ]
  },
  {
   "cell_type": "code",
   "execution_count": 17,
   "id": "b43de6fb-9f67-4932-a375-29975bbdfb1d",
   "metadata": {},
   "outputs": [
    {
     "name": "stdout",
     "output_type": "stream",
     "text": [
      "['09:45']\n"
     ]
    }
   ],
   "source": [
    "text = \"Я вчера проснулся в 09:45\"\n",
    "\n",
    "res = re.findall(r\"\\d\\d:\\d\\d\", text)\n",
    "print(res)"
   ]
  },
  {
   "cell_type": "code",
   "execution_count": 18,
   "id": "e9d8e2b7-bbab-41d9-97fc-207e6f29319a",
   "metadata": {},
   "outputs": [],
   "source": [
    "text = \"\"\"\n",
    "Orders: ID123, ID4567, ID89\n",
    "Numbers: 123-45-67, 321-45-67\n",
    "Prices: 100$, 199.50$, 99.99€, 0.49€, .99€\n",
    "File names: report.txt, report2.txt, report10.txt\n",
    "\"\"\""
   ]
  },
  {
   "cell_type": "code",
   "execution_count": 19,
   "id": "28abae11-8be9-4b4f-bd4a-849b11ce979d",
   "metadata": {},
   "outputs": [
    {
     "name": "stdout",
     "output_type": "stream",
     "text": [
      "Одна или более цифр: ['123', '4567', '89', '123', '45', '67', '321', '45', '67', '100', '199', '50', '99', '99', '0', '49', '99', '2', '10']\n"
     ]
    }
   ],
   "source": [
    "print(\"Одна или более цифр:\", re.findall(r\"\\d+\", text))"
   ]
  },
  {
   "cell_type": "code",
   "execution_count": 20,
   "id": "9707711d-d08f-4bf9-aafb-60d6b272eefa",
   "metadata": {},
   "outputs": [
    {
     "name": "stdout",
     "output_type": "stream",
     "text": [
      "Телефонные номера (формата xxx-xx-xx): ['123-45-67', '321-45-67']\n"
     ]
    }
   ],
   "source": [
    "print(\"Телефонные номера (формата xxx-xx-xx):\", re.findall(r\"\\d{3}-\\d{2}-\\d{2}\", text))"
   ]
  },
  {
   "cell_type": "code",
   "execution_count": 23,
   "id": "710719cc-3716-4931-b697-6fd9ba9730c2",
   "metadata": {},
   "outputs": [
    {
     "name": "stdout",
     "output_type": "stream",
     "text": [
      "Цены (числа с десятичной точкой): ['199.50', '99.99', '0.49']\n"
     ]
    }
   ],
   "source": [
    "print(\"Цены (числа с десятичной точкой):\", re.findall(r\"\\d+\\.\\d+\", text))"
   ]
  },
  {
   "cell_type": "code",
   "execution_count": 24,
   "id": "29fed5a0-9711-48b9-9051-b5d103dc4ea7",
   "metadata": {},
   "outputs": [
    {
     "name": "stdout",
     "output_type": "stream",
     "text": [
      "ID-коды: ['ID123', 'ID4567', 'ID89']\n"
     ]
    }
   ],
   "source": [
    "print(\"ID-коды:\", re.findall(r\"ID\\d{2,}\", text))"
   ]
  },
  {
   "cell_type": "code",
   "execution_count": 25,
   "id": "9d6d5b8b-ca90-44f4-bbb8-685829075a80",
   "metadata": {},
   "outputs": [
    {
     "name": "stdout",
     "output_type": "stream",
     "text": [
      "Имена файлов 0+ цифр: ['report.txt', 'report2.txt', 'report10.txt']\n"
     ]
    }
   ],
   "source": [
    "print(\"Имена файлов 0+ цифр:\", re.findall(r\"report\\d*.txt\", text))"
   ]
  },
  {
   "cell_type": "code",
   "execution_count": 27,
   "id": "867d68d1-4c6a-4216-9f5d-1c68bcbc4b2d",
   "metadata": {},
   "outputs": [
    {
     "name": "stdout",
     "output_type": "stream",
     "text": [
      "Имена файлов 0/1 цифр: ['report.txt', 'report2.txt']\n"
     ]
    }
   ],
   "source": [
    "print(\"Имена файлов 0/1 цифр:\", re.findall(r\"report\\d?\\.txt\", text))"
   ]
  },
  {
   "cell_type": "code",
   "execution_count": 28,
   "id": "1b491703-19f1-468c-a653-53ab9009d281",
   "metadata": {},
   "outputs": [
    {
     "name": "stdout",
     "output_type": "stream",
     "text": [
      "Имена файлов 1/2 цифр: ['report2.txt', 'report10.txt']\n"
     ]
    }
   ],
   "source": [
    "print(\"Имена файлов 1/2 цифр:\", re.findall(r\"report\\d{1,2}.txt\", text))"
   ]
  },
  {
   "cell_type": "code",
   "execution_count": 29,
   "id": "9bd1878e-2f83-45bd-a96c-24c3b26a8e33",
   "metadata": {},
   "outputs": [],
   "source": [
    "text = \"<div>Hello</div><div>World</div>\"\n",
    "greedy = re.findall(r\"<.*>\", text) # Жадный"
   ]
  },
  {
   "cell_type": "code",
   "execution_count": 30,
   "id": "2f9cbafd-e093-4113-ae49-add0193d288a",
   "metadata": {},
   "outputs": [
    {
     "data": {
      "text/plain": [
       "['<div>Hello</div><div>World</div>']"
      ]
     },
     "execution_count": 30,
     "metadata": {},
     "output_type": "execute_result"
    }
   ],
   "source": [
    "greedy"
   ]
  },
  {
   "cell_type": "code",
   "execution_count": 31,
   "id": "306b148a-d44b-4a3b-bb19-fe4801e9af91",
   "metadata": {},
   "outputs": [
    {
     "name": "stdout",
     "output_type": "stream",
     "text": [
      "['<div>', '</div>', '<div>', '</div>']\n"
     ]
    }
   ],
   "source": [
    "lazy = re.findall(r\"<.*?>\", text) # Ленивый\n",
    "print(lazy)"
   ]
  },
  {
   "cell_type": "code",
   "execution_count": 32,
   "id": "6c2cdab8-2cf2-4c13-ad68-ae5a2204e86d",
   "metadata": {},
   "outputs": [],
   "source": [
    "text = 'colour red, color green'"
   ]
  },
  {
   "cell_type": "code",
   "execution_count": 33,
   "id": "191a6f2a-06a6-4eb8-b70e-9036fdda68e7",
   "metadata": {},
   "outputs": [
    {
     "name": "stdout",
     "output_type": "stream",
     "text": [
      "['colour', 'color']\n"
     ]
    }
   ],
   "source": [
    "res = re.findall(r\"colou?r\", text)\n",
    "print(res)"
   ]
  },
  {
   "cell_type": "code",
   "execution_count": 35,
   "id": "61a829a1-58b1-4905-a4ac-a9f4895eb0e6",
   "metadata": {},
   "outputs": [
    {
     "name": "stdout",
     "output_type": "stream",
     "text": [
      "['<divHello</div><div>World</div>']\n",
      "['<divHello</div>', '<div>', '</div>']\n"
     ]
    }
   ],
   "source": [
    "text = \"<divHello</div><div>World</div>\"\n",
    "greedy = re.findall(r\"<.*>\", text) # Жадный\n",
    "print(greedy)\n",
    "lazy = re.findall(r\"<.*?>\", text) # Ленивый\n",
    "print(lazy)"
   ]
  },
  {
   "cell_type": "code",
   "execution_count": 42,
   "id": "4f345fe8-a733-4d5f-ad60-78fd93cf058b",
   "metadata": {},
   "outputs": [],
   "source": [
    "text = \"report,txt, report2txt, report10.txt, some_txt_report, some_report_txt, reports\\\\report.txt, report2.txt\""
   ]
  },
  {
   "cell_type": "code",
   "execution_count": 43,
   "id": "28dddb0d-1f13-4e76-a437-258a2cb78b4a",
   "metadata": {},
   "outputs": [
    {
     "data": {
      "text/plain": [
       "'report,txt, report2txt, report10.txt, some_txt_report, some_report_txt, reports\\\\report.txt, report2.txt'"
      ]
     },
     "execution_count": 43,
     "metadata": {},
     "output_type": "execute_result"
    }
   ],
   "source": [
    "text"
   ]
  },
  {
   "cell_type": "code",
   "execution_count": 45,
   "id": "9c02e5b7-3609-49cc-8af8-0b6ddc8c028f",
   "metadata": {},
   "outputs": [
    {
     "name": "stdout",
     "output_type": "stream",
     "text": [
      "Имена файлов с txt: ['report10.txt', 'report.txt', 'report2.txt']\n"
     ]
    }
   ],
   "source": [
    "print(\"Имена файлов с txt:\", re.findall(r\"\\w+.txt\", text))"
   ]
  },
  {
   "cell_type": "code",
   "execution_count": 46,
   "id": "291c1c23-3cb6-4b2d-be37-194a1148a971",
   "metadata": {},
   "outputs": [
    {
     "name": "stdout",
     "output_type": "stream",
     "text": [
      "Имена файлов в папке: ['reports\\\\report.txt']\n"
     ]
    }
   ],
   "source": [
    "print(\"Имена файлов в папке:\", re.findall(r\"\\w+\\\\\\w+\\.\\w+\", text))"
   ]
  },
  {
   "cell_type": "code",
   "execution_count": 47,
   "id": "6dcf7abe-b4a3-4c8d-92d7-29d0d2fc89e3",
   "metadata": {},
   "outputs": [],
   "source": [
    "text = \"Hello world! Welcome to world\""
   ]
  },
  {
   "cell_type": "code",
   "execution_count": 48,
   "id": "3c4629c8-004d-48e6-ba2a-7ef59cbd1b5a",
   "metadata": {},
   "outputs": [
    {
     "name": "stdout",
     "output_type": "stream",
     "text": [
      "Слово в начале строки: ['Hello']\n"
     ]
    }
   ],
   "source": [
    "print(\"Слово в начале строки:\", re.findall(r\"^\\w+\", text))"
   ]
  },
  {
   "cell_type": "code",
   "execution_count": 49,
   "id": "809072c4-b0ae-4486-b76d-5990bcaf9708",
   "metadata": {},
   "outputs": [
    {
     "name": "stdout",
     "output_type": "stream",
     "text": [
      "Слово в конце строки: ['world']\n"
     ]
    }
   ],
   "source": [
    "print(\"Слово в конце строки:\", re.findall(r\"\\w+$\", text))"
   ]
  },
  {
   "cell_type": "code",
   "execution_count": 50,
   "id": "b481bd0b-6e18-4cb1-b8c3-7f9e904a8ade",
   "metadata": {},
   "outputs": [
    {
     "name": "stdout",
     "output_type": "stream",
     "text": [
      "Слова с 'cat' внутри: ['education', '_cat_']\n"
     ]
    }
   ],
   "source": [
    "text2 = \"category wildcat education _cat_ catalog\"\n",
    "print(\"Слова с 'cat' внутри:\", re.findall(r\"\\w+cat\\w+\", text2))"
   ]
  },
  {
   "cell_type": "code",
   "execution_count": 51,
   "id": "71c2b062-c7ac-4706-8177-4cbe6ac57b2d",
   "metadata": {},
   "outputs": [
    {
     "name": "stdout",
     "output_type": "stream",
     "text": [
      "Слова с 'cat' в начале слов: ['category', 'catalog']\n"
     ]
    }
   ],
   "source": [
    "print(\"Слова с 'cat' в начале слов:\", re.findall(r\"\\bcat\\w*\", text2))"
   ]
  },
  {
   "cell_type": "code",
   "execution_count": 52,
   "id": "ecf01a12-f1da-4473-8ee8-2dee2af725b4",
   "metadata": {},
   "outputs": [
    {
     "name": "stdout",
     "output_type": "stream",
     "text": [
      "Слова с 'cat' в конце слов: ['wildcat']\n"
     ]
    }
   ],
   "source": [
    "print(\"Слова с 'cat' в конце слов:\", re.findall(r\"\\w*cat\\b\", text2))"
   ]
  },
  {
   "cell_type": "code",
   "execution_count": 54,
   "id": "81f66418-bd45-418f-8ddc-0dbf6b18e826",
   "metadata": {},
   "outputs": [
    {
     "name": "stdout",
     "output_type": "stream",
     "text": [
      "Числа внутри строк: ['123', '3', '567', '99', '23456']\n"
     ]
    }
   ],
   "source": [
    "text3 = \"X123X 234 4567X X999, 1234567\"\n",
    "print(\"Числа внутри строк:\", re.findall(r\"\\B\\d+\\B\", text3))"
   ]
  },
  {
   "cell_type": "code",
   "execution_count": 57,
   "id": "7f843ded-b73f-4bbb-9c15-660970f3735c",
   "metadata": {},
   "outputs": [
    {
     "name": "stdout",
     "output_type": "stream",
     "text": [
      "Даты: ['2024-05-10 ', ' 10/05/2024']\n"
     ]
    }
   ],
   "source": [
    "text = \"Meeting on 2024-05-10 or 10/05/2024 at 14:30\"\n",
    "\n",
    "# Найдём даты в формате YYYY-MM-DD или DD/MM/YYYY\n",
    "print(\"Даты:\", re.findall(r\"(\\d{4}-\\d{2}-\\d{2}|\\d{2}/\\d{2}/\\d{4})\", text))"
   ]
  },
  {
   "cell_type": "code",
   "execution_count": 58,
   "id": "7702cc73-d9ee-42d4-9032-eb3119f60c07",
   "metadata": {},
   "outputs": [
    {
     "name": "stdout",
     "output_type": "stream",
     "text": [
      "ID заказа: 12345\n",
      "Номер счёта: 67890\n"
     ]
    }
   ],
   "source": [
    "text = \"Order ID: 12345, Invoice No: 67890\"\n",
    "\n",
    "# Найдём ID заказа и счёта\n",
    "match = re.search(r\"Order ID: (\\d+), Invoice No: (\\d+)\", text)\n",
    "if match:\n",
    "    print(\"ID заказа:\", match.group(1))\n",
    "    print(\"Номер счёта:\", match.group(2))"
   ]
  },
  {
   "cell_type": "code",
   "execution_count": 59,
   "id": "312ebe77-2ed6-4244-b396-6fb9cdf8742f",
   "metadata": {},
   "outputs": [
    {
     "name": "stdout",
     "output_type": "stream",
     "text": [
      "Суммы: ['100', '200', '300']\n"
     ]
    }
   ],
   "source": [
    "text = \"USD 100, EUR 200, GBP 300\"\n",
    "# Найдём суммы, не выделяя валюту\n",
    "matches = re.findall(r\"(?:USD|EUR|GBP) (\\d+)\", text)\n",
    "print(\"Суммы:\", matches)"
   ]
  },
  {
   "cell_type": "code",
   "execution_count": 60,
   "id": "b93602e4-025e-4fc4-9892-c5a21dade44d",
   "metadata": {},
   "outputs": [
    {
     "name": "stdout",
     "output_type": "stream",
     "text": [
      "Суммы: [('USD', '100'), ('EUR', '200'), ('GBP', '300')]\n"
     ]
    }
   ],
   "source": [
    "# Найдём суммы и валюту\n",
    "matches = re.findall(r\"(USD|EUR|GBP) (\\d+)\", text)\n",
    "print(\"Суммы:\", matches)"
   ]
  },
  {
   "cell_type": "code",
   "execution_count": 61,
   "id": "1a265637-092b-488b-8891-53166a3a7e23",
   "metadata": {},
   "outputs": [
    {
     "name": "stdout",
     "output_type": "stream",
     "text": [
      "Объект Match: <re.Match object; span=(0, 7), match='ID12345'>\n",
      "Само совпадение: ID12345\n",
      "Диапазон совпадения: (0, 7)\n"
     ]
    }
   ],
   "source": [
    "text = \"ID12345 is confirmed. ID23456 is confirmed\"\n",
    "# Проверяем, начинается ли строка с \"ID\" + цифры\n",
    "match = re.match(r\"ID\\d+\", text)\n",
    "if match:\n",
    "    print(\"Объект Match:\", match)\n",
    "    print(\"Само совпадение:\", match.group())\n",
    "    print(\"Диапазон совпадения:\", match.span())\n",
    "else:\n",
    "    print(\"Нет совпадения.\")"
   ]
  },
  {
   "cell_type": "code",
   "execution_count": 62,
   "id": "341bb760-7403-44ba-88f9-eb8d40f5947a",
   "metadata": {},
   "outputs": [
    {
     "name": "stdout",
     "output_type": "stream",
     "text": [
      "Список слов: ['Python', 'is', 'popular', 'It', 'is', 'used', 'in', 'web', 'development', 'data', 'science', 'and', 'automation', 'Many', 'developers', 'choose', 'Python', 'for', 'its', 'simplicity', '']\n"
     ]
    }
   ],
   "source": [
    "text = \"\"\"Python is popular. It is used in web development, data science, \n",
    "and automation. Many developers choose Python for its simplicity.\"\"\"\n",
    "# Разделяем строку по запятым, пробелам и точкам\n",
    "words = re.split(r\"[,\\s\\.]+\", text)\n",
    "print(\"Список слов:\", words)"
   ]
  },
  {
   "cell_type": "code",
   "execution_count": 63,
   "id": "0d49ab26-87ca-4594-b756-203ec08f9b99",
   "metadata": {},
   "outputs": [
    {
     "name": "stdout",
     "output_type": "stream",
     "text": [
      "Отформатированный текст: apple, banana, orange, grape\n"
     ]
    }
   ],
   "source": [
    "text = \"apple, banana , orange ,grape\"\n",
    "# Удаляем лишние пробелы перед и после запятых\n",
    "clean_text = re.sub(r\"\\s*,\\s*\", \", \", text)\n",
    "print(\"Отформатированный текст:\", clean_text)"
   ]
  },
  {
   "cell_type": "code",
   "execution_count": null,
   "id": "7b843029-6a0f-43e4-8751-31d90ee0e1df",
   "metadata": {},
   "outputs": [],
   "source": []
  },
  {
   "cell_type": "code",
   "execution_count": null,
   "id": "15f6daa0-980c-48bf-89a3-11efc1cf9b26",
   "metadata": {},
   "outputs": [],
   "source": []
  }
 ],
 "metadata": {
  "kernelspec": {
   "display_name": "Python 3 (ipykernel)",
   "language": "python",
   "name": "python3"
  },
  "language_info": {
   "codemirror_mode": {
    "name": "ipython",
    "version": 3
   },
   "file_extension": ".py",
   "mimetype": "text/x-python",
   "name": "python",
   "nbconvert_exporter": "python",
   "pygments_lexer": "ipython3",
   "version": "3.13.3"
  }
 },
 "nbformat": 4,
 "nbformat_minor": 5
}
