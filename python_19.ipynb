{
 "cells": [
  {
   "cell_type": "markdown",
   "id": "08e94406-04c6-43b4-9c0d-887e5203ab72",
   "metadata": {
    "jp-MarkdownHeadingCollapsed": true
   },
   "source": [
    "# Анализ изменения цен на товар\n",
    "\n",
    "## Легенда\n",
    "Вы работаете аналитиком в интернет-магазине. Руководство попросило вас проанализировать динамику цен на один из товаров за последние 10 дней. \n",
    "\n",
    "### **Необходимо выяснить:**\n",
    "1. Насколько часто цена росла, снижалась или оставалась неизменной?\n",
    "2. Какое наибольшее снижение цены произошло за один день?\n",
    "\n",
    "## Данные\n",
    "Вам дан список цен на товар за 10 дней:\n",
    "\n",
    "```python\n",
    "prices = [100, 105, 102, 98, 101, 99, 97, 100, 103, 102]\n",
    "```\n",
    "## Пример вывода\n",
    "Изменения цен: [5, -3, -4, 3, -2, -2, 3, 3, -1]  \n",
    "Дней с ростом цены: 4  \n",
    "Дней с падением цены: 5  \n",
    "Дней без изменений: 0  \n",
    "Максимальное снижение за день: -4\n",
    "\n"
   ]
  },
  {
   "cell_type": "code",
   "execution_count": null,
   "id": "105bc68b-df7a-487c-8bc8-2dd9a81a7b92",
   "metadata": {},
   "outputs": [],
   "source": []
  },
  {
   "cell_type": "markdown",
   "id": "4d2e21c0-85b1-4768-aa8d-063988b01764",
   "metadata": {},
   "source": [
    "# Задача 1: Очистка данных о заказах\n",
    "Вы работаете аналитиком в сети кафе. Ваша задача — провести предварительную очистку данных о заказах, чтобы подготовить их к дальнейшему анализу.\n",
    "1. Пройтись по списку заказов и удалить заказы с отрицательными значениями и нулевыми суммами.\n",
    "2. Вывести очищенный список заказов.\n",
    "\n",
    "### Исходные данные\n",
    "Предоставьте набор данных в виде списка, содержащего информацию о заказах, например:\n",
    "\n",
    "```python\n",
    "orders = [10, 20, -5, 0, 30, 25, 100, 15]\n",
    "```"
   ]
  },
  {
   "cell_type": "code",
   "execution_count": null,
   "id": "0bc7ad16-f2ed-466f-944a-2f3316560fdd",
   "metadata": {},
   "outputs": [],
   "source": []
  },
  {
   "cell_type": "code",
   "execution_count": null,
   "id": "1f3e1ec2-8bcf-42ee-af3d-387cccf04783",
   "metadata": {},
   "outputs": [],
   "source": []
  },
  {
   "cell_type": "markdown",
   "id": "b6aa4b3f-97c0-46e8-b0e4-b81a3231b4c7",
   "metadata": {},
   "source": [
    "# Задача 2: Анализ заказов в сети кафе\n",
    "Продолжая предыдущую задачу, теперь ваша задача — провести анализ очищенных данных о заказах.\n",
    "\n",
    "1. Вычислить общее количество заказов.\n",
    "2. Вычислить общую сумму заказов.\n",
    "3. Вычислить среднюю сумму заказа (общая сумма деленная на количество заказов).\n",
    "4. Определить стандартное отклонение и медиану (сортировка значений и нахождение среднего).\n",
    "5. Выявить выбросы, считая выбросом сумму заказа, превышающую (средняя сумма + 2 стандартных отклонения)."
   ]
  },
  {
   "cell_type": "code",
   "execution_count": null,
   "id": "cea8796a-a414-42f1-ad9a-025f4af0605c",
   "metadata": {},
   "outputs": [],
   "source": []
  },
  {
   "cell_type": "code",
   "execution_count": null,
   "id": "6fc3fea1-5434-4dbe-8e54-996219af9dfb",
   "metadata": {},
   "outputs": [],
   "source": []
  },
  {
   "cell_type": "code",
   "execution_count": 5,
   "id": "49139e2d-21ff-4761-a3c2-ed8fb35ed0f4",
   "metadata": {},
   "outputs": [
    {
     "name": "stdin",
     "output_type": "stream",
     "text": [
      "numbers>>> 1221,2323, 2323, 23234, 3434\n"
     ]
    },
    {
     "name": "stdout",
     "output_type": "stream",
     "text": [
      "[1221, 2323, 2323, 23234, 3434]\n"
     ]
    }
   ],
   "source": [
    "import string\n",
    "\n",
    "numbers = input('numbers>>>')\n",
    "for item in string.punctuation:\n",
    "    numbers = numbers.replace(item, ' ')\n",
    "numbers = numbers.split()\n",
    "numbers = list(map(int, numbers))\n",
    "print(numbers)"
   ]
  },
  {
   "cell_type": "code",
   "execution_count": 6,
   "id": "ef92e1e1-7498-460b-afda-a04e51dd04b1",
   "metadata": {},
   "outputs": [
    {
     "name": "stdout",
     "output_type": "stream",
     "text": [
      "[123, 344, 345, 46546]\n"
     ]
    }
   ],
   "source": [
    "x = (123, 344, 345, 46546)\n",
    "y = list(x)\n",
    "\n",
    "print(y)"
   ]
  },
  {
   "cell_type": "code",
   "execution_count": 9,
   "id": "323a457d-70b7-458c-bd8a-d6ec94719969",
   "metadata": {},
   "outputs": [
    {
     "name": "stdout",
     "output_type": "stream",
     "text": [
      "1\t2\t3\t4\t5\t6\t7\t8\t9\t\n",
      "2\t4\t6\t8\t10\t12\t14\t16\t18\t\n",
      "3\t6\t9\t12\t15\t18\t21\t24\t27\t\n",
      "4\t8\t12\t16\t20\t24\t28\t32\t36\t\n"
     ]
    }
   ],
   "source": [
    "for i in range(1, 5):\n",
    "    for j in range(1, 10):\n",
    "        print(i * j, end='\\t')\n",
    "    print()"
   ]
  },
  {
   "cell_type": "code",
   "execution_count": 10,
   "id": "f11171c7-220d-48c2-9247-723ab2730049",
   "metadata": {},
   "outputs": [
    {
     "data": {
      "text/plain": [
       "0.30000000000000004"
      ]
     },
     "execution_count": 10,
     "metadata": {},
     "output_type": "execute_result"
    }
   ],
   "source": [
    "0.1 + 0.1 + 0.1\n"
   ]
  },
  {
   "cell_type": "code",
   "execution_count": 11,
   "id": "8f0b81c4-5fbc-4e94-b5eb-f5477f887c4a",
   "metadata": {},
   "outputs": [
    {
     "name": "stdout",
     "output_type": "stream",
     "text": [
      "0.19999999999999998\n"
     ]
    }
   ],
   "source": [
    "a = 0.3\n",
    "b = 0.1\n",
    "x = a - b\n",
    "print(x)"
   ]
  },
  {
   "cell_type": "code",
   "execution_count": 12,
   "id": "e6e24cf5-65c0-464a-b654-5342762ffb27",
   "metadata": {},
   "outputs": [
    {
     "name": "stdout",
     "output_type": "stream",
     "text": [
      "[2, 3, 4]\n"
     ]
    }
   ],
   "source": [
    "x = [1, 2, 3, 4]\n",
    "del x[0]\n",
    "\n",
    "print(x)"
   ]
  },
  {
   "cell_type": "code",
   "execution_count": 13,
   "id": "03dd1d3c-a711-4f2d-ab30-e8561e701031",
   "metadata": {},
   "outputs": [
    {
     "name": "stdout",
     "output_type": "stream",
     "text": [
      "[10, 20, 30, 25, 100, 15]\n"
     ]
    }
   ],
   "source": [
    "orders = [10, 20, -5, 0, 30, 25, 100, 15]\n",
    "\n",
    "i = 0\n",
    "while i < len(orders):\n",
    "    if orders[i] <= 0:\n",
    "        del orders[i]\n",
    "    else:\n",
    "        i += 1\n",
    "\n",
    "print(orders)"
   ]
  },
  {
   "cell_type": "code",
   "execution_count": null,
   "id": "dcdff8ed-44ab-4777-a959-1c7314189ab4",
   "metadata": {},
   "outputs": [],
   "source": []
  }
 ],
 "metadata": {
  "kernelspec": {
   "display_name": "Python 3 (ipykernel)",
   "language": "python",
   "name": "python3"
  },
  "language_info": {
   "codemirror_mode": {
    "name": "ipython",
    "version": 3
   },
   "file_extension": ".py",
   "mimetype": "text/x-python",
   "name": "python",
   "nbconvert_exporter": "python",
   "pygments_lexer": "ipython3",
   "version": "3.12.4"
  }
 },
 "nbformat": 4,
 "nbformat_minor": 5
}
