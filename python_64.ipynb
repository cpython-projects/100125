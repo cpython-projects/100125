{
 "cells": [
  {
   "cell_type": "code",
   "execution_count": 2,
   "id": "3660bceb-5978-42bd-a617-beafc60501f3",
   "metadata": {},
   "outputs": [],
   "source": [
    "from datetime import datetime\n",
    "\n",
    "class Student:\n",
    "    def __init__(self, name: str, date_of_birth: str):\n",
    "        tmp = name.split()\n",
    "        self.first_name, self.last_name = tmp\n",
    "        self.date_of_birth = datetime.strptime(date_of_birth, '%d.%m.%Y')\n",
    "\n",
    "    def age(self):\n",
    "        now = datetime.now()\n",
    "        return now.year - self.date_of_birth.year - ((now.month, now.day) < (self.date_of_birth.month, self.date_of_birth.day))\n",
    "    "
   ]
  },
  {
   "cell_type": "code",
   "execution_count": 3,
   "id": "aa74c2dc-994e-4311-ace3-fc6d5248fc2f",
   "metadata": {},
   "outputs": [],
   "source": [
    "class Group:\n",
    "    def __init__(self, name: str):\n",
    "        self.name = name\n",
    "        self.students = []\n",
    "\n",
    "    def add_student(self, student: Student):\n",
    "        if not isinstance(student, Student):\n",
    "            raise TypeError('Not Student')\n",
    "        if student in self.students:\n",
    "            raise ValueError('Student already registered')\n",
    "\n",
    "        self.students.append(student)\n",
    "\n",
    "    def __len__(self):\n",
    "        return len(self.students)\n",
    "\n",
    "    def __iter__(self):\n",
    "        for item in self.students:\n",
    "            yield item"
   ]
  },
  {
   "cell_type": "code",
   "execution_count": 5,
   "id": "e42fd412-0160-4c9d-bf16-b2f87e50f590",
   "metadata": {},
   "outputs": [],
   "source": [
    "st1 = Student('Alice Smith', '01.01.2000')\n",
    "st2 = Student('Bob XYZ', '02.02.2001')\n",
    "\n",
    "group = Group('Python')\n",
    "\n",
    "group.add_student(st1)\n",
    "group.add_student(st2)"
   ]
  },
  {
   "cell_type": "code",
   "execution_count": 6,
   "id": "cf52673d-2e76-4880-aef3-3d7e7432e9ea",
   "metadata": {},
   "outputs": [
    {
     "name": "stdout",
     "output_type": "stream",
     "text": [
      "Alice Smith 25\n",
      "Bob XYZ 24\n"
     ]
    }
   ],
   "source": [
    "for item in group:\n",
    "    print(item.first_name, item.last_name, item.age())"
   ]
  },
  {
   "cell_type": "code",
   "execution_count": 7,
   "id": "72cade29-40a5-4616-a61f-7e7397466b8f",
   "metadata": {},
   "outputs": [
    {
     "data": {
      "text/plain": [
       "2"
      ]
     },
     "execution_count": 7,
     "metadata": {},
     "output_type": "execute_result"
    }
   ],
   "source": [
    "len(group)"
   ]
  },
  {
   "cell_type": "code",
   "execution_count": null,
   "id": "621337d9-4084-4f63-8954-8a813df782e4",
   "metadata": {},
   "outputs": [],
   "source": []
  }
 ],
 "metadata": {
  "kernelspec": {
   "display_name": "Python 3 (ipykernel)",
   "language": "python",
   "name": "python3"
  },
  "language_info": {
   "codemirror_mode": {
    "name": "ipython",
    "version": 3
   },
   "file_extension": ".py",
   "mimetype": "text/x-python",
   "name": "python",
   "nbconvert_exporter": "python",
   "pygments_lexer": "ipython3",
   "version": "3.13.3"
  }
 },
 "nbformat": 4,
 "nbformat_minor": 5
}
