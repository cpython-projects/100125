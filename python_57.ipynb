{
 "cells": [
  {
   "cell_type": "code",
   "execution_count": 1,
   "id": "d76f599d-a43f-4446-9901-f2ce3cf57533",
   "metadata": {},
   "outputs": [
    {
     "data": {
      "text/plain": [
       "'[1, 2, 3, 4, 5]'"
      ]
     },
     "execution_count": 1,
     "metadata": {},
     "output_type": "execute_result"
    }
   ],
   "source": [
    "x = [1, 2, 3, 4, 5]\n",
    "\n",
    "x.__str__()"
   ]
  },
  {
   "cell_type": "code",
   "execution_count": 2,
   "id": "6080e5aa-c440-4ab5-9f20-c90607e4133b",
   "metadata": {},
   "outputs": [
    {
     "data": {
      "text/plain": [
       "'123'"
      ]
     },
     "execution_count": 2,
     "metadata": {},
     "output_type": "execute_result"
    }
   ],
   "source": [
    "(123).__str__()"
   ]
  },
  {
   "cell_type": "code",
   "execution_count": 3,
   "id": "0f4ef601-1418-4754-b830-83d96effe0eb",
   "metadata": {},
   "outputs": [
    {
     "data": {
      "text/plain": [
       "7"
      ]
     },
     "execution_count": 3,
     "metadata": {},
     "output_type": "execute_result"
    }
   ],
   "source": [
    "a = 3\n",
    "b = 4\n",
    "\n",
    "c = a + b\n",
    "a.__add__(b)"
   ]
  },
  {
   "cell_type": "code",
   "execution_count": 4,
   "id": "147e17db-1453-4b25-83d1-6bbb71c24808",
   "metadata": {},
   "outputs": [
    {
     "data": {
      "text/plain": [
       "<list_iterator at 0x15fec55eb30>"
      ]
     },
     "execution_count": 4,
     "metadata": {},
     "output_type": "execute_result"
    }
   ],
   "source": [
    "x = [1, 2, 3, 4, 5]\n",
    "\n",
    "it = x.__iter__()\n",
    "it"
   ]
  },
  {
   "cell_type": "code",
   "execution_count": 5,
   "id": "e927722e-355d-4451-a332-31fe35fc674a",
   "metadata": {},
   "outputs": [
    {
     "data": {
      "text/plain": [
       "1"
      ]
     },
     "execution_count": 5,
     "metadata": {},
     "output_type": "execute_result"
    }
   ],
   "source": [
    "it.__next__()"
   ]
  },
  {
   "cell_type": "code",
   "execution_count": 6,
   "id": "4b2fa926-f1e4-430f-ae7b-dadc8a74106e",
   "metadata": {},
   "outputs": [
    {
     "data": {
      "text/plain": [
       "2"
      ]
     },
     "execution_count": 6,
     "metadata": {},
     "output_type": "execute_result"
    }
   ],
   "source": [
    "it.__next__()"
   ]
  },
  {
   "cell_type": "code",
   "execution_count": 7,
   "id": "d19c4fd1-52df-4e0e-a237-9539c70a060a",
   "metadata": {},
   "outputs": [
    {
     "data": {
      "text/plain": [
       "3"
      ]
     },
     "execution_count": 7,
     "metadata": {},
     "output_type": "execute_result"
    }
   ],
   "source": [
    "it.__next__()"
   ]
  },
  {
   "cell_type": "code",
   "execution_count": 8,
   "id": "9e5134d0-de29-4efa-afe9-d49cd174edd9",
   "metadata": {},
   "outputs": [
    {
     "data": {
      "text/plain": [
       "4"
      ]
     },
     "execution_count": 8,
     "metadata": {},
     "output_type": "execute_result"
    }
   ],
   "source": [
    "it.__next__()"
   ]
  },
  {
   "cell_type": "code",
   "execution_count": 10,
   "id": "ff16f9ef-28a1-4ed1-9fa3-1e2c30d5db2c",
   "metadata": {},
   "outputs": [
    {
     "ename": "StopIteration",
     "evalue": "",
     "output_type": "error",
     "traceback": [
      "\u001b[31m---------------------------------------------------------------------------\u001b[39m",
      "\u001b[31mStopIteration\u001b[39m                             Traceback (most recent call last)",
      "\u001b[36mCell\u001b[39m\u001b[36m \u001b[39m\u001b[32mIn[10]\u001b[39m\u001b[32m, line 1\u001b[39m\n\u001b[32m----> \u001b[39m\u001b[32m1\u001b[39m \u001b[43mit\u001b[49m\u001b[43m.\u001b[49m\u001b[34;43m__next__\u001b[39;49m\u001b[43m(\u001b[49m\u001b[43m)\u001b[49m\n",
      "\u001b[31mStopIteration\u001b[39m: "
     ]
    }
   ],
   "source": [
    "it.__next__()"
   ]
  },
  {
   "cell_type": "code",
   "execution_count": 11,
   "id": "2b8004b6-de78-4928-aa36-cc86e2af9e46",
   "metadata": {},
   "outputs": [
    {
     "name": "stdout",
     "output_type": "stream",
     "text": [
      "1\n",
      "2\n",
      "3\n",
      "4\n",
      "5\n"
     ]
    }
   ],
   "source": [
    "x = [1, 2, 3, 4, 5]\n",
    "\n",
    "it = x.__iter__()\n",
    "while True:\n",
    "    try:\n",
    "        item = it.__next__()\n",
    "        print(item)\n",
    "    except StopIteration:\n",
    "        break"
   ]
  },
  {
   "cell_type": "code",
   "execution_count": 13,
   "id": "51990181-9c5b-4c73-b3c9-cace6424b5e7",
   "metadata": {},
   "outputs": [
    {
     "name": "stdout",
     "output_type": "stream",
     "text": [
      "1\n",
      "3\n"
     ]
    },
    {
     "ename": "IndexError",
     "evalue": "list index out of range",
     "output_type": "error",
     "traceback": [
      "\u001b[31m---------------------------------------------------------------------------\u001b[39m",
      "\u001b[31mIndexError\u001b[39m                                Traceback (most recent call last)",
      "\u001b[36mCell\u001b[39m\u001b[36m \u001b[39m\u001b[32mIn[13]\u001b[39m\u001b[32m, line 4\u001b[39m\n\u001b[32m      1\u001b[39m x = [\u001b[32m1\u001b[39m, \u001b[32m2\u001b[39m, \u001b[32m3\u001b[39m, \u001b[32m4\u001b[39m]\n\u001b[32m      3\u001b[39m \u001b[38;5;28;01mfor\u001b[39;00m i \u001b[38;5;129;01min\u001b[39;00m \u001b[38;5;28mrange\u001b[39m(\u001b[38;5;28mlen\u001b[39m(x)):\n\u001b[32m----> \u001b[39m\u001b[32m4\u001b[39m     \u001b[38;5;28mprint\u001b[39m(\u001b[43mx\u001b[49m\u001b[43m[\u001b[49m\u001b[43mi\u001b[49m\u001b[43m]\u001b[49m)\n\u001b[32m      5\u001b[39m     \u001b[38;5;28;01mdel\u001b[39;00m x[i]\n",
      "\u001b[31mIndexError\u001b[39m: list index out of range"
     ]
    }
   ],
   "source": [
    "x = [1, 2, 3, 4]\n",
    "\n",
    "for i in range(len(x)):\n",
    "    print(x[i])\n",
    "    del x[i]"
   ]
  },
  {
   "cell_type": "code",
   "execution_count": 21,
   "id": "b4fc3432-0e40-4f3a-a694-64f2867252d4",
   "metadata": {},
   "outputs": [
    {
     "name": "stdout",
     "output_type": "stream",
     "text": [
      "152\n",
      "48\n"
     ]
    }
   ],
   "source": [
    "import sys\n",
    "\n",
    "x = [10, 20, 30, 40, 34, 34, 34, 45, 56 ,67, 78, 89]\n",
    "\n",
    "print(sys.getsizeof(x))\n",
    "\n",
    "it = iter(x)\n",
    "print(sys.getsizeof(it))"
   ]
  },
  {
   "cell_type": "code",
   "execution_count": 17,
   "id": "f4e6034f-13da-49a4-80c7-06c0f3d69313",
   "metadata": {},
   "outputs": [
    {
     "data": {
      "text/plain": [
       "<enumerate at 0x15fed2adfd0>"
      ]
     },
     "execution_count": 17,
     "metadata": {},
     "output_type": "execute_result"
    }
   ],
   "source": [
    "enumerate(x)"
   ]
  },
  {
   "cell_type": "code",
   "execution_count": 25,
   "id": "bbeb5d53-25fc-48be-9539-6af4fe6df756",
   "metadata": {},
   "outputs": [
    {
     "data": {
      "text/plain": [
       "<map at 0x15fed337400>"
      ]
     },
     "execution_count": 25,
     "metadata": {},
     "output_type": "execute_result"
    }
   ],
   "source": [
    "it = map(str, x)\n",
    "it"
   ]
  },
  {
   "cell_type": "code",
   "execution_count": 24,
   "id": "3156459c-dc8b-4ea2-90fd-9d9e98be8643",
   "metadata": {},
   "outputs": [
    {
     "data": {
      "text/plain": [
       "<map at 0x15fed4afdc0>"
      ]
     },
     "execution_count": 24,
     "metadata": {},
     "output_type": "execute_result"
    }
   ],
   "source": [
    "iter(it)"
   ]
  },
  {
   "cell_type": "code",
   "execution_count": 26,
   "id": "58bd67f6-9f00-4299-aef5-0d363a60db7e",
   "metadata": {},
   "outputs": [
    {
     "data": {
      "text/plain": [
       "'10'"
      ]
     },
     "execution_count": 26,
     "metadata": {},
     "output_type": "execute_result"
    }
   ],
   "source": [
    "next(it)"
   ]
  },
  {
   "cell_type": "code",
   "execution_count": 27,
   "id": "c673888a-49f3-48a9-80f0-14e8688ecbcf",
   "metadata": {},
   "outputs": [
    {
     "name": "stdout",
     "output_type": "stream",
     "text": [
      "10\n",
      "20\n",
      "30\n",
      "40\n",
      "34\n",
      "34\n",
      "34\n",
      "45\n",
      "56\n",
      "67\n",
      "78\n",
      "89\n"
     ]
    }
   ],
   "source": [
    "for item in map(str, x):\n",
    "    print(item)"
   ]
  },
  {
   "cell_type": "code",
   "execution_count": 29,
   "id": "4cc4c838-6a19-46d1-ad3a-ed72145592c2",
   "metadata": {},
   "outputs": [
    {
     "name": "stdout",
     "output_type": "stream",
     "text": [
      "200\n"
     ]
    }
   ],
   "source": [
    "x = [10, 20, 30, 40]\n",
    "\n",
    "total = sum(map(lambda item: item * 2, x))\n",
    "print(total)"
   ]
  },
  {
   "cell_type": "code",
   "execution_count": 28,
   "id": "4cf4e1c1-8dc8-4236-b056-a71bb9305b2e",
   "metadata": {},
   "outputs": [
    {
     "name": "stdout",
     "output_type": "stream",
     "text": [
      "Help on built-in function sum in module builtins:\n",
      "\n",
      "sum(iterable, /, start=0)\n",
      "    Return the sum of a 'start' value (default: 0) plus an iterable of numbers\n",
      "\n",
      "    When the iterable is empty, return the start value.\n",
      "    This function is intended specifically for use with numeric values and may\n",
      "    reject non-numeric types.\n",
      "\n"
     ]
    }
   ],
   "source": [
    "help(sum)"
   ]
  },
  {
   "cell_type": "code",
   "execution_count": 30,
   "id": "88044bf6-5e6f-476b-ab7b-0f1c3a1c8216",
   "metadata": {},
   "outputs": [
    {
     "name": "stdout",
     "output_type": "stream",
     "text": [
      "20\n",
      "40\n",
      "60\n",
      "120\n",
      "150\n",
      "180\n"
     ]
    }
   ],
   "source": [
    "x = [10, 20, 30, 40, 50, 60]\n",
    "\n",
    "it = iter(x)\n",
    "\n",
    "i = 0\n",
    "for item in it:\n",
    "    print(item * 2)\n",
    "    i += 1\n",
    "    if i == 3:\n",
    "        break\n",
    "\n",
    "for item in it:\n",
    "    print(item * 3)"
   ]
  },
  {
   "cell_type": "code",
   "execution_count": 33,
   "id": "303ac8de-8eae-4bc2-ae1d-ef232827792b",
   "metadata": {},
   "outputs": [
    {
     "name": "stdout",
     "output_type": "stream",
     "text": [
      "1\n",
      "11\n",
      "21\n",
      "31\n",
      "41\n",
      "51\n",
      "61\n",
      "71\n",
      "81\n",
      "91\n"
     ]
    }
   ],
   "source": [
    "import itertools\n",
    "counter = itertools.count(start=1, step=10)\n",
    "\n",
    "# for item in counter:\n",
    "#     print(item)\n",
    "#     if item > 1_000:\n",
    "#         break\n",
    "\n",
    "while (item := next(counter)) < 100:\n",
    "    print(item)"
   ]
  },
  {
   "cell_type": "code",
   "execution_count": 36,
   "id": "48e6f87e-53ca-4282-ae48-9bff0726d7b7",
   "metadata": {},
   "outputs": [
    {
     "name": "stdout",
     "output_type": "stream",
     "text": [
      "A\n",
      "B\n",
      "C\n",
      "A\n",
      "B\n"
     ]
    }
   ],
   "source": [
    "import time\n",
    "cycler = itertools.cycle((\"A\", \"B\", \"C\"))\n",
    "print(next(cycler))\n",
    "time.sleep(1)\n",
    "print(next(cycler))\n",
    "time.sleep(1)\n",
    "print(next(cycler))\n",
    "time.sleep(1)\n",
    "print(next(cycler)) # A (повторяется)\n",
    "time.sleep(1)\n",
    "print(next(cycler)) # B (повторяется)"
   ]
  },
  {
   "cell_type": "code",
   "execution_count": 39,
   "id": "a1af1a3d-f25e-42e5-8da5-d28dff4c0bbe",
   "metadata": {},
   "outputs": [
    {
     "name": "stdout",
     "output_type": "stream",
     "text": [
      "[1, 2, 3, 100, 200, 300, 'P', 'y', 't', 'h', 'o', 'n', 1, 2, 3, 4, 5]\n"
     ]
    }
   ],
   "source": [
    "merged = itertools.chain([1, 2, 3], [100, 200, 300], 'Python', (1, 2, 3, 4, 5))\n",
    "print(list(merged))"
   ]
  },
  {
   "cell_type": "code",
   "execution_count": 40,
   "id": "88415912-b0a9-4535-a9c5-1f6607421975",
   "metadata": {},
   "outputs": [
    {
     "name": "stdout",
     "output_type": "stream",
     "text": [
      "1\n",
      "2\n",
      "100\n"
     ]
    }
   ],
   "source": [
    "a = [1, 2]\n",
    "b = [3, 4]\n",
    "\n",
    "merged = itertools.chain(a, b)\n",
    "\n",
    "print(next(merged))\n",
    "print(next(merged))\n",
    "a.append(100)\n",
    "print(next(merged))"
   ]
  },
  {
   "cell_type": "code",
   "execution_count": 41,
   "id": "252dc686-4d3a-4e58-b9f6-337250e1fb0d",
   "metadata": {},
   "outputs": [
    {
     "name": "stdout",
     "output_type": "stream",
     "text": [
      "3\n"
     ]
    }
   ],
   "source": [
    "print(next(merged))"
   ]
  },
  {
   "cell_type": "code",
   "execution_count": 42,
   "id": "a838de8b-9837-4cc7-8cb2-8dcdf10ba580",
   "metadata": {},
   "outputs": [
    {
     "name": "stdout",
     "output_type": "stream",
     "text": [
      "4\n"
     ]
    }
   ],
   "source": [
    "print(next(merged))"
   ]
  },
  {
   "cell_type": "code",
   "execution_count": 43,
   "id": "2358d699-1ab0-44b6-a33b-8bace24ceb35",
   "metadata": {},
   "outputs": [
    {
     "ename": "StopIteration",
     "evalue": "",
     "output_type": "error",
     "traceback": [
      "\u001b[31m---------------------------------------------------------------------------\u001b[39m",
      "\u001b[31mStopIteration\u001b[39m                             Traceback (most recent call last)",
      "\u001b[36mCell\u001b[39m\u001b[36m \u001b[39m\u001b[32mIn[43]\u001b[39m\u001b[32m, line 1\u001b[39m\n\u001b[32m----> \u001b[39m\u001b[32m1\u001b[39m \u001b[38;5;28mprint\u001b[39m(\u001b[38;5;28;43mnext\u001b[39;49m\u001b[43m(\u001b[49m\u001b[43mmerged\u001b[49m\u001b[43m)\u001b[49m)\n",
      "\u001b[31mStopIteration\u001b[39m: "
     ]
    }
   ],
   "source": [
    "print(next(merged))"
   ]
  },
  {
   "cell_type": "code",
   "execution_count": 45,
   "id": "8a688352-64e8-4a08-9b67-cd8620d8283b",
   "metadata": {},
   "outputs": [
    {
     "name": "stdout",
     "output_type": "stream",
     "text": [
      "<itertools.product object at 0x0000015FED252380>\n",
      "(1, 'A', 20)\n",
      "(1, 'A', 30)\n",
      "(1, 'A', 40)\n",
      "(1, 'B', 20)\n",
      "(1, 'B', 30)\n",
      "(1, 'B', 40)\n",
      "(1, 'C', 20)\n",
      "(1, 'C', 30)\n",
      "(1, 'C', 40)\n",
      "(2, 'A', 20)\n",
      "(2, 'A', 30)\n",
      "(2, 'A', 40)\n",
      "(2, 'B', 20)\n",
      "(2, 'B', 30)\n",
      "(2, 'B', 40)\n",
      "(2, 'C', 20)\n",
      "(2, 'C', 30)\n",
      "(2, 'C', 40)\n",
      "(3, 'A', 20)\n",
      "(3, 'A', 30)\n",
      "(3, 'A', 40)\n",
      "(3, 'B', 20)\n",
      "(3, 'B', 30)\n",
      "(3, 'B', 40)\n",
      "(3, 'C', 20)\n",
      "(3, 'C', 30)\n",
      "(3, 'C', 40)\n"
     ]
    }
   ],
   "source": [
    "pairs = itertools.product([1, 2, 3], [\"A\", \"B\", \"C\"], (20, 30, 40, 45, 56))\n",
    "print(pairs)\n",
    "for item in pairs:\n",
    "    print(item)"
   ]
  },
  {
   "cell_type": "code",
   "execution_count": 46,
   "id": "6819dfb2-0a59-46ef-9e34-1cbc39f84ce3",
   "metadata": {},
   "outputs": [
    {
     "name": "stdout",
     "output_type": "stream",
     "text": [
      "[('A', 'B', 'C'), ('A', 'C', 'B'), ('B', 'A', 'C'), ('B', 'C', 'A'), ('C', 'A', 'B'), ('C', 'B', 'A')]\n"
     ]
    }
   ],
   "source": [
    "letters = [\"A\", \"B\", \"C\"]\n",
    "# Все возможные перестановки\n",
    "perms = itertools.permutations(letters)\n",
    "print(list(perms))"
   ]
  },
  {
   "cell_type": "code",
   "execution_count": 47,
   "id": "71b418f9-b8f3-4680-8573-dfc98b303b72",
   "metadata": {},
   "outputs": [
    {
     "name": "stdout",
     "output_type": "stream",
     "text": [
      "[('A', 'B'), ('A', 'C'), ('B', 'A'), ('B', 'C'), ('C', 'A'), ('C', 'B')]\n"
     ]
    }
   ],
   "source": [
    "perms = itertools.permutations(letters, 2)\n",
    "print(list(perms))"
   ]
  },
  {
   "cell_type": "code",
   "execution_count": 48,
   "id": "66a617e2-efbc-4dac-a9d3-c6dacc7e4fbd",
   "metadata": {},
   "outputs": [],
   "source": [
    "def text_stars(text):\n",
    "    res = []\n",
    "    for item in text:\n",
    "        res.append(f'*{item}*')\n",
    "    return res"
   ]
  },
  {
   "cell_type": "code",
   "execution_count": 49,
   "id": "aea82157-d2a1-4ee9-93b3-3dd8e5949b2e",
   "metadata": {},
   "outputs": [
    {
     "name": "stdout",
     "output_type": "stream",
     "text": [
      "['*h*', '*e*', '*l*', '*l*', '*o*']\n"
     ]
    }
   ],
   "source": [
    "x = text_stars('hello')\n",
    "print(x)"
   ]
  },
  {
   "cell_type": "code",
   "execution_count": 50,
   "id": "85a17fe3-ab59-4b59-bbfc-220e798a4ff6",
   "metadata": {},
   "outputs": [],
   "source": [
    "def text_to_stars_gen(text):\n",
    "    for item in text:\n",
    "        yield f'*{item}*'"
   ]
  },
  {
   "cell_type": "code",
   "execution_count": 51,
   "id": "65e9014a-b487-4d28-bbd2-f210a1340fcb",
   "metadata": {},
   "outputs": [
    {
     "name": "stdout",
     "output_type": "stream",
     "text": [
      "<generator object text_to_stars_gen at 0x0000015FED1F3850>\n"
     ]
    }
   ],
   "source": [
    "res = text_to_stars_gen('hello')\n",
    "print(res)"
   ]
  },
  {
   "cell_type": "code",
   "execution_count": 52,
   "id": "104640cd-1989-45e3-af3c-ccf5c26043aa",
   "metadata": {},
   "outputs": [
    {
     "name": "stdout",
     "output_type": "stream",
     "text": [
      "*h*\n",
      "*e*\n",
      "*l*\n",
      "*l*\n",
      "*o*\n"
     ]
    }
   ],
   "source": [
    "for item in res:\n",
    "    print(item)"
   ]
  },
  {
   "cell_type": "code",
   "execution_count": 53,
   "id": "5ad4df12-5ae6-41df-b39d-6d110c82cfdd",
   "metadata": {},
   "outputs": [
    {
     "name": "stdout",
     "output_type": "stream",
     "text": [
      "*h*\n",
      "*e*\n",
      "*l*\n",
      "*l*\n",
      "*o*\n"
     ]
    }
   ],
   "source": [
    "for item in text_to_stars_gen('hello'):\n",
    "    print(item)"
   ]
  },
  {
   "cell_type": "code",
   "execution_count": 54,
   "id": "c424bfc0-52cd-4d88-8aea-c6ac862bb720",
   "metadata": {},
   "outputs": [
    {
     "name": "stdout",
     "output_type": "stream",
     "text": [
      "*h*\n",
      "*e*\n",
      "*l*\n",
      "*l*\n",
      "*o*\n"
     ]
    }
   ],
   "source": [
    "print(*text_to_stars_gen('hello'), sep='\\n')"
   ]
  },
  {
   "cell_type": "code",
   "execution_count": 58,
   "id": "5e009794-1ddd-4ede-bee6-003385bbd4f2",
   "metadata": {},
   "outputs": [
    {
     "name": "stdout",
     "output_type": "stream",
     "text": [
      "164.39999999999998\n",
      "0\n"
     ]
    }
   ],
   "source": [
    "x = [23, 34, 45, 23, 12]\n",
    "\n",
    "y = (item * 1.2 for item in x)\n",
    "\n",
    "print(sum(y))\n",
    "print(sum(y))"
   ]
  },
  {
   "cell_type": "code",
   "execution_count": 59,
   "id": "d3d1f769-24d4-4b24-b4e6-53c2dcec4040",
   "metadata": {},
   "outputs": [
    {
     "name": "stdout",
     "output_type": "stream",
     "text": [
      "164.39999999999998\n",
      "164.39999999999998\n"
     ]
    }
   ],
   "source": [
    "def price_with_tax(seq, rate):\n",
    "    for item in seq:\n",
    "        yield item * (1 + rate)\n",
    "\n",
    "x = [23, 34, 45, 23, 12]\n",
    "\n",
    "print(sum(price_with_tax(x, 0.2)))\n",
    "print(sum(price_with_tax(x, 0.2)))"
   ]
  },
  {
   "cell_type": "code",
   "execution_count": null,
   "id": "79562ea9-cd96-4993-847e-97168b844f02",
   "metadata": {},
   "outputs": [],
   "source": []
  }
 ],
 "metadata": {
  "kernelspec": {
   "display_name": "Python 3 (ipykernel)",
   "language": "python",
   "name": "python3"
  },
  "language_info": {
   "codemirror_mode": {
    "name": "ipython",
    "version": 3
   },
   "file_extension": ".py",
   "mimetype": "text/x-python",
   "name": "python",
   "nbconvert_exporter": "python",
   "pygments_lexer": "ipython3",
   "version": "3.13.3"
  }
 },
 "nbformat": 4,
 "nbformat_minor": 5
}
