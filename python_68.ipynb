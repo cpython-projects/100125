{
 "cells": [
  {
   "cell_type": "code",
   "execution_count": 8,
   "id": "c84e4997-93cd-4cc3-9925-a6925e591ce9",
   "metadata": {},
   "outputs": [
    {
     "name": "stdout",
     "output_type": "stream",
     "text": [
      "OLEH\n"
     ]
    }
   ],
   "source": [
    "class Student: # Класс - это тоже объект, так как находится в ОП, имеет тип данных, id\n",
    "\n",
    "    count = 0 # attribute-  классовая переменная, она храниться в объекте класса -> только в одном экземпляре\n",
    "\n",
    "\n",
    "    # attribute - method, это инстанс метод, так как знает с каким экземпляром работает\n",
    "    def __init__(self, name):\n",
    "        self.name = name # attribute - data, это переменная, которая относится к инстансу (экземпляру класса)\n",
    "        Student.count += 1\n",
    "\n",
    "    # attribute - классовый метод\n",
    "    @classmethod\n",
    "    def number_of_students(cls):\n",
    "        return cls.count\n",
    "\n",
    "    # attribute - свойство - getter\n",
    "    @property\n",
    "    def name(self):\n",
    "        return self.__name.upper()\n",
    "\n",
    "    # attribute - свойство - setter\n",
    "    @name.setter\n",
    "    def name(self, value):\n",
    "        if not isinstance(value, str):\n",
    "            raise TypeError('Name nust be a string')\n",
    "        if not value.strip():\n",
    "            raise ValueError('Name is empty!')\n",
    "\n",
    "        self.__name = value\n",
    "\n",
    "    # attribute - свойство - deleter\n",
    "    @name.deleter\n",
    "    def name(self):\n",
    "        pass\n",
    "\n",
    "    def __str__(self):\n",
    "        return self.name\n",
    "\n",
    "    # attribute - статический метод, ничего не знает про класс и его экземпляры\n",
    "    @staticmethod\n",
    "    def school_name():\n",
    "        return 'ICH'\n",
    "\n",
    "\n",
    "st1 = Student('Oleh')\n",
    "del st1.name\n",
    "print(st1)"
   ]
  },
  {
   "cell_type": "code",
   "execution_count": 9,
   "id": "7f89a64f-1e7c-49a5-b9b8-9553b4d04862",
   "metadata": {},
   "outputs": [
    {
     "data": {
      "text/plain": [
       "mappingproxy({'__module__': '__main__',\n",
       "              '__firstlineno__': 1,\n",
       "              'count': 1,\n",
       "              '__init__': <function __main__.Student.__init__(self, name)>,\n",
       "              'number_of_students': <classmethod(<function Student.number_of_students at 0x0000020E87559300>)>,\n",
       "              'name': <property at 0x20e87fb5080>,\n",
       "              '__str__': <function __main__.Student.__str__(self)>,\n",
       "              '__static_attributes__': ('__name', 'name'),\n",
       "              '__dict__': <attribute '__dict__' of 'Student' objects>,\n",
       "              '__weakref__': <attribute '__weakref__' of 'Student' objects>,\n",
       "              '__doc__': None})"
      ]
     },
     "execution_count": 9,
     "metadata": {},
     "output_type": "execute_result"
    }
   ],
   "source": [
    "Student.__dict__"
   ]
  },
  {
   "cell_type": "code",
   "execution_count": 10,
   "id": "194ad08d-974b-4619-9e52-af91de1ccbb6",
   "metadata": {},
   "outputs": [
    {
     "data": {
      "text/plain": [
       "{'_Student__name': 'Oleh'}"
      ]
     },
     "execution_count": 10,
     "metadata": {},
     "output_type": "execute_result"
    }
   ],
   "source": [
    "st1.__dict__"
   ]
  },
  {
   "cell_type": "code",
   "execution_count": 11,
   "id": "58b7ae8d-cb09-45b6-a898-3f0a8d42ba7f",
   "metadata": {},
   "outputs": [
    {
     "data": {
      "text/plain": [
       "1"
      ]
     },
     "execution_count": 11,
     "metadata": {},
     "output_type": "execute_result"
    }
   ],
   "source": [
    "st1.count"
   ]
  },
  {
   "cell_type": "code",
   "execution_count": 12,
   "id": "5057071b-7e0f-4834-a955-f3204f699af7",
   "metadata": {},
   "outputs": [
    {
     "data": {
      "text/plain": [
       "1"
      ]
     },
     "execution_count": 12,
     "metadata": {},
     "output_type": "execute_result"
    }
   ],
   "source": [
    "Student.count"
   ]
  },
  {
   "cell_type": "code",
   "execution_count": 13,
   "id": "7d202184-6de4-442d-9f94-42382a1cc718",
   "metadata": {},
   "outputs": [
    {
     "data": {
      "text/plain": [
       "1"
      ]
     },
     "execution_count": 13,
     "metadata": {},
     "output_type": "execute_result"
    }
   ],
   "source": [
    "Student.number_of_students()"
   ]
  },
  {
   "cell_type": "code",
   "execution_count": 14,
   "id": "b3de2345-eb89-41fb-abc0-d66ab64d87e1",
   "metadata": {},
   "outputs": [
    {
     "name": "stdout",
     "output_type": "stream",
     "text": [
      "Requirement already satisfied: requests in c:\\users\\olehs\\appdata\\local\\programs\\python\\python313\\lib\\site-packages (2.32.3)\n",
      "Requirement already satisfied: charset-normalizer<4,>=2 in c:\\users\\olehs\\appdata\\local\\programs\\python\\python313\\lib\\site-packages (from requests) (3.4.1)\n",
      "Requirement already satisfied: idna<4,>=2.5 in c:\\users\\olehs\\appdata\\local\\programs\\python\\python313\\lib\\site-packages (from requests) (3.10)\n",
      "Requirement already satisfied: urllib3<3,>=1.21.1 in c:\\users\\olehs\\appdata\\local\\programs\\python\\python313\\lib\\site-packages (from requests) (2.3.0)\n",
      "Requirement already satisfied: certifi>=2017.4.17 in c:\\users\\olehs\\appdata\\local\\programs\\python\\python313\\lib\\site-packages (from requests) (2025.1.31)\n"
     ]
    },
    {
     "name": "stderr",
     "output_type": "stream",
     "text": [
      "\n",
      "[notice] A new release of pip is available: 25.0.1 -> 25.1.1\n",
      "[notice] To update, run: python.exe -m pip install --upgrade pip\n"
     ]
    }
   ],
   "source": [
    "!pip install requests"
   ]
  },
  {
   "cell_type": "code",
   "execution_count": 15,
   "id": "ddd43de0-9139-48d0-958a-adcdc719aa1d",
   "metadata": {},
   "outputs": [],
   "source": [
    "import requests\n",
    "response = requests.get(\"https://example.com\")"
   ]
  },
  {
   "cell_type": "code",
   "execution_count": 16,
   "id": "02a0fd4b-1daf-4825-aff8-79eae31ec9d2",
   "metadata": {},
   "outputs": [
    {
     "name": "stdout",
     "output_type": "stream",
     "text": [
      "<class 'requests.models.Response'>\n",
      "200\n"
     ]
    }
   ],
   "source": [
    "print(type(response))\n",
    "print(response.status_code) # Выводит код состояния ответа"
   ]
  },
  {
   "cell_type": "code",
   "execution_count": 17,
   "id": "49b14116-ec14-464b-9ec1-e19ca92d12a6",
   "metadata": {},
   "outputs": [
    {
     "name": "stdout",
     "output_type": "stream",
     "text": [
      "{'Accept-Ranges': 'bytes', 'Content-Type': 'text/html', 'ETag': '\"84238dfc8092e5d9c0dac8ef93371a07:1736799080.121134\"', 'Last-Modified': 'Mon, 13 Jan 2025 20:11:20 GMT', 'Vary': 'Accept-Encoding', 'Content-Encoding': 'gzip', 'Cache-Control': 'max-age=547', 'Date': 'Tue, 10 Jun 2025 11:31:55 GMT', 'Alt-Svc': 'h3=\":443\"; ma=93600,h3-29=\":443\"; ma=93600,quic=\":443\"; ma=93600; v=\"43\"', 'Content-Length': '648', 'Connection': 'keep-alive'}\n"
     ]
    }
   ],
   "source": [
    "print(response.headers) # Выводит заголовки ответа"
   ]
  },
  {
   "cell_type": "code",
   "execution_count": 18,
   "id": "2dec060a-d18d-471a-a0f5-2334450de3de",
   "metadata": {},
   "outputs": [
    {
     "name": "stdout",
     "output_type": "stream",
     "text": [
      "<!doctype html>\n",
      "<html>\n",
      "<head>\n",
      "    <title>Example Domain</title>\n",
      "\n",
      "    <meta charset=\"utf-8\" />\n",
      "    <meta http-equiv=\"Content-type\" content=\"text/html; charset=utf-8\" />\n",
      "    <meta name=\"viewport\" content=\"width=device-width, initial-scale=1\" />\n",
      "    <style type=\"text/css\">\n",
      "    body {\n",
      "        background-color: #f0f0f2;\n",
      "        margin: 0;\n",
      "        padding: 0;\n",
      "        font-family: -apple-system, system-ui, BlinkMacSystemFont, \"Segoe UI\", \"Open Sans\", \"Helvetica Neue\", Helvetica, Arial, sans-serif;\n",
      "        \n",
      "    }\n",
      "    div {\n",
      "        width: 600px;\n",
      "        margin: 5em auto;\n",
      "        padding: 2em;\n",
      "        background-color: #fdfdff;\n",
      "        border-radius: 0.5em;\n",
      "        box-shadow: 2px 3px 7px 2px rgba(0,0,0,0.02);\n",
      "    }\n",
      "    a:link, a:visited {\n",
      "        color: #38488f;\n",
      "        text-decoration: none;\n",
      "    }\n",
      "    @media (max-width: 700px) {\n",
      "        div {\n",
      "            margin: 0 auto;\n",
      "            width: auto;\n",
      "        }\n",
      "    }\n",
      "    </style>    \n",
      "</head>\n",
      "\n",
      "<body>\n",
      "<div>\n",
      "    <h1>Example Domain</h1>\n",
      "    <p>This domain is for use in illustrative examples in documents. You may use this\n",
      "    domain in literature without prior coordination or asking for permission.</p>\n",
      "    <p><a href=\"https://www.iana.org/domains/example\">More information...</a></p>\n",
      "</div>\n",
      "</body>\n",
      "</html>\n",
      "\n"
     ]
    }
   ],
   "source": [
    "print(response.text) # Выводит данные, полученные от сервера"
   ]
  },
  {
   "cell_type": "code",
   "execution_count": 19,
   "id": "d8de77d1-f99e-4f47-8cb8-3eec9eaca8eb",
   "metadata": {},
   "outputs": [
    {
     "name": "stdout",
     "output_type": "stream",
     "text": [
      "{'args': {'course': 'Python', 'lang': 'ru'}, 'headers': {'Accept': '*/*', 'Accept-Encoding': 'gzip, deflate', 'Host': 'httpbin.org', 'User-Agent': 'python-requests/2.32.3', 'X-Amzn-Trace-Id': 'Root=1-68481957-391ac1bb1af17141746a1ef8'}, 'origin': '95.10.6.45', 'url': 'https://httpbin.org/get?course=Python&lang=ru'}\n"
     ]
    }
   ],
   "source": [
    "# Пример GET-запроса с параметрами\n",
    "url = 'https://httpbin.org/get' # Сервис для тестирования HTTP-запросов\n",
    "params = {'course': 'Python', 'lang': 'ru'}\n",
    "response = requests.get(url, params=params)\n",
    "# Вывод результата\n",
    "if response.status_code == 200:\n",
    "    print(response.json()) # Тело ответа в формате JSON\n",
    "else:\n",
    "    print(f\"Status code: {response.status_code}\")"
   ]
  },
  {
   "cell_type": "code",
   "execution_count": 23,
   "id": "e4cdb137-4121-4a20-a8ea-2dde0ce9d4a7",
   "metadata": {},
   "outputs": [],
   "source": [
    "endpoint = 'https://jsonplaceholder.typicode.com/'\n",
    "\n",
    "response = requests.get(f'{endpoint}/posts')"
   ]
  },
  {
   "cell_type": "code",
   "execution_count": 22,
   "id": "af2fde3e-67e9-4f43-a84d-feab17de0db3",
   "metadata": {},
   "outputs": [
    {
     "data": {
      "text/plain": [
       "<Response [200]>"
      ]
     },
     "execution_count": 22,
     "metadata": {},
     "output_type": "execute_result"
    }
   ],
   "source": [
    "response"
   ]
  },
  {
   "cell_type": "code",
   "execution_count": 25,
   "id": "80ef1404-2e01-4b8a-844f-3f5bf819a039",
   "metadata": {},
   "outputs": [
    {
     "data": {
      "text/plain": [
       "{'userId': 1,\n",
       " 'id': 1,\n",
       " 'title': 'sunt aut facere repellat provident occaecati excepturi optio reprehenderit',\n",
       " 'body': 'quia et suscipit\\nsuscipit recusandae consequuntur expedita et cum\\nreprehenderit molestiae ut ut quas totam\\nnostrum rerum est autem sunt rem eveniet architecto'}"
      ]
     },
     "execution_count": 25,
     "metadata": {},
     "output_type": "execute_result"
    }
   ],
   "source": [
    "response.json()[0]"
   ]
  },
  {
   "cell_type": "code",
   "execution_count": 26,
   "id": "852c9d0d-292d-4ede-bcc5-eff98f1e55a6",
   "metadata": {},
   "outputs": [
    {
     "data": {
      "text/plain": [
       "{'id': 1,\n",
       " 'name': 'Leanne Graham',\n",
       " 'username': 'Bret',\n",
       " 'email': 'Sincere@april.biz',\n",
       " 'address': {'street': 'Kulas Light',\n",
       "  'suite': 'Apt. 556',\n",
       "  'city': 'Gwenborough',\n",
       "  'zipcode': '92998-3874',\n",
       "  'geo': {'lat': '-37.3159', 'lng': '81.1496'}},\n",
       " 'phone': '1-770-736-8031 x56442',\n",
       " 'website': 'hildegard.org',\n",
       " 'company': {'name': 'Romaguera-Crona',\n",
       "  'catchPhrase': 'Multi-layered client-server neural-net',\n",
       "  'bs': 'harness real-time e-markets'}}"
      ]
     },
     "execution_count": 26,
     "metadata": {},
     "output_type": "execute_result"
    }
   ],
   "source": [
    "response = requests.get(f'{endpoint}/users')\n",
    "response.json()[0]"
   ]
  },
  {
   "cell_type": "code",
   "execution_count": 30,
   "id": "b67aaf3f-67ef-4a8c-89ae-ec8cb4673c18",
   "metadata": {},
   "outputs": [
    {
     "data": {
      "text/plain": [
       "[{'postId': 2,\n",
       "  'id': 6,\n",
       "  'name': 'et fugit eligendi deleniti quidem qui sint nihil autem',\n",
       "  'email': 'Presley.Mueller@myrl.com',\n",
       "  'body': 'doloribus at sed quis culpa deserunt consectetur qui praesentium\\naccusamus fugiat dicta\\nvoluptatem rerum ut voluptate autem\\nvoluptatem repellendus aspernatur dolorem in'},\n",
       " {'postId': 2,\n",
       "  'id': 7,\n",
       "  'name': 'repellat consequatur praesentium vel minus molestias voluptatum',\n",
       "  'email': 'Dallas@ole.me',\n",
       "  'body': 'maiores sed dolores similique labore et inventore et\\nquasi temporibus esse sunt id et\\neos voluptatem aliquam\\naliquid ratione corporis molestiae mollitia quia et magnam dolor'},\n",
       " {'postId': 2,\n",
       "  'id': 8,\n",
       "  'name': 'et omnis dolorem',\n",
       "  'email': 'Mallory_Kunze@marie.org',\n",
       "  'body': 'ut voluptatem corrupti velit\\nad voluptatem maiores\\net nisi velit vero accusamus maiores\\nvoluptates quia aliquid ullam eaque'},\n",
       " {'postId': 2,\n",
       "  'id': 9,\n",
       "  'name': 'provident id voluptas',\n",
       "  'email': 'Meghan_Littel@rene.us',\n",
       "  'body': 'sapiente assumenda molestiae atque\\nadipisci laborum distinctio aperiam et ab ut omnis\\net occaecati aspernatur odit sit rem expedita\\nquas enim ipsam minus'},\n",
       " {'postId': 2,\n",
       "  'id': 10,\n",
       "  'name': 'eaque et deleniti atque tenetur ut quo ut',\n",
       "  'email': 'Carmen_Keeling@caroline.name',\n",
       "  'body': 'voluptate iusto quis nobis reprehenderit ipsum amet nulla\\nquia quas dolores velit et non\\naut quia necessitatibus\\nnostrum quaerat nulla et accusamus nisi facilis'}]"
      ]
     },
     "execution_count": 30,
     "metadata": {},
     "output_type": "execute_result"
    }
   ],
   "source": [
    "keys_values = {\n",
    "    'postId': 2\n",
    "}\n",
    "\n",
    "response = requests.get(f'{endpoint}/comments', params=keys_values)\n",
    "response.json()"
   ]
  },
  {
   "cell_type": "code",
   "execution_count": 31,
   "id": "25be9095-ba84-4deb-a6c2-b620100bebf0",
   "metadata": {},
   "outputs": [
    {
     "name": "stdout",
     "output_type": "stream",
     "text": [
      "1*2*3*4*5\n"
     ]
    }
   ],
   "source": [
    "sep='*'\n",
    "\n",
    "\n",
    "print(1, 2, 3, 4, 5, sep=sep)"
   ]
  },
  {
   "cell_type": "code",
   "execution_count": null,
   "id": "8c121a71-4c5e-4d7a-b69d-9a02ab193a55",
   "metadata": {},
   "outputs": [],
   "source": []
  }
 ],
 "metadata": {
  "kernelspec": {
   "display_name": "Python 3 (ipykernel)",
   "language": "python",
   "name": "python3"
  },
  "language_info": {
   "codemirror_mode": {
    "name": "ipython",
    "version": 3
   },
   "file_extension": ".py",
   "mimetype": "text/x-python",
   "name": "python",
   "nbconvert_exporter": "python",
   "pygments_lexer": "ipython3",
   "version": "3.13.3"
  }
 },
 "nbformat": 4,
 "nbformat_minor": 5
}
