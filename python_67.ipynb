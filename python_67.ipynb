{
 "cells": [
  {
   "cell_type": "code",
   "execution_count": 1,
   "id": "9b97609e-1bc1-4642-b299-b3fff1f689c9",
   "metadata": {},
   "outputs": [],
   "source": [
    "x = min(\n",
    "    [1, 5, 7, 8, 9],\n",
    "    key=lambda item: item ** 0.5 \n",
    ")"
   ]
  },
  {
   "cell_type": "code",
   "execution_count": 2,
   "id": "90d0e556-1870-4947-8673-49d80daaacad",
   "metadata": {},
   "outputs": [],
   "source": [
    "x = min([1, 5, 7, 8, 9], key=lambda item: item ** 0.5)"
   ]
  },
  {
   "cell_type": "code",
   "execution_count": 3,
   "id": "c608eadf-52b2-4d7c-9fa6-f5a25b375dfc",
   "metadata": {},
   "outputs": [],
   "source": [
    "x = [\n",
    "    'City 1',\n",
    "    'City 2',\n",
    "    'City 3',\n",
    "]"
   ]
  },
  {
   "cell_type": "code",
   "execution_count": 7,
   "id": "795c9e05-1a91-427e-823e-000bccc3e0dd",
   "metadata": {},
   "outputs": [],
   "source": [
    "x = 5 + \\\n",
    "    4"
   ]
  },
  {
   "cell_type": "code",
   "execution_count": 6,
   "id": "542ad94a-9999-41f4-bbbc-bb701c8bb431",
   "metadata": {},
   "outputs": [
    {
     "data": {
      "text/plain": [
       "9"
      ]
     },
     "execution_count": 6,
     "metadata": {},
     "output_type": "execute_result"
    }
   ],
   "source": [
    "x"
   ]
  },
  {
   "cell_type": "code",
   "execution_count": 10,
   "id": "a118bd44-5c04-47a6-a6b4-95dc8cc29114",
   "metadata": {},
   "outputs": [
    {
     "name": "stdout",
     "output_type": "stream",
     "text": [
      "10\n",
      "30\n"
     ]
    }
   ],
   "source": [
    "class A:\n",
    "\n",
    "    def __init__(self):\n",
    "        self.a = 10 # public\n",
    "        self._b = 20 # protected\n",
    "        self.__c = 30 # private\n",
    "\n",
    "class B(A):\n",
    "\n",
    "    def __init__(self):\n",
    "        super().__init__()\n",
    "        self.d = self.a + self._b\n",
    "\n",
    "x = A()\n",
    "print(x.a)\n",
    "\n",
    "y = B()\n",
    "print(y.d)"
   ]
  },
  {
   "cell_type": "code",
   "execution_count": 11,
   "id": "0b120088-7b63-48a3-9bef-c3bab27db537",
   "metadata": {},
   "outputs": [
    {
     "data": {
      "text/plain": [
       "{'a': 10, '_b': 20, '_A__c': 30}"
      ]
     },
     "execution_count": 11,
     "metadata": {},
     "output_type": "execute_result"
    }
   ],
   "source": [
    "x.__dict__"
   ]
  },
  {
   "cell_type": "code",
   "execution_count": 12,
   "id": "0fef4fdb-07be-4ea2-b7d1-5d7e16fef15d",
   "metadata": {},
   "outputs": [
    {
     "data": {
      "text/plain": [
       "30"
      ]
     },
     "execution_count": 12,
     "metadata": {},
     "output_type": "execute_result"
    }
   ],
   "source": [
    "x.__dict__['_A__c']"
   ]
  },
  {
   "cell_type": "code",
   "execution_count": 30,
   "id": "c26fed8a-dd23-414b-8378-feb06d6b4ffa",
   "metadata": {},
   "outputs": [
    {
     "name": "stdout",
     "output_type": "stream",
     "text": [
      "Alice\n",
      "Alex\n"
     ]
    }
   ],
   "source": [
    "class Student:\n",
    "    \n",
    "    count = 0\n",
    "\n",
    "    def __init__(self, name):\n",
    "        self.name = name\n",
    "        Student.count += 1\n",
    "\n",
    "\n",
    "st1 = Student('Alice')\n",
    "st2 = Student('Alex')\n",
    "\n",
    "\n",
    "print(st1.name)\n",
    "print(st2.name)"
   ]
  },
  {
   "cell_type": "code",
   "execution_count": 31,
   "id": "55c6fd25-fc35-4c2e-9e66-eee9bd07192a",
   "metadata": {},
   "outputs": [
    {
     "name": "stdout",
     "output_type": "stream",
     "text": [
      "2\n"
     ]
    }
   ],
   "source": [
    "st1.count = 5\n",
    "print(Student.count)"
   ]
  },
  {
   "cell_type": "code",
   "execution_count": 32,
   "id": "8aabac74-0628-4cb1-b42c-f2bec4c0935e",
   "metadata": {},
   "outputs": [],
   "source": [
    "Student.count = 10"
   ]
  },
  {
   "cell_type": "code",
   "execution_count": 29,
   "id": "4d65c3f0-0566-46e2-8904-f74fdc44748b",
   "metadata": {},
   "outputs": [
    {
     "data": {
      "text/plain": [
       "5"
      ]
     },
     "execution_count": 29,
     "metadata": {},
     "output_type": "execute_result"
    }
   ],
   "source": [
    "st1.count"
   ]
  },
  {
   "cell_type": "code",
   "execution_count": 37,
   "id": "151f14da-af06-4dbf-99d4-e4a2c71ed1c3",
   "metadata": {},
   "outputs": [
    {
     "name": "stdout",
     "output_type": "stream",
     "text": [
      "10\n"
     ]
    }
   ],
   "source": [
    "class A:\n",
    "    count = 0\n",
    "\n",
    "\n",
    "class B(A):\n",
    "    ...\n",
    "\n",
    "\n",
    "A.count = 10\n",
    "\n",
    "print(B.count)"
   ]
  },
  {
   "cell_type": "code",
   "execution_count": 38,
   "id": "7ede812a-74e9-4420-bda7-bd7c944e2315",
   "metadata": {},
   "outputs": [
    {
     "data": {
      "text/plain": [
       "mappingproxy({'__module__': '__main__',\n",
       "              '__firstlineno__': 1,\n",
       "              'count': 10,\n",
       "              '__static_attributes__': (),\n",
       "              '__dict__': <attribute '__dict__' of 'A' objects>,\n",
       "              '__weakref__': <attribute '__weakref__' of 'A' objects>,\n",
       "              '__doc__': None})"
      ]
     },
     "execution_count": 38,
     "metadata": {},
     "output_type": "execute_result"
    }
   ],
   "source": [
    "A.__dict__"
   ]
  },
  {
   "cell_type": "code",
   "execution_count": 39,
   "id": "618df633-ba08-4656-a552-1240e9532da0",
   "metadata": {},
   "outputs": [
    {
     "data": {
      "text/plain": [
       "mappingproxy({'__module__': '__main__',\n",
       "              '__firstlineno__': 5,\n",
       "              '__static_attributes__': (),\n",
       "              '__doc__': None})"
      ]
     },
     "execution_count": 39,
     "metadata": {},
     "output_type": "execute_result"
    }
   ],
   "source": [
    "B.__dict__"
   ]
  },
  {
   "cell_type": "code",
   "execution_count": 40,
   "id": "605ef401-3f20-486a-9d6b-c9afe826f63f",
   "metadata": {},
   "outputs": [
    {
     "data": {
      "text/plain": [
       "mappingproxy({'__module__': '__main__',\n",
       "              '__firstlineno__': 5,\n",
       "              '__static_attributes__': (),\n",
       "              '__doc__': None,\n",
       "              'count': 20})"
      ]
     },
     "execution_count": 40,
     "metadata": {},
     "output_type": "execute_result"
    }
   ],
   "source": [
    "B.count = 20\n",
    "B.__dict__"
   ]
  },
  {
   "cell_type": "code",
   "execution_count": 44,
   "id": "1eca6a68-f125-4d9d-ba91-a1949b5940e0",
   "metadata": {},
   "outputs": [
    {
     "name": "stdout",
     "output_type": "stream",
     "text": [
      "Alice\n",
      "Alex\n",
      "2\n",
      "2\n"
     ]
    }
   ],
   "source": [
    "class Student:\n",
    "    \n",
    "    count = 0\n",
    "\n",
    "    def __init__(self, name):\n",
    "        self.name = name\n",
    "        Student.count += 1\n",
    "\n",
    "    @classmethod\n",
    "    def students_number(cls):\n",
    "        return cls.count # Student.count        \n",
    "\n",
    "\n",
    "st1 = Student('Alice')\n",
    "st2 = Student('Alex')\n",
    "\n",
    "\n",
    "print(st1.name)\n",
    "print(st2.name)\n",
    "\n",
    "print(Student.students_number())\n",
    "print(st1.students_number())"
   ]
  },
  {
   "cell_type": "code",
   "execution_count": null,
   "id": "2cda653c-517a-4c49-97a5-cdd0efb194e6",
   "metadata": {},
   "outputs": [],
   "source": []
  }
 ],
 "metadata": {
  "kernelspec": {
   "display_name": "Python 3 (ipykernel)",
   "language": "python",
   "name": "python3"
  },
  "language_info": {
   "codemirror_mode": {
    "name": "ipython",
    "version": 3
   },
   "file_extension": ".py",
   "mimetype": "text/x-python",
   "name": "python",
   "nbconvert_exporter": "python",
   "pygments_lexer": "ipython3",
   "version": "3.13.3"
  }
 },
 "nbformat": 4,
 "nbformat_minor": 5
}
