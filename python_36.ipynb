{
 "cells": [
  {
   "cell_type": "code",
   "execution_count": 2,
   "id": "ab605246-d5da-4441-8c51-63e47ea5d2ba",
   "metadata": {},
   "outputs": [
    {
     "name": "stdout",
     "output_type": "stream",
     "text": [
      "{1: None, 2: None, 3: None, 4: None}\n"
     ]
    }
   ],
   "source": [
    "key = [1, 2, 3, 4]\n",
    "y = dict.fromkeys(key)\n",
    "print(y)"
   ]
  },
  {
   "cell_type": "code",
   "execution_count": 3,
   "id": "6c9ba5bf-7173-4feb-a0dd-8795c6b051a7",
   "metadata": {},
   "outputs": [
    {
     "ename": "TypeError",
     "evalue": "unhashable type: 'list'",
     "output_type": "error",
     "traceback": [
      "\u001b[1;31m---------------------------------------------------------------------------\u001b[0m",
      "\u001b[1;31mTypeError\u001b[0m                                 Traceback (most recent call last)",
      "Cell \u001b[1;32mIn[3], line 2\u001b[0m\n\u001b[0;32m      1\u001b[0m key \u001b[38;5;241m=\u001b[39m [\u001b[38;5;241m1\u001b[39m, [\u001b[38;5;241m2\u001b[39m], \u001b[38;5;241m3\u001b[39m, \u001b[38;5;241m4\u001b[39m]\n\u001b[1;32m----> 2\u001b[0m y \u001b[38;5;241m=\u001b[39m \u001b[38;5;28;43mdict\u001b[39;49m\u001b[38;5;241;43m.\u001b[39;49m\u001b[43mfromkeys\u001b[49m\u001b[43m(\u001b[49m\u001b[43mkey\u001b[49m\u001b[43m)\u001b[49m\n\u001b[0;32m      3\u001b[0m \u001b[38;5;28mprint\u001b[39m(y)\n",
      "\u001b[1;31mTypeError\u001b[0m: unhashable type: 'list'"
     ]
    }
   ],
   "source": [
    "key = [1, [2], 3, 4]\n",
    "y = dict.fromkeys(key)\n",
    "print(y)"
   ]
  },
  {
   "cell_type": "code",
   "execution_count": 4,
   "id": "d6900bc6-df01-44fd-b1f8-bb312dcf0864",
   "metadata": {},
   "outputs": [
    {
     "name": "stdout",
     "output_type": "stream",
     "text": [
      "{1: 'Not Defined', 2: 'Not Defined', 3: 'Not Defined', 4: 'Not Defined'}\n"
     ]
    }
   ],
   "source": [
    "key = [1, 2, 3, 4]\n",
    "y = dict.fromkeys(key, 'Not Defined')\n",
    "print(y)"
   ]
  },
  {
   "cell_type": "code",
   "execution_count": 5,
   "id": "bd41a91f-c9a2-4b4d-a3ce-eb3a9584b054",
   "metadata": {},
   "outputs": [
    {
     "name": "stdout",
     "output_type": "stream",
     "text": [
      "{1: 100, 2: 100, 3: 100, 4: 100}\n"
     ]
    }
   ],
   "source": [
    "key = [1, 2, 3, 4]\n",
    "y = dict.fromkeys(key, 100)\n",
    "print(y)"
   ]
  },
  {
   "cell_type": "code",
   "execution_count": 6,
   "id": "fbca93df-f8be-497c-a9a5-7236655b101a",
   "metadata": {},
   "outputs": [
    {
     "name": "stdout",
     "output_type": "stream",
     "text": [
      "{1: [0, 1, 2], 2: [0, 1, 2], 3: [0, 1, 2], 4: [0, 1, 2]}\n"
     ]
    }
   ],
   "source": [
    "key = [1, 2, 3, 4]\n",
    "value = [0, 1, 2]\n",
    "y = dict.fromkeys(key, value)\n",
    "print(y)"
   ]
  },
  {
   "cell_type": "code",
   "execution_count": 7,
   "id": "37b57682-6142-430a-8778-5443f83d6037",
   "metadata": {},
   "outputs": [
    {
     "name": "stdout",
     "output_type": "stream",
     "text": [
      "{1: [0, 1, 2, 100], 2: [0, 1, 2, 100], 3: [0, 1, 2, 100], 4: [0, 1, 2, 100]}\n"
     ]
    }
   ],
   "source": [
    "value.append(100)\n",
    "print(y)"
   ]
  },
  {
   "cell_type": "code",
   "execution_count": 9,
   "id": "fc2c978b-eb25-46ca-860c-3f3958d9ebb1",
   "metadata": {},
   "outputs": [
    {
     "name": "stdout",
     "output_type": "stream",
     "text": [
      "one\n",
      "None\n",
      "0\n"
     ]
    }
   ],
   "source": [
    "x = {1: 'one', 2: 'two'}\n",
    "\n",
    "print(x.get(1))\n",
    "print(x.get(10))\n",
    "print(x.get(10, 0))"
   ]
  },
  {
   "cell_type": "code",
   "execution_count": 14,
   "id": "e2957787-232b-4724-904e-194bd837c45c",
   "metadata": {},
   "outputs": [
    {
     "name": "stdout",
     "output_type": "stream",
     "text": [
      "30\n",
      "{'name': 'Alice', 'age': 30}\n"
     ]
    }
   ],
   "source": [
    "my_dict = {\"name\": \"Alice\", \"age\": 30}\n",
    "age = my_dict.setdefault(\"age\")\n",
    "\n",
    "print(age)\n",
    "print(my_dict)"
   ]
  },
  {
   "cell_type": "code",
   "execution_count": 15,
   "id": "fc141b4a-8255-4545-9377-53b635f607ee",
   "metadata": {},
   "outputs": [
    {
     "name": "stdout",
     "output_type": "stream",
     "text": [
      "None\n",
      "{'name': 'Alice', 'age': 30, 'country': None}\n"
     ]
    }
   ],
   "source": [
    "country = my_dict.setdefault(\"country\")\n",
    "print(country)\n",
    "print(my_dict)"
   ]
  },
  {
   "cell_type": "code",
   "execution_count": 16,
   "id": "23e55e1f-063f-4123-acc1-6d49d2f939e3",
   "metadata": {},
   "outputs": [
    {
     "name": "stdout",
     "output_type": "stream",
     "text": [
      "None\n",
      "Unknown\n",
      "{'name': 'Alice', 'age': 30, 'country': None, 'city': 'Unknown'}\n"
     ]
    }
   ],
   "source": [
    "city = my_dict.setdefault(\"city\", \"Unknown\")\n",
    "print(country)\n",
    "print(city)\n",
    "print(my_dict)"
   ]
  },
  {
   "cell_type": "code",
   "execution_count": 17,
   "id": "fd94d5da-0392-46ea-a251-e29c428c5799",
   "metadata": {},
   "outputs": [
    {
     "name": "stdout",
     "output_type": "stream",
     "text": [
      "Alice\n"
     ]
    }
   ],
   "source": [
    "name = my_dict.setdefault(\"name\", \"Anonymous User\")\n",
    "print(name)"
   ]
  },
  {
   "cell_type": "code",
   "execution_count": 18,
   "id": "826e5598-6770-41c5-a2d4-e77b928f3a05",
   "metadata": {},
   "outputs": [],
   "source": [
    "# setdefault\n",
    "if 'nationality' not in my_dict:\n",
    "    my_dict['nationality'] = 'people'\n",
    "\n",
    "res = my_dict['nationality']"
   ]
  },
  {
   "cell_type": "code",
   "execution_count": 19,
   "id": "8962c9b5-c015-4f79-8eee-5655ef82a82a",
   "metadata": {},
   "outputs": [],
   "source": [
    "# get\n",
    "res = my_dict['date_of_birth'] if 'date_of_birth' in my_dict else '01-01-2000'"
   ]
  },
  {
   "cell_type": "code",
   "execution_count": 21,
   "id": "26c9676b-7b60-4d70-9c4d-69d83c568768",
   "metadata": {},
   "outputs": [
    {
     "name": "stdout",
     "output_type": "stream",
     "text": [
      "dict_values(['one', 'two', 'three'])\n",
      "('one', 'two', 'three')\n"
     ]
    }
   ],
   "source": [
    "x = {1: 'one', 2: 'two', 3: 'three'}\n",
    "\n",
    "print(x.values())\n",
    "print(tuple(x.values()))"
   ]
  },
  {
   "cell_type": "code",
   "execution_count": 22,
   "id": "f48e8530-6159-41bb-8f69-75b7ebd28c86",
   "metadata": {},
   "outputs": [
    {
     "name": "stdout",
     "output_type": "stream",
     "text": [
      "dict_keys([1, 2, 3])\n",
      "(1, 2, 3)\n"
     ]
    }
   ],
   "source": [
    "x = {1: 'one', 2: 'two', 3: 'three'}\n",
    "\n",
    "print(x.keys())\n",
    "print(tuple(x.keys()))"
   ]
  },
  {
   "cell_type": "code",
   "execution_count": 23,
   "id": "a272133a-a555-4aad-83a4-a5c295c97d87",
   "metadata": {},
   "outputs": [
    {
     "name": "stdout",
     "output_type": "stream",
     "text": [
      "dict_items([(1, 'one'), (2, 'two'), (3, 'three')])\n",
      "((1, 'one'), (2, 'two'), (3, 'three'))\n"
     ]
    }
   ],
   "source": [
    "x = {1: 'one', 2: 'two', 3: 'three'}\n",
    "\n",
    "print(x.items())\n",
    "print(tuple(x.items()))"
   ]
  },
  {
   "cell_type": "code",
   "execution_count": 24,
   "id": "8cdac3ce-5dde-4574-a0e7-31d110aab426",
   "metadata": {},
   "outputs": [
    {
     "data": {
      "text/plain": [
       "[1, 2, 3]"
      ]
     },
     "execution_count": 24,
     "metadata": {},
     "output_type": "execute_result"
    }
   ],
   "source": [
    "list(x)"
   ]
  },
  {
   "cell_type": "code",
   "execution_count": 26,
   "id": "ab6ba8b9-36b4-4953-8838-dedd66619beb",
   "metadata": {},
   "outputs": [
    {
     "name": "stdout",
     "output_type": "stream",
     "text": [
      "{'one', 'three', 'two'}\n",
      "3 4\n"
     ]
    }
   ],
   "source": [
    "x = {1: 'one', 2: 'two', 3: 'three', 4: 'one'}\n",
    "\n",
    "values = set(x.values())\n",
    "print(values)\n",
    "print(len(values), len(x))"
   ]
  },
  {
   "cell_type": "code",
   "execution_count": 28,
   "id": "3826c17c-8c02-4a8f-872d-0d8bb175e09e",
   "metadata": {},
   "outputs": [
    {
     "name": "stdin",
     "output_type": "stream",
     "text": [
      "value>> 123\n"
     ]
    },
    {
     "name": "stdout",
     "output_type": "stream",
     "text": [
      "No\n"
     ]
    }
   ],
   "source": [
    "x = {1: 'one', 2: 'two', 3: 'three', 4: 'one'}\n",
    "\n",
    "y = input('value>>')\n",
    "\n",
    "if y in x.values():\n",
    "    print('Yes')\n",
    "else:\n",
    "    print('No')"
   ]
  },
  {
   "cell_type": "code",
   "execution_count": 29,
   "id": "b06ef5f9-8f11-419d-a518-f689e482cdbf",
   "metadata": {},
   "outputs": [
    {
     "name": "stdin",
     "output_type": "stream",
     "text": [
      "value>> one\n"
     ]
    },
    {
     "name": "stdout",
     "output_type": "stream",
     "text": [
      "1\n",
      "4\n"
     ]
    }
   ],
   "source": [
    "x = {1: 'one', 2: 'two', 3: 'three', 4: 'one'}\n",
    "y = input('value>>')\n",
    "\n",
    "for key, value in x.items():\n",
    "    if value == y:\n",
    "        print(key)"
   ]
  },
  {
   "cell_type": "code",
   "execution_count": 33,
   "id": "b1f31f29-0b22-4966-823b-fc8edab5626b",
   "metadata": {},
   "outputs": [
    {
     "name": "stdout",
     "output_type": "stream",
     "text": [
      "[90, 85, 88]\n",
      "90\n",
      "85\n",
      "90\n",
      "87.66666666666667\n"
     ]
    }
   ],
   "source": [
    "student_scores = {\n",
    "    \"Alice\": [90, 85, 88],\n",
    "    \"Bob\": [72, 75, 80],\n",
    "    \"Charlie\": [95, 100, 98]\n",
    "}\n",
    "\n",
    "\n",
    "print(student_scores['Alice'])\n",
    "\n",
    "print(student_scores['Alice'][0])\n",
    "\n",
    "print(min(student_scores['Alice']))\n",
    "print(max(student_scores['Alice']))\n",
    "print(sum(student_scores['Alice']) / len(student_scores['Alice']))"
   ]
  },
  {
   "cell_type": "code",
   "execution_count": 39,
   "id": "6cdf036e-21c1-4abb-8f5b-c06103bab745",
   "metadata": {},
   "outputs": [
    {
     "name": "stdout",
     "output_type": "stream",
     "text": [
      "{'students': ['Alice', 'Bob', 'Charlie'], 'teacher': 'Mrs. Smith'}\n",
      "['Alice', 'Bob', 'Charlie']\n",
      "Mrs. Smith\n",
      "Alice\n",
      "Class1\n"
     ]
    }
   ],
   "source": [
    "school = {\n",
    "    \"class1\": {\n",
    "        \"students\": [\"Alice\", \"Bob\", \"Charlie\"],\n",
    "        \"teacher\": \"Mrs. Smith\"\n",
    "    },\n",
    "    \"class2\": {\n",
    "        \"students\": [\"David\", \"Eva\"],\n",
    "        \"teacher\": \"Mr. Johnson\"\n",
    "    }\n",
    "}\n",
    "\n",
    "print(school['class1'])\n",
    "print(school['class1']['students'])\n",
    "print(school['class1']['teacher'])\n",
    "print(school['class1']['students'][0])\n",
    "\n",
    "if 'Alice' in school['class1']['students']:\n",
    "    print('Class1')\n",
    "elif 'Alice' in school['class2']['students']:\n",
    "    print('Class2')"
   ]
  },
  {
   "cell_type": "code",
   "execution_count": 42,
   "id": "f5ee5633-1d57-4ed3-9c28-d2907d28b6cd",
   "metadata": {},
   "outputs": [
    {
     "name": "stdout",
     "output_type": "stream",
     "text": [
      "class2\n"
     ]
    }
   ],
   "source": [
    "school = {\n",
    "    \"class1\": {\n",
    "        \"students\": [\"Alice\", \"Bob\", \"Charlie\"],\n",
    "        \"teacher\": \"Mrs. Smith\"\n",
    "    },\n",
    "    \"class2\": {\n",
    "        \"students\": [\"David\", \"Eva\"],\n",
    "        \"teacher\": \"Mr. Johnson\"\n",
    "    }\n",
    "}\n",
    "\n",
    "for _class, class_info in school.items():\n",
    "    if 'Eva' in class_info['students']:\n",
    "        print(_class)"
   ]
  },
  {
   "cell_type": "code",
   "execution_count": 43,
   "id": "6a3a5e57-8715-4019-ba8e-b14bdc617e87",
   "metadata": {},
   "outputs": [
    {
     "name": "stdout",
     "output_type": "stream",
     "text": [
      "{'name': 'Alice', 'age': 30, 'scores': [90, 85, 88]}\n"
     ]
    }
   ],
   "source": [
    "original_dict = {\n",
    "    \"name\": \"Alice\",\n",
    "    \"age\": 30, \n",
    "    \"scores\": [90, 85, 88]\n",
    "}\n",
    "\n",
    "copied_dict = original_dict.copy()\n",
    "print(copied_dict)"
   ]
  },
  {
   "cell_type": "code",
   "execution_count": 45,
   "id": "3f235518-57fc-43a5-a6c5-c57bc82aabdb",
   "metadata": {},
   "outputs": [
    {
     "name": "stdout",
     "output_type": "stream",
     "text": [
      "{'name': 'Alice', 'age': 30, 'scores': [90, 85, 88, 100, 100]}\n",
      "{'name': 'Alice', 'age': 30, 'scores': [90, 85, 88, 100, 100]}\n"
     ]
    }
   ],
   "source": [
    "original_dict['scores'].append(100)\n",
    "\n",
    "print(original_dict)\n",
    "print(copied_dict)"
   ]
  },
  {
   "cell_type": "code",
   "execution_count": 46,
   "id": "321da34f-2fb6-40ad-aab0-6a89201267c3",
   "metadata": {},
   "outputs": [
    {
     "name": "stdout",
     "output_type": "stream",
     "text": [
      "{'name': 'Alice', 'age': 30, 'scores': [90, 85, 88, 100]}\n",
      "{'name': 'Alice', 'age': 30, 'scores': [90, 85, 88]}\n"
     ]
    }
   ],
   "source": [
    "import copy\n",
    "\n",
    "original_dict = {\n",
    "    \"name\": \"Alice\",\n",
    "    \"age\": 30, \n",
    "    \"scores\": [90, 85, 88]\n",
    "}\n",
    "\n",
    "copied_dict = copy.deepcopy(original_dict)\n",
    "original_dict['scores'].append(100)\n",
    "print(original_dict)\n",
    "print(copied_dict)"
   ]
  },
  {
   "cell_type": "code",
   "execution_count": 47,
   "id": "d5316d46-9ddd-494a-b486-69f1d1fa5d16",
   "metadata": {},
   "outputs": [
    {
     "name": "stdout",
     "output_type": "stream",
     "text": [
      "[0, 1, 4, 9, 16, 25, 36, 49, 64, 81]\n"
     ]
    }
   ],
   "source": [
    "x = [i ** 2 for i in range(10)]\n",
    "print(x)"
   ]
  },
  {
   "cell_type": "code",
   "execution_count": 48,
   "id": "1ffd36ba-1571-4eff-bd29-366b6fe462b1",
   "metadata": {},
   "outputs": [
    {
     "name": "stdout",
     "output_type": "stream",
     "text": [
      "{0, 1, 64, 4, 36, 9, 16, 49, 81, 25}\n"
     ]
    }
   ],
   "source": [
    "x = {i ** 2 for i in range(10)}\n",
    "print(x)"
   ]
  },
  {
   "cell_type": "code",
   "execution_count": 49,
   "id": "e1aca7b5-feee-4868-98fb-ba0a647c3d88",
   "metadata": {},
   "outputs": [
    {
     "name": "stdout",
     "output_type": "stream",
     "text": [
      "<generator object <genexpr> at 0x000001D311BD8EE0>\n"
     ]
    }
   ],
   "source": [
    "x = (i ** 2 for i in range(10))\n",
    "print(x)"
   ]
  },
  {
   "cell_type": "code",
   "execution_count": 51,
   "id": "9894418a-52fe-4467-a394-099c4b035b13",
   "metadata": {},
   "outputs": [
    {
     "name": "stdout",
     "output_type": "stream",
     "text": [
      "{0: 0, 1: 1, 2: 4, 3: 9, 4: 16, 5: 25, 6: 36, 7: 49, 8: 64, 9: 81}\n"
     ]
    }
   ],
   "source": [
    "x = {i: i ** 2 for i in range(10)}\n",
    "print(x)"
   ]
  },
  {
   "cell_type": "code",
   "execution_count": 53,
   "id": "8e1c583d-6c02-47de-ad36-448eee703aae",
   "metadata": {},
   "outputs": [
    {
     "name": "stdout",
     "output_type": "stream",
     "text": [
      "{1: 32434, 3: 45345, 4: 234324}\n"
     ]
    }
   ],
   "source": [
    "x = {1: 32434, 2: -345345, 3: 45345, 4: 234324, 5: 0}\n",
    "\n",
    "y = {key: value for key, value in x.items() if value > 0}\n",
    "\n",
    "print(y)"
   ]
  },
  {
   "cell_type": "code",
   "execution_count": 56,
   "id": "f99ac4da-976a-4173-8059-45785d6cb347",
   "metadata": {},
   "outputs": [
    {
     "name": "stdout",
     "output_type": "stream",
     "text": [
      "{'cherry': 6, 'banana': 6, 'apple': 5}\n"
     ]
    }
   ],
   "source": [
    "x = [\"apple\", \"banana\", \"cherry\", \"apple\"]\n",
    "length_dict = {item: len(item) for item in set(x)}\n",
    "print(length_dict)"
   ]
  },
  {
   "cell_type": "code",
   "execution_count": 58,
   "id": "ac9c0e91-3e97-468b-be15-b895ce70e60a",
   "metadata": {},
   "outputs": [
    {
     "name": "stdout",
     "output_type": "stream",
     "text": [
      "False\n"
     ]
    }
   ],
   "source": [
    "x = {1: 'one', 2: [1, 2, 3]}\n",
    "y = {2: [2, 3, 1], 1: 'one'}\n",
    "\n",
    "print(x == y)"
   ]
  },
  {
   "cell_type": "code",
   "execution_count": 60,
   "id": "b86e917c-0344-44fd-b53a-cd9e6e69c1cb",
   "metadata": {},
   "outputs": [
    {
     "name": "stdin",
     "output_type": "stream",
     "text": [
      "word>> Бабочка\n"
     ]
    },
    {
     "name": "stdout",
     "output_type": "stream",
     "text": [
      "Butterfly\n"
     ]
    }
   ],
   "source": [
    "dictionary = {\n",
    "    \"Butterfly\": \"Бабочка\",\n",
    "    \"Training\": \"Обучение\",\n",
    "    \"Restaurant\": \"Ресторан\",\n",
    "    \"Programming\": \"Программирование\",\n",
    "}\n",
    "\n",
    "word = input('word>>').strip().title()\n",
    "\n",
    "res = dictionary.get(word)\n",
    "if res:\n",
    "    print(res)\n",
    "else:\n",
    "    if word in dictionary.values():\n",
    "        for key, value in dictionary.items():\n",
    "            if value == word:\n",
    "                print(key)        "
   ]
  },
  {
   "cell_type": "code",
   "execution_count": null,
   "id": "5b2fc24e-bcc3-45a9-bc4d-f573045ef87b",
   "metadata": {},
   "outputs": [],
   "source": []
  }
 ],
 "metadata": {
  "kernelspec": {
   "display_name": "Python 3 (ipykernel)",
   "language": "python",
   "name": "python3"
  },
  "language_info": {
   "codemirror_mode": {
    "name": "ipython",
    "version": 3
   },
   "file_extension": ".py",
   "mimetype": "text/x-python",
   "name": "python",
   "nbconvert_exporter": "python",
   "pygments_lexer": "ipython3",
   "version": "3.12.4"
  }
 },
 "nbformat": 4,
 "nbformat_minor": 5
}
