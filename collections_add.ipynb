{
 "cells": [
  {
   "cell_type": "markdown",
   "id": "f2157014-69b8-4674-917e-bdd023563e77",
   "metadata": {},
   "source": [
    "**Task 1.** Дано несколько предложений. Подсчитать частоту каждого УНИКАЛЬНОГО слова. Использовать `Counter`.\n",
    "\n",
    "*Входные данные:*\n",
    "```python\n",
    "texts = [\n",
    "    \"data science is fun\",\n",
    "    \"python is great for data analysis\",\n",
    "    \"science and analysis go together\"\n",
    "]\n",
    "```"
   ]
  },
  {
   "cell_type": "code",
   "execution_count": null,
   "id": "cabd6dfd-5dee-47e5-8ac9-d8b265fc89c3",
   "metadata": {},
   "outputs": [],
   "source": []
  },
  {
   "cell_type": "markdown",
   "id": "7eb48268-1f05-4e93-b22a-fa98a7e9a9dd",
   "metadata": {},
   "source": [
    "**Task 2.** Дан список словарей с оценками студентов. Найти среднюю оценку по каждому предмету. Использовать `defaultdict`.\n",
    "\n",
    "*Входные данные:*\n",
    "```python\n",
    "grades = [\n",
    "    {\"id\": \"0001\", \"math\": 90, \"physics\": 80},\n",
    "    {\"id\": \"0002\", \"math\": 70, \"physics\": 85},\n",
    "    {\"id\": \"0003\", \"math\": 100, \"physics\": 75}\n",
    "]\n",
    "```"
   ]
  },
  {
   "cell_type": "code",
   "execution_count": null,
   "id": "c9a3b075-6b00-4b45-bd6d-494a95dbbf13",
   "metadata": {},
   "outputs": [],
   "source": []
  },
  {
   "cell_type": "markdown",
   "id": "014e47c1-68f2-483a-ad86-3c3208074de3",
   "metadata": {},
   "source": [
    "**Task 3.** Отсортировать список слов по убыванию частоты их встречаемости. Использовать `Counter` и `sorted`.\n",
    "\n",
    "*Входные данные:*\n",
    "```python\n",
    "words = [\"python\", \"data\", \"python\", \"science\", \"data\", \"python\"]\n",
    "```"
   ]
  },
  {
   "cell_type": "code",
   "execution_count": null,
   "id": "1c018144-5bc3-4b0b-85a4-2c34e0818efa",
   "metadata": {},
   "outputs": [],
   "source": []
  },
  {
   "cell_type": "markdown",
   "id": "46524d1c-f90e-4d2f-9e6c-46ca6ae5b37b",
   "metadata": {},
   "source": [
    "**Task 4.** Слить несколько словарей с суммированием значений по одинаковым ключам. Использовать `reduce`.\n",
    "\n",
    "*Входные данные:*\n",
    "```python\n",
    "dicts = [\n",
    "    {\"a\": 2, \"b\": 3},\n",
    "    {\"a\": 5, \"c\": 1},\n",
    "    {\"b\": 2, \"c\": 4}\n",
    "]\n",
    "```"
   ]
  },
  {
   "cell_type": "code",
   "execution_count": null,
   "id": "ace7b1f4-a74e-45e3-b3f2-513ef609a124",
   "metadata": {},
   "outputs": [],
   "source": []
  },
  {
   "cell_type": "markdown",
   "id": "c12f6c97-f568-4d0c-8249-70360d2cfe51",
   "metadata": {},
   "source": [
    "**Task 5.** Подсчитать количество элементов, превышающих среднее значение. Использовать `filter`.\n",
    "\n",
    "*Входные данные:*\n",
    "```python\n",
    "values = [10, 20, 30, 40, 50]\n",
    "```"
   ]
  },
  {
   "cell_type": "code",
   "execution_count": null,
   "id": "d49b931b-4603-4427-be18-cff4c083ef7a",
   "metadata": {},
   "outputs": [],
   "source": []
  },
  {
   "cell_type": "markdown",
   "id": "14e39632-24b0-465d-86f3-c69aee54509f",
   "metadata": {},
   "source": [
    "**Task 6.** Разбить список слов на группы по первой букве. Использовать `defaultdict`.\n",
    "\n",
    "*Входные данные:*\n",
    "```python\n",
    "words = [\"data\", \"design\", \"science\", \"structure\", \"python\"]\n",
    "```"
   ]
  },
  {
   "cell_type": "code",
   "execution_count": null,
   "id": "590f9d98-b7ef-4441-904f-6588c1f027ca",
   "metadata": {},
   "outputs": [],
   "source": []
  },
  {
   "cell_type": "markdown",
   "id": "6ae01b50-fc91-4838-a8df-2afeaadceda8",
   "metadata": {},
   "source": [
    "**Task 7.** Найти элемент с максимальным значением во второй колонке. Использовать `max` и `lambda`.\n",
    "\n",
    "*Входные данные:*\n",
    "```python\n",
    "pairs = [(\"a\", 10), (\"b\", 25), (\"c\", 15)]\n",
    "```"
   ]
  },
  {
   "cell_type": "code",
   "execution_count": null,
   "id": "8fef6ec9-f605-4615-80e2-376620d184cb",
   "metadata": {},
   "outputs": [],
   "source": []
  },
  {
   "cell_type": "markdown",
   "id": "79486207-ffe3-4409-9ed2-6914b562883a",
   "metadata": {},
   "source": [
    "**Task 8.** Из списка строк формата `\"ключ:значение\"` создать словарь. Использовать `map` и `lambda`.\n",
    "\n",
    "*Входные данные:*\n",
    "```python\n",
    "lines = [\"name:John\", \"age:30\", \"city:NY\"]\n",
    "```"
   ]
  },
  {
   "cell_type": "code",
   "execution_count": null,
   "id": "6c6fa998-1b31-4acd-9512-219bbc897860",
   "metadata": {},
   "outputs": [],
   "source": []
  },
  {
   "cell_type": "markdown",
   "id": "ce21fc2c-4bf4-4bc7-b16d-69a2dab087cc",
   "metadata": {},
   "source": [
    "**Task 9.** Для каждого клиента посчитать количество заказов по категориям. Использовать `defaultdict`.\n",
    "\n",
    "*Входные данные:*\n",
    "```python\n",
    "orders = [\n",
    "    {\"client\": \"A\", \"category\": \"tech\"},\n",
    "    {\"client\": \"A\", \"category\": \"books\"},\n",
    "    {\"client\": \"B\", \"category\": \"books\"},\n",
    "    {\"client\": \"A\", \"category\": \"tech\"}\n",
    "]\n",
    "```"
   ]
  },
  {
   "cell_type": "code",
   "execution_count": null,
   "id": "cf5a114c-cb34-462f-a793-6a7aa12800ff",
   "metadata": {},
   "outputs": [],
   "source": []
  },
  {
   "cell_type": "markdown",
   "id": "994e6a53-f48f-4e28-9031-099062aca128",
   "metadata": {},
   "source": [
    "**Task 10** Подсчитать общую сумму значений по ключам в списке словарей. Использовать `reduce`.\n",
    "\n",
    "*Входные данные:*\n",
    "```python\n",
    "records = [{\"a\": 1, \"b\": 2}, {\"a\": 2, \"b\": 3}, {\"a\": 4}]\n",
    "```"
   ]
  },
  {
   "cell_type": "code",
   "execution_count": null,
   "id": "232e733b-edc3-4aeb-81b7-2da89d01cc1a",
   "metadata": {},
   "outputs": [],
   "source": []
  },
  {
   "cell_type": "markdown",
   "id": "0d5f6447-cff5-48c9-85d3-a00ee70ef44a",
   "metadata": {},
   "source": [
    "**Task 11.** Для каждой категории найти список уникальных клиентов. Использовать `defaultdict`.\n",
    "\n",
    "*Входные данные:*\n",
    "```python\n",
    "sales = [\n",
    "    {\"client\": \"X\", \"category\": \"A\"},\n",
    "    {\"client\": \"Y\", \"category\": \"A\"},\n",
    "    {\"client\": \"X\", \"category\": \"B\"}\n",
    "]\n",
    "```"
   ]
  },
  {
   "cell_type": "code",
   "execution_count": null,
   "id": "152d6c8a-aff4-42d9-8d77-bbfc372e7011",
   "metadata": {},
   "outputs": [],
   "source": []
  },
  {
   "cell_type": "markdown",
   "id": "72b208e3-c254-41a0-842d-7270ada608a6",
   "metadata": {},
   "source": [
    "**Task 12.** Отобрать из списка слов те, что длиннее 5 символов. Использовать `filter`.\n",
    "\n",
    "*Входные данные:*\n",
    "```python\n",
    "words = [\"python\", \"data\", \"analysis\", \"AI\", \"learning\"]\n",
    "```"
   ]
  },
  {
   "cell_type": "code",
   "execution_count": null,
   "id": "411d21ed-661c-4c68-beea-d20ac8d1a57e",
   "metadata": {},
   "outputs": [],
   "source": []
  },
  {
   "cell_type": "markdown",
   "id": "edc47932-9be4-44b8-a9af-5b1ffcc59faf",
   "metadata": {},
   "source": [
    "**Task 13.** Найти пару чисел с максимальным произведением. Использовать `max` и `zip`.\n",
    "\n",
    "*Входные данные:*\n",
    "```python\n",
    "a = [1, 4, 2]\n",
    "b = [3, 2, 5]\n",
    "```"
   ]
  },
  {
   "cell_type": "code",
   "execution_count": null,
   "id": "9b2a8fc4-9fe2-489e-99c9-54baf1379934",
   "metadata": {},
   "outputs": [],
   "source": []
  },
  {
   "cell_type": "markdown",
   "id": "e5df63de-a4b7-4e15-8059-8555eaef7c8e",
   "metadata": {},
   "source": [
    "**Task 14.** Разделить список значений на группы: >50, 10–50, <10. Использовать `filter`.\n",
    "\n",
    "*Входные данные:*\n",
    "```python\n",
    "nums = [5, 25, 75, 15, 95, 3]\n",
    "```"
   ]
  },
  {
   "cell_type": "code",
   "execution_count": null,
   "id": "69ad09f3-6b0b-40b1-9f70-8fbcf1bf35c2",
   "metadata": {},
   "outputs": [],
   "source": []
  },
  {
   "cell_type": "markdown",
   "id": "7cd7ff82-f980-4ade-9b42-26b21e2a1820",
   "metadata": {},
   "source": [
    "**Task 15.** Подсчитать частоту слов без учёта регистра. Использовать `map`, `Counter`.\n",
    "\n",
    "*Входные данные:*\n",
    "```python\n",
    "words = [\"Data\", \"data\", \"Science\", \"SCIENCE\"]\n",
    "```"
   ]
  },
  {
   "cell_type": "code",
   "execution_count": null,
   "id": "5ab9f520-5736-4f03-bcc0-bda56121b0e3",
   "metadata": {},
   "outputs": [],
   "source": []
  },
  {
   "cell_type": "markdown",
   "id": "ce928f00-41d6-4744-9020-99f2d0615571",
   "metadata": {},
   "source": [
    "**Task 16.** Суммировать все чётные числа из списка. Использовать `filter` и `reduce`.\n",
    "\n",
    "*Входные данные:*\n",
    "```python\n",
    "nums = [1, 2, 3, 4, 5, 6]\n",
    "```"
   ]
  },
  {
   "cell_type": "code",
   "execution_count": null,
   "id": "bc72615c-00d3-400d-adde-0b9490ec56ac",
   "metadata": {},
   "outputs": [],
   "source": []
  },
  {
   "cell_type": "markdown",
   "id": "b08e9ed7-fb03-4e07-8c3f-287f1e82ef04",
   "metadata": {},
   "source": [
    "**Task 17.** Найти ключ с максимальным значением. Использовать `max` и `lambda`.\n",
    "\n",
    "*Входные данные:*\n",
    "```python\n",
    "d = {\"x\": 10, \"y\": 15, \"z\": 7}\n",
    "```"
   ]
  },
  {
   "cell_type": "code",
   "execution_count": null,
   "id": "6d307f2e-1fb7-444a-a4d2-bf9ee2d6e5c9",
   "metadata": {},
   "outputs": [],
   "source": []
  },
  {
   "cell_type": "markdown",
   "id": "f24f5698-f912-4d06-9db3-e2cd7e7ae009",
   "metadata": {},
   "source": [
    "**Task 18.** Сортировать словарь по значению, но сохранить порядок вставки. Использовать `OrderedDict`.\n",
    "\n",
    "*Входные данные:*\n",
    "```python\n",
    "d = {\"b\": 3, \"a\": 1, \"c\": 2}\n",
    "```"
   ]
  },
  {
   "cell_type": "code",
   "execution_count": null,
   "id": "6ca09809-ae4b-4a7b-9a00-cbef533cbdca",
   "metadata": {},
   "outputs": [],
   "source": []
  }
 ],
 "metadata": {
  "kernelspec": {
   "display_name": "Python 3 (ipykernel)",
   "language": "python",
   "name": "python3"
  },
  "language_info": {
   "codemirror_mode": {
    "name": "ipython",
    "version": 3
   },
   "file_extension": ".py",
   "mimetype": "text/x-python",
   "name": "python",
   "nbconvert_exporter": "python",
   "pygments_lexer": "ipython3",
   "version": "3.13.2"
  }
 },
 "nbformat": 4,
 "nbformat_minor": 5
}
