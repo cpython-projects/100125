{
 "cells": [
  {
   "cell_type": "code",
   "execution_count": 1,
   "id": "21825df2-b777-4a06-adfb-00ba04d412a0",
   "metadata": {},
   "outputs": [
    {
     "name": "stdout",
     "output_type": "stream",
     "text": [
      "<function simple_decorator.<locals>.wrapper at 0x00000180621A34C0>\n",
      "Перед вызовом функции\n",
      "Привет!\n",
      "После вызова функции\n"
     ]
    }
   ],
   "source": [
    "def simple_decorator(func): # Функция-декоратор, принимает другую функцию\n",
    "    def wrapper(): # Вложенная функция-обертка, добавляющая дополнительное поведение\n",
    "        print(\"Перед вызовом функции\")\n",
    "        func() # Вызываем переданную функцию\n",
    "        print(\"После вызова функции\")\n",
    "    return wrapper # Возвращаем изменённую функцию\n",
    "\n",
    "\n",
    "def say_hello():\n",
    "    print(\"Привет!\")\n",
    "\n",
    "    \n",
    "decorated = simple_decorator(say_hello) # Вызываем декоратор, теперь decorated = wrapper\n",
    "print(decorated)\n",
    "decorated() # Теперь вызов say_hello() происходит"
   ]
  },
  {
   "cell_type": "code",
   "execution_count": 3,
   "id": "465993db-1e52-41e0-95c8-c2cf947d2e31",
   "metadata": {},
   "outputs": [
    {
     "name": "stdout",
     "output_type": "stream",
     "text": [
      "Hello, OLEH\n",
      "<b>Hello, OLEH</b>\n"
     ]
    }
   ],
   "source": [
    "def hello(name: str):\n",
    "    return f'Hello, {name.upper()}'\n",
    "\n",
    "\n",
    "def hello_ext(first_name, last_name):\n",
    "  return f'Hello, {first_name[0]}. {last_name}'\n",
    "\n",
    "\n",
    "def tag_b(func):\n",
    "    def wrapper(*args, **kwargs):\n",
    "        tmp = func(*args, **kwargs)\n",
    "        return f'<b>{tmp}</b>'\n",
    "\n",
    "    return wrapper\n",
    "\n",
    "\n",
    "f = tag_b(hello)\n",
    "print(f('Oleh'))\n",
    "\n",
    "f = tag_b(hello_ext)\n",
    "print(f('Oleh', 'Tymchuk'))\n"
   ]
  },
  {
   "cell_type": "code",
   "execution_count": 4,
   "id": "746059f2-e77d-4b65-abf7-a1bd24505c11",
   "metadata": {},
   "outputs": [
    {
     "name": "stdout",
     "output_type": "stream",
     "text": [
      "<b>Hello, OLEH</b>\n",
      "<b>Hello, O. Tymchuk</b>\n"
     ]
    }
   ],
   "source": [
    "def tag_b(func):\n",
    "    def wrapper(*args, **kwargs):\n",
    "        tmp = func(*args, **kwargs)\n",
    "        return f'<b>{tmp}</b>'\n",
    "\n",
    "    return wrapper\n",
    "\n",
    "@tag_b\n",
    "def hello(name: str):\n",
    "    return f'Hello, {name.upper()}'\n",
    "\n",
    "@tag_b\n",
    "def hello_ext(first_name, last_name):\n",
    "  return f'Hello, {first_name[0]}. {last_name}'\n",
    "\n",
    "\n",
    "print(hello('Oleh'))\n",
    "\n",
    "print(hello_ext('Oleh', 'Tymchuk'))\n"
   ]
  },
  {
   "cell_type": "code",
   "execution_count": 7,
   "id": "a24ab016-3fa7-4606-a37c-acef6c865ab4",
   "metadata": {},
   "outputs": [
    {
     "name": "stdout",
     "output_type": "stream",
     "text": [
      "79507\n",
      "5184\n"
     ]
    }
   ],
   "source": [
    "import random\n",
    "\n",
    "def write_to_file(func):\n",
    "    def wrapper(*args, **kwargs):\n",
    "        tmp = func(*args, **kwargs)\n",
    "        with open('test_66_1.txt', 'a') as file:\n",
    "            file.write(f'{tmp}\\n')\n",
    "        return tmp\n",
    "    return wrapper\n",
    "\n",
    "@write_to_file\n",
    "def f1():\n",
    "    return random.randint(1, 100) ** 3\n",
    "    \n",
    "@write_to_file\n",
    "def f2():\n",
    "    return random.randint(20, 100) ** 2\n",
    "    \n",
    "print(f1())\n",
    "print(f2())"
   ]
  },
  {
   "cell_type": "code",
   "execution_count": 9,
   "id": "8443a28b-9ba9-425b-bae0-ecd6b3326231",
   "metadata": {},
   "outputs": [
    {
     "name": "stdout",
     "output_type": "stream",
     "text": [
      "24389\n",
      "2401\n"
     ]
    }
   ],
   "source": [
    "import random\n",
    "\n",
    "def write_to_file(filename):\n",
    "    def decorator(func):\n",
    "        def wrapper(*args, **kwargs):\n",
    "            tmp = func(*args, **kwargs)\n",
    "            with open(filename, 'a') as file:\n",
    "                file.write(f'{tmp}\\n')\n",
    "            return tmp\n",
    "        return wrapper\n",
    "    return decorator\n",
    "    \n",
    "@write_to_file('test_66_part1.txt')\n",
    "def f1():\n",
    "    return random.randint(1, 100) ** 3\n",
    "    \n",
    "@write_to_file('test_66_part2.txt')\n",
    "def f2():\n",
    "    return random.randint(20, 100) ** 2\n",
    "    \n",
    "print(f1())\n",
    "print(f2())"
   ]
  },
  {
   "cell_type": "code",
   "execution_count": null,
   "id": "8379e5c7-8d78-491a-ac51-e15dff8fdef8",
   "metadata": {},
   "outputs": [],
   "source": []
  }
 ],
 "metadata": {
  "kernelspec": {
   "display_name": "Python 3 (ipykernel)",
   "language": "python",
   "name": "python3"
  },
  "language_info": {
   "codemirror_mode": {
    "name": "ipython",
    "version": 3
   },
   "file_extension": ".py",
   "mimetype": "text/x-python",
   "name": "python",
   "nbconvert_exporter": "python",
   "pygments_lexer": "ipython3",
   "version": "3.13.3"
  }
 },
 "nbformat": 4,
 "nbformat_minor": 5
}
