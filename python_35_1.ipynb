{
 "cells": [
  {
   "cell_type": "code",
   "execution_count": 1,
   "id": "7fc6d70d-c372-4590-99f5-c503f807479e",
   "metadata": {},
   "outputs": [],
   "source": [
    "x = {1: 'one', 2: 'two'}"
   ]
  },
  {
   "cell_type": "code",
   "execution_count": 2,
   "id": "a91b6c04-8cb9-43f2-8084-52882fd6f6e3",
   "metadata": {},
   "outputs": [
    {
     "name": "stdout",
     "output_type": "stream",
     "text": [
      "1 one\n",
      "2 two\n"
     ]
    }
   ],
   "source": [
    "# Перебор ключей\n",
    "for item in x:\n",
    "    print(item, x[item])"
   ]
  },
  {
   "cell_type": "code",
   "execution_count": 3,
   "id": "c0ac3b44-7164-4d9d-ab65-7a45bce8b98d",
   "metadata": {},
   "outputs": [
    {
     "name": "stdout",
     "output_type": "stream",
     "text": [
      "one\n",
      "two\n"
     ]
    }
   ],
   "source": [
    "# Перебор только значений\n",
    "for value in x.values():\n",
    "    print(value)"
   ]
  },
  {
   "cell_type": "code",
   "execution_count": 4,
   "id": "9550c170-186b-4f54-a245-fc4b92092628",
   "metadata": {},
   "outputs": [
    {
     "name": "stdout",
     "output_type": "stream",
     "text": [
      "1 one\n",
      "2 two\n"
     ]
    }
   ],
   "source": [
    "# Перебор и ключей и значений\n",
    "for key, value in x.items():\n",
    "    print(key, value)"
   ]
  },
  {
   "cell_type": "code",
   "execution_count": 7,
   "id": "c3156e97-1dec-4a14-86dc-88ef2bcddb1a",
   "metadata": {},
   "outputs": [
    {
     "name": "stdout",
     "output_type": "stream",
     "text": [
      "{2: 1, 3: 3, 4: 3, 7: 3, 8: 2}\n",
      "3\n",
      "4\n",
      "7\n",
      "8\n"
     ]
    }
   ],
   "source": [
    "numbers = [4, 7, 3, 7, 8, 3, 4, 2, 7, 3, 8, 4]\n",
    "\n",
    "res = {}\n",
    "# for n in numbers:\n",
    "#     if n not in res:\n",
    "#         res[n] = numbers.count(n)\n",
    "\n",
    "\n",
    "\n",
    "for n in set(numbers):\n",
    "    res[n] = numbers.count(n)\n",
    "    \n",
    "print(res)\n",
    "\n",
    "for key, value in res.items():\n",
    "    if value > 1:\n",
    "        print(key)"
   ]
  },
  {
   "cell_type": "code",
   "execution_count": 8,
   "id": "5102eefc-1bd3-4927-aa8b-a8e104795619",
   "metadata": {},
   "outputs": [
    {
     "name": "stdout",
     "output_type": "stream",
     "text": [
      "one\n",
      "one\n"
     ]
    }
   ],
   "source": [
    "x = {1: 'one', 2: 'two'}\n",
    "\n",
    "print(x[1])\n",
    "print(x.get(1))"
   ]
  },
  {
   "cell_type": "code",
   "execution_count": 9,
   "id": "bbeb79d7-29db-4ad1-a9a0-d1822735121f",
   "metadata": {},
   "outputs": [
    {
     "ename": "KeyError",
     "evalue": "10",
     "output_type": "error",
     "traceback": [
      "\u001b[1;31m---------------------------------------------------------------------------\u001b[0m",
      "\u001b[1;31mKeyError\u001b[0m                                  Traceback (most recent call last)",
      "Cell \u001b[1;32mIn[9], line 1\u001b[0m\n\u001b[1;32m----> 1\u001b[0m \u001b[38;5;28mprint\u001b[39m(\u001b[43mx\u001b[49m\u001b[43m[\u001b[49m\u001b[38;5;241;43m10\u001b[39;49m\u001b[43m]\u001b[49m)\n",
      "\u001b[1;31mKeyError\u001b[0m: 10"
     ]
    }
   ],
   "source": [
    "print(x[10])"
   ]
  },
  {
   "cell_type": "code",
   "execution_count": 10,
   "id": "91d0ef69-6d75-4b27-8da3-1ccb426b039d",
   "metadata": {},
   "outputs": [
    {
     "name": "stdout",
     "output_type": "stream",
     "text": [
      "None\n"
     ]
    }
   ],
   "source": [
    "print(x.get(10))"
   ]
  },
  {
   "cell_type": "code",
   "execution_count": 11,
   "id": "f168dbd9-829f-46a2-93ca-ba8e0816c76c",
   "metadata": {},
   "outputs": [
    {
     "name": "stdout",
     "output_type": "stream",
     "text": [
      "10000\n"
     ]
    }
   ],
   "source": [
    "print(x.get(10, 10000))"
   ]
  },
  {
   "cell_type": "code",
   "execution_count": 12,
   "id": "085f273c-a287-4347-bdd4-93fc49dd9698",
   "metadata": {},
   "outputs": [],
   "source": [
    "if 20 not in x:\n",
    "    res = 0\n",
    "else:\n",
    "    res = x[20]\n",
    "\n",
    "\n",
    "res = x.get(20, 0)"
   ]
  },
  {
   "cell_type": "code",
   "execution_count": 20,
   "id": "792bcdaf-8141-4446-a963-53236effebac",
   "metadata": {},
   "outputs": [
    {
     "name": "stdout",
     "output_type": "stream",
     "text": [
      "False\n"
     ]
    }
   ],
   "source": [
    "x = {1, 2, 3, 4, 5}\n",
    "y = {1, 2, 3, 4, 5}\n",
    "\n",
    "print(y < x)"
   ]
  },
  {
   "cell_type": "code",
   "execution_count": 21,
   "id": "be9a98a0-77d2-453f-9012-9c9ed665266a",
   "metadata": {},
   "outputs": [
    {
     "data": {
      "text/plain": [
       "True"
      ]
     },
     "execution_count": 21,
     "metadata": {},
     "output_type": "execute_result"
    }
   ],
   "source": [
    "y.issubset(x)"
   ]
  },
  {
   "cell_type": "code",
   "execution_count": null,
   "id": "0c87ffa9-411b-4a5a-81d4-d1c019e75db6",
   "metadata": {},
   "outputs": [],
   "source": []
  }
 ],
 "metadata": {
  "kernelspec": {
   "display_name": "Python 3 (ipykernel)",
   "language": "python",
   "name": "python3"
  },
  "language_info": {
   "codemirror_mode": {
    "name": "ipython",
    "version": 3
   },
   "file_extension": ".py",
   "mimetype": "text/x-python",
   "name": "python",
   "nbconvert_exporter": "python",
   "pygments_lexer": "ipython3",
   "version": "3.12.4"
  }
 },
 "nbformat": 4,
 "nbformat_minor": 5
}
