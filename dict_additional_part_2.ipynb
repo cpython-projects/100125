{
 "cells": [
  {
   "cell_type": "markdown",
   "id": "95c39da2-2bfb-4413-a03d-ecde7ce7501e",
   "metadata": {},
   "source": [
    "### **1. Легенда**\n",
    "\n",
    "У вас есть данные с информацией о заказах, совершённых в интернет-магазине. Каждая строка соответствует одному заказу.\n",
    "\n",
    "| Поле             | Описание |\n",
    "|------------------|----------|\n",
    "| `order_id`       | Уникальный идентификатор заказа |\n",
    "| `customer_id`    | Идентификатор покупателя |\n",
    "| `product_id`     | Идентификатор товара |\n",
    "| `product_name`   | Название товара |\n",
    "| `category`       | Категория товара |\n",
    "| `price`          | Цена за единицу товара (в долларах) |\n",
    "| `quantity`       | Количество заказанных единиц |\n",
    "| `weight`         | Вес товара (например, `0.5kg`, `1.2kg`) |\n",
    "| `discount`       | Скидка на товар (в долях, например, `0.10` — 10%) |\n",
    "| `shipping_cost`  | Стоимость доставки |\n",
    "| `payment_method` | Способ оплаты (`Credit Card`, `paypal`, `debit`, и т.д.) |\n",
    "| `delivery_status`| Статус доставки (`Delivered`, `Shipped`, `Processing`) |\n",
    "| `customer_city`  | Город покупателя |\n",
    "| `customer_state` | Штат или регион покупателя |\n",
    "| `customer_country` | Страна покупателя |\n",
    "| `return_requested` | Запрошен ли возврат (0 — нет, 1 — да) |\n",
    "| `review_score`   | Оценка товара (от 1 до 5) |\n",
    "| `days_to_deliver`| Сколько дней заняла доставка |\n",
    "\n",
    "---"
   ]
  },
  {
   "cell_type": "code",
   "execution_count": 4,
   "id": "471df1df-e97a-4c9d-9394-2bd048d36f1d",
   "metadata": {},
   "outputs": [],
   "source": [
    "data = [\n",
    "\t (1001, 'C101', 'P001', 'Smartphone X', 'Electronics', 599.99, 1, '0.5kg', 0.1, 5.99, 'Credit Card', 'Delivered', 'New York', 'NY', 'USA', 0, 5.0, 3.0),\n",
    "\t (1002, 'C102', 'P002', 'Laptop Pro', 'Electronics', 1299.99, 1, '2.2kg', 0.15, 12.99, 'paypal', 'Delivered', 'los angeles', 'CA', 'USA', 1, 4.0, 5.0),\n",
    "\t (1003, 'C103', 'P003', 'Wireless Earbuds', 'Electronics', 79.99, 2, '0.1kg', 0.0, None, 'Credit Card', 'Shipped', 'Chicago', 'IL', 'USA', 0, None, None),\n",
    "\t (1004, 'C104', 'P004', 'Smart Watch', 'Electronics', 199.99, 1, '0.3kg', 0.05, 4.99, 'debit', 'Delivered', 'Houston', 'TX', 'USA', 0, 5.0, 4.0),\n",
    "\t (1005, 'C105', 'P005', 'Tablet Mini', 'Electronics', 299.99, 1, '0.7kg', None, 6.99, 'credit', 'Processing', 'PHOENIX', 'AZ', 'USA', 1, 2.0, None),\n",
    "\t (1006, 'C106', 'P006', 'Bluetooth Speaker', 'Electronics', 59.99, 3, '1.1lbs', 0.0, 8.99, 'PayPal', 'Delivered', 'Philadelphia', 'PA', 'USA', 0, 4.0, 6.0),\n",
    "\t (1007, 'C107', 'P007', 'Fitness Tracker', 'Electronics', 49.99, 1, '0.05kg', 0.1, 3.49, 'Debit Card', 'Delivered', 'San Antonio', 'TX', 'USA', 0, 5.0, 3.0),\n",
    "\t (1008, 'C108', 'P008', '4K TV', 'Electronics', 899.99, 1, '15.4kg', 0.25, None, 'Credit Card', 'Shipped', 'San Diego', 'CA', 'USA', 0, None, None),\n",
    "\t (1009, 'C109', 'P009', 'Gaming Console', 'Electronics', 499.99, 1, '3.5kg', None, 15.99, 'Credit Card', 'Processing', 'Dallas', 'TX', 'USA', 1, 3.0, None),\n",
    "\t (1010, 'C110', 'P010', 'DSLR Camera', 'Electronics', 799.99, 1, '1.2kg', 0.0, 12.99, 'PayPal', 'Delivered', 'dallas', 'CA', 'USA', 0, 5.0, 5.0),\n",
    "\t (1011, 'C111', 'P011', 'Action Camera', 'Electronics', 199.99, 2, '0.3kg', 0.15, 6.99, 'Credit Card', 'Shipped', 'Austin', 'TX', 'USA', 0, 4.0, 4.0),\n",
    "\t (1012, 'C112', 'P012', 'External SSD', 'Electronics', 149.99, 1, '0.1kg', 0.0, 4.99, 'Debit Card', 'delivered', 'Jacksonville', 'FL', 'USA', 0, 5.0, 3.0),\n",
    "\t (1013, 'C113', 'P013', 'Wireless Mouse', 'Electronics', 29.99, 3, '0.2kg', None, None, 'PayPal', 'processing', 'Fort Worth', 'TX', 'U.S.A', 1, 1.0, None),\n",
    "\t (1014, 'C114', 'P014', 'Mechanical Keyboard', 'Electronics', 99.99, 1, '1.1kg', 0.1, 8.99, 'Credit Card', 'Delivered', 'Columbus', 'OH', 'United States', 0, 4.0, 4.0),\n",
    "\t (1015, 'C115', 'P015', 'Monitor 27\"', 'Electronics', 249.99, 1, '5.5kg', None, 14.99, 'Debit Card', 'Shipped', 'Charlotte', 'NC', 'USA', 0, 3.0, None),\n",
    "\t (1016, 'C116', 'P016', 'Printer', 'Electronics', 179.99, 1, '8.8kg', 0.2, 19.99, 'Credit Card', 'Processing', 'San Francisco', 'CA', 'USA', 0, 5.0, None),\n",
    "\t (1017, 'C117', 'P017', 'Projector', 'Electronics', 349.99, 1, '3.3kg', 0.1, 12.99, 'PayPal', 'Delivered', 'Indianapolis', 'IN', 'USA', 0, 4.0, 5.0),\n",
    "\t (1018, 'C118', 'P018', 'Smart Bulb', 'Smart Home', 29.99, 4, '0.2kg', 0.0, 3.99, 'Debit Card', 'Delivered', 'Seattle', 'WA', 'USA', 0, 5.0, 3.0),\n",
    "\t (1019, 'C119', 'P019', 'Robot Vacuum', 'Smart Home', 299.99, 1, '4.4kg', None, None, 'Credit Card', 'Shipped', 'Denver', 'CO', 'USA', 0, 4.0, None),\n",
    "\t (1020, 'C120', 'P020', 'Air Purifier', 'Smart Home', 199.99, 1, '5.5kg', 0.05, 12.99, 'PayPal', 'Processing', 'Washington', 'DC', 'USA', 0, 5.0, None),\n",
    "\t (1021, 'C101', 'P001', 'Smartphone X', 'Electronics', 599.99, 1, '0.5kg', 0.1, 5.99, 'Credit Card', 'Delivered', 'N.Y.', 'NY', 'USA', 0, 5.0, 3.0),\n",
    "\t (1022, 'C122', 'P022', 'Docking Station', 'Electronics', 89.99, 1, '0.4kg', 0.0, 4.99, 'debit card', 'Delivered', 'Boston', 'MA', 'USA', 0, 4.0, 4.0),\n",
    "\t (1023, 'C123', 'P023', 'Webcam', 'Electronics', 69.99, 1, '0.2kg', None, None, 'PayPal', 'Shipped', 'El Paso', 'TX', 'USA', 0, 3.0, None),\n",
    "\t (1024, 'C124', 'P024', 'Microphone', 'Electronics', 129.99, 1, '0.5kg', 0.1, 5.99, 'Credit Card', 'Processing', 'Nashville', 'TN', 'USA', 0, 5.0, None),\n",
    "\t (1025, 'C125', 'P025', 'Graphics Tablet', 'Electronics', 89.99, 1, '0.6kg', None, 4.99, 'Debit Card', 'Delivered', 'Detroit', 'MI', 'USA', 0, 4.0, 5.0),\n",
    "\t (1026, 'C126', 'P026', 'E-reader', 'Electronics', 119.99, 1, '0.3kg', 0.15, None, 'PayPal', 'Delivered', 'Portland', 'OR', 'USA', 0, 5.0, 4.0),\n",
    "\t (1027, 'C127', 'P027', 'Smart Plug', 'Smart Home', 24.99, 1, '0.1kg', 0.0, 2.99, 'Credit Card', 'shipped', 'Memphis', 'TN', 'USA', 0, 4.0, None),\n",
    "\t (1028, 'C128', 'P028', 'NAS Drive', 'Electronics', 299.99, 1, '1.8kg', None, None, 'Debit Card', 'processing', 'Oklahoma City', 'OK', 'USA', 0, 3.0, None),\n",
    "\t (1029, 'C129', 'P029', 'VR Headset', 'Electronics', 349.99, 1, '0.7kg', 0.05, 8.99, 'PayPal', 'Delivered', 'Las Vegas', 'NV', 'USA', 0, 5.0, 4.0),\n",
    "\t (1030, 'C130', 'P030', 'Drone', 'Electronics', 499.99, 1, '1.2kg', None, 12.99, 'Credit Card', 'Delivered', 'Louisville', 'KY', 'USA', 0, 4.0, 3.0),\n",
    "\t (1028, 'C128', 'P028', 'NAS Drive', 'Electronics', 299.99, 1, '1.8kg', None, None, 'Debit Card', 'processing', 'Oklahoma City', 'OK', 'USA', 0, 3.0, None),\n",
    "\t (1016, 'C116', 'P016', 'Printer', 'Electronics', 179.99, 1, '8.8kg', 0.2, 19.99, 'Credit Card', 'Processing', 'San Francisco', 'CA', 'USA', 0, 5.0, None),\n",
    "\t (1024, 'C124', 'P024', 'Microphone', 'Electronics', 129.99, 1, '0.5kg', 0.1, 5.99, 'Credit Card', 'Processing', 'Nashville', 'TN', 'USA', 0, 5.0, None),\n",
    "\t (1018, 'C118', 'P018', 'Smart Bulb', 'Smart Home', 29.99, 4, '0.2kg', 0.0, 3.99, 'Debit Card', 'Delivered', 'Seattle', 'WA', 'USA', 0, 5.0, 3.0),\n",
    "\t (1009, 'C109', 'P009', 'Gaming Console', 'Electronics', 499.99, 1, '3.5kg', None, 15.99, 'Credit Card', 'Processing', 'Dallas', 'TX', 'USA', 1, 3.0, None),\n",
    "\t (1007, 'C107', 'P007', 'Fitness Tracker', 'Electronics', 59.99, 1, '0.05kg', 0.1, 3.49, 'Debit Card', 'Delivered', 'San Antonio', 'TX', 'USA', 0, 5.0, 3.0),\n",
    "\t (1028, 'C128', 'P028', 'NAS Drive', 'Electronics', 299.99, 2, '1.8kg', None, None, 'Debit Card', 'Processing', 'Oklahoma City', 'OK', 'USA', 0, 3.0, None),\n",
    "\t (2006, 'C106', 'P006', 'Bluetooth Speaker', 'Electronics', 59.99, 3, '1.1lbs', 0.0, 8.99, 'PayPal', 'Delivered', 'Philadelphia', 'PA', 'USA', 0, 4.0, 6.0),\n",
    "\t (1013, 'C113', 'P013', 'Wireless Mouse', 'Electronics', 29.99, 3, '0.2kg', None, None, 'PayPal', 'Delivered', 'Fort Worth', 'TX', 'U.S.A', 1, 1.0, None),\n",
    "\t (1025, 'C125', 'P025', 'Graphics Tablet', 'Electronics', 99.99, 1, '0.6kg', None, 4.99, 'PayPal', 'Delivered', 'Detroit', 'MI', 'USA', 0, 4.0, 5.0),\n",
    "]"
   ]
  },
  {
   "cell_type": "markdown",
   "id": "6a5aef94-7354-46e2-a1ff-3fa4b38398c5",
   "metadata": {},
   "source": [
    "### **2. Задания на очистку данных**"
   ]
  },
  {
   "cell_type": "markdown",
   "id": "c617f255-5a30-4712-9e6a-395193483a3c",
   "metadata": {},
   "source": [
    "**Заполнить пропущенные значения:**\n",
    "   - `shipping_cost` — заменить на среднее значение по колонке.\n",
    "   - `review_score` — заменить медианой.\n",
    "   - `days_to_deliver` — заменить на `0`, если доставка ещё не произошла."
   ]
  },
  {
   "cell_type": "code",
   "execution_count": null,
   "id": "abd3c5f4-4f0a-48d0-92e5-469b516c2df3",
   "metadata": {},
   "outputs": [],
   "source": []
  },
  {
   "cell_type": "markdown",
   "id": "656cb713-840d-43fe-893f-cf2c1d4a780a",
   "metadata": {},
   "source": [
    "**Привести строки к единому стилю:**\n",
    "   - Сделать названия городов (`customer_city`) и стран (`customer_country`) с заглавной буквы.\n",
    "   - Названия категорий товаров (`category`) и способов оплаты (`payment_method`) привести к одному стилю — всё строчными или заглавными."
   ]
  },
  {
   "cell_type": "code",
   "execution_count": null,
   "id": "a08499cc-67fa-4066-8463-b6a509b73979",
   "metadata": {},
   "outputs": [],
   "source": []
  },
  {
   "cell_type": "markdown",
   "id": "9261a20c-990f-4532-82cd-951d960a00de",
   "metadata": {},
   "source": [
    "**Привести веса к числовому виду:**\n",
    "   - Извлечь числовое значение из поля `weight` и сохранить его в новый столбец `weight_kg`."
   ]
  },
  {
   "cell_type": "code",
   "execution_count": null,
   "id": "e75d19cc-c8bd-4e6b-b68d-65dd3c66a52a",
   "metadata": {},
   "outputs": [],
   "source": []
  },
  {
   "cell_type": "markdown",
   "id": "9ce4bc7a-a325-43cf-9a66-129b6024b192",
   "metadata": {},
   "source": [
    "### **3. Задания на обработку (используем словари)**"
   ]
  },
  {
   "cell_type": "markdown",
   "id": "3731f6f6-d3b0-473d-9e87-1c9d3c9cfc8c",
   "metadata": {},
   "source": [
    "**Создайте словарь**, где ключ — `customer_id`, а значение — список заказанных товаров."
   ]
  },
  {
   "cell_type": "code",
   "execution_count": null,
   "id": "ac484dde-afe3-4e07-bc25-6a298e30db34",
   "metadata": {},
   "outputs": [],
   "source": []
  },
  {
   "cell_type": "markdown",
   "id": "767c8bff-b02b-49e4-a673-defdb242742d",
   "metadata": {},
   "source": [
    "**Сгруппируйте по стране**: ключ — `customer_country`, значение — список `order_id`."
   ]
  },
  {
   "cell_type": "code",
   "execution_count": null,
   "id": "c9bfb3de-3870-4f5e-9a6c-8bd082daf3e5",
   "metadata": {},
   "outputs": [],
   "source": []
  },
  {
   "cell_type": "markdown",
   "id": "585c01a0-3179-4d6e-b7cf-e28769d47cfe",
   "metadata": {},
   "source": [
    "**Подсчитайте**, сколько заказов было с каждой формой оплаты (`payment_method`) — использовать словарь для счёта."
   ]
  },
  {
   "cell_type": "code",
   "execution_count": null,
   "id": "c8d0a0b1-1c54-41bc-ac6c-c7baaaa17ae7",
   "metadata": {},
   "outputs": [],
   "source": []
  },
  {
   "cell_type": "markdown",
   "id": "47430076-7f09-4668-bc09-285a8d014c1d",
   "metadata": {},
   "source": [
    "**Создайте словарь**, где ключ — `product_id`, а значение — сумма всех проданных единиц этого товара."
   ]
  },
  {
   "cell_type": "code",
   "execution_count": null,
   "id": "939bb1e2-ce6d-4200-9b49-eda332bafd49",
   "metadata": {},
   "outputs": [],
   "source": []
  },
  {
   "cell_type": "markdown",
   "id": "dea78eb2-937c-4df3-914e-a5e23bdf4ac2",
   "metadata": {},
   "source": [
    "**Создайте вложенный словарь**, где ключ — `order_id`, а значение — словарь с полями: `'price'`, `'quantity'`, `'discount'`, `'shipping_cost'`."
   ]
  },
  {
   "cell_type": "code",
   "execution_count": null,
   "id": "59d7cdce-bcfe-49f0-bd0e-dc422dd78250",
   "metadata": {},
   "outputs": [],
   "source": []
  }
 ],
 "metadata": {
  "kernelspec": {
   "display_name": "Python 3 (ipykernel)",
   "language": "python",
   "name": "python3"
  },
  "language_info": {
   "codemirror_mode": {
    "name": "ipython",
    "version": 3
   },
   "file_extension": ".py",
   "mimetype": "text/x-python",
   "name": "python",
   "nbconvert_exporter": "python",
   "pygments_lexer": "ipython3",
   "version": "3.13.2"
  }
 },
 "nbformat": 4,
 "nbformat_minor": 5
}
