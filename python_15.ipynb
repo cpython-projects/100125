{
 "cells": [
  {
   "cell_type": "code",
   "execution_count": 1,
   "id": "c2c3aba9-d61d-46d9-9654-0a3a4aa80055",
   "metadata": {},
   "outputs": [
    {
     "name": "stdout",
     "output_type": "stream",
     "text": [
      "7\n",
      "10\n",
      "5\n",
      "2\n",
      "8\n",
      "3\n",
      "2\n",
      "2\n",
      "2\n",
      "3\n"
     ]
    }
   ],
   "source": [
    "import random\n",
    "\n",
    "i = 0\n",
    "while i < 10:\n",
    "    x = random.randint(1, 10)\n",
    "    print(x)\n",
    "    i += 1"
   ]
  },
  {
   "cell_type": "code",
   "execution_count": 2,
   "id": "126c240a-35d7-4829-8186-26d8183c13d5",
   "metadata": {},
   "outputs": [
    {
     "name": "stdout",
     "output_type": "stream",
     "text": [
      "5\n",
      "1\n",
      "5\n",
      "2\n",
      "1\n",
      "1\n",
      "1\n",
      "8\n",
      "7\n",
      "8\n"
     ]
    }
   ],
   "source": [
    "i = 0\n",
    "while i < 10:\n",
    "    x = random.randrange(1, 10)\n",
    "    print(x)\n",
    "    i += 1"
   ]
  },
  {
   "cell_type": "code",
   "execution_count": 3,
   "id": "bc82de66-16f1-4495-b3a4-ed53d608cc59",
   "metadata": {},
   "outputs": [
    {
     "name": "stdout",
     "output_type": "stream",
     "text": [
      "3\n",
      "9\n",
      "1\n",
      "7\n",
      "7\n",
      "7\n",
      "9\n",
      "9\n",
      "7\n",
      "5\n"
     ]
    }
   ],
   "source": [
    "i = 0\n",
    "while i < 10:\n",
    "    x = random.randrange(1, 10, 2)\n",
    "    print(x)\n",
    "    i += 1"
   ]
  },
  {
   "cell_type": "code",
   "execution_count": 4,
   "id": "fc3ef16d-e5c0-4de3-96b8-aba75df7fd23",
   "metadata": {},
   "outputs": [
    {
     "name": "stdout",
     "output_type": "stream",
     "text": [
      "0.07923812238798866\n",
      "0.559354257488367\n",
      "0.8416226378546973\n",
      "0.8514658750479824\n",
      "0.13900661101105727\n",
      "0.1396619298625339\n",
      "0.46038501193421255\n",
      "0.535214446588553\n",
      "0.06515442148983419\n",
      "0.1475758683216718\n"
     ]
    }
   ],
   "source": [
    "i = 0\n",
    "while i < 10:\n",
    "    x = random.random()\n",
    "    print(x)\n",
    "    i += 1"
   ]
  },
  {
   "cell_type": "code",
   "execution_count": 9,
   "id": "0e0703d7-5875-4d55-844d-3f7d38bc56f0",
   "metadata": {},
   "outputs": [
    {
     "name": "stdout",
     "output_type": "stream",
     "text": [
      "['Alice', 'John', 'Bob']\n"
     ]
    }
   ],
   "source": [
    "x = ['Bob', 'Alice', 'John']\n",
    "random.shuffle(x)\n",
    "print(x)"
   ]
  },
  {
   "cell_type": "code",
   "execution_count": 12,
   "id": "ce6a824a-466c-42c6-8ee0-231ff3daeb6f",
   "metadata": {},
   "outputs": [
    {
     "name": "stdin",
     "output_type": "stream",
     "text": [
      "number is  1\n",
      "number is  2\n",
      "number is  3\n",
      "number is  4\n",
      "number is  5\n",
      "number is  6\n",
      "number is  7\n",
      "number is  8\n",
      "number is  9\n"
     ]
    },
    {
     "name": "stdout",
     "output_type": "stream",
     "text": [
      "You are correct\n",
      "9 attempts\n"
     ]
    }
   ],
   "source": [
    "number = random.randint(1, 10)\n",
    "\n",
    "i = 0\n",
    "while True:\n",
    "    ans = int(input('number is '))\n",
    "    i += 1\n",
    "    if ans == number:\n",
    "        print('You are correct')\n",
    "        print(i, 'attempts')\n",
    "        break"
   ]
  },
  {
   "cell_type": "code",
   "execution_count": 16,
   "id": "cdf18bc5-3fb6-44c3-a558-ef5e6c237dda",
   "metadata": {},
   "outputs": [
    {
     "name": "stdin",
     "output_type": "stream",
     "text": [
      "number is  1\n"
     ]
    },
    {
     "name": "stdout",
     "output_type": "stream",
     "text": [
      "Error Attempts: 4\n"
     ]
    },
    {
     "name": "stdin",
     "output_type": "stream",
     "text": [
      "number is  2\n"
     ]
    },
    {
     "name": "stdout",
     "output_type": "stream",
     "text": [
      "Error Attempts: 3\n"
     ]
    },
    {
     "name": "stdin",
     "output_type": "stream",
     "text": [
      "number is  3\n"
     ]
    },
    {
     "name": "stdout",
     "output_type": "stream",
     "text": [
      "Error Attempts: 2\n"
     ]
    },
    {
     "name": "stdin",
     "output_type": "stream",
     "text": [
      "number is  4\n"
     ]
    },
    {
     "name": "stdout",
     "output_type": "stream",
     "text": [
      "You are correct\n",
      "4 attempts\n",
      "Your intuition is 40.0\n"
     ]
    }
   ],
   "source": [
    "number = random.randint(1, 10)\n",
    "allow_attempts = 5\n",
    "i = 0\n",
    "while i < allow_attempts:\n",
    "    ans = int(input('number is '))\n",
    "    i += 1\n",
    "    if ans == number:\n",
    "        print('You are correct')\n",
    "        print(i, 'attempts')\n",
    "        print('Your intuition is', 100 - (i - 1) / allow_attempts * 100)\n",
    "        break\n",
    "    print('Error', 'Attempts:', allow_attempts - i)\n",
    "else:\n",
    "    print('Sorry. Game over')"
   ]
  },
  {
   "cell_type": "code",
   "execution_count": 18,
   "id": "de1ffa63-de7e-4601-a6ff-ec0f1f53bbac",
   "metadata": {},
   "outputs": [
    {
     "name": "stdout",
     "output_type": "stream",
     "text": [
      "99\n",
      "1089\n",
      "1089\n"
     ]
    },
    {
     "ename": "NameError",
     "evalue": "name 'с' is not defined",
     "output_type": "error",
     "traceback": [
      "\u001b[1;31m---------------------------------------------------------------------------\u001b[0m",
      "\u001b[1;31mNameError\u001b[0m                                 Traceback (most recent call last)",
      "Cell \u001b[1;32mIn[18], line 7\u001b[0m\n\u001b[0;32m      3\u001b[0m \u001b[38;5;28mprint\u001b[39m(\u001b[38;5;28mord\u001b[39m(\u001b[38;5;124m'\u001b[39m\u001b[38;5;124mс\u001b[39m\u001b[38;5;124m'\u001b[39m))\n\u001b[0;32m      6\u001b[0m c \u001b[38;5;241m=\u001b[39m \u001b[38;5;241m10\u001b[39m\n\u001b[1;32m----> 7\u001b[0m \u001b[38;5;28mprint\u001b[39m(\u001b[43mс\u001b[49m \u001b[38;5;241m+\u001b[39m \u001b[38;5;241m1\u001b[39m)\n",
      "\u001b[1;31mNameError\u001b[0m: name 'с' is not defined"
     ]
    }
   ],
   "source": [
    "print(ord('c'))\n",
    "print(ord('с'))\n",
    "print(ord('с'))\n",
    "\n",
    "\n",
    "c = 10\n",
    "print(с + 1)"
   ]
  },
  {
   "cell_type": "code",
   "execution_count": 19,
   "id": "a286fd47-9041-4c01-bac1-0a0c9c756f33",
   "metadata": {},
   "outputs": [
    {
     "name": "stdout",
     "output_type": "stream",
     "text": [
      "l\n"
     ]
    }
   ],
   "source": [
    "x = 'Hello'\n",
    "\n",
    "print(x[2])"
   ]
  },
  {
   "cell_type": "code",
   "execution_count": 20,
   "id": "20fda230-cebb-4ed2-bac0-c50f64fb346a",
   "metadata": {},
   "outputs": [
    {
     "ename": "TypeError",
     "evalue": "'str' object does not support item assignment",
     "output_type": "error",
     "traceback": [
      "\u001b[1;31m---------------------------------------------------------------------------\u001b[0m",
      "\u001b[1;31mTypeError\u001b[0m                                 Traceback (most recent call last)",
      "Cell \u001b[1;32mIn[20], line 1\u001b[0m\n\u001b[1;32m----> 1\u001b[0m \u001b[43mx\u001b[49m\u001b[43m[\u001b[49m\u001b[38;5;241;43m2\u001b[39;49m\u001b[43m]\u001b[49m \u001b[38;5;241m=\u001b[39m \u001b[38;5;124m'\u001b[39m\u001b[38;5;124mL\u001b[39m\u001b[38;5;124m'\u001b[39m\n",
      "\u001b[1;31mTypeError\u001b[0m: 'str' object does not support item assignment"
     ]
    }
   ],
   "source": [
    "x[2] = 'L'"
   ]
  },
  {
   "cell_type": "code",
   "execution_count": 21,
   "id": "38d64f6f-e3a9-430f-925f-9d4955901101",
   "metadata": {},
   "outputs": [
    {
     "name": "stdout",
     "output_type": "stream",
     "text": [
      "Hlwl\n"
     ]
    }
   ],
   "source": [
    "x = 'Hello world'\n",
    "\n",
    "print(x[::3])"
   ]
  },
  {
   "cell_type": "code",
   "execution_count": 23,
   "id": "cdfd1b9b-54ea-4b77-9487-1d04a2290a79",
   "metadata": {},
   "outputs": [
    {
     "name": "stdout",
     "output_type": "stream",
     "text": [
      "ello worl\n"
     ]
    }
   ],
   "source": [
    "print(x[1:-1])"
   ]
  },
  {
   "cell_type": "code",
   "execution_count": 24,
   "id": "ff687321-9782-48f9-af99-0d11cef0460d",
   "metadata": {},
   "outputs": [
    {
     "name": "stdout",
     "output_type": "stream",
     "text": [
      "Hello\n"
     ]
    }
   ],
   "source": [
    "print(x[:len(x)//2])"
   ]
  },
  {
   "cell_type": "code",
   "execution_count": 25,
   "id": "7bb78b02-1384-422d-b744-d3a99d06baff",
   "metadata": {},
   "outputs": [
    {
     "name": "stdout",
     "output_type": "stream",
     "text": [
      " world\n"
     ]
    }
   ],
   "source": [
    "print(x[len(x)//2:])"
   ]
  },
  {
   "cell_type": "code",
   "execution_count": 3,
   "id": "556fbdde-b244-40c9-bbe9-a49b34628e83",
   "metadata": {},
   "outputs": [
    {
     "name": "stdin",
     "output_type": "stream",
     "text": [
      "ticket>> 12345\n"
     ]
    },
    {
     "name": "stdout",
     "output_type": "stream",
     "text": [
      "12\n",
      "45\n"
     ]
    }
   ],
   "source": [
    "import math\n",
    "ticket = input('ticket>>')\n",
    "left_part = ticket[:len(ticket) // 2]\n",
    "right_part = ticket[math.ceil(len(ticket) / 2):]\n",
    "\n",
    "print(left_part)\n",
    "print(right_part)"
   ]
  },
  {
   "cell_type": "code",
   "execution_count": 8,
   "id": "b611fcaf-c6b1-45bd-aa7d-8c0ab63b3e01",
   "metadata": {},
   "outputs": [
    {
     "name": "stdout",
     "output_type": "stream",
     "text": [
      "olleH\n"
     ]
    }
   ],
   "source": [
    "x = 'Hello'\n",
    "y = x[::-1]\n",
    "print(y)"
   ]
  },
  {
   "cell_type": "code",
   "execution_count": 9,
   "id": "6cdcb425-d806-43a5-bce5-88932cccee18",
   "metadata": {},
   "outputs": [
    {
     "name": "stdin",
     "output_type": "stream",
     "text": [
      "text>> 12321\n"
     ]
    },
    {
     "name": "stdout",
     "output_type": "stream",
     "text": [
      "True\n"
     ]
    }
   ],
   "source": [
    "x = input('text>>')\n",
    "print(x == x[::-1])"
   ]
  },
  {
   "cell_type": "code",
   "execution_count": 14,
   "id": "2a23d0af-e344-4202-a00a-3acb3e137225",
   "metadata": {},
   "outputs": [
    {
     "name": "stdin",
     "output_type": "stream",
     "text": [
      "number>> 1234\n"
     ]
    },
    {
     "name": "stdout",
     "output_type": "stream",
     "text": [
      "10\n"
     ]
    }
   ],
   "source": [
    "s = 0\n",
    "number = input('number>>')\n",
    "i = 0\n",
    "while i < len(number):\n",
    "    s += int(number[i])\n",
    "    i += 1\n",
    "\n",
    "print(s)"
   ]
  },
  {
   "cell_type": "code",
   "execution_count": 16,
   "id": "fb3e7fe2-e180-4abe-96a9-cc5502e60753",
   "metadata": {},
   "outputs": [
    {
     "name": "stdout",
     "output_type": "stream",
     "text": [
      "48\n"
     ]
    }
   ],
   "source": [
    "print(ord('0'))"
   ]
  },
  {
   "cell_type": "code",
   "execution_count": 17,
   "id": "6112b68d-098c-4561-8cdd-f4035a2c6b06",
   "metadata": {},
   "outputs": [
    {
     "name": "stdout",
     "output_type": "stream",
     "text": [
      "57\n"
     ]
    }
   ],
   "source": [
    "print(ord('9'))"
   ]
  },
  {
   "cell_type": "code",
   "execution_count": 21,
   "id": "d0ef2ec4-54ca-458d-872c-9341cf28a305",
   "metadata": {},
   "outputs": [
    {
     "name": "stdout",
     "output_type": "stream",
     "text": [
      "jkmjlkkhljk"
     ]
    }
   ],
   "source": [
    "text = 'kjlhk132kljmkj'\n",
    "text = text[::-1]\n",
    "\n",
    "i = -1\n",
    "while i < len(text) - 1:\n",
    "    i += 1\n",
    "    char = text[i]\n",
    "    if 48 <= ord(char) <= 57:\n",
    "        continue\n",
    "    print(text[i], end='')"
   ]
  },
  {
   "cell_type": "code",
   "execution_count": null,
   "id": "e3f79faf-f4f3-46b4-8d0d-07a82ea29879",
   "metadata": {},
   "outputs": [],
   "source": [
    "text = 'P1y2t3h4o5n'\n",
    "\n",
    "i = 0\n",
    "while i > -len(text):\n",
    "    i -= 1\n",
    "    char = text[i]\n",
    "    if 48 <= ord(char) <= 57:\n",
    "        continue\n",
    "    print(text[i], end='')"
   ]
  }
 ],
 "metadata": {
  "kernelspec": {
   "display_name": "Python 3 (ipykernel)",
   "language": "python",
   "name": "python3"
  },
  "language_info": {
   "codemirror_mode": {
    "name": "ipython",
    "version": 3
   },
   "file_extension": ".py",
   "mimetype": "text/x-python",
   "name": "python",
   "nbconvert_exporter": "python",
   "pygments_lexer": "ipython3",
   "version": "3.12.4"
  }
 },
 "nbformat": 4,
 "nbformat_minor": 5
}
