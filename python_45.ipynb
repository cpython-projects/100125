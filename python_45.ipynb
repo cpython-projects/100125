{
 "cells": [
  {
   "cell_type": "code",
   "execution_count": null,
   "id": "10417bdd-2d89-4a4a-8470-aeb82cd93bcb",
   "metadata": {},
   "outputs": [],
   "source": [
    "from typing import Callable\n",
    "\n",
    "def add(a: int | float, b: int | float) -> int | float:\n",
    "    \"\"\"\n",
    "    Returns sum of two numbers.\n",
    "\n",
    "    :param a: number\n",
    "    :param b: number\n",
    "    \"\"\"\n",
    "    return a + b\n",
    "\n",
    "\n",
    "def filter(func: Callable, sequence: list[int]):\n",
    "    res = []\n",
    "    for item in sequence:\n",
    "        if func(item):\n",
    "            res.append(item)\n",
    "\n",
    "    return res"
   ]
  },
  {
   "cell_type": "code",
   "execution_count": 5,
   "id": "cf61cdb0-b39a-47ff-b9f3-37ccda97ac4a",
   "metadata": {},
   "outputs": [],
   "source": [
    "def print_numbers(n):\n",
    "    if n == 0:\n",
    "        return\n",
    "    print(n)\n",
    "    print_numbers(n - 1)\n",
    "    print(n)"
   ]
  },
  {
   "cell_type": "code",
   "execution_count": 6,
   "id": "92403c85-af85-4182-a844-03c0ed1b9f70",
   "metadata": {},
   "outputs": [
    {
     "name": "stdout",
     "output_type": "stream",
     "text": [
      "10\n",
      "9\n",
      "8\n",
      "7\n",
      "6\n",
      "5\n",
      "4\n",
      "3\n",
      "2\n",
      "1\n",
      "1\n",
      "2\n",
      "3\n",
      "4\n",
      "5\n",
      "6\n",
      "7\n",
      "8\n",
      "9\n",
      "10\n"
     ]
    }
   ],
   "source": [
    "print_numbers(10)"
   ]
  },
  {
   "cell_type": "code",
   "execution_count": null,
   "id": "1e08f4f2-f9be-4e83-8b2b-55ed49473c58",
   "metadata": {},
   "outputs": [],
   "source": []
  }
 ],
 "metadata": {
  "kernelspec": {
   "display_name": "Python 3 (ipykernel)",
   "language": "python",
   "name": "python3"
  },
  "language_info": {
   "codemirror_mode": {
    "name": "ipython",
    "version": 3
   },
   "file_extension": ".py",
   "mimetype": "text/x-python",
   "name": "python",
   "nbconvert_exporter": "python",
   "pygments_lexer": "ipython3",
   "version": "3.13.2"
  }
 },
 "nbformat": 4,
 "nbformat_minor": 5
}
