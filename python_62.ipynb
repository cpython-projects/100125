{
 "cells": [
  {
   "cell_type": "code",
   "execution_count": 1,
   "id": "af4f93dc-d511-48ef-afa5-5eb6b7222420",
   "metadata": {},
   "outputs": [],
   "source": [
    "class Student:\n",
    "    pass"
   ]
  },
  {
   "cell_type": "code",
   "execution_count": 2,
   "id": "221e0a27-d93f-4124-9802-5c5e1d88ad43",
   "metadata": {},
   "outputs": [
    {
     "data": {
      "text/plain": [
       "type"
      ]
     },
     "execution_count": 2,
     "metadata": {},
     "output_type": "execute_result"
    }
   ],
   "source": [
    "type(int)"
   ]
  },
  {
   "cell_type": "code",
   "execution_count": 3,
   "id": "e781e13a-ff82-4fc2-bf36-a030b28f3ea0",
   "metadata": {},
   "outputs": [
    {
     "data": {
      "text/plain": [
       "type"
      ]
     },
     "execution_count": 3,
     "metadata": {},
     "output_type": "execute_result"
    }
   ],
   "source": [
    "type(Student)"
   ]
  },
  {
   "cell_type": "code",
   "execution_count": 4,
   "id": "588684a5-ac80-4795-89a6-b726bd8b2a97",
   "metadata": {},
   "outputs": [
    {
     "name": "stdout",
     "output_type": "stream",
     "text": [
      "<class 'int'>\n",
      "<class '__main__.Student'>\n"
     ]
    }
   ],
   "source": [
    "x = int(5)\n",
    "y = Student()\n",
    "\n",
    "print(type(x))\n",
    "print(type(y))"
   ]
  },
  {
   "cell_type": "code",
   "execution_count": 5,
   "id": "fc39a327-5ca7-4ebc-968d-168c1128a819",
   "metadata": {},
   "outputs": [],
   "source": [
    "class Student:\n",
    "\n",
    "    def __init__(self, first_name, last_name, date_of_birth):\n",
    "        self.first_name = first_name\n",
    "        self.last_name = last_name\n",
    "        self.date_of_birth = date_of_birth"
   ]
  },
  {
   "cell_type": "code",
   "execution_count": 9,
   "id": "d935d3f6-0bcd-4100-81ae-100090c0acc9",
   "metadata": {},
   "outputs": [],
   "source": [
    "x = Student('Alice', 'Smith', '01.01.2000')\n",
    "y = Student('Bob', 'XYZ', '02.02.1990')"
   ]
  },
  {
   "cell_type": "code",
   "execution_count": 10,
   "id": "b0af8036-ff9b-409e-b10b-723888127c57",
   "metadata": {},
   "outputs": [
    {
     "data": {
      "text/plain": [
       "'Alice'"
      ]
     },
     "execution_count": 10,
     "metadata": {},
     "output_type": "execute_result"
    }
   ],
   "source": [
    "x.first_name"
   ]
  },
  {
   "cell_type": "code",
   "execution_count": 11,
   "id": "2964984c-dc64-4b7d-9eea-df1361e4fb71",
   "metadata": {},
   "outputs": [
    {
     "data": {
      "text/plain": [
       "'Smith'"
      ]
     },
     "execution_count": 11,
     "metadata": {},
     "output_type": "execute_result"
    }
   ],
   "source": [
    "x.last_name"
   ]
  },
  {
   "cell_type": "code",
   "execution_count": 12,
   "id": "e6f5548e-6e15-41a6-bd47-b49844c50d7c",
   "metadata": {},
   "outputs": [
    {
     "data": {
      "text/plain": [
       "'Bob'"
      ]
     },
     "execution_count": 12,
     "metadata": {},
     "output_type": "execute_result"
    }
   ],
   "source": [
    "y.first_name"
   ]
  },
  {
   "cell_type": "code",
   "execution_count": 13,
   "id": "9d00cc8f-1b44-4c9e-aa2e-e111f5b81b64",
   "metadata": {},
   "outputs": [],
   "source": [
    "class Student:\n",
    "\n",
    "    def __init__(self, name, date_of_birth):\n",
    "        self.first_name, self.last_name = name.split()\n",
    "        self.date_of_birth = date_of_birth"
   ]
  },
  {
   "cell_type": "code",
   "execution_count": 14,
   "id": "3e0f5495-8ae9-4108-a01c-037fc8b582ea",
   "metadata": {},
   "outputs": [],
   "source": [
    "x = Student('Oleh Tymchuk', '01.01.2000')\n"
   ]
  },
  {
   "cell_type": "code",
   "execution_count": null,
   "id": "3da4a067-5e3c-4bbb-b8a7-18384966f2e9",
   "metadata": {},
   "outputs": [],
   "source": [
    "class Student:\n",
    "\n",
    "    def __init__(self, name):\n",
    "        self.first_name, self.last_name = name.split()\n",
    "\n",
    "    def name_upper(self):\n",
    "        return f'{self.first_name} {self.last_name}'.upper()\n",
    "\n",
    "\n",
    "st1 = Student('John Smith')\n",
    "st2 = Student('Alice XYZ')\n",
    "\n",
    "print(Student.__dict__)\n",
    "print(st1.__dict__)\n",
    "print(st2.__dict__)\n",
    "\n",
    "\n",
    "print(st1.name_upper())\n"
   ]
  },
  {
   "cell_type": "code",
   "execution_count": 20,
   "id": "31bbbbab-b827-4ad7-8654-308614bf64c1",
   "metadata": {},
   "outputs": [],
   "source": [
    "class Student:\n",
    "    def __init__(self, name, hair_color='black', skin_color='white'):\n",
    "        self.name = name\n",
    "        self.h_color = hair_color\n",
    "        self.s_color = skin_color\n",
    "        self.height = 200"
   ]
  },
  {
   "cell_type": "code",
   "execution_count": 21,
   "id": "0d1e7de1-268d-45ee-8475-f89d0c2c888a",
   "metadata": {},
   "outputs": [],
   "source": [
    "st1 = Student('Oleh Tymchuk')"
   ]
  },
  {
   "cell_type": "code",
   "execution_count": 22,
   "id": "71727554-76e1-41ad-98f5-75bec2989c45",
   "metadata": {},
   "outputs": [
    {
     "data": {
      "text/plain": [
       "200"
      ]
     },
     "execution_count": 22,
     "metadata": {},
     "output_type": "execute_result"
    }
   ],
   "source": [
    "st1.height"
   ]
  },
  {
   "cell_type": "code",
   "execution_count": 23,
   "id": "9fe793b2-3dae-4c46-8cfd-ef5369a4fcb9",
   "metadata": {},
   "outputs": [
    {
     "name": "stdout",
     "output_type": "stream",
     "text": [
      "master\n"
     ]
    }
   ],
   "source": [
    "st1.degree = 'master'\n",
    "print(st1.degree)"
   ]
  },
  {
   "cell_type": "code",
   "execution_count": 24,
   "id": "ce19afb7-c179-4436-a555-e9f758680903",
   "metadata": {},
   "outputs": [],
   "source": [
    "st2 = Student('Alice')"
   ]
  },
  {
   "cell_type": "code",
   "execution_count": 25,
   "id": "9fe73f38-031e-46c2-88fc-7ca179c8cde3",
   "metadata": {},
   "outputs": [
    {
     "data": {
      "text/plain": [
       "{'name': 'Oleh Tymchuk',\n",
       " 'h_color': 'black',\n",
       " 's_color': 'white',\n",
       " 'height': 200,\n",
       " 'degree': 'master'}"
      ]
     },
     "execution_count": 25,
     "metadata": {},
     "output_type": "execute_result"
    }
   ],
   "source": [
    "st1.__dict__"
   ]
  },
  {
   "cell_type": "code",
   "execution_count": 26,
   "id": "1c70ea79-b943-4f22-8b8f-4cac42f09cf7",
   "metadata": {},
   "outputs": [
    {
     "data": {
      "text/plain": [
       "{'name': 'Alice', 'h_color': 'black', 's_color': 'white', 'height': 200}"
      ]
     },
     "execution_count": 26,
     "metadata": {},
     "output_type": "execute_result"
    }
   ],
   "source": [
    "st2.__dict__"
   ]
  },
  {
   "cell_type": "code",
   "execution_count": 28,
   "id": "43d9eadb-871b-4712-9f0e-7ec6a564549d",
   "metadata": {},
   "outputs": [],
   "source": [
    "class Group:\n",
    "    def __init__(self):\n",
    "        self.students = []\n",
    "\n",
    "    def trulala(self):\n",
    "        self.a = 5\n",
    "        self.b = 10\n",
    "\n",
    "python = Group()"
   ]
  },
  {
   "cell_type": "code",
   "execution_count": 29,
   "id": "586790db-d560-4343-a17a-6aa07df64767",
   "metadata": {},
   "outputs": [],
   "source": [
    "python.trulala()"
   ]
  },
  {
   "cell_type": "code",
   "execution_count": null,
   "id": "c1cbb0b2-f621-4466-9e51-3f6a4fa7e9a6",
   "metadata": {},
   "outputs": [],
   "source": [
    "python."
   ]
  }
 ],
 "metadata": {
  "kernelspec": {
   "display_name": "Python 3 (ipykernel)",
   "language": "python",
   "name": "python3"
  },
  "language_info": {
   "codemirror_mode": {
    "name": "ipython",
    "version": 3
   },
   "file_extension": ".py",
   "mimetype": "text/x-python",
   "name": "python",
   "nbconvert_exporter": "python",
   "pygments_lexer": "ipython3",
   "version": "3.13.3"
  }
 },
 "nbformat": 4,
 "nbformat_minor": 5
}
