{
 "cells": [
  {
   "cell_type": "code",
   "execution_count": 3,
   "id": "a1c3f848-37a8-45d7-ab32-7cedb4478b3f",
   "metadata": {},
   "outputs": [
    {
     "name": "stdout",
     "output_type": "stream",
     "text": [
      "1\n",
      "2\n",
      "3\n",
      "4\n",
      "5\n"
     ]
    }
   ],
   "source": [
    "i = 1\n",
    "while i <= 5:\n",
    "    print(i)\n",
    "    i += 1\n",
    "\n",
    "\n",
    "print(i)"
   ]
  },
  {
   "cell_type": "code",
   "execution_count": 6,
   "id": "5ddd275f-714a-40ef-a836-aad6a0b1b7ee",
   "metadata": {},
   "outputs": [
    {
     "name": "stdin",
     "output_type": "stream",
     "text": [
      "n>> 5\n"
     ]
    },
    {
     "name": "stdout",
     "output_type": "stream",
     "text": [
      "120\n"
     ]
    }
   ],
   "source": [
    "n = int(input('n>>'))\n",
    "\n",
    "if n < 0:\n",
    "    print('Error')\n",
    "else:\n",
    "    res = 1\n",
    "    while n > 0:\n",
    "        res *= n\n",
    "        n -= 1\n",
    "\n",
    "    print(res)"
   ]
  },
  {
   "cell_type": "code",
   "execution_count": 10,
   "id": "b9e71c47-c32f-430f-8949-571a4f5353cb",
   "metadata": {},
   "outputs": [
    {
     "name": "stdin",
     "output_type": "stream",
     "text": [
      "number>> 1\n",
      "number>> 2\n",
      "number>> 3\n",
      "number>> 4\n",
      "number>> 5\n"
     ]
    },
    {
     "name": "stdout",
     "output_type": "stream",
     "text": [
      "15\n"
     ]
    }
   ],
   "source": [
    "i = 0\n",
    "summa = 0\n",
    "while i < 5:\n",
    "    x = int(input('number>>'))\n",
    "    i += 1\n",
    "    summa += x\n",
    "\n",
    "print(summa)"
   ]
  },
  {
   "cell_type": "code",
   "execution_count": 14,
   "id": "29d635df-dec6-4a8b-825d-885a6d0c3f48",
   "metadata": {},
   "outputs": [
    {
     "name": "stdin",
     "output_type": "stream",
     "text": [
      "number>> 1\n",
      "number>> 2\n",
      "number>> 3\n",
      "number>> 0\n"
     ]
    },
    {
     "name": "stdout",
     "output_type": "stream",
     "text": [
      "6\n"
     ]
    }
   ],
   "source": [
    "res = 1\n",
    "i = 0\n",
    "while i < 5:\n",
    "    ans = int(input('number>>'))\n",
    "    if ans == 0:\n",
    "        break\n",
    "    res *= ans\n",
    "    i += 1\n",
    "print(res)"
   ]
  },
  {
   "cell_type": "code",
   "execution_count": 15,
   "id": "330d2390-729f-4726-bd1a-dff627ac78d9",
   "metadata": {},
   "outputs": [
    {
     "name": "stdin",
     "output_type": "stream",
     "text": [
      "number or exit 1\n",
      "number or exit 2\n",
      "number or exit 3\n",
      "number or exit 4\n",
      "number or exit exit\n"
     ]
    },
    {
     "name": "stdout",
     "output_type": "stream",
     "text": [
      "10\n"
     ]
    }
   ],
   "source": [
    "summa = 0\n",
    "while True:\n",
    "    ans = input('number or exit')\n",
    "    if ans == 'exit':\n",
    "        break\n",
    "\n",
    "    summa += int(ans)\n",
    "\n",
    "print(summa)"
   ]
  },
  {
   "cell_type": "code",
   "execution_count": 16,
   "id": "80c04431-d4ed-4802-a9c5-a4c030e290a2",
   "metadata": {},
   "outputs": [
    {
     "name": "stdin",
     "output_type": "stream",
     "text": [
      "number>> 1\n",
      "number>> 0\n",
      "number>> 0\n",
      "number>> 0\n",
      "number>> 0\n",
      "number>> 3\n",
      "number>> 4\n",
      "number>> 5\n",
      "number>> 0\n",
      "number>> 0\n",
      "number>> 0\n",
      "number>> 6\n"
     ]
    },
    {
     "name": "stdout",
     "output_type": "stream",
     "text": [
      "360\n"
     ]
    }
   ],
   "source": [
    "res = 1\n",
    "i = 0\n",
    "while i < 5:\n",
    "    ans = int(input('number>>'))\n",
    "    if ans == 0:\n",
    "        continue\n",
    "    res *= ans\n",
    "    i += 1\n",
    "print(res)"
   ]
  },
  {
   "cell_type": "code",
   "execution_count": 17,
   "id": "4856eda3-6f4e-405b-8396-fb8a3dd92cff",
   "metadata": {},
   "outputs": [
    {
     "name": "stdin",
     "output_type": "stream",
     "text": [
      "start>> 1\n",
      "stop>> 10\n"
     ]
    },
    {
     "name": "stdout",
     "output_type": "stream",
     "text": [
      "30\n"
     ]
    }
   ],
   "source": [
    "start, stop = int(input('start>>')), int(input('stop>>'))\n",
    "summa = 0\n",
    "start += start % 2\n",
    "\n",
    "while start <= stop:\n",
    "    summa += start\n",
    "    start += 2\n",
    "\n",
    "\n",
    "print(summa)"
   ]
  },
  {
   "cell_type": "code",
   "execution_count": 23,
   "id": "7dffc050-ca8c-4d43-8543-edc929c4d6cf",
   "metadata": {},
   "outputs": [
    {
     "name": "stdin",
     "output_type": "stream",
     "text": [
      "number>> 1\n",
      "number>> 2\n",
      "number>> 3\n",
      "number>> 4\n",
      "number>> 5\n"
     ]
    },
    {
     "name": "stdout",
     "output_type": "stream",
     "text": [
      "Пользователь ввел 5 чисел\n"
     ]
    }
   ],
   "source": [
    "i = 1\n",
    "summa = 0\n",
    "\n",
    "while i <= 5:\n",
    "    ans = int(input('number>>'))\n",
    "    if ans > 100:\n",
    "        print('Пользователь ввел меньше 5 чисел')\n",
    "        break\n",
    "    i += 1\n",
    "else:\n",
    "    print('Пользователь ввел 5 чисел')"
   ]
  },
  {
   "cell_type": "code",
   "execution_count": null,
   "id": "2cea6b03-b526-4685-9e9e-0d75d13fd495",
   "metadata": {},
   "outputs": [],
   "source": []
  }
 ],
 "metadata": {
  "kernelspec": {
   "display_name": "Python 3 (ipykernel)",
   "language": "python",
   "name": "python3"
  },
  "language_info": {
   "codemirror_mode": {
    "name": "ipython",
    "version": 3
   },
   "file_extension": ".py",
   "mimetype": "text/x-python",
   "name": "python",
   "nbconvert_exporter": "python",
   "pygments_lexer": "ipython3",
   "version": "3.12.4"
  }
 },
 "nbformat": 4,
 "nbformat_minor": 5
}
