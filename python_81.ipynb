{
 "cells": [
  {
   "cell_type": "code",
   "execution_count": 1,
   "id": "950098d2-eefb-448c-8bbf-f53f3ae09b5c",
   "metadata": {},
   "outputs": [
    {
     "name": "stdout",
     "output_type": "stream",
     "text": [
      "Collecting prettytable\n",
      "  Using cached prettytable-3.16.0-py3-none-any.whl.metadata (33 kB)\n",
      "Requirement already satisfied: wcwidth in c:\\users\\olehs\\appdata\\local\\programs\\python\\python313\\lib\\site-packages (from prettytable) (0.2.13)\n",
      "Using cached prettytable-3.16.0-py3-none-any.whl (33 kB)\n",
      "Installing collected packages: prettytable\n",
      "Successfully installed prettytable-3.16.0\n"
     ]
    },
    {
     "name": "stderr",
     "output_type": "stream",
     "text": [
      "\n",
      "[notice] A new release of pip is available: 25.0.1 -> 25.1.1\n",
      "[notice] To update, run: python.exe -m pip install --upgrade pip\n"
     ]
    }
   ],
   "source": [
    "!pip install prettytable"
   ]
  },
  {
   "cell_type": "code",
   "execution_count": 2,
   "id": "55f41145-4216-4d3e-8548-58d67dc1181b",
   "metadata": {},
   "outputs": [],
   "source": [
    "from prettytable import PrettyTable\n",
    "table = PrettyTable()"
   ]
  },
  {
   "cell_type": "code",
   "execution_count": 3,
   "id": "4c3abaa6-3689-4496-923d-a078d9a0212f",
   "metadata": {},
   "outputs": [],
   "source": [
    "table.field_names = [\"City name\", \"Area\", \"Population\", \"Annual Rainfall\"]\n",
    "data = [\n",
    "    [\"Adelaide\", 1295, 1158259, 600.5],\n",
    "    [\"Brisbane\", 5905, 1857594, 1146.4],\n",
    "    [\"Darwin\", 112, 120900, 1714.7],\n",
    "    [\"Hobart\", 1357, 205556, 619.5],\n",
    "    [\"Sydney\", 2058, 4336374, 1214.8],\n",
    "    [\"Melbourne\", 1566, 3806092, 646.9],\n",
    "    [\"Perth\", 5386, 1554769, 869.4],\n",
    "]\n",
    "\n",
    "\n",
    "table.add_rows(data)"
   ]
  },
  {
   "cell_type": "code",
   "execution_count": 4,
   "id": "835d912c-9fbf-4da7-ac78-1c71cfa09f3b",
   "metadata": {},
   "outputs": [
    {
     "name": "stdout",
     "output_type": "stream",
     "text": [
      "+-----------+------+------------+-----------------+\n",
      "| City name | Area | Population | Annual Rainfall |\n",
      "+-----------+------+------------+-----------------+\n",
      "|  Adelaide | 1295 |  1158259   |      600.5      |\n",
      "|  Brisbane | 5905 |  1857594   |      1146.4     |\n",
      "|   Darwin  | 112  |   120900   |      1714.7     |\n",
      "|   Hobart  | 1357 |   205556   |      619.5      |\n",
      "|   Sydney  | 2058 |  4336374   |      1214.8     |\n",
      "| Melbourne | 1566 |  3806092   |      646.9      |\n",
      "|   Perth   | 5386 |  1554769   |      869.4      |\n",
      "+-----------+------+------------+-----------------+\n"
     ]
    }
   ],
   "source": [
    "print(table)"
   ]
  },
  {
   "cell_type": "code",
   "execution_count": null,
   "id": "ae875020-bc0a-4a9b-8ad0-dc21343bfa3e",
   "metadata": {},
   "outputs": [],
   "source": []
  }
 ],
 "metadata": {
  "kernelspec": {
   "display_name": "Python 3 (ipykernel)",
   "language": "python",
   "name": "python3"
  },
  "language_info": {
   "codemirror_mode": {
    "name": "ipython",
    "version": 3
   },
   "file_extension": ".py",
   "mimetype": "text/x-python",
   "name": "python",
   "nbconvert_exporter": "python",
   "pygments_lexer": "ipython3",
   "version": "3.13.3"
  }
 },
 "nbformat": 4,
 "nbformat_minor": 5
}
