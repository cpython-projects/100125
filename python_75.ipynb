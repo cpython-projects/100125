{
 "cells": [
  {
   "cell_type": "code",
   "execution_count": 6,
   "id": "b56bf003-be78-4f49-908a-56c64c8c75d0",
   "metadata": {},
   "outputs": [
    {
     "name": "stdout",
     "output_type": "stream",
     "text": [
      "Requirement already satisfied: pymongo in c:\\users\\olehs\\appdata\\local\\programs\\python\\python313\\lib\\site-packages (4.13.2)\n",
      "Requirement already satisfied: dnspython<3.0.0,>=1.16.0 in c:\\users\\olehs\\appdata\\local\\programs\\python\\python313\\lib\\site-packages (from pymongo) (2.7.0)\n"
     ]
    },
    {
     "name": "stderr",
     "output_type": "stream",
     "text": [
      "\n",
      "[notice] A new release of pip is available: 25.0.1 -> 25.1.1\n",
      "[notice] To update, run: python.exe -m pip install --upgrade pip\n"
     ]
    }
   ],
   "source": [
    "!pip install pymongo"
   ]
  },
  {
   "cell_type": "code",
   "execution_count": 8,
   "id": "e412f148-f678-4acd-bbe6-d92aaf4b2c9e",
   "metadata": {},
   "outputs": [],
   "source": [
    "from pymongo import MongoClient"
   ]
  },
  {
   "cell_type": "code",
   "execution_count": 9,
   "id": "1778a648-fed7-4afc-a547-74a043e89db4",
   "metadata": {},
   "outputs": [],
   "source": [
    "client = MongoClient(\n",
    "    \"mongodb://ich_editor:verystrongpassword\"\n",
    "    \"@mongo.itcareerhub.de/?readPreference=primary\"\n",
    "    \"&ssl=false&authMechanism=DEFAULT&authSource=ich_edit\"\n",
    ")"
   ]
  },
  {
   "cell_type": "code",
   "execution_count": null,
   "id": "fab7da00-0a0b-4673-b16d-6153dffa279a",
   "metadata": {},
   "outputs": [],
   "source": [
    "with MongoClient(\n",
    "    \"mongodb://ich_editor:verystrongpassword\"\n",
    "    \"@mongo.itcareerhub.de/?readPreference=primary\"\n",
    "    \"&ssl=false&authMechanism=DEFAULT&authSource=ich_edit\"\n",
    ") as client:\n",
    "    pass"
   ]
  },
  {
   "cell_type": "code",
   "execution_count": 10,
   "id": "63f5fcf0-5e00-4765-bf54-8aead26e56cb",
   "metadata": {},
   "outputs": [
    {
     "name": "stdout",
     "output_type": "stream",
     "text": [
      "Connection successful!\n"
     ]
    }
   ],
   "source": [
    "client.admin.command(\"ping\")\n",
    "print(\"Connection successful!\")"
   ]
  },
  {
   "cell_type": "code",
   "execution_count": 11,
   "id": "61da0e9a-6908-43a2-8f5e-b538f6bb7005",
   "metadata": {},
   "outputs": [],
   "source": [
    "db = client[\"ich_edit\"]"
   ]
  },
  {
   "cell_type": "code",
   "execution_count": 12,
   "id": "fdb9fdc1-735c-440d-8a1f-d875480a6510",
   "metadata": {},
   "outputs": [],
   "source": [
    "products = db[\"products\"]"
   ]
  },
  {
   "cell_type": "code",
   "execution_count": 15,
   "id": "43f62060-6866-4f47-a61f-c019c490f80c",
   "metadata": {},
   "outputs": [
    {
     "name": "stdout",
     "output_type": "stream",
     "text": [
      "Inserted ID: 685133c60e179c680abf83dc\n"
     ]
    }
   ],
   "source": [
    "product = {\n",
    "    \"name\": \"Notebook\",\n",
    "    \"price\": 5.99,\n",
    "    \"stock\": 120\n",
    "}\n",
    "result = products.insert_one(product)\n",
    "print(\"Inserted ID:\", result.inserted_id)"
   ]
  },
  {
   "cell_type": "code",
   "execution_count": 16,
   "id": "5387b794-7a08-4b96-aaa1-6e432fa41ba2",
   "metadata": {},
   "outputs": [
    {
     "data": {
      "text/plain": [
       "InsertOneResult(ObjectId('685133c60e179c680abf83dc'), acknowledged=True)"
      ]
     },
     "execution_count": 16,
     "metadata": {},
     "output_type": "execute_result"
    }
   ],
   "source": [
    "result"
   ]
  },
  {
   "cell_type": "code",
   "execution_count": 17,
   "id": "936c5ef6-a747-4f8c-b209-6053ebad609d",
   "metadata": {},
   "outputs": [
    {
     "name": "stdout",
     "output_type": "stream",
     "text": [
      "Help on ZMQExitAutocall in module IPython.core.autocall object:\n",
      "\n",
      "class ZMQExitAutocall(ExitAutocall)\n",
      " |  ZMQExitAutocall(ip=None)\n",
      " |\n",
      " |  Exit IPython. Autocallable, so it needn't be explicitly called.\n",
      " |\n",
      " |  Parameters\n",
      " |  ----------\n",
      " |  keep_kernel : bool\n",
      " |    If True, leave the kernel alive. Otherwise, tell the kernel to exit too\n",
      " |    (default).\n",
      " |\n",
      " |  Method resolution order:\n",
      " |      ZMQExitAutocall\n",
      " |      ExitAutocall\n",
      " |      IPyAutocall\n",
      " |      builtins.object\n",
      " |\n",
      " |  Methods defined here:\n",
      " |\n",
      " |  __call__(self, keep_kernel=False)\n",
      " |      Call self as a function.\n",
      " |\n",
      " |  ----------------------------------------------------------------------\n",
      " |  Data and other attributes inherited from ExitAutocall:\n",
      " |\n",
      " |  rewrite = False\n",
      " |\n",
      " |  ----------------------------------------------------------------------\n",
      " |  Methods inherited from IPyAutocall:\n",
      " |\n",
      " |  __init__(self, ip=None)\n",
      " |      Initialize self.  See help(type(self)) for accurate signature.\n",
      " |\n",
      " |  set_ip(self, ip)\n",
      " |      Will be used to set _ip point to current ipython instance b/f call\n",
      " |\n",
      " |      Override this method if you don't want this to happen.\n",
      " |\n",
      " |  ----------------------------------------------------------------------\n",
      " |  Data descriptors inherited from IPyAutocall:\n",
      " |\n",
      " |  __dict__\n",
      " |      dictionary for instance variables\n",
      " |\n",
      " |  __weakref__\n",
      " |      list of weak references to the object\n",
      "\n"
     ]
    }
   ],
   "source": [
    "help(exit)"
   ]
  },
  {
   "cell_type": "code",
   "execution_count": 18,
   "id": "8cc3a89b-70b9-4762-a21b-5cf52ef2df48",
   "metadata": {},
   "outputs": [],
   "source": [
    "items = [\n",
    "    {\"name\": \"Pen\", \"price\": 1.50, \"stock\": 300},\n",
    "    {\"name\": \"Pencil\", \"price\": 0.99, \"stock\": 500},\n",
    "    {\"name\": \"Eraser\", \"price\": 0.75, \"stock\": 200},\n",
    "]"
   ]
  },
  {
   "cell_type": "code",
   "execution_count": 19,
   "id": "2cfce084-f2bc-452e-b2d0-62b82f71e913",
   "metadata": {},
   "outputs": [
    {
     "name": "stdout",
     "output_type": "stream",
     "text": [
      "Inserted IDs: [ObjectId('6851354f0e179c680abf83dd'), ObjectId('6851354f0e179c680abf83de'), ObjectId('6851354f0e179c680abf83df')]\n"
     ]
    }
   ],
   "source": [
    "result = products.insert_many(items)\n",
    "print(\"Inserted IDs:\", result.inserted_ids)"
   ]
  },
  {
   "cell_type": "code",
   "execution_count": 21,
   "id": "52ee952b-81d4-46b2-9577-10ac4c5ffe3c",
   "metadata": {},
   "outputs": [],
   "source": [
    "item = products.find_one()"
   ]
  },
  {
   "cell_type": "code",
   "execution_count": 22,
   "id": "84af0eda-b933-450a-b2e4-e5a8c78567f3",
   "metadata": {},
   "outputs": [
    {
     "data": {
      "text/plain": [
       "{'_id': ObjectId('67a334a63102684a48399bd3'),\n",
       " 'name': 'Laptop',\n",
       " 'price': 992.33,\n",
       " 'category': 'Electronics',\n",
       " 'stock': 30,\n",
       " 'rating': 4.7,\n",
       " 'description': 'Gaming laptop',\n",
       " 'tags': ['gaming', 'electronics', 'computer'],\n",
       " 'createdAt': datetime.datetime(2025, 2, 5, 9, 51, 34, 692000),\n",
       " 'views': 35}"
      ]
     },
     "execution_count": 22,
     "metadata": {},
     "output_type": "execute_result"
    }
   ],
   "source": [
    "item"
   ]
  },
  {
   "cell_type": "code",
   "execution_count": 23,
   "id": "99c8d4fb-8470-4425-9cad-011d086a8e3a",
   "metadata": {},
   "outputs": [
    {
     "data": {
      "text/plain": [
       "dict"
      ]
     },
     "execution_count": 23,
     "metadata": {},
     "output_type": "execute_result"
    }
   ],
   "source": [
    "type(item)"
   ]
  },
  {
   "cell_type": "code",
   "execution_count": 24,
   "id": "51c69755-2a95-4cd9-86be-ba5cc5b7c26f",
   "metadata": {},
   "outputs": [],
   "source": [
    "items = products.find()"
   ]
  },
  {
   "cell_type": "code",
   "execution_count": 25,
   "id": "2d57dabe-18b6-495f-a506-34b3649d6f38",
   "metadata": {},
   "outputs": [
    {
     "data": {
      "text/plain": [
       "pymongo.synchronous.cursor.Cursor"
      ]
     },
     "execution_count": 25,
     "metadata": {},
     "output_type": "execute_result"
    }
   ],
   "source": [
    "type(items)"
   ]
  },
  {
   "cell_type": "code",
   "execution_count": 43,
   "id": "4ca44e33-0129-491f-8e4c-3f1cac36cbda",
   "metadata": {},
   "outputs": [
    {
     "name": "stdout",
     "output_type": "stream",
     "text": [
      "{'_id': ObjectId('67a334a63102684a48399bd5'), 'name': 'Table', 'price': 153, 'category': 'Furniture', 'stock': 20, 'rating': 4, 'description': 'Wooden dining table', 'tags': ['home', 'furniture'], 'createdAt': datetime.datetime(2025, 2, 5, 9, 51, 34, 692000)}\n",
      "{'_id': ObjectId('67a334a63102684a48399bd6'), 'name': 'Chair', 'price': 103, 'category': 'Furniture', 'stock': 50, 'rating': 4.2, 'description': 'Office chair', 'tags': ['home', 'furniture', 'office'], 'createdAt': datetime.datetime(2025, 2, 5, 9, 51, 34, 692000)}\n",
      "{'_id': ObjectId('67a334a63102684a48399bd7'), 'name': 'Headphones', 'price': 253, 'category': 'Electronics', 'stock': 80, 'rating': 4.6, 'description': 'Noise-canceling headphones', 'tags': ['audio', 'electronics'], 'createdAt': datetime.datetime(2025, 2, 5, 9, 51, 34, 692000)}\n",
      "{'_id': ObjectId('682db0701f7b7d5def9a13fc'), 'name': 'Pen', 'price': 4.5, 'stock': 300}\n",
      "{'_id': ObjectId('6841e8d73f59eed03702c1db'), 'name': 'Notebook', 'price': 555.98, 'stock': 120}\n",
      "{'_id': ObjectId('6841e8f23f59eed03702c1dc'), 'name': 'Pen', 'price': 3.5, 'stock': 300}\n",
      "{'_id': ObjectId('6841e8f23f59eed03702c1dd'), 'name': 'Pencil', 'price': 2.99, 'stock': 500}\n",
      "{'_id': ObjectId('6841e8f23f59eed03702c1de'), 'name': 'Eraser', 'price': 2.75, 'stock': 200}\n",
      "{'_id': ObjectId('6841e9aa8749b5ca3597fc55'), 'name': 'Notebook', 'price': 7.99, 'stock': 120}\n",
      "{'_id': ObjectId('6841e9d88749b5ca3597fc56'), 'name': 'Pen', 'price': 3.5, 'stock': 300}\n",
      "{'_id': ObjectId('6841e9d88749b5ca3597fc57'), 'name': 'Pencil', 'price': 2.99, 'stock': 500}\n",
      "{'_id': ObjectId('6841e9d88749b5ca3597fc58'), 'name': 'Eraser', 'price': 2.75, 'stock': 200}\n",
      "{'_id': ObjectId('684af9108f8528279c533a3e'), 'name': 'Notebook', 'price': 5.99, 'stock': 120}\n",
      "{'_id': ObjectId('685133c60e179c680abf83dc'), 'name': 'Notebook', 'price': 5.99, 'stock': 120}\n",
      "{'_id': ObjectId('685133c6f93033d41fab4aa2'), 'name': 'Notebook', 'price': 5.99, 'stock': 120}\n",
      "{'_id': ObjectId('685133ca12886ef52cc4ebe6'), 'name': 'Notebook', 'price': 5.99, 'stock': 120}\n",
      "{'_id': ObjectId('6851336a581129c1fe118b60'), 'name': 'Notebook', 'price': 5.99, 'stock': 120}\n",
      "{'_id': ObjectId('685133d8074bdbc38ab12bd4'), 'name': 'Notebook', 'price': 5.99, 'stock': 120}\n",
      "{'_id': ObjectId('685133db88d711de4f6639c9'), 'name': 'Notebook', 'price': 5.99, 'stock': 120}\n",
      "{'_id': ObjectId('685133dc1d822d0dfbacfd1d'), 'name': 'Notebook', 'price': 5.99, 'stock': 120}\n",
      "{'_id': ObjectId('685134e3581129c1fe118b61'), 'name': 'Pen', 'price': 1.5, 'stock': 300}\n",
      "{'_id': ObjectId('685134e3581129c1fe118b62'), 'name': 'Pencil', 'price': 0.99, 'stock': 500}\n",
      "{'_id': ObjectId('685134e3581129c1fe118b63'), 'name': 'Eraser', 'price': 0.75, 'stock': 200}\n",
      "{'_id': ObjectId('6851354f0e179c680abf83dd'), 'name': 'Pen', 'price': 1.5, 'stock': 300}\n",
      "{'_id': ObjectId('6851354f0e179c680abf83de'), 'name': 'Pencil', 'price': 0.99, 'stock': 500}\n",
      "{'_id': ObjectId('6851354f0e179c680abf83df'), 'name': 'Eraser', 'price': 0.75, 'stock': 200}\n",
      "{'_id': ObjectId('6851355312886ef52cc4ebe7'), 'name': 'Pen', 'price': 1.5, 'stock': 300}\n",
      "{'_id': ObjectId('6851355312886ef52cc4ebe8'), 'name': 'Pencil', 'price': 0.99, 'stock': 500}\n",
      "{'_id': ObjectId('6851355312886ef52cc4ebe9'), 'name': 'Eraser', 'price': 0.75, 'stock': 200}\n",
      "{'_id': ObjectId('685135541d822d0dfbacfd1e'), 'name': 'Pen', 'price': 1.5, 'stock': 300}\n",
      "{'_id': ObjectId('685135541d822d0dfbacfd1f'), 'name': 'Pencil', 'price': 0.99, 'stock': 500}\n",
      "{'_id': ObjectId('685135541d822d0dfbacfd20'), 'name': 'Eraser', 'price': 0.75, 'stock': 200}\n",
      "{'_id': ObjectId('68513566074bdbc38ab12bd5'), 'name': 'Pen', 'price': 1.5, 'stock': 300}\n",
      "{'_id': ObjectId('68513566074bdbc38ab12bd6'), 'name': 'Pencil', 'price': 0.99, 'stock': 500}\n",
      "{'_id': ObjectId('68513566074bdbc38ab12bd7'), 'name': 'Eraser', 'price': 0.75, 'stock': 200}\n",
      "{'_id': ObjectId('68513566f93033d41fab4aa3'), 'name': 'Pen', 'price': 1.5, 'stock': 300}\n",
      "{'_id': ObjectId('68513566f93033d41fab4aa4'), 'name': 'Pencil', 'price': 0.99, 'stock': 500}\n",
      "{'_id': ObjectId('68513566f93033d41fab4aa5'), 'name': 'Eraser', 'price': 0.75, 'stock': 200}\n",
      "{'_id': ObjectId('685135cbb69319e4fc36f705'), 'name': 'Notebook', 'price': 5.99, 'stock': 120}\n",
      "{'_id': ObjectId('685135e4b69319e4fc36f706'), 'name': 'Pen', 'price': 1.5, 'stock': 300}\n",
      "{'_id': ObjectId('685135e4b69319e4fc36f707'), 'name': 'Pencil', 'price': 0.99, 'stock': 500}\n",
      "{'_id': ObjectId('685135e4b69319e4fc36f708'), 'name': 'Eraser', 'price': 0.75, 'stock': 200}\n",
      "{'_id': ObjectId('6851366df0a5d4c511f0306f'), 'name': 'Notebook', 'price': 5.99, 'stock': 120}\n",
      "{'_id': ObjectId('685136a1f0a5d4c511f03070'), 'name': 'Pen', 'price': 1.5, 'stock': 300}\n",
      "{'_id': ObjectId('685136a1f0a5d4c511f03071'), 'name': 'Pencil', 'price': 0.99, 'stock': 500}\n",
      "{'_id': ObjectId('685136a1f0a5d4c511f03072'), 'name': 'Eraser', 'price': 0.75, 'stock': 200}\n"
     ]
    }
   ],
   "source": [
    "for item in items:\n",
    "    print(item)"
   ]
  },
  {
   "cell_type": "code",
   "execution_count": 27,
   "id": "b6fddd90-8ae8-4ec4-adba-1e8635bb4bd8",
   "metadata": {},
   "outputs": [],
   "source": [
    "items = products.find()"
   ]
  },
  {
   "cell_type": "code",
   "execution_count": 28,
   "id": "30c98722-2c82-44d8-830c-130c781f3586",
   "metadata": {},
   "outputs": [
    {
     "data": {
      "text/plain": [
       "{'_id': ObjectId('67a334a63102684a48399bd3'),\n",
       " 'name': 'Laptop',\n",
       " 'price': 992.33,\n",
       " 'category': 'Electronics',\n",
       " 'stock': 30,\n",
       " 'rating': 4.7,\n",
       " 'description': 'Gaming laptop',\n",
       " 'tags': ['gaming', 'electronics', 'computer'],\n",
       " 'createdAt': datetime.datetime(2025, 2, 5, 9, 51, 34, 692000),\n",
       " 'views': 35}"
      ]
     },
     "execution_count": 28,
     "metadata": {},
     "output_type": "execute_result"
    }
   ],
   "source": [
    "next(items)"
   ]
  },
  {
   "cell_type": "code",
   "execution_count": 29,
   "id": "048a8a1c-8cec-43ca-bc68-0072ecd5f315",
   "metadata": {},
   "outputs": [
    {
     "data": {
      "text/plain": [
       "{'_id': ObjectId('67a334a63102684a48399bd4'),\n",
       " 'name': 'Phone',\n",
       " 'price': 803,\n",
       " 'category': 'Electronics',\n",
       " 'stock': 100,\n",
       " 'rating': 4.5,\n",
       " 'description': 'Smartphone with AMOLED display',\n",
       " 'tags': ['mobile', 'electronics'],\n",
       " 'createdAt': datetime.datetime(2025, 2, 5, 9, 51, 34, 692000)}"
      ]
     },
     "execution_count": 29,
     "metadata": {},
     "output_type": "execute_result"
    }
   ],
   "source": [
    "next(items)"
   ]
  },
  {
   "cell_type": "code",
   "execution_count": 30,
   "id": "9f2aadce-5b9e-4cf6-b2b2-2a08fd876da0",
   "metadata": {},
   "outputs": [],
   "source": [
    "item = products.find_one({'price': {'$lt': 4}})"
   ]
  },
  {
   "cell_type": "code",
   "execution_count": 31,
   "id": "51170d1a-e405-495a-a90a-d95689d4bfa1",
   "metadata": {},
   "outputs": [
    {
     "data": {
      "text/plain": [
       "{'_id': ObjectId('6841e8f23f59eed03702c1dc'),\n",
       " 'name': 'Pen',\n",
       " 'price': 3.5,\n",
       " 'stock': 300}"
      ]
     },
     "execution_count": 31,
     "metadata": {},
     "output_type": "execute_result"
    }
   ],
   "source": [
    "item"
   ]
  },
  {
   "cell_type": "code",
   "execution_count": 32,
   "id": "0f62b28d-53bf-4d59-a80a-3018baf1c025",
   "metadata": {},
   "outputs": [],
   "source": [
    "item = products.find_one({'price': {'$gt': 40}})"
   ]
  },
  {
   "cell_type": "code",
   "execution_count": 33,
   "id": "fb8c296c-1f26-45ca-8289-41f071acec53",
   "metadata": {},
   "outputs": [
    {
     "data": {
      "text/plain": [
       "{'_id': ObjectId('67a334a63102684a48399bd3'),\n",
       " 'name': 'Laptop',\n",
       " 'price': 992.33,\n",
       " 'category': 'Electronics',\n",
       " 'stock': 30,\n",
       " 'rating': 4.7,\n",
       " 'description': 'Gaming laptop',\n",
       " 'tags': ['gaming', 'electronics', 'computer'],\n",
       " 'createdAt': datetime.datetime(2025, 2, 5, 9, 51, 34, 692000),\n",
       " 'views': 35}"
      ]
     },
     "execution_count": 33,
     "metadata": {},
     "output_type": "execute_result"
    }
   ],
   "source": [
    "item"
   ]
  },
  {
   "cell_type": "code",
   "execution_count": 35,
   "id": "0bc2cf67-9021-4ddb-a2fe-e27fe753901b",
   "metadata": {},
   "outputs": [
    {
     "name": "stdout",
     "output_type": "stream",
     "text": [
      "{'_id': ObjectId('67a334a63102684a48399bd3'), 'name': 'Laptop', 'price': 992.33, 'category': 'Electronics', 'stock': 30, 'rating': 4.7, 'description': 'Gaming laptop', 'tags': ['gaming', 'electronics', 'computer'], 'createdAt': datetime.datetime(2025, 2, 5, 9, 51, 34, 692000), 'views': 35}\n",
      "{'_id': ObjectId('67a334a63102684a48399bd4'), 'name': 'Phone', 'price': 803, 'category': 'Electronics', 'stock': 100, 'rating': 4.5, 'description': 'Smartphone with AMOLED display', 'tags': ['mobile', 'electronics'], 'createdAt': datetime.datetime(2025, 2, 5, 9, 51, 34, 692000)}\n",
      "{'_id': ObjectId('67a334a63102684a48399bd5'), 'name': 'Table', 'price': 153, 'category': 'Furniture', 'stock': 20, 'rating': 4, 'description': 'Wooden dining table', 'tags': ['home', 'furniture'], 'createdAt': datetime.datetime(2025, 2, 5, 9, 51, 34, 692000)}\n",
      "{'_id': ObjectId('67a334a63102684a48399bd6'), 'name': 'Chair', 'price': 103, 'category': 'Furniture', 'stock': 50, 'rating': 4.2, 'description': 'Office chair', 'tags': ['home', 'furniture', 'office'], 'createdAt': datetime.datetime(2025, 2, 5, 9, 51, 34, 692000)}\n",
      "{'_id': ObjectId('67a334a63102684a48399bd7'), 'name': 'Headphones', 'price': 253, 'category': 'Electronics', 'stock': 80, 'rating': 4.6, 'description': 'Noise-canceling headphones', 'tags': ['audio', 'electronics'], 'createdAt': datetime.datetime(2025, 2, 5, 9, 51, 34, 692000)}\n",
      "{'_id': ObjectId('6841e8d73f59eed03702c1db'), 'name': 'Notebook', 'price': 555.98, 'stock': 120}\n"
     ]
    }
   ],
   "source": [
    "print(*products.find({'price': {'$gt': 40}}), sep='\\n')"
   ]
  },
  {
   "cell_type": "code",
   "execution_count": 36,
   "id": "2808245b-d456-4591-b5ea-25c1b675894f",
   "metadata": {},
   "outputs": [
    {
     "name": "stdout",
     "output_type": "stream",
     "text": [
      "{'_id': ObjectId('67a334a63102684a48399bd4'), 'name': 'Phone', 'price': 803, 'category': 'Electronics', 'stock': 100, 'rating': 4.5, 'description': 'Smartphone with AMOLED display', 'tags': ['mobile', 'electronics'], 'createdAt': datetime.datetime(2025, 2, 5, 9, 51, 34, 692000)}\n",
      "{'_id': ObjectId('6841e8d73f59eed03702c1db'), 'name': 'Notebook', 'price': 555.98, 'stock': 120}\n"
     ]
    }
   ],
   "source": [
    "for doc in products.find().sort(\"price\", -1).skip(1).limit(2):\n",
    "    print(doc)"
   ]
  },
  {
   "cell_type": "code",
   "execution_count": 40,
   "id": "d167d250-fd4e-4572-8d49-fe2faf2463b9",
   "metadata": {},
   "outputs": [],
   "source": [
    "result = products.update_one(\n",
    "    {\"name\": \"Pen\"}, # фильтр\n",
    "    {\"$set\": {\"price\": 24.99}} # изменение\n",
    ")"
   ]
  },
  {
   "cell_type": "code",
   "execution_count": 41,
   "id": "b062b051-9755-4d1f-adc2-5de09386226a",
   "metadata": {},
   "outputs": [
    {
     "name": "stdout",
     "output_type": "stream",
     "text": [
      "Matched: 1\n"
     ]
    }
   ],
   "source": [
    "print(\"Matched:\", result.matched_count)"
   ]
  },
  {
   "cell_type": "code",
   "execution_count": 42,
   "id": "62baa331-a487-483d-b019-861b116caa43",
   "metadata": {},
   "outputs": [
    {
     "name": "stdout",
     "output_type": "stream",
     "text": [
      "Modified: 1\n"
     ]
    }
   ],
   "source": [
    "print(\"Modified:\", result.modified_count)"
   ]
  },
  {
   "cell_type": "code",
   "execution_count": 49,
   "id": "76f7af8c-921e-462f-bb85-6916c5e40dcf",
   "metadata": {},
   "outputs": [
    {
     "name": "stdout",
     "output_type": "stream",
     "text": [
      "{'_id': ObjectId('67a334a63102684a48399bd3'), 'name': 'Laptop', 'price': 999.33, 'category': 'Electronics', 'stock': 30, 'rating': 4.7, 'description': 'Gaming laptop', 'tags': ['gaming', 'electronics', 'computer'], 'createdAt': datetime.datetime(2025, 2, 5, 9, 51, 34, 692000), 'views': 35}\n",
      "{'_id': ObjectId('67a334a63102684a48399bd4'), 'name': 'Phone', 'price': 810, 'category': 'Electronics', 'stock': 100, 'rating': 4.5, 'description': 'Smartphone with AMOLED display', 'tags': ['mobile', 'electronics'], 'createdAt': datetime.datetime(2025, 2, 5, 9, 51, 34, 692000)}\n",
      "{'_id': ObjectId('67a334a63102684a48399bd5'), 'name': 'Table', 'price': 160, 'category': 'Furniture', 'stock': 20, 'rating': 4, 'description': 'Wooden dining table', 'tags': ['home', 'furniture'], 'createdAt': datetime.datetime(2025, 2, 5, 9, 51, 34, 692000)}\n",
      "{'_id': ObjectId('67a334a63102684a48399bd6'), 'name': 'Chair', 'price': 110, 'category': 'Furniture', 'stock': 50, 'rating': 4.2, 'description': 'Office chair', 'tags': ['home', 'furniture', 'office'], 'createdAt': datetime.datetime(2025, 2, 5, 9, 51, 34, 692000)}\n",
      "{'_id': ObjectId('67a334a63102684a48399bd7'), 'name': 'Headphones', 'price': 260, 'category': 'Electronics', 'stock': 80, 'rating': 4.6, 'description': 'Noise-canceling headphones', 'tags': ['audio', 'electronics'], 'createdAt': datetime.datetime(2025, 2, 5, 9, 51, 34, 692000)}\n",
      "{'_id': ObjectId('682db0701f7b7d5def9a13fc'), 'name': 'Pen', 'price': 31.99, 'stock': 300}\n",
      "{'_id': ObjectId('6841e8f23f59eed03702c1dc'), 'name': 'Pen', 'price': 10.5, 'stock': 300}\n",
      "{'_id': ObjectId('6841e8f23f59eed03702c1dd'), 'name': 'Pencil', 'price': 9.99, 'stock': 500}\n",
      "{'_id': ObjectId('6841e8f23f59eed03702c1de'), 'name': 'Eraser', 'price': 9.75, 'stock': 200}\n",
      "{'_id': ObjectId('6841e9aa8749b5ca3597fc55'), 'name': 'Notebook', 'price': 14.99, 'stock': 120}\n",
      "{'_id': ObjectId('6841e9d88749b5ca3597fc56'), 'name': 'Pen', 'price': 10.5, 'stock': 300}\n",
      "{'_id': ObjectId('6841e9d88749b5ca3597fc57'), 'name': 'Pencil', 'price': 9.99, 'stock': 500}\n",
      "{'_id': ObjectId('6841e9d88749b5ca3597fc58'), 'name': 'Eraser', 'price': 9.75, 'stock': 200}\n",
      "{'_id': ObjectId('684af9108f8528279c533a3e'), 'name': 'Notebook', 'price': 12.99, 'stock': 120}\n",
      "{'_id': ObjectId('685133c60e179c680abf83dc'), 'name': 'Notebook', 'price': 12.99, 'stock': 120}\n",
      "{'_id': ObjectId('685133c6f93033d41fab4aa2'), 'name': 'Notebook', 'price': 12.99, 'stock': 120}\n",
      "{'_id': ObjectId('685133ca12886ef52cc4ebe6'), 'name': 'Notebook', 'price': 12.99, 'stock': 120}\n",
      "{'_id': ObjectId('6851336a581129c1fe118b60'), 'name': 'Notebook', 'price': 12.99, 'stock': 120}\n",
      "{'_id': ObjectId('685133d8074bdbc38ab12bd4'), 'name': 'Notebook', 'price': 12.99, 'stock': 120}\n",
      "{'_id': ObjectId('685133db88d711de4f6639c9'), 'name': 'Notebook', 'price': 12.99, 'stock': 120}\n",
      "{'_id': ObjectId('685133dc1d822d0dfbacfd1d'), 'name': 'Notebook', 'price': 12.99, 'stock': 120}\n",
      "{'_id': ObjectId('685134e3581129c1fe118b61'), 'name': 'Pen', 'price': 8.5, 'stock': 300}\n",
      "{'_id': ObjectId('685134e3581129c1fe118b62'), 'name': 'Pencil', 'price': 7.99, 'stock': 500}\n",
      "{'_id': ObjectId('685134e3581129c1fe118b63'), 'name': 'Eraser', 'price': 7.75, 'stock': 200}\n",
      "{'_id': ObjectId('6851354f0e179c680abf83dd'), 'name': 'Pen', 'price': 8.5, 'stock': 300}\n",
      "{'_id': ObjectId('6851354f0e179c680abf83de'), 'name': 'Pencil', 'price': 7.99, 'stock': 500}\n",
      "{'_id': ObjectId('6851354f0e179c680abf83df'), 'name': 'Eraser', 'price': 7.75, 'stock': 200}\n",
      "{'_id': ObjectId('6851355312886ef52cc4ebe7'), 'name': 'Pen', 'price': 8.5, 'stock': 300}\n",
      "{'_id': ObjectId('6851355312886ef52cc4ebe8'), 'name': 'Pencil', 'price': 7.99, 'stock': 500}\n",
      "{'_id': ObjectId('6851355312886ef52cc4ebe9'), 'name': 'Eraser', 'price': 7.75, 'stock': 200}\n",
      "{'_id': ObjectId('685135541d822d0dfbacfd1e'), 'name': 'Pen', 'price': 8.5, 'stock': 300}\n",
      "{'_id': ObjectId('685135541d822d0dfbacfd1f'), 'name': 'Pencil', 'price': 7.99, 'stock': 500}\n",
      "{'_id': ObjectId('685135541d822d0dfbacfd20'), 'name': 'Eraser', 'price': 7.75, 'stock': 200}\n",
      "{'_id': ObjectId('68513566074bdbc38ab12bd5'), 'name': 'Pen', 'price': 8.5, 'stock': 300}\n",
      "{'_id': ObjectId('68513566074bdbc38ab12bd6'), 'name': 'Pencil', 'price': 7.99, 'stock': 500}\n",
      "{'_id': ObjectId('68513566074bdbc38ab12bd7'), 'name': 'Eraser', 'price': 7.75, 'stock': 200}\n",
      "{'_id': ObjectId('68513566f93033d41fab4aa3'), 'name': 'Pen', 'price': 8.5, 'stock': 300}\n",
      "{'_id': ObjectId('68513566f93033d41fab4aa4'), 'name': 'Pencil', 'price': 7.99, 'stock': 500}\n",
      "{'_id': ObjectId('68513566f93033d41fab4aa5'), 'name': 'Eraser', 'price': 7.75, 'stock': 200}\n",
      "{'_id': ObjectId('685135cbb69319e4fc36f705'), 'name': 'Notebook', 'price': 12.99, 'stock': 120}\n",
      "{'_id': ObjectId('685135e4b69319e4fc36f706'), 'name': 'Pen', 'price': 8.5, 'stock': 300}\n",
      "{'_id': ObjectId('685135e4b69319e4fc36f707'), 'name': 'Pencil', 'price': 7.99, 'stock': 500}\n",
      "{'_id': ObjectId('685135e4b69319e4fc36f708'), 'name': 'Eraser', 'price': 7.75, 'stock': 200}\n",
      "{'_id': ObjectId('6851366df0a5d4c511f0306f'), 'name': 'Notebook', 'price': 12.99, 'stock': 120}\n",
      "{'_id': ObjectId('685136a1f0a5d4c511f03070'), 'name': 'Pen', 'price': 8.5, 'stock': 300}\n",
      "{'_id': ObjectId('685136a1f0a5d4c511f03071'), 'name': 'Pencil', 'price': 7.99, 'stock': 500}\n",
      "{'_id': ObjectId('685136a1f0a5d4c511f03072'), 'name': 'Eraser', 'price': 7.75, 'stock': 200}\n"
     ]
    }
   ],
   "source": [
    "print(*products.find(), sep='\\n')"
   ]
  },
  {
   "cell_type": "code",
   "execution_count": 45,
   "id": "3ea023c4-9faa-4af9-abac-4d64ce5dea80",
   "metadata": {},
   "outputs": [],
   "source": [
    "result = products.update_many(\n",
    "    {}, # пустой фильтр — все документы\n",
    "    {\"$inc\": {\"price\": 1}} # увеличить поле price на 1\n",
    ")"
   ]
  },
  {
   "cell_type": "code",
   "execution_count": 46,
   "id": "0922c0f3-39a1-4927-91c1-fff31219c3e4",
   "metadata": {},
   "outputs": [
    {
     "name": "stdout",
     "output_type": "stream",
     "text": [
      "Matched: 48\n",
      "Modified: 48\n"
     ]
    }
   ],
   "source": [
    "print(\"Matched:\", result.matched_count)\n",
    "print(\"Modified:\", result.modified_count)"
   ]
  },
  {
   "cell_type": "code",
   "execution_count": 48,
   "id": "0a0ec26f-cf6a-47d7-826d-092c6d0ff88c",
   "metadata": {},
   "outputs": [
    {
     "name": "stdout",
     "output_type": "stream",
     "text": [
      "Deleted: 1\n"
     ]
    }
   ],
   "source": [
    "result = products.delete_one({\"name\": \"Notebook\"})\n",
    "print(\"Deleted:\", result.deleted_count)"
   ]
  },
  {
   "cell_type": "code",
   "execution_count": 50,
   "id": "657e7601-1ab1-424a-b712-73b166489f04",
   "metadata": {},
   "outputs": [
    {
     "name": "stdout",
     "output_type": "stream",
     "text": [
      "Deleted: 28\n"
     ]
    }
   ],
   "source": [
    "result = products.delete_many({\"price\": {\"$lt\": 10}})\n",
    "print(\"Deleted:\", result.deleted_count)"
   ]
  },
  {
   "cell_type": "code",
   "execution_count": null,
   "id": "e7059e55-0bd3-4fb3-ad54-a66b4f749bdb",
   "metadata": {},
   "outputs": [],
   "source": []
  }
 ],
 "metadata": {
  "kernelspec": {
   "display_name": "Python 3 (ipykernel)",
   "language": "python",
   "name": "python3"
  },
  "language_info": {
   "codemirror_mode": {
    "name": "ipython",
    "version": 3
   },
   "file_extension": ".py",
   "mimetype": "text/x-python",
   "name": "python",
   "nbconvert_exporter": "python",
   "pygments_lexer": "ipython3",
   "version": "3.13.3"
  }
 },
 "nbformat": 4,
 "nbformat_minor": 5
}
